{
 "cells": [
  {
   "cell_type": "code",
   "execution_count": 0,
   "metadata": {
    "application/vnd.databricks.v1+cell": {
     "cellMetadata": {
      "byteLimit": 2048000,
      "rowLimit": 10000
     },
     "inputWidgets": {},
     "nuid": "712d6438-dc10-4226-8fb0-77c61f2c48b8",
     "showTitle": true,
     "title": "EXTRACAO"
    }
   },
   "outputs": [],
   "source": [
    "# Importação das bibliotecas necessárias\n",
    "import re\n",
    "import requests\n",
    "from bs4 import BeautifulSoup\n",
    "import pandas as pd\n",
    "from pyspark.sql.types import DoubleType, IntegerType\n",
    "from pyspark.sql import SparkSession\n",
    "import logging\n",
    "from requests.exceptions import RequestException\n",
    "\n",
    "# Função para extrair dados do conteúdo HTML\n",
    "def extrair_dados_de_conteudo_html(html: str) -> pd.DataFrame:\n",
    "    sopa = BeautifulSoup(html, \"html.parser\")\n",
    "    tabelas = sopa.find_all(\"table\")\n",
    "    resultados = []\n",
    "    \n",
    "    # Itera sobre todas as tabelas encontradas no HTML\n",
    "    for tabela in tabelas:\n",
    "        linhas = tabela.find_all(\"tr\")\n",
    "        \n",
    "        # Itera sobre todas as linhas de cada tabela\n",
    "        for linha in linhas:\n",
    "            celulas = linha.find_all([\"td\", \"th\"])\n",
    "            registro = []\n",
    "            \n",
    "            # Itera sobre todas as células de cada linha\n",
    "            for celula in celulas:\n",
    "                celula_html = str(celula)\n",
    "                celula_texto = re.search(r'<a href=\".*?\">(.*?)</a>', celula_html)\n",
    "                # Adiciona o texto da célula ao registro\n",
    "                registro.append(celula_texto.group(1) if celula_texto else celula.text.strip())\n",
    "                \n",
    "            # Adiciona o registro à lista de resultados\n",
    "            resultados.append(registro)\n",
    "    \n",
    "    # Converte os resultados em um DataFrame pandas\n",
    "    df = pd.DataFrame(resultados)\n",
    "    \n",
    "    # Extrai a primeira linha como nomes das colunas\n",
    "    nomes_colunas = df.iloc[0]\n",
    "    df.columns = nomes_colunas\n",
    "    # Remove a primeira linha do DataFrame\n",
    "    df = df[1:] \n",
    "    return df\n",
    "\n",
    "# Função para extrair dados do URL fornecido\n",
    "def extrair(url: str) -> pd.DataFrame:\n",
    "    resposta = requests.get(url, timeout=20)\n",
    "    conteudo_html = resposta.text\n",
    "    return extrair_dados_de_conteudo_html(conteudo_html)\n",
    "\n",
    "# Configurando logging\n",
    "logging.basicConfig(filename='/extrair_erro.log', level=logging.ERROR)\n",
    "\n",
    "# Criando uma sessão Spark\n",
    "spark = SparkSession.builder.appName(\"Extrair_dados\").getOrCreate()\n",
    "\n",
    "# URL da página de estatísticas da NBA\n",
    "link_nba = 'https://www.basketball-reference.com/leagues/NBA_2024_per_game.html#per_game_stats'\n",
    "\n",
    "# Chamando a função de extração para obter os dados\n",
    "dados = extrair(link_nba)\n",
    "\n",
    "# Processando os nomes das colunas\n",
    "nomes_colunas = [nome.replace('%', 'Perc') if nome else 'ID' for nome in dados.columns]\n",
    "\n",
    "# Substituir o início da string se for um número\n",
    "nomes_colunas_processadas = [f\"{nome[1:]}{nome[0]}\" if nome[0].isdigit() else nome for nome in nomes_colunas]\n",
    "\n",
    "# Atualiza os nomes das colunas no DataFrame\n",
    "dados.columns = nomes_colunas_processadas\n",
    "\n",
    "# Filtra as linhas que não são títulos\n",
    "dados = dados[dados['Rk'] != 'Rk']\n",
    "\n",
    "# Definindo variáveis usadas no código abaixo\n",
    "caminho_delta = \"hive_metastore/default/caminho/delta\"\n",
    "caminho_checkpoint = \"/caminho/checkpoint\"\n",
    "\n",
    "# Convertendo o DataFrame pandas para DataFrame PySpark\n",
    "df_ = spark.createDataFrame(dados)\n",
    "    \n",
    "# Transformando colunas de string para tipos apropriados\n",
    "colunas_inteiras = ['Age', 'G', 'GS']\n",
    "colunas_floats = ['MP', 'FG', 'FGA', 'FGPerc', 'P3', 'PA3', 'PPerc3', 'P2', 'PA2',\n",
    "                 'PPerc2', 'eFGPerc', 'FT', 'FTA', 'FTPerc', 'ORB', 'DRB', 'TRB',\n",
    "                 'AST', 'STL', 'BLK', 'TOV', 'PF', 'PTS']\n",
    "\n",
    "# Convertendo colunas inteiras\n",
    "for nome_coluna in colunas_inteiras:\n",
    "    df_ = df_.withColumn(nome_coluna, df_[nome_coluna].cast(IntegerType()))\n",
    "\n",
    "# Convertendo colunas flutuantes\n",
    "for nome_coluna in colunas_floats:\n",
    "    df_ = df_.withColumn(nome_coluna, df_[nome_coluna].cast(DoubleType()))\n",
    "\n",
    "# Salvando o DataFrame como uma tabela Delta no Hive Metastore\n",
    "df_.write.mode(\"overwrite\").format(\"delta\").saveAsTable(\"Dados_Jogadores_NBA_24\")\n",
    "\n",
    "\n"
   ]
  },
  {
   "cell_type": "code",
   "execution_count": 0,
   "metadata": {
    "application/vnd.databricks.v1+cell": {
     "cellMetadata": {
      "byteLimit": 2048000,
      "implicitDf": true,
      "rowLimit": 10000
     },
     "inputWidgets": {},
     "nuid": "8e721769-4f09-425c-b8a2-4721b1e08d42",
     "showTitle": false,
     "title": ""
    }
   },
   "outputs": [
    {
     "output_type": "display_data",
     "data": {
      "text/html": [
       "<style scoped>\n",
       "  .table-result-container {\n",
       "    max-height: 300px;\n",
       "    overflow: auto;\n",
       "  }\n",
       "  table, th, td {\n",
       "    border: 1px solid black;\n",
       "    border-collapse: collapse;\n",
       "  }\n",
       "  th, td {\n",
       "    padding: 5px;\n",
       "  }\n",
       "  th {\n",
       "    text-align: left;\n",
       "  }\n",
       "</style><div class='table-result-container'><table class='table-result'><thead style='background-color: white'><tr><th>num_affected_rows</th><th>num_inserted_rows</th></tr></thead><tbody><tr><td>31</td><td>31</td></tr></tbody></table></div>"
      ]
     },
     "metadata": {
      "application/vnd.databricks.v1+output": {
       "addedWidgets": {},
       "aggData": [],
       "aggError": "",
       "aggOverflow": false,
       "aggSchema": [],
       "aggSeriesLimitReached": false,
       "aggType": "",
       "arguments": {},
       "columnCustomDisplayInfos": {},
       "data": [
        [
         31,
         31
        ]
       ],
       "datasetInfos": [],
       "dbfsResultPath": null,
       "isJsonSchema": true,
       "metadata": {},
       "overflow": false,
       "plotOptions": {
        "customPlotOptions": {},
        "displayType": "table",
        "pivotAggregation": null,
        "pivotColumns": null,
        "xColumns": null,
        "yColumns": null
       },
       "removedWidgets": [],
       "schema": [
        {
         "metadata": "{}",
         "name": "num_affected_rows",
         "type": "\"long\""
        },
        {
         "metadata": "{}",
         "name": "num_inserted_rows",
         "type": "\"long\""
        }
       ],
       "type": "table"
      }
     },
     "output_type": "display_data"
    }
   ],
   "source": [
    "%sql\n",
    "-- Criação 'dados_nba_preparados'\n",
    "CREATE OR REPLACE TABLE\n",
    "   dados_nba_preparados (\n",
    "     Classificacao_Equipe int,\n",
    "     Nome_Equipe string,\n",
    "     Media_Pontos double,\n",
    "     Maximo_Pontos double,\n",
    "     Media_Percentage_Acerto double,\n",
    "     Media_Rebotes_Defensivos double,\n",
    "     Media_Rebotes_Ofensivos double,\n",
    "     Media_TurnOver double,\n",
    "     Media_Classificacao_Jogador double,\n",
    "     Minima_Classificacao_Jogador double,\n",
    "     Metricas_Personalizadas double\n",
    "   );\n",
    "\n",
    "-- Inserção de dados na tabela 'dados_nba_preparados'\n",
    "INSERT INTO\n",
    "   dados_nba_preparados\n",
    "\n",
    "-- Definição de uma CTE (Common Table Expression) para calcular estatísticas médias para cada equipe\n",
    "WITH estatisticas_equipes AS (\n",
    "     SELECT\n",
    "         Tm AS Equipe,\n",
    "         AVG(PTS) AS media_pontos,\n",
    "         AVG(FGPerc) AS media_percentage_acerto,\n",
    "         AVG(DRB) AS media_rebotes_defensivos,\n",
    "         AVG(ORB) AS media_rebotes_ofensivos,\n",
    "         AVG(TOV) AS media_turnover,\n",
    "         AVG(Rk) AS media_classificacao_jogador\n",
    "     FROM Dados_Jogadores_NBA_24\n",
    "     GROUP BY Tm\n",
    " ),\n",
    "\n",
    "-- Definição de uma CTE para calcular os valores mínimos e máximos de cada estatística por equipe\n",
    "min_max_valores AS (\n",
    "     SELECT\n",
    "         Tm AS Equipe,\n",
    "         MIN(PTS) AS min_pontos,\n",
    "         MAX(PTS) AS max_pontos,\n",
    "         MIN(FGPerc) AS min_percentage_acerto,\n",
    "         MAX(FGPerc) AS max_percentage_acerto,\n",
    "         MIN(DRB) AS min_rebotes_defensivos,\n",
    "         MAX(DRB) AS max_rebotes_defensivos,\n",
    "         MIN(ORB) AS min_rebotes_ofensivos,\n",
    "         MAX(ORB) AS max_rebotes_ofensivos,\n",
    "         MIN(TOV) AS min_turnover,\n",
    "         MAX(TOV) AS max_turnover,\n",
    "         MIN(RK) AS min_classificacao_jogador,\n",
    "         MAX(RK) AS max_classificacao_jogador\n",
    "     FROM Dados_Jogadores_NBA_24\n",
    "     GROUP BY Tm\n",
    " ),\n",
    "\n",
    "-- Definição de uma CTE para calcular os valores normalizados de cada estatística por equipe\n",
    "equipes_rankeadas AS (\n",
    "     SELECT\n",
    "         e.Equipe,\n",
    "         e.media_pontos,\n",
    "         e.media_percentage_acerto,\n",
    "         e.media_rebotes_defensivos,\n",
    "         e.media_rebotes_ofensivos,\n",
    "         e.media_turnover,\n",
    "         e.media_classificacao_jogador,\n",
    "         (\n",
    "         e.media_pontos - mmv.min_pontos\n",
    "         ) / (\n",
    "         mmv.max_pontos - mmv.min_pontos\n",
    "         ) AS pontos_normalizados,\n",
    "         (\n",
    "         e.media_percentage_acerto - mmv.min_percentage_acerto\n",
    "         ) / (\n",
    "         mmv.max_percentage_acerto - mmv.min_percentage_acerto\n",
    "         ) AS percentage_acerto_normalizado,\n",
    "         (\n",
    "         e.media_rebotes_defensivos - mmv.min_rebotes_defensivos\n",
    "         ) / (\n",
    "         mmv.max_rebotes_defensivos - mmv.min_rebotes_defensivos\n",
    "         ) AS rebotes_defensivos_normalizados,\n",
    "         (\n",
    "         e.media_rebotes_ofensivos - mmv.min_rebotes_ofensivos\n",
    "         ) / (\n",
    "         mmv.max_rebotes_ofensivos - mmv.min_rebotes_ofensivos\n",
    "         ) AS rebotes_ofensivos_normalizados,\n",
    "         (\n",
    "         e.media_turnover - mmv.min_turnover\n",
    "         ) / (\n",
    "         mmv.max_turnover - mmv.min_turnover\n",
    "         ) AS turnover_normalizado,\n",
    "         (\n",
    "         e.media_classificacao_jogador - mmv.min_classificacao_jogador\n",
    "         ) / (\n",
    "         mmv.max_classificacao_jogador - mmv.min_classificacao_jogador\n",
    "         ) AS classificacao_jogador_normalizado,\n",
    "         RANK() OVER (ORDER BY e.media_pontos DESC) AS classificacao_equipes\n",
    "     FROM estatisticas_equipes e\n",
    "     JOIN min_max_valores mmv ON e.Equipe = mmv.Equipe\n",
    " ),\n",
    "\n",
    "-- Definição de uma CTE para rankear as equipes com base em uma métrica personalizada\n",
    "equipes_rankeadas_2 AS (\n",
    "     SELECT\n",
    "         Equipe,\n",
    "         media_pontos,\n",
    "         media_percentage_acerto,\n",
    "         media_rebotes_defensivos,\n",
    "         media_rebotes_ofensivos,\n",
    "         media_turnover,\n",
    "         pontos_normalizados,\n",
    "         media_classificacao_jogador,\n",
    "         percentage_acerto_normalizado,\n",
    "         rebotes_defensivos_normalizados,\n",
    "         rebotes_ofensivos_normalizados,\n",
    "         turnover_normalizado,\n",
    "         classificacao_jogador_normalizado,\n",
    "         RANK() OVER (ORDER BY pontos_normalizados - turnover_normalizado + rebotes_defensivos_normalizados DESC) AS classificacao_equipes\n",
    "     FROM equipes_rankeadas\n",
    " )\n",
    "\n",
    "-- Output dos resultados unindo os dados das CTEs 'equipes_rankeadas_2' e 'min_max_valores' e filtrando as top 100 equipes\n",
    "SELECT\n",
    "     eqr2.classificacao_equipes,\n",
    "     eqr2.Equipe,\n",
    "     ROUND(eqr2.media_pontos, 2),\n",
    "     ROUND(mmv.max_pontos, 2) AS max_pontos,\n",
    "     ROUND(eqr2.media_percentage_acerto, 2),\n",
    "     ROUND(eqr2.media_rebotes_defensivos, 2) AS media_reb_defensivos,\n",
    "     ROUND(eqr2.media_rebotes_ofensivos, 2) AS media_reb_ofensivos,\n",
    "     ROUND(eqr2.media_turnover, 2),\n",
    "     ROUND(eqr2.media_classificacao_jogador, 2) AS media_classificacao,\n",
    "     ROUND(mmv.min_classificacao_jogador, 2) AS min_classificacao,\n",
    "     ROUND(pontos_normalizados - turnover_normalizado + rebotes_defensivos_normalizados, 2) AS metricas_personalizadas\n",
    "FROM\n",
    "    equipes_rankeadas_2 eqr2\n",
    "    LEFT JOIN min_max_valores mmv ON mmv.Equipe = eqr2.Equipe\n",
    "WHERE\n",
    "     eqr2.classificacao_equipes <= 100;\n"
   ]
  },
  {
   "cell_type": "code",
   "execution_count": 0,
   "metadata": {
    "application/vnd.databricks.v1+cell": {
     "cellMetadata": {
      "byteLimit": 2048000,
      "rowLimit": 10000
     },
     "inputWidgets": {},
     "nuid": "d82dd9ab-2758-4d16-8873-4e0596eb719c",
     "showTitle": false,
     "title": ""
    }
   },
   "outputs": [],
   "source": [
    "from pyspark.sql import SparkSession\n",
    "\n",
    "# Criar uma SparkSession\n",
    "spark = SparkSession.builder.getOrCreate()\n",
    "\n",
    "# Validação da qualidade dos dados\n",
    "# Ler a tabela de dados preparados (dados_nba_preparados) em um DataFrame Spark\n",
    "dados_nba_preparados = spark.table(\"dados_nba_preparados\")\n",
    "\n",
    "# Contar o número de linhas duplicadas\n",
    "duplicatas = (\n",
    "  dados_nba_preparados\n",
    "  .groupBy(\"Classificacao_Equipe\", \"Nome_Equipe\", \"Media_Pontos\", \"Maximo_Pontos\", \"Media_Percentage_Acerto\",\n",
    "           \"Media_Rebotes_Defensivos\", \"Media_Rebotes_Ofensivos\", \"Media_TurnOver\",\n",
    "           \"Media_Classificacao_Jogador\", \"Minima_Classificacao_Jogador\", \"Metricas_Personalizadas\")\n",
    "  .count()\n",
    "  .filter(\"count > 1\")\n",
    ")\n",
    "\n",
    "# Assegurar que o número de linhas duplicadas é zero\n",
    "assert duplicatas.count() == 0, \"Linhas duplicadas encontradas em dados_nba_preparados\"\n"
   ]
  },
  {
   "cell_type": "code",
   "execution_count": 0,
   "metadata": {
    "application/vnd.databricks.v1+cell": {
     "cellMetadata": {
      "byteLimit": 2048000,
      "rowLimit": 10000
     },
     "inputWidgets": {},
     "nuid": "e3edf5fe-9f51-4fc4-8cd6-cf423c46c909",
     "showTitle": false,
     "title": ""
    }
   },
   "outputs": [
    {
     "output_type": "display_data",
     "data": {
      "image/png": "[encoded data removed]"
     },
     "metadata": {
      "application/vnd.databricks.v1+output": {
       "addedWidgets": {},
       "arguments": {},
       "data": "data:image/png;base64,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\n",
       "datasetInfos": [],
       "metadata": {},
       "removedWidgets": [],
       "type": "image"
      }
     },
     "output_type": "display_data"
    },
    {
     "output_type": "display_data",
     "data": {
      "image/png": "[encoded data removed]"
     },
     "metadata": {
      "application/vnd.databricks.v1+output": {
       "addedWidgets": {},
       "arguments": {},
       "data": "data:image/png;base64,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\n",
       "datasetInfos": [],
       "metadata": {},
       "removedWidgets": [],
       "type": "image"
      }
     },
     "output_type": "display_data"
    }
   ],
   "source": [
    "import matplotlib.pyplot as plt\n",
    "import seaborn as sns\n",
    "from pyspark.sql import SparkSession\n",
    "\n",
    "# Criar uma SparkSession\n",
    "spark = SparkSession.builder.getOrCreate()\n",
    "\n",
    "query = \"SELECT * FROM dados_nba_preparados\"\n",
    "query_result = spark.sql(query)\n",
    "dados_nba_preparados = query_result.toPandas()\n",
    "\n",
    "dados_nba_preparados.head()\n",
    "\n",
    "# Criar gráfico de barras com as classificações das equipes\n",
    "sns.barplot(y=dados_nba_preparados.Nome_Equipe, x=dados_nba_preparados.Classificacao_Equipe)\n",
    "plt.title('Classificações Personalizadas das Equipes')\n",
    "plt.xlabel('Classificação')\n",
    "plt.ylabel('Equipe')\n",
    "plt.show()\n",
    "\n",
    "# Criar um mapa de calor para as métricas das equipes\n",
    "import numpy as np\n",
    "\n",
    "# Criar uma cópia dos dados e remover a coluna de nome da equipe\n",
    "dados = dados_nba_preparados.copy()\n",
    "dados = dados.drop('Nome_Equipe', axis=1)\n",
    "dados = dados.drop('Classificacao_Equipe', axis=1)\n",
    "\n",
    "# Normalizar os dados por categoria\n",
    "dados = (dados - dados.mean()) / dados.std()\n",
    "\n",
    "# Configurar o gráfico\n",
    "categorias = list(dados.columns)\n",
    "equipes = list(dados_nba_preparados['Nome_Equipe'].values)\n",
    "x = np.arange(len(categorias))\n",
    "y = np.arange(len(equipes))\n",
    "X, Y = np.meshgrid(x, y)\n",
    "\n",
    "# Criar o gráfico\n",
    "plt.figure(figsize=(10, 8))\n",
    "plt.imshow(dados, cmap='viridis', interpolation='nearest')\n",
    "plt.colorbar(label='Diferença Relativa')\n",
    "plt.xticks(x, categorias, rotation=90)\n",
    "plt.yticks(y, equipes)\n",
    "plt.xlabel('Categorias')\n",
    "plt.ylabel('Equipes')\n",
    "plt.title('Classificações das Equipes da NBA por Categoria (Normalizado)')\n",
    "plt.show()"
   ]
  },
  {
   "cell_type": "code",
   "execution_count": 0,
   "metadata": {
    "application/vnd.databricks.v1+cell": {
     "cellMetadata": {
      "byteLimit": 2048000,
      "implicitDf": true,
      "rowLimit": 10000
     },
     "inputWidgets": {},
     "nuid": "96540b2e-c408-4eb0-8e06-d63e2f2f4891",
     "showTitle": false,
     "title": ""
    }
   },
   "outputs": [
    {
     "output_type": "display_data",
     "data": {
      "text/html": [
       "<style scoped>\n",
       "  .table-result-container {\n",
       "    max-height: 300px;\n",
       "    overflow: auto;\n",
       "  }\n",
       "  table, th, td {\n",
       "    border: 1px solid black;\n",
       "    border-collapse: collapse;\n",
       "  }\n",
       "  th, td {\n",
       "    padding: 5px;\n",
       "  }\n",
       "  th {\n",
       "    text-align: left;\n",
       "  }\n",
       "</style><div class='table-result-container'><table class='table-result'><thead style='background-color: white'><tr><th>Nome_Equipe</th><th>Media_Percentage_Acerto</th></tr></thead><tbody><tr><td>NOP</td><td>0.39</td></tr><tr><td>NYK</td><td>0.39</td></tr><tr><td>SAS</td><td>0.51</td></tr></tbody></table></div>"
      ]
     },
     "metadata": {
      "application/vnd.databricks.v1+output": {
       "addedWidgets": {},
       "aggData": [],
       "aggError": "",
       "aggOverflow": false,
       "aggSchema": [],
       "aggSeriesLimitReached": false,
       "aggType": "",
       "arguments": {},
       "columnCustomDisplayInfos": {},
       "data": [
        [
         "NOP",
         0.39
        ],
        [
         "NYK",
         0.39
        ],
        [
         "SAS",
         0.51
        ]
       ],
       "datasetInfos": [],
       "dbfsResultPath": null,
       "isJsonSchema": true,
       "metadata": {},
       "overflow": false,
       "plotOptions": {
        "customPlotOptions": {},
        "displayType": "table",
        "pivotAggregation": null,
        "pivotColumns": null,
        "xColumns": null,
        "yColumns": null
       },
       "removedWidgets": [],
       "schema": [
        {
         "metadata": "{}",
         "name": "Nome_Equipe",
         "type": "\"string\""
        },
        {
         "metadata": "{}",
         "name": "Media_Percentage_Acerto",
         "type": "\"double\""
        }
       ],
       "type": "table"
      }
     },
     "output_type": "display_data"
    }
   ],
   "source": [
    "%sql \n",
    "\n",
    "SELECT\n",
    "    Nome_Equipe,\n",
    "    Media_Percentage_Acerto\n",
    "FROM dados_nba_preparados\n",
    "WHERE Media_Percentage_Acerto = (SELECT MAX(Media_Percentage_Acerto) FROM dados_nba_preparados)\n",
    "   OR Media_Percentage_Acerto = (SELECT MIN(Media_Percentage_Acerto) FROM dados_nba_preparados);"
   ]
  },
  {
   "cell_type": "code",
   "execution_count": 0,
   "metadata": {
    "application/vnd.databricks.v1+cell": {
     "cellMetadata": {
      "byteLimit": 2048000,
      "implicitDf": true,
      "rowLimit": 10000
     },
     "inputWidgets": {},
     "nuid": "dcc444d6-f63f-40d8-9c30-a5d3c635f6a6",
     "showTitle": false,
     "title": ""
    }
   },
   "outputs": [
    {
     "output_type": "display_data",
     "data": {
      "text/html": [
       "<style scoped>\n",
       "  .table-result-container {\n",
       "    max-height: 300px;\n",
       "    overflow: auto;\n",
       "  }\n",
       "  table, th, td {\n",
       "    border: 1px solid black;\n",
       "    border-collapse: collapse;\n",
       "  }\n",
       "  th, td {\n",
       "    padding: 5px;\n",
       "  }\n",
       "  th {\n",
       "    text-align: left;\n",
       "  }\n",
       "</style><div class='table-result-container'><table class='table-result'><thead style='background-color: white'><tr><th>Nome_Equipe</th><th>Media_Pontos</th></tr></thead><tbody><tr><td>CHO</td><td>9.3</td></tr><tr><td>UTA</td><td>9.26</td></tr><tr><td>ATL</td><td>9.21</td></tr><tr><td>CHI</td><td>8.96</td></tr><tr><td>POR</td><td>8.94</td></tr><tr><td>CLE</td><td>8.89</td></tr><tr><td>HOU</td><td>8.83</td></tr><tr><td>MIA</td><td>8.8</td></tr><tr><td>MEM</td><td>8.61</td></tr><tr><td>BOS</td><td>8.53</td></tr><tr><td>DAL</td><td>8.47</td></tr><tr><td>DET</td><td>8.33</td></tr><tr><td>IND</td><td>8.32</td></tr><tr><td>BRK</td><td>8.3</td></tr><tr><td>TOR</td><td>8.27</td></tr><tr><td>SAS</td><td>8.26</td></tr><tr><td>GSW</td><td>8.2</td></tr><tr><td>DEN</td><td>8.04</td></tr><tr><td>WAS</td><td>7.8</td></tr><tr><td>NOP</td><td>7.75</td></tr><tr><td>ORL</td><td>7.67</td></tr><tr><td>LAC</td><td>7.65</td></tr><tr><td>MIN</td><td>7.5</td></tr><tr><td>PHO</td><td>7.48</td></tr><tr><td>NYK</td><td>7.44</td></tr><tr><td>PHI</td><td>7.28</td></tr><tr><td>MIL</td><td>7.28</td></tr><tr><td>LAL</td><td>7.25</td></tr><tr><td>SAC</td><td>7.14</td></tr><tr><td>TOT</td><td>6.96</td></tr><tr><td>OKC</td><td>6.89</td></tr></tbody></table></div>"
      ]
     },
     "metadata": {
      "application/vnd.databricks.v1+output": {
       "addedWidgets": {},
       "aggData": [],
       "aggError": "",
       "aggOverflow": false,
       "aggSchema": [],
       "aggSeriesLimitReached": false,
       "aggType": "",
       "arguments": {},
       "columnCustomDisplayInfos": {},
       "data": [
        [
         "CHO",
         9.3
        ],
        [
         "UTA",
         9.26
        ],
        [
         "ATL",
         9.21
        ],
        [
         "CHI",
         8.96
        ],
        [
         "POR",
         8.94
        ],
        [
         "CLE",
         8.89
        ],
        [
         "HOU",
         8.83
        ],
        [
         "MIA",
         8.8
        ],
        [
         "MEM",
         8.61
        ],
        [
         "BOS",
         8.53
        ],
        [
         "DAL",
         8.47
        ],
        [
         "DET",
         8.33
        ],
        [
         "IND",
         8.32
        ],
        [
         "BRK",
         8.3
        ],
        [
         "TOR",
         8.27
        ],
        [
         "SAS",
         8.26
        ],
        [
         "GSW",
         8.2
        ],
        [
         "DEN",
         8.04
        ],
        [
         "WAS",
         7.8
        ],
        [
         "NOP",
         7.75
        ],
        [
         "ORL",
         7.67
        ],
        [
         "LAC",
         7.65
        ],
        [
         "MIN",
         7.5
        ],
        [
         "PHO",
         7.48
        ],
        [
         "NYK",
         7.44
        ],
        [
         "PHI",
         7.28
        ],
        [
         "MIL",
         7.28
        ],
        [
         "LAL",
         7.25
        ],
        [
         "SAC",
         7.14
        ],
        [
         "TOT",
         6.96
        ],
        [
         "OKC",
         6.89
        ]
       ],
       "datasetInfos": [],
       "dbfsResultPath": null,
       "isJsonSchema": true,
       "metadata": {},
       "overflow": false,
       "plotOptions": {
        "customPlotOptions": {},
        "displayType": "table",
        "pivotAggregation": null,
        "pivotColumns": null,
        "xColumns": null,
        "yColumns": null
       },
       "removedWidgets": [],
       "schema": [
        {
         "metadata": "{}",
         "name": "Nome_Equipe",
         "type": "\"string\""
        },
        {
         "metadata": "{}",
         "name": "Media_Pontos",
         "type": "\"double\""
        }
       ],
       "type": "table"
      }
     },
     "output_type": "display_data"
    }
   ],
   "source": [
    "%sql\n",
    "\n",
    "SELECT\n",
    "    Nome_Equipe,\n",
    "    Media_Pontos\n",
    "FROM dados_nba_preparados\n",
    "ORDER BY Media_Pontos DESC;"
   ]
  },
  {
   "cell_type": "code",
   "execution_count": 0,
   "metadata": {
    "application/vnd.databricks.v1+cell": {
     "cellMetadata": {
      "byteLimit": 2048000,
      "implicitDf": true,
      "rowLimit": 10000
     },
     "inputWidgets": {},
     "nuid": "c0be4007-efe1-43ce-b4f7-95a694e6da9f",
     "showTitle": false,
     "title": ""
    }
   },
   "outputs": [
    {
     "output_type": "display_data",
     "data": {
      "text/html": [
       "<style scoped>\n",
       "  .table-result-container {\n",
       "    max-height: 300px;\n",
       "    overflow: auto;\n",
       "  }\n",
       "  table, th, td {\n",
       "    border: 1px solid black;\n",
       "    border-collapse: collapse;\n",
       "  }\n",
       "  th, td {\n",
       "    padding: 5px;\n",
       "  }\n",
       "  th {\n",
       "    text-align: left;\n",
       "  }\n",
       "</style><div class='table-result-container'><table class='table-result'><thead style='background-color: white'><tr><th>Player</th><th>Age</th><th>MP</th><th>PTS</th><th>FGPerc</th><th>DRB</th><th>ORB</th><th>TOV</th></tr></thead><tbody><tr><td>Joel Embiid</td><td>29</td><td>33.6</td><td>34.7</td><td>0.529</td><td>8.6</td><td>2.4</td><td>3.8</td></tr><tr><td>Luka DonÄiÄ</td><td>24</td><td>37.5</td><td>33.9</td><td>0.487</td><td>8.4</td><td>0.8</td><td>4.0</td></tr><tr><td>Giannis Antetokounmpo</td><td>29</td><td>35.2</td><td>30.4</td><td>0.611</td><td>8.8</td><td>2.7</td><td>3.4</td></tr><tr><td>Nikola JokiÄ</td><td>28</td><td>34.6</td><td>26.4</td><td>0.583</td><td>9.5</td><td>2.8</td><td>3.0</td></tr><tr><td>Anthony Davis</td><td>30</td><td>35.5</td><td>24.7</td><td>0.556</td><td>9.5</td><td>3.1</td><td>2.1</td></tr><tr><td>Jayson Tatum</td><td>25</td><td>35.7</td><td>26.9</td><td>0.471</td><td>7.2</td><td>0.9</td><td>2.5</td></tr><tr><td>Shai Gilgeous-Alexander</td><td>25</td><td>34.0</td><td>30.1</td><td>0.535</td><td>4.7</td><td>0.9</td><td>2.2</td></tr><tr><td>Kevin Durant</td><td>35</td><td>37.2</td><td>27.1</td><td>0.523</td><td>6.1</td><td>0.5</td><td>3.3</td></tr><tr><td>LeBron James</td><td>39</td><td>35.3</td><td>25.7</td><td>0.54</td><td>6.4</td><td>0.9</td><td>3.5</td></tr><tr><td>Domantas Sabonis</td><td>27</td><td>35.7</td><td>19.4</td><td>0.594</td><td>10.1</td><td>3.6</td><td>3.3</td></tr><tr><td>Julius Randle</td><td>29</td><td>35.4</td><td>24.0</td><td>0.472</td><td>7.0</td><td>2.2</td><td>3.5</td></tr><tr><td>Victor Wembanyama</td><td>20</td><td>29.7</td><td>21.4</td><td>0.465</td><td>8.4</td><td>2.3</td><td>3.7</td></tr><tr><td>Jalen Brunson</td><td>27</td><td>35.4</td><td>28.7</td><td>0.479</td><td>3.1</td><td>0.6</td><td>2.4</td></tr><tr><td>Anthony Edwards</td><td>22</td><td>35.1</td><td>25.9</td><td>0.461</td><td>4.8</td><td>0.7</td><td>3.1</td></tr><tr><td>Donovan Mitchell</td><td>27</td><td>35.3</td><td>26.6</td><td>0.462</td><td>4.3</td><td>0.8</td><td>2.8</td></tr><tr><td>Devin Booker</td><td>27</td><td>36.0</td><td>27.1</td><td>0.492</td><td>3.7</td><td>0.8</td><td>2.6</td></tr><tr><td>Ja Morant</td><td>24</td><td>35.3</td><td>25.1</td><td>0.471</td><td>4.9</td><td>0.7</td><td>3.0</td></tr><tr><td>Stephen Curry</td><td>35</td><td>32.7</td><td>26.4</td><td>0.45</td><td>4.0</td><td>0.5</td><td>2.8</td></tr><tr><td>De'Aaron Fox</td><td>26</td><td>35.9</td><td>26.6</td><td>0.465</td><td>3.7</td><td>0.9</td><td>2.6</td></tr><tr><td>Lauri Markkanen</td><td>26</td><td>33.1</td><td>23.2</td><td>0.48</td><td>5.9</td><td>2.2</td><td>1.4</td></tr><tr><td>Karl-Anthony Towns</td><td>28</td><td>32.7</td><td>21.8</td><td>0.504</td><td>6.8</td><td>1.5</td><td>2.9</td></tr><tr><td>Kyrie Irving</td><td>31</td><td>35.0</td><td>25.6</td><td>0.497</td><td>4.2</td><td>0.8</td><td>1.8</td></tr><tr><td>Paolo Banchero</td><td>21</td><td>35.0</td><td>22.6</td><td>0.455</td><td>5.9</td><td>1.0</td><td>3.1</td></tr><tr><td>Bam Adebayo</td><td>26</td><td>34.0</td><td>19.3</td><td>0.521</td><td>8.1</td><td>2.2</td><td>2.3</td></tr><tr><td>Kawhi Leonard</td><td>32</td><td>34.3</td><td>23.7</td><td>0.525</td><td>4.9</td><td>1.2</td><td>1.8</td></tr><tr><td>Kyle Kuzma</td><td>28</td><td>32.6</td><td>22.2</td><td>0.463</td><td>5.7</td><td>0.9</td><td>2.7</td></tr><tr><td>Alperen Sengun</td><td>21</td><td>32.5</td><td>21.1</td><td>0.537</td><td>6.4</td><td>2.9</td><td>2.6</td></tr><tr><td>Tyrese Maxey</td><td>23</td><td>37.5</td><td>25.9</td><td>0.45</td><td>3.2</td><td>0.5</td><td>1.7</td></tr><tr><td>Miles Bridges</td><td>25</td><td>37.4</td><td>21.0</td><td>0.462</td><td>6.3</td><td>1.0</td><td>2.0</td></tr><tr><td>Damian Lillard</td><td>33</td><td>35.3</td><td>24.3</td><td>0.424</td><td>3.9</td><td>0.5</td><td>2.6</td></tr><tr><td>Pascal Siakam</td><td>29</td><td>31.8</td><td>21.3</td><td>0.549</td><td>5.7</td><td>2.1</td><td>1.4</td></tr><tr><td>RJ Barrett</td><td>23</td><td>33.5</td><td>21.8</td><td>0.553</td><td>5.3</td><td>1.1</td><td>2.5</td></tr><tr><td>DeMar DeRozan</td><td>34</td><td>37.8</td><td>24.0</td><td>0.48</td><td>3.8</td><td>0.5</td><td>1.7</td></tr><tr><td>Nikola VuÄeviÄ</td><td>33</td><td>34.3</td><td>18.0</td><td>0.484</td><td>7.8</td><td>2.8</td><td>1.6</td></tr><tr><td>Paul George</td><td>33</td><td>33.8</td><td>22.6</td><td>0.471</td><td>4.7</td><td>0.5</td><td>2.1</td></tr><tr><td>Pascal Siakam</td><td>29</td><td>33.2</td><td>21.7</td><td>0.536</td><td>5.3</td><td>1.7</td><td>1.8</td></tr><tr><td>LaMelo Ball</td><td>22</td><td>32.3</td><td>23.9</td><td>0.433</td><td>3.8</td><td>1.3</td><td>3.8</td></tr><tr><td>Pascal Siakam</td><td>29</td><td>34.7</td><td>22.2</td><td>0.522</td><td>4.9</td><td>1.4</td><td>2.1</td></tr><tr><td>Jaylen Brown</td><td>27</td><td>33.5</td><td>23.0</td><td>0.499</td><td>4.3</td><td>1.2</td><td>2.4</td></tr><tr><td>Dejounte Murray</td><td>27</td><td>35.7</td><td>22.5</td><td>0.459</td><td>4.5</td><td>0.8</td><td>2.6</td></tr><tr><td>Trae Young</td><td>25</td><td>36.0</td><td>25.7</td><td>0.43</td><td>2.3</td><td>0.4</td><td>4.4</td></tr><tr><td>Zion Williamson</td><td>23</td><td>31.5</td><td>22.9</td><td>0.57</td><td>4.1</td><td>1.7</td><td>2.8</td></tr><tr><td>Desmond Bane</td><td>25</td><td>34.4</td><td>23.7</td><td>0.464</td><td>3.5</td><td>0.9</td><td>2.7</td></tr><tr><td>Jaren Jackson Jr.</td><td>24</td><td>32.2</td><td>22.5</td><td>0.444</td><td>4.2</td><td>1.3</td><td>2.4</td></tr><tr><td>Scottie Barnes</td><td>22</td><td>34.9</td><td>19.9</td><td>0.475</td><td>5.9</td><td>2.4</td><td>2.8</td></tr><tr><td>Deandre Ayton</td><td>25</td><td>32.4</td><td>16.7</td><td>0.57</td><td>7.9</td><td>3.2</td><td>1.8</td></tr><tr><td>Cade Cunningham</td><td>22</td><td>33.5</td><td>22.7</td><td>0.449</td><td>3.8</td><td>0.5</td><td>3.4</td></tr><tr><td>Kristaps PorziÅÄ£is</td><td>28</td><td>29.6</td><td>20.1</td><td>0.516</td><td>5.5</td><td>1.7</td><td>1.6</td></tr><tr><td>Terry Rozier</td><td>29</td><td>35.5</td><td>23.2</td><td>0.459</td><td>3.3</td><td>0.6</td><td>2.2</td></tr><tr><td>Tyler Herro</td><td>24</td><td>33.5</td><td>20.8</td><td>0.441</td><td>4.8</td><td>0.5</td><td>2.2</td></tr><tr><td>Rudy Gobert</td><td>31</td><td>34.1</td><td>14.0</td><td>0.661</td><td>9.2</td><td>3.8</td><td>1.6</td></tr><tr><td>Jarrett Allen</td><td>25</td><td>31.7</td><td>16.5</td><td>0.634</td><td>7.4</td><td>3.2</td><td>1.6</td></tr><tr><td>Brandon Ingram</td><td>26</td><td>32.9</td><td>20.8</td><td>0.492</td><td>4.4</td><td>0.7</td><td>2.5</td></tr><tr><td>Anfernee Simons</td><td>24</td><td>34.4</td><td>22.6</td><td>0.43</td><td>3.2</td><td>0.5</td><td>2.7</td></tr><tr><td>Jalen Johnson</td><td>22</td><td>33.7</td><td>16.0</td><td>0.511</td><td>7.4</td><td>1.3</td><td>1.8</td></tr><tr><td>RJ Barrett</td><td>23</td><td>31.7</td><td>20.2</td><td>0.495</td><td>4.5</td><td>0.9</td><td>2.2</td></tr><tr><td>Zach LaVine</td><td>28</td><td>34.9</td><td>19.5</td><td>0.452</td><td>4.8</td><td>0.3</td><td>2.1</td></tr><tr><td>Cam Thomas</td><td>22</td><td>31.4</td><td>22.5</td><td>0.442</td><td>2.8</td><td>0.4</td><td>1.9</td></tr><tr><td>Jalen Green</td><td>21</td><td>31.7</td><td>19.6</td><td>0.423</td><td>4.7</td><td>0.5</td><td>2.3</td></tr><tr><td>Jalen Duren</td><td>20</td><td>29.1</td><td>13.8</td><td>0.619</td><td>8.5</td><td>3.1</td><td>2.1</td></tr><tr><td>Evan Mobley</td><td>22</td><td>30.6</td><td>15.7</td><td>0.58</td><td>7.1</td><td>2.2</td><td>1.8</td></tr><tr><td>Jamal Murray</td><td>26</td><td>31.5</td><td>21.2</td><td>0.481</td><td>3.4</td><td>0.7</td><td>2.1</td></tr><tr><td>Jimmy Butler</td><td>34</td><td>34.0</td><td>20.8</td><td>0.499</td><td>3.6</td><td>1.8</td><td>1.7</td></tr><tr><td>Franz Wagner</td><td>22</td><td>32.5</td><td>19.7</td><td>0.482</td><td>4.3</td><td>1.0</td><td>1.9</td></tr><tr><td>Chet Holmgren</td><td>21</td><td>29.4</td><td>16.5</td><td>0.53</td><td>6.3</td><td>1.6</td><td>1.6</td></tr><tr><td>CJ McCollum</td><td>32</td><td>32.7</td><td>20.0</td><td>0.459</td><td>3.7</td><td>0.6</td><td>1.7</td></tr><tr><td>Jerami Grant</td><td>29</td><td>33.9</td><td>21.0</td><td>0.451</td><td>2.9</td><td>0.7</td><td>2.1</td></tr><tr><td>Immanuel Quickley</td><td>24</td><td>33.3</td><td>18.6</td><td>0.422</td><td>4.5</td><td>0.3</td><td>1.8</td></tr><tr><td>Myles Turner</td><td>27</td><td>27.0</td><td>17.1</td><td>0.524</td><td>5.5</td><td>1.5</td><td>1.4</td></tr><tr><td>Michael Porter Jr.</td><td>25</td><td>31.7</td><td>16.7</td><td>0.484</td><td>5.7</td><td>1.3</td><td>1.1</td></tr><tr><td>Tyrese Haliburton</td><td>23</td><td>32.2</td><td>20.1</td><td>0.477</td><td>3.4</td><td>0.5</td><td>2.3</td></tr><tr><td>Mikal Bridges</td><td>27</td><td>34.8</td><td>19.6</td><td>0.436</td><td>3.7</td><td>0.8</td><td>2.0</td></tr><tr><td>Tobias Harris</td><td>31</td><td>33.8</td><td>17.2</td><td>0.487</td><td>5.3</td><td>1.1</td><td>1.3</td></tr><tr><td>Coby White</td><td>23</td><td>36.5</td><td>19.1</td><td>0.447</td><td>4.0</td><td>0.6</td><td>2.1</td></tr><tr><td>Terry Rozier</td><td>29</td><td>33.4</td><td>19.8</td><td>0.443</td><td>3.5</td><td>0.6</td><td>1.7</td></tr><tr><td>Devin Vassell</td><td>23</td><td>33.1</td><td>19.5</td><td>0.472</td><td>3.4</td><td>0.4</td><td>1.6</td></tr><tr><td>Bojan BogdanoviÄ</td><td>34</td><td>32.9</td><td>20.2</td><td>0.468</td><td>2.9</td><td>0.5</td><td>2.3</td></tr><tr><td>Jalen Williams</td><td>22</td><td>31.3</td><td>19.1</td><td>0.54</td><td>3.5</td><td>0.5</td><td>1.7</td></tr><tr><td>John Collins</td><td>26</td><td>28.0</td><td>15.1</td><td>0.532</td><td>6.1</td><td>2.3</td><td>1.4</td></tr><tr><td>Deni Avdija</td><td>23</td><td>30.1</td><td>14.7</td><td>0.506</td><td>6.1</td><td>1.1</td><td>2.1</td></tr><tr><td>James Harden</td><td>34</td><td>34.3</td><td>16.6</td><td>0.428</td><td>4.7</td><td>0.5</td><td>2.6</td></tr><tr><td>RJ Barrett</td><td>23</td><td>29.5</td><td>18.2</td><td>0.423</td><td>3.5</td><td>0.7</td><td>1.8</td></tr><tr><td>Bradley Beal</td><td>30</td><td>33.3</td><td>18.2</td><td>0.513</td><td>3.4</td><td>1.0</td><td>2.5</td></tr><tr><td>Jabari Smith Jr.</td><td>20</td><td>31.9</td><td>13.7</td><td>0.454</td><td>6.3</td><td>1.8</td><td>1.2</td></tr><tr><td>Jusuf NurkiÄ</td><td>29</td><td>27.3</td><td>10.9</td><td>0.51</td><td>8.1</td><td>2.9</td><td>2.3</td></tr><tr><td>Nic Claxton</td><td>24</td><td>29.8</td><td>11.8</td><td>0.629</td><td>7.2</td><td>2.7</td><td>1.3</td></tr><tr><td>Fred VanVleet</td><td>29</td><td>36.8</td><td>17.4</td><td>0.416</td><td>3.4</td><td>0.5</td><td>1.7</td></tr><tr><td>Dalano Banton</td><td>24</td><td>29.2</td><td>16.7</td><td>0.408</td><td>3.8</td><td>1.0</td><td>2.2</td></tr><tr><td>Brandon Miller</td><td>21</td><td>32.2</td><td>17.3</td><td>0.44</td><td>3.4</td><td>0.8</td><td>1.8</td></tr><tr><td>Immanuel Quickley</td><td>24</td><td>29.2</td><td>17.0</td><td>0.434</td><td>3.6</td><td>0.3</td><td>1.5</td></tr><tr><td>Bobby Portis</td><td>28</td><td>24.5</td><td>13.8</td><td>0.508</td><td>5.7</td><td>1.7</td><td>1.1</td></tr><tr><td>Klay Thompson</td><td>33</td><td>29.7</td><td>17.9</td><td>0.432</td><td>2.8</td><td>0.5</td><td>1.5</td></tr><tr><td>D'Angelo Russell</td><td>27</td><td>32.7</td><td>18.0</td><td>0.456</td><td>2.7</td><td>0.4</td><td>2.1</td></tr><tr><td>Jonas ValanÄiÅ«nas</td><td>31</td><td>23.5</td><td>12.2</td><td>0.559</td><td>6.5</td><td>2.3</td><td>1.4</td></tr><tr><td>Keldon Johnson</td><td>24</td><td>29.5</td><td>15.7</td><td>0.454</td><td>4.1</td><td>1.4</td><td>1.4</td></tr><tr><td>Terry Rozier</td><td>29</td><td>31.5</td><td>16.4</td><td>0.423</td><td>3.6</td><td>0.6</td><td>1.3</td></tr><tr><td>Jonathan Kuminga</td><td>21</td><td>26.3</td><td>16.1</td><td>0.529</td><td>3.6</td><td>1.2</td><td>1.6</td></tr><tr><td>Shaedon Sharpe</td><td>20</td><td>33.1</td><td>15.9</td><td>0.406</td><td>3.7</td><td>1.3</td><td>2.3</td></tr><tr><td>Keegan Murray</td><td>23</td><td>33.6</td><td>15.2</td><td>0.454</td><td>4.1</td><td>1.4</td><td>0.8</td></tr><tr><td>Austin Reaves</td><td>25</td><td>32.1</td><td>15.9</td><td>0.486</td><td>3.6</td><td>0.7</td><td>2.1</td></tr><tr><td>Collin Sexton</td><td>25</td><td>26.6</td><td>18.7</td><td>0.487</td><td>1.7</td><td>0.9</td><td>2.1</td></tr><tr><td>Mark Williams</td><td>22</td><td>26.7</td><td>12.7</td><td>0.649</td><td>5.7</td><td>4.0</td><td>0.9</td></tr><tr><td>Darius Garland</td><td>24</td><td>33.4</td><td>18.0</td><td>0.446</td><td>2.1</td><td>0.5</td><td>3.1</td></tr><tr><td>Ivica Zubac</td><td>26</td><td>26.4</td><td>11.7</td><td>0.649</td><td>6.3</td><td>2.9</td><td>1.2</td></tr><tr><td>Trey Murphy III</td><td>23</td><td>29.6</td><td>14.8</td><td>0.443</td><td>4.2</td><td>0.7</td><td>0.6</td></tr><tr><td>Bogdan BogdanoviÄ</td><td>31</td><td>30.4</td><td>16.9</td><td>0.428</td><td>2.8</td><td>0.7</td><td>1.4</td></tr><tr><td>Khris Middleton</td><td>32</td><td>27.0</td><td>15.1</td><td>0.493</td><td>3.9</td><td>0.7</td><td>2.3</td></tr><tr><td>Jordan Clarkson</td><td>31</td><td>30.6</td><td>17.1</td><td>0.413</td><td>2.5</td><td>0.9</td><td>2.7</td></tr><tr><td>Jordan Poole</td><td>24</td><td>30.1</td><td>17.4</td><td>0.413</td><td>2.3</td><td>0.4</td><td>2.4</td></tr><tr><td>Simone Fontecchio</td><td>28</td><td>30.3</td><td>15.4</td><td>0.479</td><td>3.6</td><td>0.8</td><td>1.1</td></tr><tr><td>Kelly Oubre Jr.</td><td>28</td><td>30.2</td><td>15.4</td><td>0.441</td><td>3.6</td><td>1.4</td><td>1.3</td></tr><tr><td>De'Andre Hunter</td><td>26</td><td>29.5</td><td>15.6</td><td>0.459</td><td>3.4</td><td>0.5</td><td>1.5</td></tr><tr><td>Clint Capela</td><td>29</td><td>25.8</td><td>11.5</td><td>0.571</td><td>6.0</td><td>4.6</td><td>1.0</td></tr><tr><td>Derrick White</td><td>29</td><td>32.6</td><td>15.2</td><td>0.461</td><td>3.5</td><td>0.7</td><td>1.5</td></tr><tr><td>Malcolm Brogdon</td><td>31</td><td>28.7</td><td>15.7</td><td>0.44</td><td>3.1</td><td>0.7</td><td>1.5</td></tr><tr><td>Marvin Bagley III</td><td>24</td><td>24.0</td><td>13.3</td><td>0.581</td><td>4.6</td><td>3.5</td><td>1.3</td></tr><tr><td>Aaron Gordon</td><td>28</td><td>31.5</td><td>13.9</td><td>0.556</td><td>4.1</td><td>2.4</td><td>1.4</td></tr><tr><td>Gordon Hayward</td><td>33</td><td>31.9</td><td>14.5</td><td>0.468</td><td>3.7</td><td>1.0</td><td>2.0</td></tr><tr><td>Javonte Green</td><td>30</td><td>25.6</td><td>12.2</td><td>0.6</td><td>5.2</td><td>2.2</td><td>0.8</td></tr><tr><td>Naz Reid</td><td>24</td><td>24.2</td><td>13.5</td><td>0.477</td><td>4.3</td><td>0.9</td><td>1.4</td></tr><tr><td>Donte DiVincenzo</td><td>27</td><td>29.1</td><td>15.5</td><td>0.443</td><td>2.9</td><td>0.8</td><td>1.4</td></tr><tr><td>Josh Giddey</td><td>21</td><td>25.1</td><td>12.3</td><td>0.475</td><td>5.0</td><td>1.4</td><td>2.1</td></tr><tr><td>P.J. Washington</td><td>25</td><td>29.2</td><td>13.6</td><td>0.446</td><td>4.1</td><td>1.2</td><td>1.5</td></tr><tr><td>Jakob Poeltl</td><td>28</td><td>26.4</td><td>11.1</td><td>0.656</td><td>5.7</td><td>2.9</td><td>1.5</td></tr><tr><td>P.J. Washington</td><td>25</td><td>30.4</td><td>12.9</td><td>0.436</td><td>4.5</td><td>1.2</td><td>1.3</td></tr><tr><td>OG Anunoby</td><td>26</td><td>33.3</td><td>15.1</td><td>0.489</td><td>3.0</td><td>0.9</td><td>1.6</td></tr><tr><td>Josh Hart</td><td>28</td><td>33.4</td><td>9.4</td><td>0.434</td><td>6.8</td><td>1.6</td><td>1.5</td></tr><tr><td>Grant Williams</td><td>25</td><td>30.6</td><td>13.9</td><td>0.503</td><td>3.8</td><td>1.4</td><td>1.9</td></tr><tr><td>Saddiq Bey</td><td>24</td><td>32.7</td><td>13.7</td><td>0.416</td><td>3.9</td><td>2.7</td><td>0.9</td></tr><tr><td>OG Anunoby</td><td>26</td><td>34.0</td><td>14.7</td><td>0.489</td><td>3.2</td><td>0.9</td><td>1.6</td></tr><tr><td>P.J. Washington</td><td>25</td><td>32.2</td><td>11.7</td><td>0.421</td><td>5.1</td><td>1.1</td><td>1.0</td></tr><tr><td>Malik Monk</td><td>25</td><td>26.0</td><td>15.4</td><td>0.443</td><td>2.6</td><td>0.4</td><td>2.1</td></tr><tr><td>Caris LeVert</td><td>29</td><td>28.8</td><td>14.0</td><td>0.421</td><td>3.5</td><td>0.6</td><td>1.7</td></tr><tr><td>OG Anunoby</td><td>26</td><td>34.9</td><td>14.1</td><td>0.488</td><td>3.4</td><td>1.0</td><td>1.7</td></tr><tr><td>GG Jackson II</td><td>19</td><td>25.7</td><td>14.6</td><td>0.428</td><td>3.0</td><td>1.1</td><td>1.4</td></tr><tr><td>Dennis SchrÃ¶der</td><td>30</td><td>32.0</td><td>14.6</td><td>0.424</td><td>2.9</td><td>0.6</td><td>2.4</td></tr><tr><td>Rui Hachimura</td><td>25</td><td>26.9</td><td>13.6</td><td>0.537</td><td>3.5</td><td>0.9</td><td>0.7</td></tr><tr><td>Jaden Ivey</td><td>21</td><td>28.8</td><td>15.4</td><td>0.429</td><td>2.3</td><td>1.1</td><td>2.5</td></tr><tr><td>Bennedict Mathurin</td><td>21</td><td>26.1</td><td>14.5</td><td>0.446</td><td>2.9</td><td>1.0</td><td>1.6</td></tr><tr><td>Jrue Holiday</td><td>33</td><td>32.8</td><td>12.5</td><td>0.48</td><td>4.2</td><td>1.2</td><td>1.8</td></tr><tr><td>Tim Hardaway Jr.</td><td>31</td><td>26.8</td><td>14.4</td><td>0.402</td><td>2.9</td><td>0.3</td><td>0.9</td></tr><tr><td>Kelly Olynyk</td><td>32</td><td>26.4</td><td>12.7</td><td>0.548</td><td>4.0</td><td>1.6</td><td>2.5</td></tr><tr><td>Bojan BogdanoviÄ</td><td>34</td><td>25.9</td><td>15.2</td><td>0.454</td><td>2.3</td><td>0.4</td><td>1.8</td></tr><tr><td>Immanuel Quickley</td><td>24</td><td>24.0</td><td>15.0</td><td>0.454</td><td>2.4</td><td>0.2</td><td>1.0</td></tr><tr><td>Daniel Gafford</td><td>25</td><td>26.5</td><td>10.9</td><td>0.69</td><td>5.1</td><td>2.9</td><td>1.0</td></tr><tr><td>Daniel Gafford</td><td>25</td><td>24.5</td><td>11.0</td><td>0.725</td><td>5.0</td><td>2.6</td><td>1.0</td></tr><tr><td>Cameron Johnson</td><td>27</td><td>27.6</td><td>13.4</td><td>0.446</td><td>3.4</td><td>0.9</td><td>1.0</td></tr><tr><td>Jeremy Sochan</td><td>20</td><td>29.6</td><td>11.6</td><td>0.438</td><td>4.6</td><td>1.9</td><td>1.9</td></tr><tr><td>Grayson Allen</td><td>28</td><td>33.5</td><td>13.5</td><td>0.499</td><td>3.3</td><td>0.6</td><td>1.3</td></tr><tr><td>Isaiah Stewart</td><td>22</td><td>30.9</td><td>10.9</td><td>0.487</td><td>5.0</td><td>1.6</td><td>1.4</td></tr><tr><td>Wendell Carter Jr.</td><td>24</td><td>25.6</td><td>11.0</td><td>0.525</td><td>4.9</td><td>2.0</td><td>1.2</td></tr><tr><td>Daniel Gafford</td><td>25</td><td>21.5</td><td>11.2</td><td>0.78</td><td>4.7</td><td>2.2</td><td>1.0</td></tr><tr><td>Marcus Smart</td><td>29</td><td>30.3</td><td>14.5</td><td>0.43</td><td>2.4</td><td>0.3</td><td>3.1</td></tr><tr><td>Brook Lopez</td><td>35</td><td>30.5</td><td>12.5</td><td>0.485</td><td>3.7</td><td>1.5</td><td>1.0</td></tr><tr><td>Max Strus</td><td>27</td><td>32.0</td><td>12.2</td><td>0.418</td><td>3.9</td><td>0.9</td><td>1.6</td></tr><tr><td>Bruce Brown</td><td>27</td><td>29.7</td><td>12.1</td><td>0.475</td><td>3.9</td><td>0.8</td><td>1.2</td></tr><tr><td>Nick Richards</td><td>26</td><td>26.3</td><td>9.7</td><td>0.691</td><td>5.5</td><td>2.6</td><td>1.1</td></tr><tr><td>Jordan Goodwin</td><td>25</td><td>29.2</td><td>10.0</td><td>0.349</td><td>5.2</td><td>2.8</td><td>1.6</td></tr><tr><td>Tre Mann</td><td>22</td><td>31.0</td><td>11.9</td><td>0.453</td><td>3.9</td><td>0.6</td><td>2.0</td></tr><tr><td>Dennis SchrÃ¶der</td><td>30</td><td>31.1</td><td>14.0</td><td>0.435</td><td>2.5</td><td>0.5</td><td>1.9</td></tr><tr><td>Chimezie Metu</td><td>26</td><td>29.4</td><td>10.5</td><td>0.5</td><td>4.8</td><td>1.2</td><td>1.8</td></tr><tr><td>Andrew Wiggins</td><td>28</td><td>27.0</td><td>13.2</td><td>0.453</td><td>3.0</td><td>1.5</td><td>1.2</td></tr><tr><td>Santi Aldama</td><td>23</td><td>26.5</td><td>10.7</td><td>0.435</td><td>4.6</td><td>1.2</td><td>1.1</td></tr><tr><td>Kenneth Lofton Jr.</td><td>21</td><td>22.8</td><td>13.8</td><td>0.6</td><td>2.5</td><td>2.5</td><td>1.5</td></tr><tr><td>Norman Powell</td><td>30</td><td>26.2</td><td>13.9</td><td>0.486</td><td>2.4</td><td>0.2</td><td>0.9</td></tr><tr><td>Draymond Green</td><td>33</td><td>27.1</td><td>8.6</td><td>0.497</td><td>5.9</td><td>1.4</td><td>2.5</td></tr><tr><td>Scoot Henderson</td><td>19</td><td>28.5</td><td>14.0</td><td>0.385</td><td>2.3</td><td>0.9</td><td>3.4</td></tr><tr><td>Lamar Stevens</td><td>26</td><td>23.0</td><td>11.5</td><td>0.446</td><td>3.8</td><td>1.3</td><td>0.8</td></tr><tr><td>Tari Eason</td><td>22</td><td>21.8</td><td>9.8</td><td>0.466</td><td>4.9</td><td>2.1</td><td>0.9</td></tr><tr><td>Dennis SchrÃ¶der</td><td>30</td><td>30.6</td><td>13.7</td><td>0.442</td><td>2.3</td><td>0.4</td><td>1.6</td></tr><tr><td>Gary Trent Jr.</td><td>25</td><td>28.1</td><td>13.7</td><td>0.426</td><td>2.3</td><td>0.4</td><td>0.7</td></tr><tr><td>Marvin Bagley III</td><td>24</td><td>21.1</td><td>11.7</td><td>0.586</td><td>3.6</td><td>2.6</td><td>1.2</td></tr><tr><td>Corey Kispert</td><td>24</td><td>25.8</td><td>13.4</td><td>0.486</td><td>2.4</td><td>0.4</td><td>1.2</td></tr><tr><td>Keyonte George</td><td>20</td><td>27.0</td><td>13.0</td><td>0.391</td><td>2.6</td><td>0.2</td><td>2.5</td></tr><tr><td>Spencer Dinwiddie</td><td>30</td><td>30.7</td><td>12.6</td><td>0.391</td><td>2.8</td><td>0.5</td><td>1.3</td></tr><tr><td>Andre Drummond</td><td>30</td><td>17.1</td><td>8.4</td><td>0.556</td><td>5.6</td><td>3.4</td><td>1.0</td></tr><tr><td>Dillon Brooks</td><td>28</td><td>30.9</td><td>12.7</td><td>0.428</td><td>2.7</td><td>0.7</td><td>1.2</td></tr><tr><td>Zach Collins</td><td>26</td><td>22.1</td><td>11.2</td><td>0.484</td><td>3.7</td><td>1.7</td><td>1.9</td></tr><tr><td>Russell Westbrook</td><td>35</td><td>22.5</td><td>11.1</td><td>0.454</td><td>3.7</td><td>1.4</td><td>2.1</td></tr><tr><td>Cam Whitmore</td><td>19</td><td>18.7</td><td>12.3</td><td>0.454</td><td>2.9</td><td>0.9</td><td>1.0</td></tr><tr><td>Vince Williams Jr.</td><td>23</td><td>27.6</td><td>10.0</td><td>0.446</td><td>4.4</td><td>1.1</td><td>1.8</td></tr><tr><td>Aaron Nesmith</td><td>24</td><td>27.7</td><td>12.2</td><td>0.496</td><td>2.9</td><td>0.9</td><td>0.9</td></tr><tr><td>Onyeka Okongwu</td><td>23</td><td>25.5</td><td>10.2</td><td>0.611</td><td>4.2</td><td>2.6</td><td>0.8</td></tr><tr><td>Kevin Love</td><td>35</td><td>16.8</td><td>8.8</td><td>0.44</td><td>5.1</td><td>1.1</td><td>0.9</td></tr><tr><td>Jabari Walker</td><td>21</td><td>23.6</td><td>8.9</td><td>0.46</td><td>5.0</td><td>2.1</td><td>0.9</td></tr><tr><td>Duncan Robinson</td><td>29</td><td>28.0</td><td>12.9</td><td>0.45</td><td>2.3</td><td>0.2</td><td>1.4</td></tr><tr><td>Al Horford</td><td>37</td><td>26.8</td><td>8.6</td><td>0.511</td><td>5.1</td><td>1.3</td><td>0.7</td></tr><tr><td>Jalen Suggs</td><td>22</td><td>27.0</td><td>12.6</td><td>0.471</td><td>2.4</td><td>0.6</td><td>1.8</td></tr><tr><td>Cole Anthony</td><td>23</td><td>22.4</td><td>11.6</td><td>0.435</td><td>3.0</td><td>0.8</td><td>1.6</td></tr><tr><td>Malik Beasley</td><td>27</td><td>29.6</td><td>11.3</td><td>0.443</td><td>3.2</td><td>0.5</td><td>0.7</td></tr><tr><td>Brandon Clarke</td><td>27</td><td>22.3</td><td>11.3</td><td>0.559</td><td>3.2</td><td>2.2</td><td>0.5</td></tr><tr><td>Scotty Pippen Jr.</td><td>23</td><td>25.1</td><td>12.9</td><td>0.493</td><td>2.1</td><td>1.0</td><td>2.7</td></tr><tr><td>Jaime Jaquez Jr.</td><td>22</td><td>28.2</td><td>11.9</td><td>0.489</td><td>2.7</td><td>1.1</td><td>1.5</td></tr><tr><td>Bruce Brown</td><td>27</td><td>27.9</td><td>10.8</td><td>0.478</td><td>3.4</td><td>0.8</td><td>1.3</td></tr><tr><td>Alec Burks</td><td>32</td><td>21.0</td><td>12.6</td><td>0.394</td><td>2.2</td><td>0.4</td><td>0.7</td></tr><tr><td>Buddy Hield</td><td>31</td><td>25.7</td><td>12.0</td><td>0.443</td><td>2.6</td><td>0.7</td><td>1.2</td></tr><tr><td>Buddy Hield</td><td>31</td><td>25.7</td><td>12.1</td><td>0.436</td><td>2.5</td><td>0.7</td><td>1.2</td></tr><tr><td>Amen Thompson</td><td>21</td><td>22.4</td><td>9.5</td><td>0.536</td><td>4.2</td><td>2.4</td><td>1.5</td></tr><tr><td>Kelly Olynyk</td><td>32</td><td>22.6</td><td>9.8</td><td>0.555</td><td>3.9</td><td>1.4</td><td>1.9</td></tr><tr><td>Buddy Hield</td><td>31</td><td>25.8</td><td>12.2</td><td>0.426</td><td>2.3</td><td>0.8</td><td>1.3</td></tr><tr><td>Tyus Jones</td><td>27</td><td>29.3</td><td>12.0</td><td>0.489</td><td>2.4</td><td>0.3</td><td>1.0</td></tr><tr><td>De'Anthony Melton</td><td>25</td><td>26.9</td><td>11.1</td><td>0.386</td><td>3.0</td><td>0.7</td><td>1.0</td></tr><tr><td>Harrison Barnes</td><td>31</td><td>29.0</td><td>12.2</td><td>0.474</td><td>2.2</td><td>0.8</td><td>0.7</td></tr><tr><td>Brandin Podziemski</td><td>20</td><td>26.6</td><td>9.2</td><td>0.454</td><td>4.2</td><td>1.6</td><td>1.2</td></tr><tr><td>Jalen Smith</td><td>23</td><td>17.2</td><td>9.9</td><td>0.592</td><td>3.7</td><td>1.8</td><td>0.7</td></tr><tr><td>Isaiah Hartenstein</td><td>25</td><td>25.3</td><td>7.8</td><td>0.644</td><td>5.1</td><td>3.3</td><td>1.2</td></tr><tr><td>Walker Kessler</td><td>22</td><td>23.3</td><td>8.1</td><td>0.654</td><td>4.9</td><td>2.6</td><td>1.0</td></tr><tr><td>Dereck Lively II</td><td>19</td><td>23.5</td><td>8.8</td><td>0.747</td><td>4.4</td><td>2.5</td><td>0.9</td></tr><tr><td>Ayo Dosunmu</td><td>24</td><td>29.1</td><td>12.2</td><td>0.501</td><td>2.1</td><td>0.7</td><td>1.4</td></tr><tr><td>Ausar Thompson</td><td>21</td><td>25.1</td><td>8.8</td><td>0.483</td><td>4.3</td><td>2.0</td><td>1.3</td></tr><tr><td>Moritz Wagner</td><td>26</td><td>17.7</td><td>10.9</td><td>0.601</td><td>2.9</td><td>1.5</td><td>1.2</td></tr><tr><td>Mike Conley</td><td>36</td><td>28.9</td><td>11.4</td><td>0.457</td><td>2.4</td><td>0.5</td><td>1.3</td></tr><tr><td>Luguentz Dort</td><td>24</td><td>28.4</td><td>10.9</td><td>0.438</td><td>2.7</td><td>0.9</td><td>0.9</td></tr><tr><td>Ben Simmons</td><td>27</td><td>23.9</td><td>6.1</td><td>0.581</td><td>5.9</td><td>2.1</td><td>1.8</td></tr><tr><td>Grant Williams</td><td>25</td><td>28.0</td><td>10.3</td><td>0.456</td><td>3.1</td><td>1.1</td><td>1.4</td></tr><tr><td>Herbert Jones</td><td>25</td><td>30.5</td><td>11.0</td><td>0.498</td><td>2.6</td><td>1.0</td><td>1.2</td></tr><tr><td>Luke Kennard</td><td>27</td><td>25.6</td><td>11.0</td><td>0.448</td><td>2.6</td><td>0.3</td><td>1.4</td></tr><tr><td>Royce O'Neale</td><td>30</td><td>25.1</td><td>8.1</td><td>0.411</td><td>4.5</td><td>0.7</td><td>0.7</td></tr><tr><td>Caleb Martin</td><td>28</td><td>27.4</td><td>10.0</td><td>0.431</td><td>3.2</td><td>1.2</td><td>1.2</td></tr><tr><td>Simone Fontecchio</td><td>28</td><td>24.9</td><td>10.5</td><td>0.46</td><td>2.8</td><td>1.0</td><td>1.0</td></tr><tr><td>Obi Toppin</td><td>25</td><td>21.1</td><td>10.3</td><td>0.573</td><td>2.9</td><td>1.0</td><td>0.8</td></tr><tr><td>Alex Caruso</td><td>29</td><td>28.7</td><td>10.1</td><td>0.468</td><td>3.0</td><td>0.9</td><td>1.4</td></tr><tr><td>Chris Paul</td><td>38</td><td>26.4</td><td>9.2</td><td>0.441</td><td>3.6</td><td>0.3</td><td>1.3</td></tr><tr><td>Kevin Huerter</td><td>25</td><td>24.4</td><td>10.2</td><td>0.443</td><td>2.9</td><td>0.6</td><td>0.8</td></tr><tr><td>Tre Jones</td><td>24</td><td>27.8</td><td>10.0</td><td>0.505</td><td>3.0</td><td>0.8</td><td>1.5</td></tr><tr><td>Marvin Bagley III</td><td>24</td><td>18.4</td><td>10.2</td><td>0.591</td><td>2.8</td><td>1.8</td><td>1.1</td></tr><tr><td>Patrick Williams</td><td>22</td><td>27.3</td><td>10.0</td><td>0.443</td><td>2.8</td><td>1.1</td><td>1.3</td></tr><tr><td>Jake LaRavia</td><td>22</td><td>23.0</td><td>10.8</td><td>0.389</td><td>2.2</td><td>1.5</td><td>1.3</td></tr><tr><td>Bruce Brown</td><td>27</td><td>26.0</td><td>9.6</td><td>0.481</td><td>3.0</td><td>0.8</td><td>1.3</td></tr><tr><td>Dalano Banton</td><td>24</td><td>19.4</td><td>10.3</td><td>0.404</td><td>2.5</td><td>0.8</td><td>1.4</td></tr><tr><td>Georges Niang</td><td>30</td><td>22.3</td><td>9.4</td><td>0.449</td><td>3.1</td><td>0.3</td><td>0.9</td></tr><tr><td>Precious Achiuwa</td><td>24</td><td>24.2</td><td>7.6</td><td>0.525</td><td>4.3</td><td>2.9</td><td>1.1</td></tr><tr><td>Gordon Hayward</td><td>33</td><td>24.4</td><td>9.8</td><td>0.464</td><td>2.8</td><td>0.7</td><td>1.3</td></tr><tr><td>Tre Mann</td><td>22</td><td>24.1</td><td>9.3</td><td>0.459</td><td>3.1</td><td>0.5</td><td>1.6</td></tr><tr><td>Spencer Dinwiddie</td><td>30</td><td>28.3</td><td>10.5</td><td>0.392</td><td>2.3</td><td>0.4</td><td>1.2</td></tr><tr><td>Jaden McDaniels</td><td>23</td><td>29.2</td><td>10.5</td><td>0.489</td><td>2.3</td><td>0.8</td><td>1.2</td></tr><tr><td>Kelly Olynyk</td><td>32</td><td>20.4</td><td>8.1</td><td>0.562</td><td>3.8</td><td>1.3</td><td>1.6</td></tr><tr><td>Royce O'Neale</td><td>30</td><td>24.7</td><td>7.7</td><td>0.397</td><td>4.0</td><td>0.8</td><td>0.9</td></tr><tr><td>Precious Achiuwa</td><td>24</td><td>21.9</td><td>7.6</td><td>0.501</td><td>4.0</td><td>2.6</td><td>1.1</td></tr><tr><td>Robert Williams</td><td>26</td><td>19.8</td><td>6.8</td><td>0.654</td><td>4.5</td><td>1.8</td><td>1.2</td></tr><tr><td>T.J. McConnell</td><td>31</td><td>18.2</td><td>10.2</td><td>0.556</td><td>2.2</td><td>0.5</td><td>1.5</td></tr><tr><td>Josh Richardson</td><td>30</td><td>25.7</td><td>9.9</td><td>0.444</td><td>2.4</td><td>0.4</td><td>0.8</td></tr><tr><td>Eric Gordon</td><td>35</td><td>27.8</td><td>11.0</td><td>0.443</td><td>1.6</td><td>0.2</td><td>1.1</td></tr><tr><td>Vasilije MiciÄ</td><td>30</td><td>27.2</td><td>10.8</td><td>0.437</td><td>1.7</td><td>0.4</td><td>2.3</td></tr><tr><td>Sam Hauser</td><td>26</td><td>22.0</td><td>9.0</td><td>0.446</td><td>2.9</td><td>0.6</td><td>0.4</td></tr><tr><td>Christian Wood</td><td>28</td><td>17.4</td><td>6.9</td><td>0.466</td><td>4.3</td><td>0.8</td><td>1.0</td></tr><tr><td>Alec Burks</td><td>32</td><td>18.4</td><td>10.4</td><td>0.369</td><td>1.9</td><td>0.4</td><td>0.7</td></tr><tr><td>Bilal Coulibaly</td><td>19</td><td>27.2</td><td>8.4</td><td>0.435</td><td>3.2</td><td>0.9</td><td>1.4</td></tr><tr><td>Payton Pritchard</td><td>26</td><td>22.3</td><td>9.6</td><td>0.468</td><td>2.4</td><td>0.9</td><td>0.7</td></tr><tr><td>Dorian Finney-Smith</td><td>30</td><td>28.4</td><td>8.5</td><td>0.421</td><td>3.1</td><td>1.6</td><td>0.9</td></tr><tr><td>Nikola JoviÄ</td><td>20</td><td>19.5</td><td>7.7</td><td>0.452</td><td>3.6</td><td>0.5</td><td>0.9</td></tr><tr><td>Kentavious Caldwell-Pope</td><td>30</td><td>31.6</td><td>10.1</td><td>0.46</td><td>2.0</td><td>0.4</td><td>1.0</td></tr><tr><td>Talen Horton-Tucker</td><td>23</td><td>19.8</td><td>10.1</td><td>0.396</td><td>2.0</td><td>0.4</td><td>1.3</td></tr><tr><td>David Roddy</td><td>22</td><td>23.2</td><td>8.4</td><td>0.402</td><td>3.1</td><td>1.1</td><td>1.1</td></tr><tr><td>Tristan Vukcevic</td><td>20</td><td>15.3</td><td>8.5</td><td>0.433</td><td>3.0</td><td>0.6</td><td>1.0</td></tr><tr><td>Royce O'Neale</td><td>30</td><td>24.5</td><td>7.4</td><td>0.388</td><td>3.7</td><td>0.8</td><td>1.0</td></tr><tr><td>Taurean Prince</td><td>29</td><td>27.0</td><td>8.9</td><td>0.442</td><td>2.7</td><td>0.3</td><td>0.9</td></tr><tr><td>Bojan BogdanoviÄ</td><td>34</td><td>19.2</td><td>10.4</td><td>0.43</td><td>1.7</td><td>0.3</td><td>1.3</td></tr><tr><td>Richaun Holmes</td><td>30</td><td>18.7</td><td>7.1</td><td>0.557</td><td>3.9</td><td>2.2</td><td>0.7</td></tr><tr><td>Dario Å ariÄ</td><td>29</td><td>17.2</td><td>8.0</td><td>0.466</td><td>3.3</td><td>1.1</td><td>1.2</td></tr><tr><td>Precious Achiuwa</td><td>24</td><td>17.5</td><td>7.7</td><td>0.459</td><td>3.4</td><td>2.0</td><td>1.2</td></tr><tr><td>Darius Bazley</td><td>23</td><td>23.7</td><td>8.0</td><td>0.621</td><td>3.2</td><td>1.3</td><td>1.2</td></tr><tr><td>Aleksej Pokusevski</td><td>22</td><td>19.2</td><td>7.4</td><td>0.429</td><td>3.6</td><td>0.8</td><td>0.9</td></tr><tr><td>Paul Reed</td><td>24</td><td>19.4</td><td>7.3</td><td>0.54</td><td>3.6</td><td>2.4</td><td>0.8</td></tr><tr><td>Lonnie Walker IV</td><td>25</td><td>17.4</td><td>9.7</td><td>0.423</td><td>2.0</td><td>0.2</td><td>0.9</td></tr><tr><td>Simone Fontecchio</td><td>28</td><td>23.2</td><td>8.9</td><td>0.45</td><td>2.5</td><td>1.0</td><td>1.0</td></tr><tr><td>Taylor Hendricks</td><td>20</td><td>21.4</td><td>7.3</td><td>0.45</td><td>3.5</td><td>1.2</td><td>0.7</td></tr><tr><td>Duop Reath</td><td>27</td><td>17.9</td><td>9.1</td><td>0.461</td><td>2.3</td><td>1.4</td><td>0.8</td></tr><tr><td>James Wiseman</td><td>22</td><td>17.3</td><td>7.1</td><td>0.613</td><td>3.6</td><td>1.7</td><td>1.0</td></tr><tr><td>MÃ£ozinha Pereira</td><td>23</td><td>17.4</td><td>6.9</td><td>0.514</td><td>3.7</td><td>1.6</td><td>0.7</td></tr><tr><td>Reggie Jackson</td><td>33</td><td>22.2</td><td>10.2</td><td>0.431</td><td>1.5</td><td>0.4</td><td>1.3</td></tr><tr><td>Trayce Jackson-Davis</td><td>23</td><td>16.6</td><td>7.9</td><td>0.702</td><td>3.0</td><td>2.0</td><td>0.7</td></tr><tr><td>Isaac Okoro</td><td>23</td><td>27.3</td><td>9.4</td><td>0.49</td><td>2.0</td><td>1.0</td><td>0.8</td></tr><tr><td>Kyle Lowry</td><td>37</td><td>28.0</td><td>8.2</td><td>0.426</td><td>2.8</td><td>0.7</td><td>1.4</td></tr><tr><td>Ziaire Williams</td><td>22</td><td>20.4</td><td>8.2</td><td>0.397</td><td>2.8</td><td>0.7</td><td>1.3</td></tr><tr><td>Day'Ron Sharpe</td><td>22</td><td>15.1</td><td>6.8</td><td>0.571</td><td>3.7</td><td>2.6</td><td>1.1</td></tr><tr><td>Trey Lyles</td><td>28</td><td>20.0</td><td>7.2</td><td>0.445</td><td>3.4</td><td>1.1</td><td>0.7</td></tr><tr><td>Cody Martin</td><td>28</td><td>26.9</td><td>7.5</td><td>0.381</td><td>3.2</td><td>0.7</td><td>1.6</td></tr><tr><td>Kyle Lowry</td><td>37</td><td>28.2</td><td>8.1</td><td>0.432</td><td>2.7</td><td>0.6</td><td>1.4</td></tr><tr><td>Terance Mann</td><td>27</td><td>25.0</td><td>8.8</td><td>0.515</td><td>2.2</td><td>1.2</td><td>0.6</td></tr><tr><td>Jordan Nwora</td><td>25</td><td>15.6</td><td>7.9</td><td>0.465</td><td>2.8</td><td>0.6</td><td>1.2</td></tr><tr><td>Grant Williams</td><td>25</td><td>26.4</td><td>8.1</td><td>0.413</td><td>2.6</td><td>1.0</td><td>1.1</td></tr><tr><td>Bismack Biyombo</td><td>31</td><td>23.9</td><td>5.2</td><td>0.563</td><td>4.5</td><td>1.9</td><td>1.3</td></tr><tr><td>Josh Green</td><td>23</td><td>26.4</td><td>8.2</td><td>0.479</td><td>2.5</td><td>0.7</td><td>1.1</td></tr><tr><td>Trey Jemison</td><td>24</td><td>24.9</td><td>7.4</td><td>0.551</td><td>3.0</td><td>2.8</td><td>1.4</td></tr><tr><td>Derrick Jones Jr.</td><td>26</td><td>23.5</td><td>8.6</td><td>0.483</td><td>2.2</td><td>1.1</td><td>0.9</td></tr><tr><td>Toumani Camara</td><td>23</td><td>24.8</td><td>7.5</td><td>0.45</td><td>2.9</td><td>2.0</td><td>1.2</td></tr><tr><td>Danilo Gallinari</td><td>35</td><td>15.0</td><td>8.7</td><td>0.545</td><td>2.0</td><td>0.3</td><td>0.2</td></tr><tr><td>Jonathan Isaac</td><td>26</td><td>15.8</td><td>6.8</td><td>0.51</td><td>3.2</td><td>1.3</td><td>0.5</td></tr><tr><td>Malaki Branham</td><td>20</td><td>21.3</td><td>9.2</td><td>0.432</td><td>1.6</td><td>0.4</td><td>1.2</td></tr><tr><td>Kyle Lowry</td><td>37</td><td>28.4</td><td>8.0</td><td>0.444</td><td>2.4</td><td>0.4</td><td>1.4</td></tr><tr><td>Brice Sensabaugh</td><td>20</td><td>18.3</td><td>7.5</td><td>0.39</td><td>2.7</td><td>0.5</td><td>1.5</td></tr><tr><td>Christian Braun</td><td>22</td><td>20.2</td><td>7.3</td><td>0.46</td><td>2.8</td><td>1.0</td><td>0.7</td></tr><tr><td>Andrew Nembhard</td><td>24</td><td>25.0</td><td>9.2</td><td>0.498</td><td>1.5</td><td>0.5</td><td>1.5</td></tr><tr><td>Mitchell Robinson</td><td>25</td><td>24.8</td><td>5.6</td><td>0.575</td><td>3.9</td><td>4.6</td><td>0.8</td></tr><tr><td>Seth Curry</td><td>33</td><td>19.9</td><td>9.0</td><td>0.441</td><td>1.6</td><td>0.4</td><td>0.6</td></tr><tr><td>Naji Marshall</td><td>26</td><td>19.0</td><td>7.1</td><td>0.463</td><td>2.8</td><td>0.8</td><td>1.0</td></tr><tr><td>Dante Exum</td><td>28</td><td>19.8</td><td>7.8</td><td>0.533</td><td>2.3</td><td>0.5</td><td>0.9</td></tr><tr><td>Cameron Payne</td><td>29</td><td>19.4</td><td>9.3</td><td>0.413</td><td>1.3</td><td>0.5</td><td>1.1</td></tr><tr><td>DÄvis BertÄns</td><td>31</td><td>20.8</td><td>8.8</td><td>0.394</td><td>1.6</td><td>0.3</td><td>0.6</td></tr><tr><td>Gradey Dick</td><td>20</td><td>21.1</td><td>8.5</td><td>0.425</td><td>1.8</td><td>0.5</td><td>0.8</td></tr><tr><td>Tosan Evbuomwan</td><td>22</td><td>22.5</td><td>7.0</td><td>0.571</td><td>2.8</td><td>0.8</td><td>0.6</td></tr><tr><td>Moses Moody</td><td>21</td><td>17.5</td><td>8.1</td><td>0.462</td><td>2.0</td><td>1.0</td><td>0.7</td></tr><tr><td>Isaiah Joe</td><td>24</td><td>18.5</td><td>8.2</td><td>0.458</td><td>1.9</td><td>0.4</td><td>0.6</td></tr><tr><td>Trey Jemison</td><td>24</td><td>22.9</td><td>6.8</td><td>0.551</td><td>2.8</td><td>2.6</td><td>1.4</td></tr><tr><td>Chimezie Metu</td><td>26</td><td>16.8</td><td>6.5</td><td>0.504</td><td>3.0</td><td>0.8</td><td>1.0</td></tr><tr><td>Shake Milton</td><td>27</td><td>15.8</td><td>6.8</td><td>0.423</td><td>2.8</td><td>1.8</td><td>0.8</td></tr><tr><td>Mason Plumlee</td><td>33</td><td>14.7</td><td>5.3</td><td>0.569</td><td>3.8</td><td>1.3</td><td>0.8</td></tr><tr><td>Larry Nance Jr.</td><td>31</td><td>19.9</td><td>5.7</td><td>0.573</td><td>3.5</td><td>1.5</td><td>0.8</td></tr><tr><td>Jordan Goodwin</td><td>25</td><td>18.5</td><td>6.5</td><td>0.369</td><td>2.9</td><td>1.5</td><td>1.0</td></tr><tr><td>Bruno Fernando</td><td>25</td><td>15.2</td><td>6.3</td><td>0.583</td><td>3.0</td><td>1.3</td><td>1.0</td></tr><tr><td>Killian Hayes</td><td>22</td><td>24.0</td><td>6.9</td><td>0.413</td><td>2.6</td><td>0.3</td><td>1.2</td></tr><tr><td>DeJon Jarreau</td><td>26</td><td>16.7</td><td>4.8</td><td>0.34</td><td>4.0</td><td>0.9</td><td>1.0</td></tr><tr><td>Lamar Stevens</td><td>26</td><td>14.7</td><td>7.2</td><td>0.45</td><td>2.4</td><td>0.9</td><td>0.6</td></tr><tr><td>Chris Boucher</td><td>31</td><td>14.1</td><td>6.4</td><td>0.507</td><td>2.9</td><td>1.2</td><td>0.6</td></tr><tr><td>Javon Freeman-Liberty</td><td>24</td><td>18.3</td><td>7.0</td><td>0.444</td><td>2.5</td><td>0.7</td><td>1.1</td></tr><tr><td>Danilo Gallinari</td><td>35</td><td>14.8</td><td>7.0</td><td>0.435</td><td>2.5</td><td>0.5</td><td>0.5</td></tr><tr><td>Marcus Sasser</td><td>23</td><td>19.0</td><td>8.3</td><td>0.428</td><td>1.6</td><td>0.2</td><td>1.3</td></tr><tr><td>Markelle Fultz</td><td>25</td><td>21.2</td><td>7.8</td><td>0.472</td><td>1.9</td><td>1.3</td><td>1.2</td></tr><tr><td>Jahmi'us Ramsey</td><td>22</td><td>17.3</td><td>6.7</td><td>0.439</td><td>2.6</td><td>0.6</td><td>1.0</td></tr><tr><td>Jordan Hawkins</td><td>21</td><td>17.3</td><td>7.8</td><td>0.382</td><td>1.8</td><td>0.4</td><td>0.6</td></tr><tr><td>Xavier Tillman Sr.</td><td>25</td><td>20.6</td><td>6.0</td><td>0.408</td><td>3.0</td><td>1.6</td><td>0.9</td></tr><tr><td>Dean Wade</td><td>27</td><td>20.5</td><td>5.4</td><td>0.414</td><td>3.4</td><td>0.7</td><td>0.4</td></tr><tr><td>Kyle Anderson</td><td>30</td><td>22.6</td><td>6.4</td><td>0.46</td><td>2.7</td><td>0.8</td><td>1.2</td></tr><tr><td>Marcus Morris</td><td>34</td><td>17.2</td><td>6.7</td><td>0.439</td><td>2.5</td><td>0.5</td><td>0.5</td></tr><tr><td>Jordan Nwora</td><td>25</td><td>13.7</td><td>7.0</td><td>0.462</td><td>2.3</td><td>0.5</td><td>1.0</td></tr><tr><td>Peyton Watson</td><td>21</td><td>18.6</td><td>6.7</td><td>0.465</td><td>2.5</td><td>0.7</td><td>0.7</td></tr><tr><td>Nickeil Alexander-Walker</td><td>25</td><td>23.4</td><td>8.0</td><td>0.439</td><td>1.6</td><td>0.4</td><td>0.9</td></tr><tr><td>Sam Merrill</td><td>27</td><td>17.5</td><td>8.0</td><td>0.402</td><td>1.6</td><td>0.4</td><td>0.3</td></tr><tr><td>Derrick Rose</td><td>35</td><td>16.6</td><td>8.0</td><td>0.461</td><td>1.6</td><td>0.3</td><td>1.3</td></tr><tr><td>Daniel Theis</td><td>31</td><td>16.9</td><td>6.3</td><td>0.532</td><td>2.7</td><td>1.4</td><td>0.7</td></tr><tr><td>Daniel Theis</td><td>31</td><td>17.1</td><td>6.3</td><td>0.536</td><td>2.7</td><td>1.4</td><td>0.7</td></tr><tr><td>Patrick Beverley</td><td>35</td><td>20.9</td><td>6.0</td><td>0.391</td><td>2.9</td><td>0.7</td><td>0.6</td></tr><tr><td>Trendon Watford</td><td>23</td><td>13.6</td><td>6.9</td><td>0.527</td><td>2.3</td><td>0.8</td><td>1.0</td></tr><tr><td>Malachi Flynn</td><td>25</td><td>14.3</td><td>8.0</td><td>0.43</td><td>1.5</td><td>0.3</td><td>1.1</td></tr><tr><td>RaiQuan Gray</td><td>24</td><td>13.0</td><td>7.7</td><td>0.588</td><td>1.7</td><td>0.7</td><td>0.3</td></tr><tr><td>Jaylen Nowell</td><td>24</td><td>14.5</td><td>7.5</td><td>0.522</td><td>1.8</td><td>0.8</td><td>0.5</td></tr><tr><td>Dyson Daniels</td><td>20</td><td>22.3</td><td>5.8</td><td>0.447</td><td>2.9</td><td>1.0</td><td>1.0</td></tr><tr><td>Jarred Vanderbilt</td><td>24</td><td>20.0</td><td>5.2</td><td>0.518</td><td>3.3</td><td>1.4</td><td>1.0</td></tr><tr><td>Patrick Beverley</td><td>35</td><td>20.0</td><td>6.2</td><td>0.417</td><td>2.6</td><td>0.7</td><td>0.9</td></tr><tr><td>Jae Crowder</td><td>33</td><td>23.1</td><td>6.2</td><td>0.422</td><td>2.6</td><td>0.6</td><td>0.5</td></tr><tr><td>Julian Champagnie</td><td>22</td><td>19.8</td><td>6.8</td><td>0.408</td><td>2.2</td><td>0.6</td><td>0.8</td></tr><tr><td>Isaiah Jackson</td><td>22</td><td>13.1</td><td>6.5</td><td>0.665</td><td>2.4</td><td>1.6</td><td>0.7</td></tr><tr><td>Cedi Osman</td><td>28</td><td>17.6</td><td>6.8</td><td>0.479</td><td>2.2</td><td>0.3</td><td>0.7</td></tr><tr><td>David Roddy</td><td>22</td><td>18.1</td><td>6.5</td><td>0.403</td><td>2.4</td><td>0.8</td><td>0.9</td></tr><tr><td>Kevon Looney</td><td>27</td><td>16.1</td><td>4.5</td><td>0.597</td><td>3.7</td><td>1.9</td><td>0.7</td></tr><tr><td>Nicolas Batum</td><td>35</td><td>25.9</td><td>5.5</td><td>0.456</td><td>3.0</td><td>1.2</td><td>0.7</td></tr><tr><td>Bismack Biyombo</td><td>31</td><td>19.8</td><td>4.4</td><td>0.565</td><td>3.7</td><td>1.6</td><td>1.1</td></tr><tr><td>Kevin Knox</td><td>24</td><td>18.1</td><td>7.2</td><td>0.462</td><td>1.8</td><td>0.6</td><td>0.7</td></tr><tr><td>Patrick Beverley</td><td>35</td><td>19.6</td><td>6.3</td><td>0.432</td><td>2.4</td><td>0.6</td><td>1.0</td></tr><tr><td>Torrey Craig</td><td>33</td><td>19.8</td><td>5.7</td><td>0.43</td><td>2.8</td><td>1.3</td><td>0.6</td></tr><tr><td>Marcus Morris</td><td>34</td><td>16.7</td><td>6.4</td><td>0.439</td><td>2.3</td><td>0.5</td><td>0.6</td></tr><tr><td>Jose Alvarado</td><td>25</td><td>18.4</td><td>7.1</td><td>0.412</td><td>1.8</td><td>0.4</td><td>0.7</td></tr><tr><td>Nicolas Batum</td><td>35</td><td>25.5</td><td>5.3</td><td>0.453</td><td>3.0</td><td>1.2</td><td>0.7</td></tr><tr><td>Miles McBride</td><td>23</td><td>19.5</td><td>8.3</td><td>0.452</td><td>1.0</td><td>0.5</td><td>0.4</td></tr><tr><td>Thomas Bryant</td><td>26</td><td>11.6</td><td>5.7</td><td>0.577</td><td>2.7</td><td>1.1</td><td>0.6</td></tr><tr><td>Evan Fournier</td><td>31</td><td>18.7</td><td>7.2</td><td>0.373</td><td>1.7</td><td>0.2</td><td>0.7</td></tr><tr><td>Quentin Grimes</td><td>23</td><td>20.2</td><td>7.3</td><td>0.395</td><td>1.6</td><td>0.3</td><td>0.5</td></tr><tr><td>Tosan Evbuomwan</td><td>22</td><td>21.6</td><td>5.9</td><td>0.507</td><td>2.5</td><td>1.1</td><td>0.5</td></tr><tr><td>Dennis Smith Jr.</td><td>26</td><td>18.9</td><td>6.6</td><td>0.435</td><td>2.0</td><td>0.9</td><td>1.2</td></tr><tr><td>Ochai Agbaji</td><td>23</td><td>23.6</td><td>6.7</td><td>0.391</td><td>1.9</td><td>1.4</td><td>1.1</td></tr><tr><td>Quentin Grimes</td><td>23</td><td>20.1</td><td>7.0</td><td>0.372</td><td>1.7</td><td>0.3</td><td>0.5</td></tr><tr><td>Jaden Hardy</td><td>21</td><td>13.5</td><td>7.3</td><td>0.407</td><td>1.5</td><td>0.3</td><td>0.8</td></tr><tr><td>David Duke Jr.</td><td>24</td><td>12.8</td><td>6.5</td><td>0.556</td><td>2.0</td><td>0.5</td><td>0.8</td></tr><tr><td>Drew Eubanks</td><td>26</td><td>15.6</td><td>5.1</td><td>0.601</td><td>2.9</td><td>1.4</td><td>0.8</td></tr><tr><td>Evan Fournier</td><td>31</td><td>18.1</td><td>6.9</td><td>0.357</td><td>1.7</td><td>0.2</td><td>0.7</td></tr><tr><td>Johnny Juzang</td><td>22</td><td>18.6</td><td>7.2</td><td>0.464</td><td>1.5</td><td>0.4</td><td>0.7</td></tr><tr><td>Zavier Simpson</td><td>26</td><td>23.0</td><td>6.0</td><td>0.315</td><td>2.3</td><td>0.6</td><td>1.4</td></tr><tr><td>Haywood Highsmith</td><td>27</td><td>20.7</td><td>6.1</td><td>0.465</td><td>2.2</td><td>1.0</td><td>0.5</td></tr><tr><td>Kris Murray</td><td>23</td><td>21.7</td><td>6.1</td><td>0.396</td><td>2.2</td><td>1.4</td><td>0.9</td></tr><tr><td>Noah Clowney</td><td>19</td><td>16.1</td><td>5.8</td><td>0.538</td><td>2.4</td><td>1.1</td><td>0.7</td></tr><tr><td>John Konchar</td><td>27</td><td>21.3</td><td>4.3</td><td>0.423</td><td>3.4</td><td>1.3</td><td>0.8</td></tr><tr><td>Goga Bitadze</td><td>24</td><td>15.4</td><td>5.0</td><td>0.603</td><td>2.9</td><td>1.8</td><td>0.7</td></tr><tr><td>Justin Champagnie</td><td>22</td><td>15.7</td><td>5.9</td><td>0.41</td><td>2.3</td><td>1.3</td><td>0.7</td></tr><tr><td>Pat Connaughton</td><td>31</td><td>22.1</td><td>5.6</td><td>0.435</td><td>2.5</td><td>0.7</td><td>0.6</td></tr><tr><td>Aaron Wiggins</td><td>25</td><td>15.7</td><td>6.9</td><td>0.562</td><td>1.6</td><td>0.8</td><td>0.7</td></tr><tr><td>Neemias Queta</td><td>24</td><td>11.9</td><td>5.5</td><td>0.644</td><td>2.5</td><td>1.9</td><td>0.5</td></tr><tr><td>Richaun Holmes</td><td>30</td><td>13.9</td><td>5.0</td><td>0.558</td><td>2.8</td><td>1.8</td><td>0.6</td></tr><tr><td>Cameron Payne</td><td>29</td><td>16.7</td><td>7.4</td><td>0.432</td><td>1.2</td><td>0.3</td><td>0.8</td></tr><tr><td>Xavier Tillman Sr.</td><td>25</td><td>18.0</td><td>5.3</td><td>0.434</td><td>2.6</td><td>1.3</td><td>0.6</td></tr><tr><td>Cason Wallace</td><td>20</td><td>20.6</td><td>6.8</td><td>0.491</td><td>1.6</td><td>0.6</td><td>0.5</td></tr><tr><td>Amir Coffey</td><td>26</td><td>20.9</td><td>6.6</td><td>0.472</td><td>1.7</td><td>0.4</td><td>0.5</td></tr><tr><td>Aleksej Pokusevski</td><td>22</td><td>14.5</td><td>5.2</td><td>0.405</td><td>2.6</td><td>0.6</td><td>0.7</td></tr><tr><td>Spencer Dinwiddie</td><td>30</td><td>24.2</td><td>6.8</td><td>0.397</td><td>1.5</td><td>0.1</td><td>1.0</td></tr><tr><td>Jeff Green</td><td>37</td><td>16.8</td><td>6.5</td><td>0.456</td><td>1.7</td><td>0.6</td><td>0.6</td></tr><tr><td>Bones Hyland</td><td>23</td><td>14.6</td><td>6.9</td><td>0.386</td><td>1.4</td><td>0.1</td><td>1.2</td></tr><tr><td>Vit Krejci</td><td>23</td><td>24.6</td><td>6.1</td><td>0.49</td><td>1.9</td><td>0.5</td><td>0.9</td></tr><tr><td>Bol Bol</td><td>24</td><td>10.9</td><td>5.2</td><td>0.616</td><td>2.4</td><td>0.7</td><td>0.4</td></tr><tr><td>Wenyen Gabriel</td><td>26</td><td>16.2</td><td>3.4</td><td>0.364</td><td>3.6</td><td>1.4</td><td>1.6</td></tr><tr><td>Vasilije MiciÄ</td><td>30</td><td>19.6</td><td>7.0</td><td>0.43</td><td>1.2</td><td>0.2</td><td>1.7</td></tr><tr><td>Omer Yurtseven</td><td>25</td><td>11.4</td><td>4.6</td><td>0.538</td><td>2.8</td><td>1.5</td><td>0.8</td></tr><tr><td>Luke Kornet</td><td>28</td><td>15.6</td><td>5.3</td><td>0.7</td><td>2.3</td><td>1.9</td><td>0.3</td></tr><tr><td>Gary Harris</td><td>29</td><td>24.0</td><td>6.9</td><td>0.441</td><td>1.2</td><td>0.4</td><td>0.6</td></tr><tr><td>Patrick Baldwin Jr.</td><td>21</td><td>13.0</td><td>4.4</td><td>0.381</td><td>2.8</td><td>0.4</td><td>0.5</td></tr><tr><td>Mo Bamba</td><td>25</td><td>13.0</td><td>4.4</td><td>0.49</td><td>2.8</td><td>1.4</td><td>0.7</td></tr><tr><td>Darius Bazley</td><td>23</td><td>16.9</td><td>5.3</td><td>0.6</td><td>2.2</td><td>0.9</td><td>0.9</td></tr><tr><td>Alec Burks</td><td>32</td><td>13.5</td><td>6.5</td><td>0.307</td><td>1.4</td><td>0.3</td><td>0.7</td></tr><tr><td>Landry Shamet</td><td>26</td><td>15.8</td><td>7.1</td><td>0.431</td><td>1.0</td><td>0.3</td><td>0.7</td></tr><tr><td>Kris Dunn</td><td>29</td><td>18.9</td><td>5.4</td><td>0.47</td><td>2.1</td><td>0.8</td><td>1.2</td></tr><tr><td>Aaron Holiday</td><td>27</td><td>16.3</td><td>6.6</td><td>0.446</td><td>1.3</td><td>0.3</td><td>0.7</td></tr><tr><td>Ochai Agbaji</td><td>23</td><td>21.0</td><td>5.8</td><td>0.411</td><td>1.8</td><td>0.9</td><td>0.8</td></tr><tr><td>DÄvis BertÄns</td><td>31</td><td>15.7</td><td>6.7</td><td>0.393</td><td>1.2</td><td>0.2</td><td>0.4</td></tr><tr><td>Dexter Dennis</td><td>24</td><td>7.5</td><td>5.5</td><td>0.526</td><td>2.0</td><td>0.3</td><td>0.8</td></tr><tr><td>Chimezie Metu</td><td>26</td><td>12.1</td><td>5.0</td><td>0.508</td><td>2.3</td><td>0.6</td><td>0.7</td></tr><tr><td>P.J. Tucker</td><td>38</td><td>22.0</td><td>2.0</td><td>0.4</td><td>4.3</td><td>0.3</td><td>0.7</td></tr><tr><td>Danilo Gallinari</td><td>35</td><td>12.9</td><td>5.7</td><td>0.437</td><td>1.8</td><td>0.4</td><td>0.5</td></tr><tr><td>Troy Brown Jr.</td><td>24</td><td>19.0</td><td>4.2</td><td>0.296</td><td>2.8</td><td>0.5</td><td>0.5</td></tr><tr><td>Marcus Morris</td><td>34</td><td>15.0</td><td>5.8</td><td>0.441</td><td>1.7</td><td>0.4</td><td>0.9</td></tr><tr><td>Jaylin Williams</td><td>21</td><td>13.0</td><td>4.0</td><td>0.417</td><td>2.9</td><td>0.5</td><td>0.5</td></tr><tr><td>Gordon Hayward</td><td>33</td><td>17.2</td><td>5.3</td><td>0.453</td><td>2.0</td><td>0.5</td><td>0.6</td></tr><tr><td>Maxi Kleber</td><td>32</td><td>20.3</td><td>4.4</td><td>0.432</td><td>2.6</td><td>0.7</td><td>0.7</td></tr><tr><td>Jaylen Nowell</td><td>24</td><td>16.5</td><td>6.2</td><td>0.436</td><td>1.4</td><td>0.5</td><td>0.5</td></tr><tr><td>DeAndre Jordan</td><td>35</td><td>11.0</td><td>3.9</td><td>0.624</td><td>2.9</td><td>1.5</td><td>0.6</td></tr><tr><td>Skylar Mays</td><td>26</td><td>17.0</td><td>6.3</td><td>0.384</td><td>1.3</td><td>0.4</td><td>0.9</td></tr><tr><td>Craig Porter Jr.</td><td>23</td><td>12.7</td><td>5.6</td><td>0.509</td><td>1.7</td><td>0.4</td><td>0.9</td></tr><tr><td>Ochai Agbaji</td><td>23</td><td>19.7</td><td>5.4</td><td>0.426</td><td>1.8</td><td>0.7</td><td>0.7</td></tr><tr><td>Jared Butler</td><td>23</td><td>14.2</td><td>6.3</td><td>0.488</td><td>1.2</td><td>0.2</td><td>1.3</td></tr><tr><td>Quentin Grimes</td><td>23</td><td>19.2</td><td>5.3</td><td>0.214</td><td>1.8</td><td>0.2</td><td>1.2</td></tr><tr><td>Cameron Payne</td><td>29</td><td>14.9</td><td>6.2</td><td>0.455</td><td>1.2</td><td>0.1</td><td>0.7</td></tr><tr><td>Stanley Umude</td><td>24</td><td>12.8</td><td>5.3</td><td>0.44</td><td>1.8</td><td>0.3</td><td>0.6</td></tr><tr><td>Jalen Wilson</td><td>23</td><td>15.4</td><td>5.0</td><td>0.425</td><td>2.0</td><td>1.1</td><td>0.4</td></tr><tr><td>Thaddeus Young</td><td>35</td><td>15.2</td><td>5.0</td><td>0.621</td><td>2.0</td><td>1.3</td><td>0.5</td></tr><tr><td>Robert Covington</td><td>33</td><td>16.1</td><td>4.5</td><td>0.449</td><td>2.3</td><td>1.1</td><td>0.4</td></tr><tr><td>Kenrich Williams</td><td>29</td><td>14.9</td><td>4.7</td><td>0.468</td><td>2.1</td><td>0.9</td><td>0.5</td></tr><tr><td>Robert Covington</td><td>33</td><td>16.8</td><td>4.4</td><td>0.439</td><td>2.3</td><td>1.1</td><td>0.4</td></tr><tr><td>Jordan Goodwin</td><td>25</td><td>14.0</td><td>5.0</td><td>0.389</td><td>1.9</td><td>1.0</td><td>0.7</td></tr><tr><td>Keon Ellis</td><td>24</td><td>17.2</td><td>5.4</td><td>0.461</td><td>1.6</td><td>0.6</td><td>0.6</td></tr><tr><td>Matisse Thybulle</td><td>26</td><td>22.9</td><td>5.4</td><td>0.397</td><td>1.6</td><td>0.5</td><td>0.6</td></tr><tr><td>Sasha Vezenkov</td><td>28</td><td>12.2</td><td>5.4</td><td>0.44</td><td>1.6</td><td>0.7</td><td>0.3</td></tr><tr><td>Jamaree Bouyea</td><td>24</td><td>12.7</td><td>3.7</td><td>0.714</td><td>2.7</td><td>0.3</td><td>0.3</td></tr><tr><td>Gary Payton II</td><td>31</td><td>15.5</td><td>5.5</td><td>0.563</td><td>1.5</td><td>1.0</td><td>0.6</td></tr><tr><td>Jontay Porter</td><td>24</td><td>13.8</td><td>4.4</td><td>0.385</td><td>2.2</td><td>1.0</td><td>0.8</td></tr><tr><td>Marques Bolden</td><td>25</td><td>13.1</td><td>4.1</td><td>0.68</td><td>2.4</td><td>1.1</td><td>0.3</td></tr><tr><td>Cam Reddish</td><td>24</td><td>20.5</td><td>5.4</td><td>0.389</td><td>1.5</td><td>0.6</td><td>0.6</td></tr><tr><td>Delon Wright</td><td>31</td><td>20.4</td><td>5.4</td><td>0.394</td><td>1.5</td><td>0.4</td><td>0.2</td></tr><tr><td>Malachi Flynn</td><td>25</td><td>15.3</td><td>5.1</td><td>0.409</td><td>1.7</td><td>0.4</td><td>1.1</td></tr><tr><td>Malik Williams</td><td>25</td><td>15.3</td><td>2.7</td><td>0.265</td><td>3.3</td><td>2.1</td><td>0.4</td></tr><tr><td>Jared Rhoden</td><td>24</td><td>14.4</td><td>4.9</td><td>0.5</td><td>1.8</td><td>0.2</td><td>0.4</td></tr><tr><td>Dominick Barlow</td><td>20</td><td>12.7</td><td>4.4</td><td>0.496</td><td>2.1</td><td>1.4</td><td>0.3</td></tr><tr><td>Nick Smith Jr.</td><td>19</td><td>14.3</td><td>5.9</td><td>0.391</td><td>1.1</td><td>0.4</td><td>0.8</td></tr><tr><td>Jaylen Nowell</td><td>24</td><td>17.3</td><td>5.7</td><td>0.4</td><td>1.2</td><td>0.3</td><td>0.6</td></tr><tr><td>Charles Bassey</td><td>23</td><td>10.8</td><td>3.3</td><td>0.725</td><td>2.8</td><td>1.2</td><td>0.8</td></tr><tr><td>Malachi Flynn</td><td>25</td><td>12.7</td><td>5.5</td><td>0.418</td><td>1.3</td><td>0.3</td><td>0.9</td></tr><tr><td>Keon Johnson</td><td>21</td><td>12.2</td><td>6.2</td><td>0.381</td><td>0.8</td><td>0.6</td><td>1.0</td></tr><tr><td>Sandro Mamukelashvili</td><td>24</td><td>9.8</td><td>4.1</td><td>0.471</td><td>2.2</td><td>1.0</td><td>0.4</td></tr><tr><td>Doug McDermott</td><td>32</td><td>15.2</td><td>6.0</td><td>0.442</td><td>0.9</td><td>0.2</td><td>0.5</td></tr><tr><td>Monte Morris</td><td>28</td><td>15.1</td><td>5.1</td><td>0.417</td><td>1.5</td><td>0.2</td><td>0.2</td></tr><tr><td>Mike Muscala</td><td>32</td><td>14.1</td><td>4.0</td><td>0.367</td><td>2.2</td><td>0.9</td><td>0.7</td></tr><tr><td>Jaxson Hayes</td><td>23</td><td>12.5</td><td>4.3</td><td>0.72</td><td>2.0</td><td>1.0</td><td>0.6</td></tr><tr><td>Jordan Nwora</td><td>25</td><td>10.2</td><td>5.2</td><td>0.451</td><td>1.4</td><td>0.4</td><td>0.7</td></tr><tr><td>Monte Morris</td><td>28</td><td>14.4</td><td>5.0</td><td>0.405</td><td>1.5</td><td>0.2</td><td>0.2</td></tr><tr><td>Kobi Simmons</td><td>26</td><td>16.8</td><td>5.0</td><td>0.429</td><td>1.5</td><td>0.3</td><td>0.3</td></tr><tr><td>Jae'Sean Tate</td><td>28</td><td>15.9</td><td>4.1</td><td>0.472</td><td>2.1</td><td>0.9</td><td>0.6</td></tr><tr><td>Keita Bates-Diop</td><td>28</td><td>15.3</td><td>4.5</td><td>0.427</td><td>1.8</td><td>0.8</td><td>0.3</td></tr><tr><td>Troy Brown Jr.</td><td>24</td><td>14.0</td><td>4.2</td><td>0.372</td><td>2.0</td><td>0.4</td><td>0.5</td></tr><tr><td>Kobe Bufkin</td><td>20</td><td>11.5</td><td>4.8</td><td>0.37</td><td>1.6</td><td>0.4</td><td>0.6</td></tr><tr><td>Taj Gibson</td><td>38</td><td>9.8</td><td>4.5</td><td>0.571</td><td>1.8</td><td>0.5</td><td>0.0</td></tr><tr><td>Matt Ryan</td><td>26</td><td>13.9</td><td>5.4</td><td>0.434</td><td>1.2</td><td>0.2</td><td>0.7</td></tr><tr><td>Bryce McGowens</td><td>21</td><td>14.9</td><td>5.1</td><td>0.439</td><td>1.4</td><td>0.3</td><td>0.5</td></tr><tr><td>Jock Landale</td><td>28</td><td>13.6</td><td>4.9</td><td>0.515</td><td>1.5</td><td>1.6</td><td>0.6</td></tr><tr><td>Joe Ingles</td><td>36</td><td>17.2</td><td>4.4</td><td>0.436</td><td>1.8</td><td>0.3</td><td>1.0</td></tr><tr><td>Isaiah Livers</td><td>25</td><td>20.4</td><td>5.0</td><td>0.345</td><td>1.4</td><td>0.7</td><td>0.7</td></tr><tr><td>Max Christie</td><td>20</td><td>14.1</td><td>4.2</td><td>0.427</td><td>1.9</td><td>0.2</td><td>0.5</td></tr><tr><td>Monte Morris</td><td>28</td><td>11.3</td><td>4.5</td><td>0.364</td><td>1.7</td><td>0.3</td><td>0.3</td></tr><tr><td>Mouhamed Gueye</td><td>21</td><td>12.2</td><td>4.0</td><td>0.348</td><td>2.0</td><td>1.7</td><td>0.2</td></tr><tr><td>Patty Mills</td><td>35</td><td>16.4</td><td>5.8</td><td>0.338</td><td>0.8</td><td>0.3</td><td>0.6</td></tr><tr><td>Xavier Tillman Sr.</td><td>25</td><td>13.7</td><td>4.0</td><td>0.515</td><td>2.0</td><td>0.7</td><td>0.3</td></tr><tr><td>Devonte' Graham</td><td>28</td><td>13.6</td><td>5.0</td><td>0.352</td><td>1.3</td><td>0.2</td><td>0.7</td></tr><tr><td>Davion Mitchell</td><td>25</td><td>15.3</td><td>5.3</td><td>0.452</td><td>1.1</td><td>0.3</td><td>0.6</td></tr><tr><td>Dylan Windler</td><td>27</td><td>12.2</td><td>4.7</td><td>0.526</td><td>1.5</td><td>0.5</td><td>0.3</td></tr><tr><td>Luka Å amaniÄ</td><td>24</td><td>9.4</td><td>4.1</td><td>0.38</td><td>1.9</td><td>0.5</td><td>0.7</td></tr><tr><td>Ricky Council IV</td><td>22</td><td>9.0</td><td>5.4</td><td>0.482</td><td>1.0</td><td>0.4</td><td>0.2</td></tr><tr><td>Anthony Black</td><td>20</td><td>16.9</td><td>4.6</td><td>0.466</td><td>1.5</td><td>0.5</td><td>0.8</td></tr><tr><td>Adama Sanogo</td><td>21</td><td>7.3</td><td>4.0</td><td>0.519</td><td>1.9</td><td>2.1</td><td>0.6</td></tr><tr><td>MarJon Beauchamp</td><td>23</td><td>12.7</td><td>4.4</td><td>0.488</td><td>1.6</td><td>0.5</td><td>0.6</td></tr><tr><td>Seth Curry</td><td>33</td><td>14.0</td><td>5.1</td><td>0.392</td><td>1.1</td><td>0.4</td><td>0.5</td></tr><tr><td>Thaddeus Young</td><td>35</td><td>13.3</td><td>4.2</td><td>0.602</td><td>1.7</td><td>1.4</td><td>0.5</td></tr><tr><td>Marques Bolden</td><td>25</td><td>11.0</td><td>3.4</td><td>0.68</td><td>2.2</td><td>0.9</td><td>0.3</td></tr><tr><td>Brandon Boston Jr.</td><td>22</td><td>10.8</td><td>5.2</td><td>0.404</td><td>1.0</td><td>0.6</td><td>0.8</td></tr><tr><td>Moses Brown</td><td>24</td><td>9.1</td><td>3.4</td><td>0.508</td><td>2.2</td><td>1.7</td><td>0.5</td></tr><tr><td>Doug McDermott</td><td>32</td><td>14.1</td><td>5.5</td><td>0.433</td><td>0.8</td><td>0.2</td><td>0.4</td></tr><tr><td>JaVale McGee</td><td>36</td><td>7.4</td><td>4.0</td><td>0.598</td><td>1.8</td><td>0.9</td><td>0.7</td></tr><tr><td>Troy Brown Jr.</td><td>24</td><td>11.1</td><td>4.2</td><td>0.441</td><td>1.6</td><td>0.4</td><td>0.5</td></tr><tr><td>Ashton Hagans</td><td>24</td><td>16.6</td><td>4.2</td><td>0.408</td><td>1.6</td><td>0.7</td><td>1.6</td></tr><tr><td>Eugene Omoruyi</td><td>26</td><td>9.1</td><td>4.8</td><td>0.485</td><td>1.2</td><td>0.8</td><td>0.5</td></tr><tr><td>Delon Wright</td><td>31</td><td>15.8</td><td>4.5</td><td>0.394</td><td>1.4</td><td>0.4</td><td>0.3</td></tr><tr><td>Garrison Mathews</td><td>27</td><td>15.0</td><td>4.9</td><td>0.456</td><td>1.1</td><td>0.3</td><td>0.3</td></tr><tr><td>Josh Okogie</td><td>25</td><td>16.0</td><td>4.6</td><td>0.417</td><td>1.3</td><td>1.2</td><td>0.6</td></tr><tr><td>Rayan Rupert</td><td>19</td><td>16.2</td><td>4.0</td><td>0.335</td><td>1.7</td><td>0.6</td><td>0.8</td></tr><tr><td>Timmy Allen</td><td>24</td><td>25.0</td><td>2.6</td><td>0.261</td><td>2.6</td><td>0.8</td><td>0.4</td></tr><tr><td>KJ Martin</td><td>23</td><td>15.5</td><td>5.0</td><td>0.4</td><td>1.0</td><td>0.5</td><td>1.0</td></tr><tr><td>Shake Milton</td><td>27</td><td>12.9</td><td>4.7</td><td>0.4</td><td>1.2</td><td>0.2</td><td>0.7</td></tr><tr><td>Lester Quinones</td><td>23</td><td>10.6</td><td>4.4</td><td>0.397</td><td>1.4</td><td>0.6</td><td>0.5</td></tr><tr><td>ThÃ©o Maledon</td><td>22</td><td>15.4</td><td>4.2</td><td>0.288</td><td>1.5</td><td>0.3</td><td>1.2</td></tr><tr><td>Shake Milton</td><td>27</td><td>12.1</td><td>4.5</td><td>0.405</td><td>1.3</td><td>0.3</td><td>0.6</td></tr><tr><td>Micah Potter</td><td>25</td><td>11.6</td><td>3.3</td><td>0.475</td><td>2.1</td><td>0.6</td><td>0.3</td></tr><tr><td>Tristan Thompson</td><td>32</td><td>11.2</td><td>3.3</td><td>0.608</td><td>2.1</td><td>1.5</td><td>0.6</td></tr><tr><td>Oshae Brissett</td><td>25</td><td>11.5</td><td>3.7</td><td>0.444</td><td>1.8</td><td>1.1</td><td>0.4</td></tr><tr><td>Richaun Holmes</td><td>30</td><td>10.3</td><td>3.4</td><td>0.559</td><td>2.0</td><td>1.4</td><td>0.5</td></tr><tr><td>Jeff Dowtin</td><td>26</td><td>11.8</td><td>4.3</td><td>0.556</td><td>1.4</td><td>0.3</td><td>0.4</td></tr><tr><td>Kenneth Lofton Jr.</td><td>21</td><td>9.5</td><td>4.6</td><td>0.462</td><td>1.2</td><td>0.6</td><td>0.7</td></tr><tr><td>Ben Sheppard</td><td>22</td><td>14.3</td><td>4.4</td><td>0.393</td><td>1.3</td><td>0.3</td><td>0.3</td></tr><tr><td>Alex Fudge</td><td>20</td><td>13.0</td><td>5.5</td><td>0.556</td><td>0.5</td><td>1.0</td><td>0.5</td></tr><tr><td>Blake Wesley</td><td>20</td><td>14.4</td><td>4.4</td><td>0.474</td><td>1.2</td><td>0.3</td><td>0.9</td></tr><tr><td>Delon Wright</td><td>31</td><td>13.8</td><td>4.1</td><td>0.393</td><td>1.4</td><td>0.4</td><td>0.3</td></tr><tr><td>Nicolas Batum</td><td>35</td><td>18.0</td><td>2.7</td><td>0.375</td><td>2.3</td><td>0.0</td><td>0.3</td></tr><tr><td>Julian Strawther</td><td>21</td><td>10.9</td><td>4.5</td><td>0.369</td><td>1.1</td><td>0.1</td><td>0.5</td></tr><tr><td>Dwight Powell</td><td>32</td><td>13.3</td><td>3.3</td><td>0.679</td><td>1.9</td><td>1.5</td><td>0.5</td></tr><tr><td>Jacob Gilyard</td><td>25</td><td>17.7</td><td>4.7</td><td>0.417</td><td>0.9</td><td>0.2</td><td>0.8</td></tr><tr><td>Jevon Carter</td><td>28</td><td>13.9</td><td>5.0</td><td>0.378</td><td>0.7</td><td>0.2</td><td>0.5</td></tr><tr><td>Tre Mann</td><td>22</td><td>9.2</td><td>3.8</td><td>0.5</td><td>1.5</td><td>0.3</td><td>0.7</td></tr><tr><td>Robert Covington</td><td>33</td><td>23.0</td><td>3.0</td><td>0.333</td><td>2.0</td><td>0.7</td><td>0.0</td></tr><tr><td>Chris Duarte</td><td>26</td><td>12.2</td><td>3.9</td><td>0.381</td><td>1.4</td><td>0.4</td><td>0.4</td></tr><tr><td>A.J. Green</td><td>24</td><td>11.0</td><td>4.5</td><td>0.423</td><td>1.0</td><td>0.2</td><td>0.2</td></tr><tr><td>Danuel House Jr.</td><td>30</td><td>15.0</td><td>4.2</td><td>0.448</td><td>1.2</td><td>0.5</td><td>0.6</td></tr><tr><td>Taze Moore</td><td>25</td><td>10.0</td><td>4.5</td><td>0.421</td><td>1.0</td><td>1.0</td><td>0.8</td></tr><tr><td>Keita Bates-Diop</td><td>28</td><td>12.5</td><td>3.7</td><td>0.434</td><td>1.5</td><td>0.6</td><td>0.3</td></tr><tr><td>Evan Fournier</td><td>31</td><td>13.0</td><td>4.0</td><td>0.2</td><td>1.3</td><td>0.0</td><td>0.3</td></tr><tr><td>KJ Martin</td><td>23</td><td>12.4</td><td>3.7</td><td>0.536</td><td>1.5</td><td>0.7</td><td>0.5</td></tr><tr><td>KJ Martin</td><td>23</td><td>12.3</td><td>3.7</td><td>0.544</td><td>1.5</td><td>0.7</td><td>0.5</td></tr><tr><td>T.J. Warren</td><td>30</td><td>11.4</td><td>3.7</td><td>0.439</td><td>1.5</td><td>0.5</td><td>0.4</td></tr><tr><td>Boban MarjanoviÄ</td><td>35</td><td>5.1</td><td>3.2</td><td>0.529</td><td>1.8</td><td>0.5</td><td>0.4</td></tr><tr><td>Armoni Brooks</td><td>25</td><td>10.4</td><td>4.2</td><td>0.326</td><td>1.1</td><td>0.7</td><td>0.3</td></tr><tr><td>Jarace Walker</td><td>20</td><td>10.3</td><td>3.6</td><td>0.409</td><td>1.5</td><td>0.4</td><td>0.5</td></tr><tr><td>Seth Curry</td><td>33</td><td>12.7</td><td>4.3</td><td>0.372</td><td>1.0</td><td>0.4</td><td>0.4</td></tr><tr><td>Ousmane Dieng</td><td>20</td><td>11.1</td><td>4.0</td><td>0.422</td><td>1.2</td><td>0.3</td><td>0.6</td></tr><tr><td>Mike Muscala</td><td>32</td><td>13.2</td><td>3.5</td><td>0.341</td><td>1.5</td><td>0.8</td><td>0.2</td></tr><tr><td>D.J. Wilson</td><td>27</td><td>7.5</td><td>5.0</td><td>0.667</td><td>0.5</td><td>0.5</td><td>0.0</td></tr><tr><td>Gui Santos</td><td>21</td><td>8.3</td><td>3.6</td><td>0.509</td><td>1.4</td><td>0.7</td><td>0.3</td></tr><tr><td>Justin Holiday</td><td>34</td><td>14.9</td><td>4.0</td><td>0.454</td><td>1.1</td><td>0.2</td><td>0.2</td></tr><tr><td>Caleb Houstan</td><td>21</td><td>13.8</td><td>4.3</td><td>0.388</td><td>0.9</td><td>0.5</td><td>0.3</td></tr><tr><td>Dru Smith</td><td>26</td><td>14.6</td><td>4.3</td><td>0.455</td><td>0.9</td><td>0.7</td><td>0.6</td></tr><tr><td>JT Thor</td><td>21</td><td>12.4</td><td>3.2</td><td>0.437</td><td>1.6</td><td>0.7</td><td>0.2</td></tr><tr><td>Sidy Cissoko</td><td>19</td><td>11.8</td><td>3.8</td><td>0.485</td><td>1.2</td><td>0.7</td><td>0.3</td></tr><tr><td>Jacob Gilyard</td><td>25</td><td>17.0</td><td>4.2</td><td>0.4</td><td>0.9</td><td>0.2</td><td>0.7</td></tr><tr><td>Izaiah Brockington</td><td>24</td><td>3.0</td><td>4.0</td><td>0.4</td><td>1.0</td><td>1.0</td><td>0.0</td></tr><tr><td>Nassir Little</td><td>23</td><td>10.2</td><td>3.4</td><td>0.46</td><td>1.4</td><td>0.3</td><td>0.3</td></tr><tr><td>Svi Mykhailiuk</td><td>26</td><td>10.1</td><td>4.0</td><td>0.416</td><td>1.0</td><td>0.3</td><td>0.3</td></tr><tr><td>Jaden Springer</td><td>21</td><td>11.8</td><td>4.0</td><td>0.39</td><td>1.0</td><td>0.8</td><td>0.8</td></tr><tr><td>Anthony Gill</td><td>31</td><td>9.3</td><td>3.8</td><td>0.469</td><td>1.1</td><td>0.7</td><td>0.5</td></tr><tr><td>Ish Smith</td><td>35</td><td>17.2</td><td>3.2</td><td>0.418</td><td>1.5</td><td>0.3</td><td>1.1</td></tr><tr><td>Skylar Mays</td><td>26</td><td>11.4</td><td>4.1</td><td>0.396</td><td>0.9</td><td>0.3</td><td>0.5</td></tr><tr><td>Ryan Rollins</td><td>21</td><td>6.6</td><td>4.1</td><td>0.52</td><td>0.9</td><td>0.2</td><td>0.7</td></tr><tr><td>Mike Muscala</td><td>32</td><td>11.3</td><td>3.0</td><td>0.359</td><td>1.6</td><td>0.7</td><td>0.4</td></tr><tr><td>Yuta Watanabe</td><td>29</td><td>13.2</td><td>3.6</td><td>0.361</td><td>1.2</td><td>0.4</td><td>0.6</td></tr><tr><td>Matthew Hurt</td><td>23</td><td>14.1</td><td>4.0</td><td>0.353</td><td>0.9</td><td>1.1</td><td>0.3</td></tr><tr><td>Yuta Watanabe</td><td>29</td><td>13.6</td><td>3.4</td><td>0.353</td><td>1.3</td><td>0.3</td><td>0.6</td></tr><tr><td>Yuta Watanabe</td><td>29</td><td>16.4</td><td>2.6</td><td>0.316</td><td>1.8</td><td>0.0</td><td>0.6</td></tr><tr><td>ThÃ©o Maledon</td><td>22</td><td>12.5</td><td>3.5</td><td>0.286</td><td>1.2</td><td>0.2</td><td>1.1</td></tr><tr><td>Patty Mills</td><td>35</td><td>13.0</td><td>4.0</td><td>0.351</td><td>0.8</td><td>0.3</td><td>0.5</td></tr><tr><td>Orlando Robinson</td><td>23</td><td>8.4</td><td>2.8</td><td>0.5</td><td>1.6</td><td>0.8</td><td>0.5</td></tr><tr><td>Jalen McDaniels</td><td>26</td><td>10.8</td><td>3.4</td><td>0.344</td><td>1.2</td><td>0.4</td><td>0.6</td></tr><tr><td>Dalen Terry</td><td>21</td><td>11.5</td><td>3.1</td><td>0.439</td><td>1.4</td><td>0.5</td><td>0.5</td></tr><tr><td>Onuralp Bitim</td><td>24</td><td>11.7</td><td>3.5</td><td>0.381</td><td>1.1</td><td>0.3</td><td>0.4</td></tr><tr><td>Jules Bernard</td><td>24</td><td>7.8</td><td>3.9</td><td>0.453</td><td>0.8</td><td>0.5</td><td>0.4</td></tr><tr><td>Olivier-Maxence Prosper</td><td>21</td><td>8.4</td><td>3.0</td><td>0.385</td><td>1.4</td><td>0.6</td><td>0.2</td></tr><tr><td>Mamadi Diakite</td><td>27</td><td>5.3</td><td>4.0</td><td>0.8</td><td>0.7</td><td>0.3</td><td>0.0</td></tr><tr><td>Alex Len</td><td>30</td><td>9.3</td><td>2.5</td><td>0.617</td><td>1.7</td><td>1.0</td><td>0.6</td></tr><tr><td>Jamaree Bouyea</td><td>24</td><td>10.6</td><td>2.3</td><td>0.357</td><td>1.8</td><td>0.3</td><td>1.0</td></tr><tr><td>Jordan McLaughlin</td><td>27</td><td>11.2</td><td>3.5</td><td>0.483</td><td>1.0</td><td>0.3</td><td>0.3</td></tr><tr><td>Jeremiah Robinson-Earl</td><td>23</td><td>8.6</td><td>2.9</td><td>0.474</td><td>1.4</td><td>0.6</td><td>0.4</td></tr><tr><td>Jericho Sims</td><td>25</td><td>13.0</td><td>2.0</td><td>0.691</td><td>2.0</td><td>1.2</td><td>0.4</td></tr><tr><td>Leaky Black</td><td>24</td><td>10.9</td><td>2.7</td><td>0.481</td><td>1.5</td><td>0.3</td><td>0.2</td></tr><tr><td>Doug McDermott</td><td>32</td><td>11.3</td><td>4.2</td><td>0.406</td><td>0.5</td><td>0.1</td><td>0.2</td></tr><tr><td>Lindy Waters III</td><td>26</td><td>7.4</td><td>3.6</td><td>0.471</td><td>0.9</td><td>0.2</td><td>0.2</td></tr><tr><td>Jamal Cain</td><td>24</td><td>10.0</td><td>3.7</td><td>0.43</td><td>0.8</td><td>0.6</td><td>0.3</td></tr><tr><td>Wesley Matthews</td><td>37</td><td>11.5</td><td>3.1</td><td>0.351</td><td>1.2</td><td>0.3</td><td>0.2</td></tr><tr><td>Zeke Nnaji</td><td>23</td><td>9.9</td><td>3.2</td><td>0.463</td><td>1.1</td><td>1.1</td><td>0.5</td></tr><tr><td>Otto Porter Jr.</td><td>30</td><td>11.6</td><td>2.6</td><td>0.424</td><td>1.5</td><td>0.4</td><td>0.1</td></tr><tr><td>Olivier Sarr</td><td>24</td><td>6.5</td><td>2.3</td><td>0.579</td><td>1.7</td><td>0.7</td><td>0.2</td></tr><tr><td>Ish Wainright</td><td>29</td><td>6.6</td><td>2.9</td><td>0.333</td><td>1.3</td><td>0.0</td><td>0.1</td></tr><tr><td>Collin Gillespie</td><td>24</td><td>9.4</td><td>3.6</td><td>0.464</td><td>0.8</td><td>0.0</td><td>0.6</td></tr><tr><td>Garrett Temple</td><td>37</td><td>10.7</td><td>3.3</td><td>0.372</td><td>1.0</td><td>0.7</td><td>0.5</td></tr><tr><td>Oscar Tshiebwe</td><td>24</td><td>5.3</td><td>3.3</td><td>0.5</td><td>1.0</td><td>1.0</td><td>0.0</td></tr><tr><td>Tosan Evbuomwan</td><td>22</td><td>18.5</td><td>2.5</td><td>0.267</td><td>1.5</td><td>2.0</td><td>0.3</td></tr><tr><td>Luka Garza</td><td>25</td><td>4.9</td><td>4.0</td><td>0.48</td><td>0.5</td><td>0.8</td><td>0.2</td></tr><tr><td>Harry Giles</td><td>25</td><td>5.1</td><td>3.4</td><td>0.5</td><td>0.9</td><td>0.8</td><td>0.4</td></tr><tr><td>Kira Lewis Jr.</td><td>22</td><td>9.9</td><td>3.8</td><td>0.45</td><td>0.6</td><td>0.4</td><td>0.5</td></tr><tr><td>Trevelin Queen</td><td>26</td><td>11.8</td><td>2.9</td><td>0.368</td><td>1.2</td><td>0.2</td><td>0.5</td></tr><tr><td>Johnny Davis</td><td>21</td><td>12.3</td><td>3.0</td><td>0.403</td><td>1.1</td><td>0.4</td><td>0.3</td></tr><tr><td>Jaden Springer</td><td>21</td><td>10.3</td><td>3.3</td><td>0.399</td><td>0.9</td><td>0.7</td><td>0.7</td></tr><tr><td>Ryan Rollins</td><td>21</td><td>6.0</td><td>3.4</td><td>0.519</td><td>0.8</td><td>0.2</td><td>0.6</td></tr><tr><td>A.J. Lawson</td><td>23</td><td>7.4</td><td>3.2</td><td>0.446</td><td>0.9</td><td>0.3</td><td>0.3</td></tr><tr><td>James Bouknight</td><td>23</td><td>5.8</td><td>3.6</td><td>0.439</td><td>0.6</td><td>0.1</td><td>0.1</td></tr><tr><td>Vasilije MiciÄ</td><td>30</td><td>12.0</td><td>3.3</td><td>0.407</td><td>0.8</td><td>0.0</td><td>1.0</td></tr><tr><td>Dariq Whitehead</td><td>19</td><td>12.0</td><td>1.5</td><td>0.2</td><td>2.0</td><td>0.0</td><td>0.0</td></tr><tr><td>Jack White</td><td>26</td><td>16.0</td><td>1.5</td><td>0.125</td><td>2.0</td><td>1.0</td><td>0.5</td></tr><tr><td>Reggie Bullock</td><td>32</td><td>9.5</td><td>2.2</td><td>0.415</td><td>1.5</td><td>0.1</td><td>0.2</td></tr><tr><td>Markieff Morris</td><td>34</td><td>8.3</td><td>2.5</td><td>0.338</td><td>1.3</td><td>0.2</td><td>0.5</td></tr><tr><td>Buddy Boeheim</td><td>24</td><td>8.4</td><td>3.4</td><td>0.31</td><td>0.7</td><td>0.3</td><td>0.0</td></tr><tr><td>P.J. Tucker</td><td>38</td><td>15.7</td><td>1.7</td><td>0.36</td><td>1.8</td><td>0.9</td><td>0.3</td></tr><tr><td>Damian Jones</td><td>28</td><td>6.9</td><td>2.7</td><td>0.597</td><td>1.1</td><td>0.5</td><td>0.3</td></tr><tr><td>Saben Lee</td><td>24</td><td>7.7</td><td>3.0</td><td>0.364</td><td>0.9</td><td>0.4</td><td>0.3</td></tr><tr><td>Lamar Stevens</td><td>26</td><td>6.4</td><td>2.8</td><td>0.467</td><td>1.0</td><td>0.6</td><td>0.5</td></tr><tr><td>Chuma Okeke</td><td>25</td><td>9.2</td><td>2.3</td><td>0.357</td><td>1.3</td><td>0.4</td><td>0.3</td></tr><tr><td>Jordan Walsh</td><td>19</td><td>9.2</td><td>1.7</td><td>0.4</td><td>1.7</td><td>0.6</td><td>0.3</td></tr><tr><td>Udoka Azubuike</td><td>24</td><td>7.1</td><td>2.2</td><td>0.696</td><td>1.3</td><td>0.7</td><td>0.3</td></tr><tr><td>Drew Peterson</td><td>24</td><td>7.7</td><td>3.7</td><td>0.667</td><td>0.3</td><td>0.0</td><td>0.3</td></tr><tr><td>Jason Preston</td><td>24</td><td>10.1</td><td>1.7</td><td>0.316</td><td>1.6</td><td>0.9</td><td>0.3</td></tr><tr><td>Kira Lewis Jr.</td><td>22</td><td>9.5</td><td>3.2</td><td>0.37</td><td>0.6</td><td>0.3</td><td>0.5</td></tr><tr><td>Emoni Bates</td><td>20</td><td>8.9</td><td>2.7</td><td>0.306</td><td>0.9</td><td>0.1</td><td>0.5</td></tr><tr><td>Cody Zeller</td><td>31</td><td>7.4</td><td>1.8</td><td>0.419</td><td>1.5</td><td>1.1</td><td>0.4</td></tr><tr><td>Greg Brown III</td><td>22</td><td>6.7</td><td>2.5</td><td>0.455</td><td>1.0</td><td>0.5</td><td>0.7</td></tr><tr><td>Henri Drell</td><td>23</td><td>7.5</td><td>2.8</td><td>0.4</td><td>0.8</td><td>0.3</td><td>0.5</td></tr><tr><td>Andre Jackson Jr.</td><td>22</td><td>10.0</td><td>2.2</td><td>0.5</td><td>1.2</td><td>0.8</td><td>0.5</td></tr><tr><td>P.J. Tucker</td><td>38</td><td>15.0</td><td>1.6</td><td>0.356</td><td>1.6</td><td>1.0</td><td>0.2</td></tr><tr><td>Kenneth Lofton Jr.</td><td>21</td><td>6.6</td><td>2.6</td><td>0.378</td><td>0.9</td><td>0.1</td><td>0.4</td></tr><tr><td>Brandon Williams</td><td>24</td><td>6.6</td><td>3.2</td><td>0.37</td><td>0.5</td><td>0.2</td><td>0.4</td></tr><tr><td>Thaddeus Young</td><td>35</td><td>8.9</td><td>2.3</td><td>0.524</td><td>1.1</td><td>1.7</td><td>0.4</td></tr><tr><td>Kira Lewis Jr.</td><td>22</td><td>9.6</td><td>2.9</td><td>0.308</td><td>0.7</td><td>0.3</td><td>0.5</td></tr><tr><td>Patty Mills</td><td>35</td><td>10.6</td><td>2.7</td><td>0.373</td><td>0.8</td><td>0.3</td><td>0.4</td></tr><tr><td>Mouhamadou Gueye</td><td>25</td><td>10.9</td><td>2.4</td><td>0.289</td><td>1.0</td><td>1.1</td><td>1.1</td></tr><tr><td>Trent Forrest</td><td>25</td><td>10.9</td><td>2.2</td><td>0.378</td><td>1.1</td><td>0.3</td><td>0.5</td></tr><tr><td>Gabe Vincent</td><td>27</td><td>19.8</td><td>3.1</td><td>0.306</td><td>0.5</td><td>0.4</td><td>0.5</td></tr><tr><td>Danilo Gallinari</td><td>35</td><td>9.1</td><td>2.8</td><td>0.378</td><td>0.7</td><td>0.4</td><td>0.6</td></tr><tr><td>Moussa DiabatÃ©</td><td>22</td><td>5.8</td><td>2.6</td><td>0.526</td><td>0.8</td><td>1.4</td><td>0.2</td></tr><tr><td>Dalano Banton</td><td>24</td><td>7.1</td><td>2.3</td><td>0.373</td><td>1.0</td><td>0.5</td><td>0.4</td></tr><tr><td>Dereon Seabron</td><td>23</td><td>9.2</td><td>2.3</td><td>0.308</td><td>1.0</td><td>0.2</td><td>0.0</td></tr><tr><td>Bismack Biyombo</td><td>31</td><td>7.3</td><td>1.8</td><td>0.583</td><td>1.3</td><td>0.5</td><td>0.4</td></tr><tr><td>Cory Joseph</td><td>32</td><td>11.4</td><td>2.4</td><td>0.359</td><td>0.9</td><td>0.2</td><td>0.5</td></tr><tr><td>Terquavion Smith</td><td>21</td><td>5.3</td><td>3.3</td><td>0.391</td><td>0.3</td><td>0.0</td><td>0.4</td></tr><tr><td>Nate Hinton</td><td>24</td><td>5.0</td><td>2.2</td><td>0.423</td><td>1.0</td><td>0.5</td><td>0.2</td></tr><tr><td>Dylan Windler</td><td>27</td><td>6.4</td><td>2.5</td><td>0.5</td><td>0.8</td><td>0.2</td><td>0.1</td></tr><tr><td>Jamaree Bouyea</td><td>24</td><td>9.5</td><td>1.7</td><td>0.238</td><td>1.3</td><td>0.3</td><td>1.3</td></tr><tr><td>Taj Gibson</td><td>38</td><td>10.2</td><td>1.7</td><td>0.405</td><td>1.3</td><td>0.6</td><td>0.3</td></tr><tr><td>DÄvis BertÄns</td><td>31</td><td>6.1</td><td>2.9</td><td>0.385</td><td>0.5</td><td>0.1</td><td>0.1</td></tr><tr><td>Jeenathan Williams</td><td>24</td><td>5.9</td><td>2.9</td><td>0.54</td><td>0.5</td><td>0.5</td><td>0.2</td></tr><tr><td>Harry Giles</td><td>25</td><td>4.3</td><td>2.4</td><td>0.46</td><td>0.8</td><td>0.5</td><td>0.3</td></tr><tr><td>AJ Griffin</td><td>20</td><td>8.6</td><td>2.4</td><td>0.29</td><td>0.8</td><td>0.1</td><td>0.4</td></tr><tr><td>Ish Wainright</td><td>29</td><td>5.6</td><td>2.1</td><td>0.292</td><td>1.0</td><td>0.3</td><td>0.2</td></tr><tr><td>Ibou Badji</td><td>21</td><td>10.3</td><td>1.5</td><td>0.636</td><td>1.4</td><td>0.9</td><td>0.7</td></tr><tr><td>D.J. Carton</td><td>23</td><td>9.0</td><td>2.8</td><td>0.375</td><td>0.5</td><td>0.5</td><td>0.3</td></tr><tr><td>Furkan Korkmaz</td><td>26</td><td>8.6</td><td>2.5</td><td>0.395</td><td>0.7</td><td>0.1</td><td>0.3</td></tr><tr><td>Kobe Brown</td><td>24</td><td>9.0</td><td>2.0</td><td>0.411</td><td>1.0</td><td>0.5</td><td>0.2</td></tr><tr><td>JD Davison</td><td>21</td><td>4.9</td><td>2.0</td><td>0.417</td><td>1.0</td><td>0.3</td><td>0.3</td></tr><tr><td>Kevon Harris</td><td>26</td><td>3.0</td><td>2.0</td><td>0.667</td><td>1.0</td><td>0.0</td><td>0.5</td></tr><tr><td>Xavier Moon</td><td>29</td><td>8.5</td><td>2.4</td><td>0.326</td><td>0.7</td><td>0.6</td><td>0.4</td></tr><tr><td>Nathan Mensah</td><td>25</td><td>12.3</td><td>1.3</td><td>0.429</td><td>1.4</td><td>1.2</td><td>0.6</td></tr><tr><td>Isaiah Mobley</td><td>24</td><td>7.2</td><td>2.3</td><td>0.417</td><td>0.7</td><td>0.3</td><td>0.2</td></tr><tr><td>Colby Jones</td><td>21</td><td>6.4</td><td>2.1</td><td>0.394</td><td>0.8</td><td>0.6</td><td>0.3</td></tr><tr><td>Joe Harris</td><td>32</td><td>10.6</td><td>2.4</td><td>0.359</td><td>0.6</td><td>0.2</td><td>0.3</td></tr><tr><td>Shake Milton</td><td>27</td><td>4.5</td><td>1.8</td><td>0.444</td><td>1.0</td><td>0.0</td><td>0.0</td></tr><tr><td>Kenneth Lofton Jr.</td><td>21</td><td>4.5</td><td>1.0</td><td>0.167</td><td>1.5</td><td>0.0</td><td>1.0</td></tr><tr><td>Jaden Springer</td><td>21</td><td>7.6</td><td>2.1</td><td>0.433</td><td>0.7</td><td>0.5</td><td>0.5</td></tr><tr><td>Julian Phillips</td><td>20</td><td>8.1</td><td>2.2</td><td>0.416</td><td>0.6</td><td>0.3</td><td>0.3</td></tr><tr><td>Leonard Miller</td><td>20</td><td>3.1</td><td>1.7</td><td>0.65</td><td>0.9</td><td>0.3</td><td>0.1</td></tr><tr><td>Justin Minaya</td><td>24</td><td>11.2</td><td>1.8</td><td>0.297</td><td>0.8</td><td>0.9</td><td>0.3</td></tr><tr><td>Malachi Flynn</td><td>25</td><td>4.3</td><td>2.2</td><td>0.391</td><td>0.4</td><td>0.0</td><td>0.2</td></tr><tr><td>Alex Fudge</td><td>20</td><td>6.7</td><td>2.5</td><td>0.4</td><td>0.2</td><td>0.7</td><td>0.3</td></tr><tr><td>Amari Bailey</td><td>19</td><td>6.5</td><td>2.3</td><td>0.333</td><td>0.3</td><td>0.6</td><td>0.4</td></tr><tr><td>Mamadi Diakite</td><td>27</td><td>4.0</td><td>2.0</td><td>0.667</td><td>0.5</td><td>0.2</td><td>0.2</td></tr><tr><td>Cole Swider</td><td>24</td><td>4.8</td><td>2.3</td><td>0.395</td><td>0.3</td><td>0.1</td><td>0.4</td></tr><tr><td>Taj Gibson</td><td>38</td><td>10.3</td><td>1.0</td><td>0.304</td><td>1.1</td><td>0.6</td><td>0.3</td></tr><tr><td>Quenton Jackson</td><td>25</td><td>3.7</td><td>0.7</td><td>0.0</td><td>1.3</td><td>0.0</td><td>0.0</td></tr><tr><td>Seth Lundy</td><td>23</td><td>5.8</td><td>1.6</td><td>0.235</td><td>0.7</td><td>0.1</td><td>0.1</td></tr><tr><td>Mason Jones</td><td>25</td><td>5.6</td><td>1.4</td><td>0.25</td><td>0.8</td><td>0.2</td><td>0.4</td></tr><tr><td>Kessler Edwards</td><td>23</td><td>5.1</td><td>1.7</td><td>0.415</td><td>0.6</td><td>0.2</td><td>0.1</td></tr><tr><td>Chris Livingston</td><td>20</td><td>4.3</td><td>1.2</td><td>0.5</td><td>0.9</td><td>0.1</td><td>0.2</td></tr><tr><td>Keita Bates-Diop</td><td>28</td><td>4.9</td><td>1.6</td><td>0.5</td><td>0.6</td><td>0.1</td><td>0.1</td></tr><tr><td>Frank Ntilikina</td><td>25</td><td>8.6</td><td>1.0</td><td>0.111</td><td>1.0</td><td>0.2</td><td>0.2</td></tr><tr><td>Jordan Ford</td><td>25</td><td>3.7</td><td>2.0</td><td>0.571</td><td>0.3</td><td>0.0</td><td>0.2</td></tr><tr><td>Mike Muscala</td><td>32</td><td>5.7</td><td>1.1</td><td>0.364</td><td>0.9</td><td>0.4</td><td>0.3</td></tr><tr><td>Jermaine Samuels</td><td>25</td><td>4.3</td><td>1.4</td><td>0.643</td><td>0.7</td><td>0.2</td><td>0.0</td></tr><tr><td>Aleksej Pokusevski</td><td>22</td><td>6.0</td><td>1.2</td><td>0.25</td><td>0.8</td><td>0.2</td><td>0.3</td></tr><tr><td>Terry Taylor</td><td>24</td><td>6.1</td><td>1.5</td><td>0.513</td><td>0.6</td><td>0.5</td><td>0.2</td></tr><tr><td>Jalen Hood-Schifino</td><td>20</td><td>5.2</td><td>1.6</td><td>0.222</td><td>0.5</td><td>0.1</td><td>0.4</td></tr><tr><td>Jalen Pickett</td><td>24</td><td>4.5</td><td>1.6</td><td>0.429</td><td>0.5</td><td>0.0</td><td>0.3</td></tr><tr><td>Braxton Key</td><td>26</td><td>3.0</td><td>1.1</td><td>0.412</td><td>0.8</td><td>0.2</td><td>0.1</td></tr><tr><td>Keyontae Johnson</td><td>23</td><td>7.3</td><td>1.2</td><td>0.313</td><td>0.7</td><td>0.4</td><td>0.4</td></tr><tr><td>Josh Minott</td><td>21</td><td>2.8</td><td>1.6</td><td>0.472</td><td>0.4</td><td>0.1</td><td>0.1</td></tr><tr><td>Colin Castleton</td><td>23</td><td>3.7</td><td>1.5</td><td>0.563</td><td>0.4</td><td>0.4</td><td>0.2</td></tr><tr><td>Dylan Windler</td><td>27</td><td>3.5</td><td>1.5</td><td>0.444</td><td>0.4</td><td>0.0</td><td>0.0</td></tr><tr><td>R.J. Hampton</td><td>22</td><td>9.5</td><td>1.3</td><td>0.286</td><td>0.5</td><td>0.3</td><td>0.4</td></tr><tr><td>Jett Howard</td><td>20</td><td>3.7</td><td>1.6</td><td>0.333</td><td>0.3</td><td>0.1</td><td>0.2</td></tr><tr><td>Jordan Miller</td><td>24</td><td>3.5</td><td>1.6</td><td>0.556</td><td>0.3</td><td>0.4</td><td>0.1</td></tr><tr><td>David Roddy</td><td>22</td><td>3.7</td><td>1.3</td><td>0.435</td><td>0.5</td><td>0.1</td><td>0.2</td></tr><tr><td>Ryan Rollins</td><td>21</td><td>4.0</td><td>1.0</td><td>0.5</td><td>0.7</td><td>0.0</td><td>0.3</td></tr><tr><td>D'Moi Hodge</td><td>25</td><td>5.9</td><td>2.0</td><td>0.333</td><td>0.0</td><td>0.0</td><td>0.1</td></tr><tr><td>Ty Jerome</td><td>26</td><td>7.5</td><td>2.0</td><td>0.5</td><td>0.0</td><td>0.5</td><td>0.5</td></tr><tr><td>Markquis Nowell</td><td>24</td><td>4.0</td><td>2.0</td><td>0.0</td><td>0.0</td><td>2.0</td><td>0.0</td></tr><tr><td>Admiral Schofield</td><td>26</td><td>3.7</td><td>1.1</td><td>0.385</td><td>0.6</td><td>0.1</td><td>0.2</td></tr><tr><td>Daniel Theis</td><td>31</td><td>8.0</td><td>2.0</td><td>0.25</td><td>0.0</td><td>0.0</td><td>0.0</td></tr><tr><td>Jacob Toppin</td><td>23</td><td>4.2</td><td>1.4</td><td>0.556</td><td>0.4</td><td>0.3</td><td>0.1</td></tr><tr><td>Lindell Wigginton</td><td>25</td><td>2.7</td><td>2.0</td><td>0.4</td><td>0.0</td><td>0.0</td><td>0.3</td></tr><tr><td>Isaiah Wong</td><td>23</td><td>4.0</td><td>2.0</td><td>0.333</td><td>0.0</td><td>0.0</td><td>0.0</td></tr><tr><td>Daishen Nix</td><td>21</td><td>3.3</td><td>1.8</td><td>0.375</td><td>0.1</td><td>0.1</td><td>0.3</td></tr><tr><td>Juan Toscano-Anderson</td><td>30</td><td>4.8</td><td>0.6</td><td>0.25</td><td>0.9</td><td>0.4</td><td>0.2</td></tr><tr><td>Jay Huff</td><td>25</td><td>2.5</td><td>1.2</td><td>0.6</td><td>0.5</td><td>0.1</td><td>0.1</td></tr><tr><td>TyTy Washington Jr.</td><td>22</td><td>5.1</td><td>1.3</td><td>0.3</td><td>0.4</td><td>0.1</td><td>0.2</td></tr><tr><td>ThÃ©o Maledon</td><td>22</td><td>3.3</td><td>1.3</td><td>0.25</td><td>0.3</td><td>0.0</td><td>0.8</td></tr><tr><td>Skylar Mays</td><td>26</td><td>4.5</td><td>1.3</td><td>0.476</td><td>0.3</td><td>0.1</td><td>0.1</td></tr><tr><td>Shaquille Harrison</td><td>30</td><td>2.0</td><td>0.7</td><td>0.5</td><td>0.7</td><td>0.0</td><td>0.0</td></tr><tr><td>Hunter Tyson</td><td>23</td><td>2.7</td><td>1.1</td><td>0.4</td><td>0.4</td><td>0.1</td><td>0.1</td></tr><tr><td>Jerome Robinson</td><td>26</td><td>3.7</td><td>1.4</td><td>0.333</td><td>0.2</td><td>0.0</td><td>0.1</td></tr><tr><td>Ish Wainright</td><td>29</td><td>4.0</td><td>0.8</td><td>0.167</td><td>0.5</td><td>0.8</td><td>0.3</td></tr><tr><td>Kendall Brown</td><td>20</td><td>4.2</td><td>1.4</td><td>0.533</td><td>0.1</td><td>0.2</td><td>0.1</td></tr><tr><td>Usman Garuba</td><td>21</td><td>3.0</td><td>0.5</td><td>0.167</td><td>0.7</td><td>0.5</td><td>0.3</td></tr><tr><td>Marques Bolden</td><td>25</td><td>1.5</td><td>0.0</td><td>null</td><td>1.0</td><td>0.0</td><td>0.0</td></tr><tr><td>Adam Flagler</td><td>24</td><td>7.0</td><td>1.5</td><td>0.143</td><td>0.0</td><td>0.0</td><td>0.0</td></tr><tr><td>Kaiser Gates</td><td>27</td><td>7.0</td><td>0.0</td><td>0.0</td><td>1.0</td><td>0.0</td><td>0.0</td></tr><tr><td>Danny Green</td><td>36</td><td>9.0</td><td>0.0</td><td>0.0</td><td>1.0</td><td>0.0</td><td>0.0</td></tr><tr><td>Filip PetruÅ¡ev</td><td>23</td><td>3.0</td><td>0.0</td><td>null</td><td>1.0</td><td>0.0</td><td>0.0</td></tr><tr><td>Filip PetruÅ¡ev</td><td>23</td><td>3.5</td><td>1.5</td><td>0.5</td><td>0.0</td><td>0.0</td><td>0.0</td></tr><tr><td>Wendell Moore Jr.</td><td>22</td><td>3.0</td><td>0.7</td><td>0.5</td><td>0.5</td><td>0.0</td><td>0.2</td></tr><tr><td>Filip PetruÅ¡ev</td><td>23</td><td>3.3</td><td>1.0</td><td>0.5</td><td>0.3</td><td>0.0</td><td>0.0</td></tr><tr><td>Jalen Slawson</td><td>24</td><td>3.1</td><td>0.7</td><td>0.667</td><td>0.5</td><td>0.1</td><td>0.2</td></tr><tr><td>Dylan Windler</td><td>27</td><td>2.3</td><td>1.0</td><td>0.5</td><td>0.3</td><td>0.0</td><td>0.0</td></tr><tr><td>E.J. Liddell</td><td>23</td><td>2.9</td><td>0.5</td><td>0.167</td><td>0.6</td><td>0.0</td><td>0.3</td></tr><tr><td>James Johnson</td><td>36</td><td>5.2</td><td>0.9</td><td>0.3</td><td>0.3</td><td>0.1</td><td>0.6</td></tr><tr><td>Isaiah Thomas</td><td>34</td><td>3.2</td><td>1.3</td><td>0.3</td><td>0.0</td><td>0.0</td><td>0.0</td></tr><tr><td>DaQuan Jeffries</td><td>26</td><td>2.7</td><td>0.8</td><td>0.353</td><td>0.3</td><td>0.0</td><td>0.2</td></tr><tr><td>Robin Lopez</td><td>35</td><td>4.1</td><td>1.1</td><td>0.368</td><td>0.1</td><td>0.2</td><td>0.1</td></tr><tr><td>Thanasis Antetokounmpo</td><td>31</td><td>4.6</td><td>0.9</td><td>0.533</td><td>0.2</td><td>0.2</td><td>0.4</td></tr><tr><td>Harry Giles</td><td>25</td><td>2.7</td><td>0.3</td><td>0.167</td><td>0.6</td><td>0.0</td><td>0.0</td></tr><tr><td>Pat Spencer</td><td>27</td><td>4.3</td><td>0.7</td><td>0.5</td><td>0.3</td><td>0.3</td><td>0.2</td></tr><tr><td>Hamidou Diallo</td><td>25</td><td>2.5</td><td>1.0</td><td>0.5</td><td>0.0</td><td>1.0</td><td>0.5</td></tr><tr><td>Alex Fudge</td><td>20</td><td>3.5</td><td>1.0</td><td>0.167</td><td>0.0</td><td>0.5</td><td>0.3</td></tr><tr><td>Pete Nance</td><td>23</td><td>3.4</td><td>0.4</td><td>0.167</td><td>0.4</td><td>0.0</td><td>0.1</td></tr><tr><td>Joshua Primo</td><td>21</td><td>5.0</td><td>1.0</td><td>0.333</td><td>0.0</td><td>0.5</td><td>2.0</td></tr><tr><td>Charlie Brown Jr.</td><td>26</td><td>4.6</td><td>0.8</td><td>0.2</td><td>0.1</td><td>0.1</td><td>0.3</td></tr><tr><td>Alondes Williams</td><td>24</td><td>2.3</td><td>0.7</td><td>0.25</td><td>0.1</td><td>0.0</td><td>0.3</td></tr><tr><td>Jacob Gilyard</td><td>25</td><td>11.3</td><td>0.0</td><td>0.0</td><td>0.5</td><td>0.3</td><td>0.3</td></tr><tr><td>Trey Jemison</td><td>24</td><td>0.5</td><td>0.0</td><td>null</td><td>0.5</td><td>0.0</td><td>0.5</td></tr><tr><td>Ryan Arcidiacono</td><td>29</td><td>2.3</td><td>0.0</td><td>0.0</td><td>0.4</td><td>0.0</td><td>0.1</td></tr><tr><td>Maxwell Lewis</td><td>21</td><td>3.0</td><td>0.3</td><td>0.19</td><td>0.1</td><td>0.1</td><td>0.3</td></tr><tr><td>Darius Bazley</td><td>23</td><td>3.3</td><td>0.0</td><td>0.0</td><td>0.3</td><td>0.0</td><td>0.3</td></tr><tr><td>Mamadi Diakite</td><td>27</td><td>2.7</td><td>0.0</td><td>0.0</td><td>0.3</td><td>0.0</td><td>0.3</td></tr><tr><td>Malcolm Cazalon</td><td>22</td><td>3.0</td><td>0.0</td><td>null</td><td>0.0</td><td>0.0</td><td>0.0</td></tr><tr><td>Jalen Crutcher</td><td>24</td><td>3.0</td><td>0.0</td><td>0.0</td><td>0.0</td><td>0.0</td><td>0.0</td></tr><tr><td>Andrew Funk</td><td>24</td><td>2.6</td><td>0.0</td><td>0.0</td><td>0.0</td><td>0.0</td><td>0.0</td></tr><tr><td>Ron Harper Jr.</td><td>23</td><td>4.0</td><td>0.0</td><td>null</td><td>0.0</td><td>0.0</td><td>0.0</td></tr><tr><td>Justin Jackson</td><td>28</td><td>0.5</td><td>0.0</td><td>null</td><td>0.0</td><td>0.0</td><td>0.0</td></tr><tr><td>Kira Lewis Jr.</td><td>22</td><td>2.0</td><td>0.0</td><td>null</td><td>0.0</td><td>0.0</td><td>0.0</td></tr><tr><td>Dmytro Skapintsev</td><td>25</td><td>1.0</td><td>0.0</td><td>0.0</td><td>0.0</td><td>0.0</td><td>0.0</td></tr><tr><td>Javonte Smart</td><td>24</td><td>1.0</td><td>0.0</td><td>null</td><td>0.0</td><td>0.0</td><td>0.0</td></tr></tbody></table></div>"
      ]
     },
     "metadata": {
      "application/vnd.databricks.v1+output": {
       "addedWidgets": {},
       "aggData": [],
       "aggError": "",
       "aggOverflow": false,
       "aggSchema": [],
       "aggSeriesLimitReached": false,
       "aggType": "",
       "arguments": {},
       "columnCustomDisplayInfos": {},
       "data": [
        [
         "Joel Embiid",
         29,
         33.6,
         34.7,
         0.529,
         8.6,
         2.4,
         3.8
        ],
        [
         "Luka DonÄiÄ",
         24,
         37.5,
         33.9,
         0.487,
         8.4,
         0.8,
         4.0
        ],
        [
         "Giannis Antetokounmpo",
         29,
         35.2,
         30.4,
         0.611,
         8.8,
         2.7,
         3.4
        ],
        [
         "Nikola JokiÄ",
         28,
         34.6,
         26.4,
         0.583,
         9.5,
         2.8,
         3.0
        ],
        [
         "Anthony Davis",
         30,
         35.5,
         24.7,
         0.556,
         9.5,
         3.1,
         2.1
        ],
        [
         "Jayson Tatum",
         25,
         35.7,
         26.9,
         0.471,
         7.2,
         0.9,
         2.5
        ],
        [
         "Shai Gilgeous-Alexander",
         25,
         34.0,
         30.1,
         0.535,
         4.7,
         0.9,
         2.2
        ],
        [
         "Kevin Durant",
         35,
         37.2,
         27.1,
         0.523,
         6.1,
         0.5,
         3.3
        ],
        [
         "LeBron James",
         39,
         35.3,
         25.7,
         0.54,
         6.4,
         0.9,
         3.5
        ],
        [
         "Domantas Sabonis",
         27,
         35.7,
         19.4,
         0.594,
         10.1,
         3.6,
         3.3
        ],
        [
         "Julius Randle",
         29,
         35.4,
         24.0,
         0.472,
         7.0,
         2.2,
         3.5
        ],
        [
         "Victor Wembanyama",
         20,
         29.7,
         21.4,
         0.465,
         8.4,
         2.3,
         3.7
        ],
        [
         "Jalen Brunson",
         27,
         35.4,
         28.7,
         0.479,
         3.1,
         0.6,
         2.4
        ],
        [
         "Anthony Edwards",
         22,
         35.1,
         25.9,
         0.461,
         4.8,
         0.7,
         3.1
        ],
        [
         "Donovan Mitchell",
         27,
         35.3,
         26.6,
         0.462,
         4.3,
         0.8,
         2.8
        ],
        [
         "Devin Booker",
         27,
         36.0,
         27.1,
         0.492,
         3.7,
         0.8,
         2.6
        ],
        [
         "Ja Morant",
         24,
         35.3,
         25.1,
         0.471,
         4.9,
         0.7,
         3.0
        ],
        [
         "Stephen Curry",
         35,
         32.7,
         26.4,
         0.45,
         4.0,
         0.5,
         2.8
        ],
        [
         "De'Aaron Fox",
         26,
         35.9,
         26.6,
         0.465,
         3.7,
         0.9,
         2.6
        ],
        [
         "Lauri Markkanen",
         26,
         33.1,
         23.2,
         0.48,
         5.9,
         2.2,
         1.4
        ],
        [
         "Karl-Anthony Towns",
         28,
         32.7,
         21.8,
         0.504,
         6.8,
         1.5,
         2.9
        ],
        [
         "Kyrie Irving",
         31,
         35.0,
         25.6,
         0.497,
         4.2,
         0.8,
         1.8
        ],
        [
         "Paolo Banchero",
         21,
         35.0,
         22.6,
         0.455,
         5.9,
         1.0,
         3.1
        ],
        [
         "Bam Adebayo",
         26,
         34.0,
         19.3,
         0.521,
         8.1,
         2.2,
         2.3
        ],
        [
         "Kawhi Leonard",
         32,
         34.3,
         23.7,
         0.525,
         4.9,
         1.2,
         1.8
        ],
        [
         "Kyle Kuzma",
         28,
         32.6,
         22.2,
         0.463,
         5.7,
         0.9,
         2.7
        ],
        [
         "Alperen Sengun",
         21,
         32.5,
         21.1,
         0.537,
         6.4,
         2.9,
         2.6
        ],
        [
         "Tyrese Maxey",
         23,
         37.5,
         25.9,
         0.45,
         3.2,
         0.5,
         1.7
        ],
        [
         "Miles Bridges",
         25,
         37.4,
         21.0,
         0.462,
         6.3,
         1.0,
         2.0
        ],
        [
         "Damian Lillard",
         33,
         35.3,
         24.3,
         0.424,
         3.9,
         0.5,
         2.6
        ],
        [
         "Pascal Siakam",
         29,
         31.8,
         21.3,
         0.549,
         5.7,
         2.1,
         1.4
        ],
        [
         "RJ Barrett",
         23,
         33.5,
         21.8,
         0.553,
         5.3,
         1.1,
         2.5
        ],
        [
         "DeMar DeRozan",
         34,
         37.8,
         24.0,
         0.48,
         3.8,
         0.5,
         1.7
        ],
        [
         "Nikola VuÄeviÄ",
         33,
         34.3,
         18.0,
         0.484,
         7.8,
         2.8,
         1.6
        ],
        [
         "Paul George",
         33,
         33.8,
         22.6,
         0.471,
         4.7,
         0.5,
         2.1
        ],
        [
         "Pascal Siakam",
         29,
         33.2,
         21.7,
         0.536,
         5.3,
         1.7,
         1.8
        ],
        [
         "LaMelo Ball",
         22,
         32.3,
         23.9,
         0.433,
         3.8,
         1.3,
         3.8
        ],
        [
         "Pascal Siakam",
         29,
         34.7,
         22.2,
         0.522,
         4.9,
         1.4,
         2.1
        ],
        [
         "Jaylen Brown",
         27,
         33.5,
         23.0,
         0.499,
         4.3,
         1.2,
         2.4
        ],
        [
         "Dejounte Murray",
         27,
         35.7,
         22.5,
         0.459,
         4.5,
         0.8,
         2.6
        ],
        [
         "Trae Young",
         25,
         36.0,
         25.7,
         0.43,
         2.3,
         0.4,
         4.4
        ],
        [
         "Zion Williamson",
         23,
         31.5,
         22.9,
         0.57,
         4.1,
         1.7,
         2.8
        ],
        [
         "Desmond Bane",
         25,
         34.4,
         23.7,
         0.464,
         3.5,
         0.9,
         2.7
        ],
        [
         "Jaren Jackson Jr.",
         24,
         32.2,
         22.5,
         0.444,
         4.2,
         1.3,
         2.4
        ],
        [
         "Scottie Barnes",
         22,
         34.9,
         19.9,
         0.475,
         5.9,
         2.4,
         2.8
        ],
        [
         "Deandre Ayton",
         25,
         32.4,
         16.7,
         0.57,
         7.9,
         3.2,
         1.8
        ],
        [
         "Cade Cunningham",
         22,
         33.5,
         22.7,
         0.449,
         3.8,
         0.5,
         3.4
        ],
        [
         "Kristaps PorziÅÄ£is",
         28,
         29.6,
         20.1,
         0.516,
         5.5,
         1.7,
         1.6
        ],
        [
         "Terry Rozier",
         29,
         35.5,
         23.2,
         0.459,
         3.3,
         0.6,
         2.2
        ],
        [
         "Tyler Herro",
         24,
         33.5,
         20.8,
         0.441,
         4.8,
         0.5,
         2.2
        ],
        [
         "Rudy Gobert",
         31,
         34.1,
         14.0,
         0.661,
         9.2,
         3.8,
         1.6
        ],
        [
         "Jarrett Allen",
         25,
         31.7,
         16.5,
         0.634,
         7.4,
         3.2,
         1.6
        ],
        [
         "Brandon Ingram",
         26,
         32.9,
         20.8,
         0.492,
         4.4,
         0.7,
         2.5
        ],
        [
         "Anfernee Simons",
         24,
         34.4,
         22.6,
         0.43,
         3.2,
         0.5,
         2.7
        ],
        [
         "Jalen Johnson",
         22,
         33.7,
         16.0,
         0.511,
         7.4,
         1.3,
         1.8
        ],
        [
         "RJ Barrett",
         23,
         31.7,
         20.2,
         0.495,
         4.5,
         0.9,
         2.2
        ],
        [
         "Zach LaVine",
         28,
         34.9,
         19.5,
         0.452,
         4.8,
         0.3,
         2.1
        ],
        [
         "Cam Thomas",
         22,
         31.4,
         22.5,
         0.442,
         2.8,
         0.4,
         1.9
        ],
        [
         "Jalen Green",
         21,
         31.7,
         19.6,
         0.423,
         4.7,
         0.5,
         2.3
        ],
        [
         "Jalen Duren",
         20,
         29.1,
         13.8,
         0.619,
         8.5,
         3.1,
         2.1
        ],
        [
         "Evan Mobley",
         22,
         30.6,
         15.7,
         0.58,
         7.1,
         2.2,
         1.8
        ],
        [
         "Jamal Murray",
         26,
         31.5,
         21.2,
         0.481,
         3.4,
         0.7,
         2.1
        ],
        [
         "Jimmy Butler",
         34,
         34.0,
         20.8,
         0.499,
         3.6,
         1.8,
         1.7
        ],
        [
         "Franz Wagner",
         22,
         32.5,
         19.7,
         0.482,
         4.3,
         1.0,
         1.9
        ],
        [
         "Chet Holmgren",
         21,
         29.4,
         16.5,
         0.53,
         6.3,
         1.6,
         1.6
        ],
        [
         "CJ McCollum",
         32,
         32.7,
         20.0,
         0.459,
         3.7,
         0.6,
         1.7
        ],
        [
         "Jerami Grant",
         29,
         33.9,
         21.0,
         0.451,
         2.9,
         0.7,
         2.1
        ],
        [
         "Immanuel Quickley",
         24,
         33.3,
         18.6,
         0.422,
         4.5,
         0.3,
         1.8
        ],
        [
         "Myles Turner",
         27,
         27.0,
         17.1,
         0.524,
         5.5,
         1.5,
         1.4
        ],
        [
         "Michael Porter Jr.",
         25,
         31.7,
         16.7,
         0.484,
         5.7,
         1.3,
         1.1
        ],
        [
         "Tyrese Haliburton",
         23,
         32.2,
         20.1,
         0.477,
         3.4,
         0.5,
         2.3
        ],
        [
         "Mikal Bridges",
         27,
         34.8,
         19.6,
         0.436,
         3.7,
         0.8,
         2.0
        ],
        [
         "Tobias Harris",
         31,
         33.8,
         17.2,
         0.487,
         5.3,
         1.1,
         1.3
        ],
        [
         "Coby White",
         23,
         36.5,
         19.1,
         0.447,
         4.0,
         0.6,
         2.1
        ],
        [
         "Terry Rozier",
         29,
         33.4,
         19.8,
         0.443,
         3.5,
         0.6,
         1.7
        ],
        [
         "Devin Vassell",
         23,
         33.1,
         19.5,
         0.472,
         3.4,
         0.4,
         1.6
        ],
        [
         "Bojan BogdanoviÄ",
         34,
         32.9,
         20.2,
         0.468,
         2.9,
         0.5,
         2.3
        ],
        [
         "Jalen Williams",
         22,
         31.3,
         19.1,
         0.54,
         3.5,
         0.5,
         1.7
        ],
        [
         "John Collins",
         26,
         28.0,
         15.1,
         0.532,
         6.1,
         2.3,
         1.4
        ],
        [
         "Deni Avdija",
         23,
         30.1,
         14.7,
         0.506,
         6.1,
         1.1,
         2.1
        ],
        [
         "James Harden",
         34,
         34.3,
         16.6,
         0.428,
         4.7,
         0.5,
         2.6
        ],
        [
         "RJ Barrett",
         23,
         29.5,
         18.2,
         0.423,
         3.5,
         0.7,
         1.8
        ],
        [
         "Bradley Beal",
         30,
         33.3,
         18.2,
         0.513,
         3.4,
         1.0,
         2.5
        ],
        [
         "Jabari Smith Jr.",
         20,
         31.9,
         13.7,
         0.454,
         6.3,
         1.8,
         1.2
        ],
        [
         "Jusuf NurkiÄ",
         29,
         27.3,
         10.9,
         0.51,
         8.1,
         2.9,
         2.3
        ],
        [
         "Nic Claxton",
         24,
         29.8,
         11.8,
         0.629,
         7.2,
         2.7,
         1.3
        ],
        [
         "Fred VanVleet",
         29,
         36.8,
         17.4,
         0.416,
         3.4,
         0.5,
         1.7
        ],
        [
         "Dalano Banton",
         24,
         29.2,
         16.7,
         0.408,
         3.8,
         1.0,
         2.2
        ],
        [
         "Brandon Miller",
         21,
         32.2,
         17.3,
         0.44,
         3.4,
         0.8,
         1.8
        ],
        [
         "Immanuel Quickley",
         24,
         29.2,
         17.0,
         0.434,
         3.6,
         0.3,
         1.5
        ],
        [
         "Bobby Portis",
         28,
         24.5,
         13.8,
         0.508,
         5.7,
         1.7,
         1.1
        ],
        [
         "Klay Thompson",
         33,
         29.7,
         17.9,
         0.432,
         2.8,
         0.5,
         1.5
        ],
        [
         "D'Angelo Russell",
         27,
         32.7,
         18.0,
         0.456,
         2.7,
         0.4,
         2.1
        ],
        [
         "Jonas ValanÄiÅ«nas",
         31,
         23.5,
         12.2,
         0.559,
         6.5,
         2.3,
         1.4
        ],
        [
         "Keldon Johnson",
         24,
         29.5,
         15.7,
         0.454,
         4.1,
         1.4,
         1.4
        ],
        [
         "Terry Rozier",
         29,
         31.5,
         16.4,
         0.423,
         3.6,
         0.6,
         1.3
        ],
        [
         "Jonathan Kuminga",
         21,
         26.3,
         16.1,
         0.529,
         3.6,
         1.2,
         1.6
        ],
        [
         "Shaedon Sharpe",
         20,
         33.1,
         15.9,
         0.406,
         3.7,
         1.3,
         2.3
        ],
        [
         "Keegan Murray",
         23,
         33.6,
         15.2,
         0.454,
         4.1,
         1.4,
         0.8
        ],
        [
         "Austin Reaves",
         25,
         32.1,
         15.9,
         0.486,
         3.6,
         0.7,
         2.1
        ],
        [
         "Collin Sexton",
         25,
         26.6,
         18.7,
         0.487,
         1.7,
         0.9,
         2.1
        ],
        [
         "Mark Williams",
         22,
         26.7,
         12.7,
         0.649,
         5.7,
         4.0,
         0.9
        ],
        [
         "Darius Garland",
         24,
         33.4,
         18.0,
         0.446,
         2.1,
         0.5,
         3.1
        ],
        [
         "Ivica Zubac",
         26,
         26.4,
         11.7,
         0.649,
         6.3,
         2.9,
         1.2
        ],
        [
         "Trey Murphy III",
         23,
         29.6,
         14.8,
         0.443,
         4.2,
         0.7,
         0.6
        ],
        [
         "Bogdan BogdanoviÄ",
         31,
         30.4,
         16.9,
         0.428,
         2.8,
         0.7,
         1.4
        ],
        [
         "Khris Middleton",
         32,
         27.0,
         15.1,
         0.493,
         3.9,
         0.7,
         2.3
        ],
        [
         "Jordan Clarkson",
         31,
         30.6,
         17.1,
         0.413,
         2.5,
         0.9,
         2.7
        ],
        [
         "Jordan Poole",
         24,
         30.1,
         17.4,
         0.413,
         2.3,
         0.4,
         2.4
        ],
        [
         "Simone Fontecchio",
         28,
         30.3,
         15.4,
         0.479,
         3.6,
         0.8,
         1.1
        ],
        [
         "Kelly Oubre Jr.",
         28,
         30.2,
         15.4,
         0.441,
         3.6,
         1.4,
         1.3
        ],
        [
         "De'Andre Hunter",
         26,
         29.5,
         15.6,
         0.459,
         3.4,
         0.5,
         1.5
        ],
        [
         "Clint Capela",
         29,
         25.8,
         11.5,
         0.571,
         6.0,
         4.6,
         1.0
        ],
        [
         "Derrick White",
         29,
         32.6,
         15.2,
         0.461,
         3.5,
         0.7,
         1.5
        ],
        [
         "Malcolm Brogdon",
         31,
         28.7,
         15.7,
         0.44,
         3.1,
         0.7,
         1.5
        ],
        [
         "Marvin Bagley III",
         24,
         24.0,
         13.3,
         0.581,
         4.6,
         3.5,
         1.3
        ],
        [
         "Aaron Gordon",
         28,
         31.5,
         13.9,
         0.556,
         4.1,
         2.4,
         1.4
        ],
        [
         "Gordon Hayward",
         33,
         31.9,
         14.5,
         0.468,
         3.7,
         1.0,
         2.0
        ],
        [
         "Javonte Green",
         30,
         25.6,
         12.2,
         0.6,
         5.2,
         2.2,
         0.8
        ],
        [
         "Naz Reid",
         24,
         24.2,
         13.5,
         0.477,
         4.3,
         0.9,
         1.4
        ],
        [
         "Donte DiVincenzo",
         27,
         29.1,
         15.5,
         0.443,
         2.9,
         0.8,
         1.4
        ],
        [
         "Josh Giddey",
         21,
         25.1,
         12.3,
         0.475,
         5.0,
         1.4,
         2.1
        ],
        [
         "P.J. Washington",
         25,
         29.2,
         13.6,
         0.446,
         4.1,
         1.2,
         1.5
        ],
        [
         "Jakob Poeltl",
         28,
         26.4,
         11.1,
         0.656,
         5.7,
         2.9,
         1.5
        ],
        [
         "P.J. Washington",
         25,
         30.4,
         12.9,
         0.436,
         4.5,
         1.2,
         1.3
        ],
        [
         "OG Anunoby",
         26,
         33.3,
         15.1,
         0.489,
         3.0,
         0.9,
         1.6
        ],
        [
         "Josh Hart",
         28,
         33.4,
         9.4,
         0.434,
         6.8,
         1.6,
         1.5
        ],
        [
         "Grant Williams",
         25,
         30.6,
         13.9,
         0.503,
         3.8,
         1.4,
         1.9
        ],
        [
         "Saddiq Bey",
         24,
         32.7,
         13.7,
         0.416,
         3.9,
         2.7,
         0.9
        ],
        [
         "OG Anunoby",
         26,
         34.0,
         14.7,
         0.489,
         3.2,
         0.9,
         1.6
        ],
        [
         "P.J. Washington",
         25,
         32.2,
         11.7,
         0.421,
         5.1,
         1.1,
         1.0
        ],
        [
         "Malik Monk",
         25,
         26.0,
         15.4,
         0.443,
         2.6,
         0.4,
         2.1
        ],
        [
         "Caris LeVert",
         29,
         28.8,
         14.0,
         0.421,
         3.5,
         0.6,
         1.7
        ],
        [
         "OG Anunoby",
         26,
         34.9,
         14.1,
         0.488,
         3.4,
         1.0,
         1.7
        ],
        [
         "GG Jackson II",
         19,
         25.7,
         14.6,
         0.428,
         3.0,
         1.1,
         1.4
        ],
        [
         "Dennis SchrÃ¶der",
         30,
         32.0,
         14.6,
         0.424,
         2.9,
         0.6,
         2.4
        ],
        [
         "Rui Hachimura",
         25,
         26.9,
         13.6,
         0.537,
         3.5,
         0.9,
         0.7
        ],
        [
         "Jaden Ivey",
         21,
         28.8,
         15.4,
         0.429,
         2.3,
         1.1,
         2.5
        ],
        [
         "Bennedict Mathurin",
         21,
         26.1,
         14.5,
         0.446,
         2.9,
         1.0,
         1.6
        ],
        [
         "Jrue Holiday",
         33,
         32.8,
         12.5,
         0.48,
         4.2,
         1.2,
         1.8
        ],
        [
         "Tim Hardaway Jr.",
         31,
         26.8,
         14.4,
         0.402,
         2.9,
         0.3,
         0.9
        ],
        [
         "Kelly Olynyk",
         32,
         26.4,
         12.7,
         0.548,
         4.0,
         1.6,
         2.5
        ],
        [
         "Bojan BogdanoviÄ",
         34,
         25.9,
         15.2,
         0.454,
         2.3,
         0.4,
         1.8
        ],
        [
         "Immanuel Quickley",
         24,
         24.0,
         15.0,
         0.454,
         2.4,
         0.2,
         1.0
        ],
        [
         "Daniel Gafford",
         25,
         26.5,
         10.9,
         0.69,
         5.1,
         2.9,
         1.0
        ],
        [
         "Daniel Gafford",
         25,
         24.5,
         11.0,
         0.725,
         5.0,
         2.6,
         1.0
        ],
        [
         "Cameron Johnson",
         27,
         27.6,
         13.4,
         0.446,
         3.4,
         0.9,
         1.0
        ],
        [
         "Jeremy Sochan",
         20,
         29.6,
         11.6,
         0.438,
         4.6,
         1.9,
         1.9
        ],
        [
         "Grayson Allen",
         28,
         33.5,
         13.5,
         0.499,
         3.3,
         0.6,
         1.3
        ],
        [
         "Isaiah Stewart",
         22,
         30.9,
         10.9,
         0.487,
         5.0,
         1.6,
         1.4
        ],
        [
         "Wendell Carter Jr.",
         24,
         25.6,
         11.0,
         0.525,
         4.9,
         2.0,
         1.2
        ],
        [
         "Daniel Gafford",
         25,
         21.5,
         11.2,
         0.78,
         4.7,
         2.2,
         1.0
        ],
        [
         "Marcus Smart",
         29,
         30.3,
         14.5,
         0.43,
         2.4,
         0.3,
         3.1
        ],
        [
         "Brook Lopez",
         35,
         30.5,
         12.5,
         0.485,
         3.7,
         1.5,
         1.0
        ],
        [
         "Max Strus",
         27,
         32.0,
         12.2,
         0.418,
         3.9,
         0.9,
         1.6
        ],
        [
         "Bruce Brown",
         27,
         29.7,
         12.1,
         0.475,
         3.9,
         0.8,
         1.2
        ],
        [
         "Nick Richards",
         26,
         26.3,
         9.7,
         0.691,
         5.5,
         2.6,
         1.1
        ],
        [
         "Jordan Goodwin",
         25,
         29.2,
         10.0,
         0.349,
         5.2,
         2.8,
         1.6
        ],
        [
         "Tre Mann",
         22,
         31.0,
         11.9,
         0.453,
         3.9,
         0.6,
         2.0
        ],
        [
         "Dennis SchrÃ¶der",
         30,
         31.1,
         14.0,
         0.435,
         2.5,
         0.5,
         1.9
        ],
        [
         "Chimezie Metu",
         26,
         29.4,
         10.5,
         0.5,
         4.8,
         1.2,
         1.8
        ],
        [
         "Andrew Wiggins",
         28,
         27.0,
         13.2,
         0.453,
         3.0,
         1.5,
         1.2
        ],
        [
         "Santi Aldama",
         23,
         26.5,
         10.7,
         0.435,
         4.6,
         1.2,
         1.1
        ],
        [
         "Kenneth Lofton Jr.",
         21,
         22.8,
         13.8,
         0.6,
         2.5,
         2.5,
         1.5
        ],
        [
         "Norman Powell",
         30,
         26.2,
         13.9,
         0.486,
         2.4,
         0.2,
         0.9
        ],
        [
         "Draymond Green",
         33,
         27.1,
         8.6,
         0.497,
         5.9,
         1.4,
         2.5
        ],
        [
         "Scoot Henderson",
         19,
         28.5,
         14.0,
         0.385,
         2.3,
         0.9,
         3.4
        ],
        [
         "Lamar Stevens",
         26,
         23.0,
         11.5,
         0.446,
         3.8,
         1.3,
         0.8
        ],
        [
         "Tari Eason",
         22,
         21.8,
         9.8,
         0.466,
         4.9,
         2.1,
         0.9
        ],
        [
         "Dennis SchrÃ¶der",
         30,
         30.6,
         13.7,
         0.442,
         2.3,
         0.4,
         1.6
        ],
        [
         "Gary Trent Jr.",
         25,
         28.1,
         13.7,
         0.426,
         2.3,
         0.4,
         0.7
        ],
        [
         "Marvin Bagley III",
         24,
         21.1,
         11.7,
         0.586,
         3.6,
         2.6,
         1.2
        ],
        [
         "Corey Kispert",
         24,
         25.8,
         13.4,
         0.486,
         2.4,
         0.4,
         1.2
        ],
        [
         "Keyonte George",
         20,
         27.0,
         13.0,
         0.391,
         2.6,
         0.2,
         2.5
        ],
        [
         "Spencer Dinwiddie",
         30,
         30.7,
         12.6,
         0.391,
         2.8,
         0.5,
         1.3
        ],
        [
         "Andre Drummond",
         30,
         17.1,
         8.4,
         0.556,
         5.6,
         3.4,
         1.0
        ],
        [
         "Dillon Brooks",
         28,
         30.9,
         12.7,
         0.428,
         2.7,
         0.7,
         1.2
        ],
        [
         "Zach Collins",
         26,
         22.1,
         11.2,
         0.484,
         3.7,
         1.7,
         1.9
        ],
        [
         "Russell Westbrook",
         35,
         22.5,
         11.1,
         0.454,
         3.7,
         1.4,
         2.1
        ],
        [
         "Cam Whitmore",
         19,
         18.7,
         12.3,
         0.454,
         2.9,
         0.9,
         1.0
        ],
        [
         "Vince Williams Jr.",
         23,
         27.6,
         10.0,
         0.446,
         4.4,
         1.1,
         1.8
        ],
        [
         "Aaron Nesmith",
         24,
         27.7,
         12.2,
         0.496,
         2.9,
         0.9,
         0.9
        ],
        [
         "Onyeka Okongwu",
         23,
         25.5,
         10.2,
         0.611,
         4.2,
         2.6,
         0.8
        ],
        [
         "Kevin Love",
         35,
         16.8,
         8.8,
         0.44,
         5.1,
         1.1,
         0.9
        ],
        [
         "Jabari Walker",
         21,
         23.6,
         8.9,
         0.46,
         5.0,
         2.1,
         0.9
        ],
        [
         "Duncan Robinson",
         29,
         28.0,
         12.9,
         0.45,
         2.3,
         0.2,
         1.4
        ],
        [
         "Al Horford",
         37,
         26.8,
         8.6,
         0.511,
         5.1,
         1.3,
         0.7
        ],
        [
         "Jalen Suggs",
         22,
         27.0,
         12.6,
         0.471,
         2.4,
         0.6,
         1.8
        ],
        [
         "Cole Anthony",
         23,
         22.4,
         11.6,
         0.435,
         3.0,
         0.8,
         1.6
        ],
        [
         "Malik Beasley",
         27,
         29.6,
         11.3,
         0.443,
         3.2,
         0.5,
         0.7
        ],
        [
         "Brandon Clarke",
         27,
         22.3,
         11.3,
         0.559,
         3.2,
         2.2,
         0.5
        ],
        [
         "Scotty Pippen Jr.",
         23,
         25.1,
         12.9,
         0.493,
         2.1,
         1.0,
         2.7
        ],
        [
         "Jaime Jaquez Jr.",
         22,
         28.2,
         11.9,
         0.489,
         2.7,
         1.1,
         1.5
        ],
        [
         "Bruce Brown",
         27,
         27.9,
         10.8,
         0.478,
         3.4,
         0.8,
         1.3
        ],
        [
         "Alec Burks",
         32,
         21.0,
         12.6,
         0.394,
         2.2,
         0.4,
         0.7
        ],
        [
         "Buddy Hield",
         31,
         25.7,
         12.0,
         0.443,
         2.6,
         0.7,
         1.2
        ],
        [
         "Buddy Hield",
         31,
         25.7,
         12.1,
         0.436,
         2.5,
         0.7,
         1.2
        ],
        [
         "Amen Thompson",
         21,
         22.4,
         9.5,
         0.536,
         4.2,
         2.4,
         1.5
        ],
        [
         "Kelly Olynyk",
         32,
         22.6,
         9.8,
         0.555,
         3.9,
         1.4,
         1.9
        ],
        [
         "Buddy Hield",
         31,
         25.8,
         12.2,
         0.426,
         2.3,
         0.8,
         1.3
        ],
        [
         "Tyus Jones",
         27,
         29.3,
         12.0,
         0.489,
         2.4,
         0.3,
         1.0
        ],
        [
         "De'Anthony Melton",
         25,
         26.9,
         11.1,
         0.386,
         3.0,
         0.7,
         1.0
        ],
        [
         "Harrison Barnes",
         31,
         29.0,
         12.2,
         0.474,
         2.2,
         0.8,
         0.7
        ],
        [
         "Brandin Podziemski",
         20,
         26.6,
         9.2,
         0.454,
         4.2,
         1.6,
         1.2
        ],
        [
         "Jalen Smith",
         23,
         17.2,
         9.9,
         0.592,
         3.7,
         1.8,
         0.7
        ],
        [
         "Isaiah Hartenstein",
         25,
         25.3,
         7.8,
         0.644,
         5.1,
         3.3,
         1.2
        ],
        [
         "Walker Kessler",
         22,
         23.3,
         8.1,
         0.654,
         4.9,
         2.6,
         1.0
        ],
        [
         "Dereck Lively II",
         19,
         23.5,
         8.8,
         0.747,
         4.4,
         2.5,
         0.9
        ],
        [
         "Ayo Dosunmu",
         24,
         29.1,
         12.2,
         0.501,
         2.1,
         0.7,
         1.4
        ],
        [
         "Ausar Thompson",
         21,
         25.1,
         8.8,
         0.483,
         4.3,
         2.0,
         1.3
        ],
        [
         "Moritz Wagner",
         26,
         17.7,
         10.9,
         0.601,
         2.9,
         1.5,
         1.2
        ],
        [
         "Mike Conley",
         36,
         28.9,
         11.4,
         0.457,
         2.4,
         0.5,
         1.3
        ],
        [
         "Luguentz Dort",
         24,
         28.4,
         10.9,
         0.438,
         2.7,
         0.9,
         0.9
        ],
        [
         "Ben Simmons",
         27,
         23.9,
         6.1,
         0.581,
         5.9,
         2.1,
         1.8
        ],
        [
         "Grant Williams",
         25,
         28.0,
         10.3,
         0.456,
         3.1,
         1.1,
         1.4
        ],
        [
         "Herbert Jones",
         25,
         30.5,
         11.0,
         0.498,
         2.6,
         1.0,
         1.2
        ],
        [
         "Luke Kennard",
         27,
         25.6,
         11.0,
         0.448,
         2.6,
         0.3,
         1.4
        ],
        [
         "Royce O'Neale",
         30,
         25.1,
         8.1,
         0.411,
         4.5,
         0.7,
         0.7
        ],
        [
         "Caleb Martin",
         28,
         27.4,
         10.0,
         0.431,
         3.2,
         1.2,
         1.2
        ],
        [
         "Simone Fontecchio",
         28,
         24.9,
         10.5,
         0.46,
         2.8,
         1.0,
         1.0
        ],
        [
         "Obi Toppin",
         25,
         21.1,
         10.3,
         0.573,
         2.9,
         1.0,
         0.8
        ],
        [
         "Alex Caruso",
         29,
         28.7,
         10.1,
         0.468,
         3.0,
         0.9,
         1.4
        ],
        [
         "Chris Paul",
         38,
         26.4,
         9.2,
         0.441,
         3.6,
         0.3,
         1.3
        ],
        [
         "Kevin Huerter",
         25,
         24.4,
         10.2,
         0.443,
         2.9,
         0.6,
         0.8
        ],
        [
         "Tre Jones",
         24,
         27.8,
         10.0,
         0.505,
         3.0,
         0.8,
         1.5
        ],
        [
         "Marvin Bagley III",
         24,
         18.4,
         10.2,
         0.591,
         2.8,
         1.8,
         1.1
        ],
        [
         "Patrick Williams",
         22,
         27.3,
         10.0,
         0.443,
         2.8,
         1.1,
         1.3
        ],
        [
         "Jake LaRavia",
         22,
         23.0,
         10.8,
         0.389,
         2.2,
         1.5,
         1.3
        ],
        [
         "Bruce Brown",
         27,
         26.0,
         9.6,
         0.481,
         3.0,
         0.8,
         1.3
        ],
        [
         "Dalano Banton",
         24,
         19.4,
         10.3,
         0.404,
         2.5,
         0.8,
         1.4
        ],
        [
         "Georges Niang",
         30,
         22.3,
         9.4,
         0.449,
         3.1,
         0.3,
         0.9
        ],
        [
         "Precious Achiuwa",
         24,
         24.2,
         7.6,
         0.525,
         4.3,
         2.9,
         1.1
        ],
        [
         "Gordon Hayward",
         33,
         24.4,
         9.8,
         0.464,
         2.8,
         0.7,
         1.3
        ],
        [
         "Tre Mann",
         22,
         24.1,
         9.3,
         0.459,
         3.1,
         0.5,
         1.6
        ],
        [
         "Spencer Dinwiddie",
         30,
         28.3,
         10.5,
         0.392,
         2.3,
         0.4,
         1.2
        ],
        [
         "Jaden McDaniels",
         23,
         29.2,
         10.5,
         0.489,
         2.3,
         0.8,
         1.2
        ],
        [
         "Kelly Olynyk",
         32,
         20.4,
         8.1,
         0.562,
         3.8,
         1.3,
         1.6
        ],
        [
         "Royce O'Neale",
         30,
         24.7,
         7.7,
         0.397,
         4.0,
         0.8,
         0.9
        ],
        [
         "Precious Achiuwa",
         24,
         21.9,
         7.6,
         0.501,
         4.0,
         2.6,
         1.1
        ],
        [
         "Robert Williams",
         26,
         19.8,
         6.8,
         0.654,
         4.5,
         1.8,
         1.2
        ],
        [
         "T.J. McConnell",
         31,
         18.2,
         10.2,
         0.556,
         2.2,
         0.5,
         1.5
        ],
        [
         "Josh Richardson",
         30,
         25.7,
         9.9,
         0.444,
         2.4,
         0.4,
         0.8
        ],
        [
         "Eric Gordon",
         35,
         27.8,
         11.0,
         0.443,
         1.6,
         0.2,
         1.1
        ],
        [
         "Vasilije MiciÄ",
         30,
         27.2,
         10.8,
         0.437,
         1.7,
         0.4,
         2.3
        ],
        [
         "Sam Hauser",
         26,
         22.0,
         9.0,
         0.446,
         2.9,
         0.6,
         0.4
        ],
        [
         "Christian Wood",
         28,
         17.4,
         6.9,
         0.466,
         4.3,
         0.8,
         1.0
        ],
        [
         "Alec Burks",
         32,
         18.4,
         10.4,
         0.369,
         1.9,
         0.4,
         0.7
        ],
        [
         "Bilal Coulibaly",
         19,
         27.2,
         8.4,
         0.435,
         3.2,
         0.9,
         1.4
        ],
        [
         "Payton Pritchard",
         26,
         22.3,
         9.6,
         0.468,
         2.4,
         0.9,
         0.7
        ],
        [
         "Dorian Finney-Smith",
         30,
         28.4,
         8.5,
         0.421,
         3.1,
         1.6,
         0.9
        ],
        [
         "Nikola JoviÄ",
         20,
         19.5,
         7.7,
         0.452,
         3.6,
         0.5,
         0.9
        ],
        [
         "Kentavious Caldwell-Pope",
         30,
         31.6,
         10.1,
         0.46,
         2.0,
         0.4,
         1.0
        ],
        [
         "Talen Horton-Tucker",
         23,
         19.8,
         10.1,
         0.396,
         2.0,
         0.4,
         1.3
        ],
        [
         "David Roddy",
         22,
         23.2,
         8.4,
         0.402,
         3.1,
         1.1,
         1.1
        ],
        [
         "Tristan Vukcevic",
         20,
         15.3,
         8.5,
         0.433,
         3.0,
         0.6,
         1.0
        ],
        [
         "Royce O'Neale",
         30,
         24.5,
         7.4,
         0.388,
         3.7,
         0.8,
         1.0
        ],
        [
         "Taurean Prince",
         29,
         27.0,
         8.9,
         0.442,
         2.7,
         0.3,
         0.9
        ],
        [
         "Bojan BogdanoviÄ",
         34,
         19.2,
         10.4,
         0.43,
         1.7,
         0.3,
         1.3
        ],
        [
         "Richaun Holmes",
         30,
         18.7,
         7.1,
         0.557,
         3.9,
         2.2,
         0.7
        ],
        [
         "Dario Å ariÄ",
         29,
         17.2,
         8.0,
         0.466,
         3.3,
         1.1,
         1.2
        ],
        [
         "Precious Achiuwa",
         24,
         17.5,
         7.7,
         0.459,
         3.4,
         2.0,
         1.2
        ],
        [
         "Darius Bazley",
         23,
         23.7,
         8.0,
         0.621,
         3.2,
         1.3,
         1.2
        ],
        [
         "Aleksej Pokusevski",
         22,
         19.2,
         7.4,
         0.429,
         3.6,
         0.8,
         0.9
        ],
        [
         "Paul Reed",
         24,
         19.4,
         7.3,
         0.54,
         3.6,
         2.4,
         0.8
        ],
        [
         "Lonnie Walker IV",
         25,
         17.4,
         9.7,
         0.423,
         2.0,
         0.2,
         0.9
        ],
        [
         "Simone Fontecchio",
         28,
         23.2,
         8.9,
         0.45,
         2.5,
         1.0,
         1.0
        ],
        [
         "Taylor Hendricks",
         20,
         21.4,
         7.3,
         0.45,
         3.5,
         1.2,
         0.7
        ],
        [
         "Duop Reath",
         27,
         17.9,
         9.1,
         0.461,
         2.3,
         1.4,
         0.8
        ],
        [
         "James Wiseman",
         22,
         17.3,
         7.1,
         0.613,
         3.6,
         1.7,
         1.0
        ],
        [
         "MÃ£ozinha Pereira",
         23,
         17.4,
         6.9,
         0.514,
         3.7,
         1.6,
         0.7
        ],
        [
         "Reggie Jackson",
         33,
         22.2,
         10.2,
         0.431,
         1.5,
         0.4,
         1.3
        ],
        [
         "Trayce Jackson-Davis",
         23,
         16.6,
         7.9,
         0.702,
         3.0,
         2.0,
         0.7
        ],
        [
         "Isaac Okoro",
         23,
         27.3,
         9.4,
         0.49,
         2.0,
         1.0,
         0.8
        ],
        [
         "Kyle Lowry",
         37,
         28.0,
         8.2,
         0.426,
         2.8,
         0.7,
         1.4
        ],
        [
         "Ziaire Williams",
         22,
         20.4,
         8.2,
         0.397,
         2.8,
         0.7,
         1.3
        ],
        [
         "Day'Ron Sharpe",
         22,
         15.1,
         6.8,
         0.571,
         3.7,
         2.6,
         1.1
        ],
        [
         "Trey Lyles",
         28,
         20.0,
         7.2,
         0.445,
         3.4,
         1.1,
         0.7
        ],
        [
         "Cody Martin",
         28,
         26.9,
         7.5,
         0.381,
         3.2,
         0.7,
         1.6
        ],
        [
         "Kyle Lowry",
         37,
         28.2,
         8.1,
         0.432,
         2.7,
         0.6,
         1.4
        ],
        [
         "Terance Mann",
         27,
         25.0,
         8.8,
         0.515,
         2.2,
         1.2,
         0.6
        ],
        [
         "Jordan Nwora",
         25,
         15.6,
         7.9,
         0.465,
         2.8,
         0.6,
         1.2
        ],
        [
         "Grant Williams",
         25,
         26.4,
         8.1,
         0.413,
         2.6,
         1.0,
         1.1
        ],
        [
         "Bismack Biyombo",
         31,
         23.9,
         5.2,
         0.563,
         4.5,
         1.9,
         1.3
        ],
        [
         "Josh Green",
         23,
         26.4,
         8.2,
         0.479,
         2.5,
         0.7,
         1.1
        ],
        [
         "Trey Jemison",
         24,
         24.9,
         7.4,
         0.551,
         3.0,
         2.8,
         1.4
        ],
        [
         "Derrick Jones Jr.",
         26,
         23.5,
         8.6,
         0.483,
         2.2,
         1.1,
         0.9
        ],
        [
         "Toumani Camara",
         23,
         24.8,
         7.5,
         0.45,
         2.9,
         2.0,
         1.2
        ],
        [
         "Danilo Gallinari",
         35,
         15.0,
         8.7,
         0.545,
         2.0,
         0.3,
         0.2
        ],
        [
         "Jonathan Isaac",
         26,
         15.8,
         6.8,
         0.51,
         3.2,
         1.3,
         0.5
        ],
        [
         "Malaki Branham",
         20,
         21.3,
         9.2,
         0.432,
         1.6,
         0.4,
         1.2
        ],
        [
         "Kyle Lowry",
         37,
         28.4,
         8.0,
         0.444,
         2.4,
         0.4,
         1.4
        ],
        [
         "Brice Sensabaugh",
         20,
         18.3,
         7.5,
         0.39,
         2.7,
         0.5,
         1.5
        ],
        [
         "Christian Braun",
         22,
         20.2,
         7.3,
         0.46,
         2.8,
         1.0,
         0.7
        ],
        [
         "Andrew Nembhard",
         24,
         25.0,
         9.2,
         0.498,
         1.5,
         0.5,
         1.5
        ],
        [
         "Mitchell Robinson",
         25,
         24.8,
         5.6,
         0.575,
         3.9,
         4.6,
         0.8
        ],
        [
         "Seth Curry",
         33,
         19.9,
         9.0,
         0.441,
         1.6,
         0.4,
         0.6
        ],
        [
         "Naji Marshall",
         26,
         19.0,
         7.1,
         0.463,
         2.8,
         0.8,
         1.0
        ],
        [
         "Dante Exum",
         28,
         19.8,
         7.8,
         0.533,
         2.3,
         0.5,
         0.9
        ],
        [
         "Cameron Payne",
         29,
         19.4,
         9.3,
         0.413,
         1.3,
         0.5,
         1.1
        ],
        [
         "DÄvis BertÄns",
         31,
         20.8,
         8.8,
         0.394,
         1.6,
         0.3,
         0.6
        ],
        [
         "Gradey Dick",
         20,
         21.1,
         8.5,
         0.425,
         1.8,
         0.5,
         0.8
        ],
        [
         "Tosan Evbuomwan",
         22,
         22.5,
         7.0,
         0.571,
         2.8,
         0.8,
         0.6
        ],
        [
         "Moses Moody",
         21,
         17.5,
         8.1,
         0.462,
         2.0,
         1.0,
         0.7
        ],
        [
         "Isaiah Joe",
         24,
         18.5,
         8.2,
         0.458,
         1.9,
         0.4,
         0.6
        ],
        [
         "Trey Jemison",
         24,
         22.9,
         6.8,
         0.551,
         2.8,
         2.6,
         1.4
        ],
        [
         "Chimezie Metu",
         26,
         16.8,
         6.5,
         0.504,
         3.0,
         0.8,
         1.0
        ],
        [
         "Shake Milton",
         27,
         15.8,
         6.8,
         0.423,
         2.8,
         1.8,
         0.8
        ],
        [
         "Mason Plumlee",
         33,
         14.7,
         5.3,
         0.569,
         3.8,
         1.3,
         0.8
        ],
        [
         "Larry Nance Jr.",
         31,
         19.9,
         5.7,
         0.573,
         3.5,
         1.5,
         0.8
        ],
        [
         "Jordan Goodwin",
         25,
         18.5,
         6.5,
         0.369,
         2.9,
         1.5,
         1.0
        ],
        [
         "Bruno Fernando",
         25,
         15.2,
         6.3,
         0.583,
         3.0,
         1.3,
         1.0
        ],
        [
         "Killian Hayes",
         22,
         24.0,
         6.9,
         0.413,
         2.6,
         0.3,
         1.2
        ],
        [
         "DeJon Jarreau",
         26,
         16.7,
         4.8,
         0.34,
         4.0,
         0.9,
         1.0
        ],
        [
         "Lamar Stevens",
         26,
         14.7,
         7.2,
         0.45,
         2.4,
         0.9,
         0.6
        ],
        [
         "Chris Boucher",
         31,
         14.1,
         6.4,
         0.507,
         2.9,
         1.2,
         0.6
        ],
        [
         "Javon Freeman-Liberty",
         24,
         18.3,
         7.0,
         0.444,
         2.5,
         0.7,
         1.1
        ],
        [
         "Danilo Gallinari",
         35,
         14.8,
         7.0,
         0.435,
         2.5,
         0.5,
         0.5
        ],
        [
         "Marcus Sasser",
         23,
         19.0,
         8.3,
         0.428,
         1.6,
         0.2,
         1.3
        ],
        [
         "Markelle Fultz",
         25,
         21.2,
         7.8,
         0.472,
         1.9,
         1.3,
         1.2
        ],
        [
         "Jahmi'us Ramsey",
         22,
         17.3,
         6.7,
         0.439,
         2.6,
         0.6,
         1.0
        ],
        [
         "Jordan Hawkins",
         21,
         17.3,
         7.8,
         0.382,
         1.8,
         0.4,
         0.6
        ],
        [
         "Xavier Tillman Sr.",
         25,
         20.6,
         6.0,
         0.408,
         3.0,
         1.6,
         0.9
        ],
        [
         "Dean Wade",
         27,
         20.5,
         5.4,
         0.414,
         3.4,
         0.7,
         0.4
        ],
        [
         "Kyle Anderson",
         30,
         22.6,
         6.4,
         0.46,
         2.7,
         0.8,
         1.2
        ],
        [
         "Marcus Morris",
         34,
         17.2,
         6.7,
         0.439,
         2.5,
         0.5,
         0.5
        ],
        [
         "Jordan Nwora",
         25,
         13.7,
         7.0,
         0.462,
         2.3,
         0.5,
         1.0
        ],
        [
         "Peyton Watson",
         21,
         18.6,
         6.7,
         0.465,
         2.5,
         0.7,
         0.7
        ],
        [
         "Nickeil Alexander-Walker",
         25,
         23.4,
         8.0,
         0.439,
         1.6,
         0.4,
         0.9
        ],
        [
         "Sam Merrill",
         27,
         17.5,
         8.0,
         0.402,
         1.6,
         0.4,
         0.3
        ],
        [
         "Derrick Rose",
         35,
         16.6,
         8.0,
         0.461,
         1.6,
         0.3,
         1.3
        ],
        [
         "Daniel Theis",
         31,
         16.9,
         6.3,
         0.532,
         2.7,
         1.4,
         0.7
        ],
        [
         "Daniel Theis",
         31,
         17.1,
         6.3,
         0.536,
         2.7,
         1.4,
         0.7
        ],
        [
         "Patrick Beverley",
         35,
         20.9,
         6.0,
         0.391,
         2.9,
         0.7,
         0.6
        ],
        [
         "Trendon Watford",
         23,
         13.6,
         6.9,
         0.527,
         2.3,
         0.8,
         1.0
        ],
        [
         "Malachi Flynn",
         25,
         14.3,
         8.0,
         0.43,
         1.5,
         0.3,
         1.1
        ],
        [
         "RaiQuan Gray",
         24,
         13.0,
         7.7,
         0.588,
         1.7,
         0.7,
         0.3
        ],
        [
         "Jaylen Nowell",
         24,
         14.5,
         7.5,
         0.522,
         1.8,
         0.8,
         0.5
        ],
        [
         "Dyson Daniels",
         20,
         22.3,
         5.8,
         0.447,
         2.9,
         1.0,
         1.0
        ],
        [
         "Jarred Vanderbilt",
         24,
         20.0,
         5.2,
         0.518,
         3.3,
         1.4,
         1.0
        ],
        [
         "Patrick Beverley",
         35,
         20.0,
         6.2,
         0.417,
         2.6,
         0.7,
         0.9
        ],
        [
         "Jae Crowder",
         33,
         23.1,
         6.2,
         0.422,
         2.6,
         0.6,
         0.5
        ],
        [
         "Julian Champagnie",
         22,
         19.8,
         6.8,
         0.408,
         2.2,
         0.6,
         0.8
        ],
        [
         "Isaiah Jackson",
         22,
         13.1,
         6.5,
         0.665,
         2.4,
         1.6,
         0.7
        ],
        [
         "Cedi Osman",
         28,
         17.6,
         6.8,
         0.479,
         2.2,
         0.3,
         0.7
        ],
        [
         "David Roddy",
         22,
         18.1,
         6.5,
         0.403,
         2.4,
         0.8,
         0.9
        ],
        [
         "Kevon Looney",
         27,
         16.1,
         4.5,
         0.597,
         3.7,
         1.9,
         0.7
        ],
        [
         "Nicolas Batum",
         35,
         25.9,
         5.5,
         0.456,
         3.0,
         1.2,
         0.7
        ],
        [
         "Bismack Biyombo",
         31,
         19.8,
         4.4,
         0.565,
         3.7,
         1.6,
         1.1
        ],
        [
         "Kevin Knox",
         24,
         18.1,
         7.2,
         0.462,
         1.8,
         0.6,
         0.7
        ],
        [
         "Patrick Beverley",
         35,
         19.6,
         6.3,
         0.432,
         2.4,
         0.6,
         1.0
        ],
        [
         "Torrey Craig",
         33,
         19.8,
         5.7,
         0.43,
         2.8,
         1.3,
         0.6
        ],
        [
         "Marcus Morris",
         34,
         16.7,
         6.4,
         0.439,
         2.3,
         0.5,
         0.6
        ],
        [
         "Jose Alvarado",
         25,
         18.4,
         7.1,
         0.412,
         1.8,
         0.4,
         0.7
        ],
        [
         "Nicolas Batum",
         35,
         25.5,
         5.3,
         0.453,
         3.0,
         1.2,
         0.7
        ],
        [
         "Miles McBride",
         23,
         19.5,
         8.3,
         0.452,
         1.0,
         0.5,
         0.4
        ],
        [
         "Thomas Bryant",
         26,
         11.6,
         5.7,
         0.577,
         2.7,
         1.1,
         0.6
        ],
        [
         "Evan Fournier",
         31,
         18.7,
         7.2,
         0.373,
         1.7,
         0.2,
         0.7
        ],
        [
         "Quentin Grimes",
         23,
         20.2,
         7.3,
         0.395,
         1.6,
         0.3,
         0.5
        ],
        [
         "Tosan Evbuomwan",
         22,
         21.6,
         5.9,
         0.507,
         2.5,
         1.1,
         0.5
        ],
        [
         "Dennis Smith Jr.",
         26,
         18.9,
         6.6,
         0.435,
         2.0,
         0.9,
         1.2
        ],
        [
         "Ochai Agbaji",
         23,
         23.6,
         6.7,
         0.391,
         1.9,
         1.4,
         1.1
        ],
        [
         "Quentin Grimes",
         23,
         20.1,
         7.0,
         0.372,
         1.7,
         0.3,
         0.5
        ],
        [
         "Jaden Hardy",
         21,
         13.5,
         7.3,
         0.407,
         1.5,
         0.3,
         0.8
        ],
        [
         "David Duke Jr.",
         24,
         12.8,
         6.5,
         0.556,
         2.0,
         0.5,
         0.8
        ],
        [
         "Drew Eubanks",
         26,
         15.6,
         5.1,
         0.601,
         2.9,
         1.4,
         0.8
        ],
        [
         "Evan Fournier",
         31,
         18.1,
         6.9,
         0.357,
         1.7,
         0.2,
         0.7
        ],
        [
         "Johnny Juzang",
         22,
         18.6,
         7.2,
         0.464,
         1.5,
         0.4,
         0.7
        ],
        [
         "Zavier Simpson",
         26,
         23.0,
         6.0,
         0.315,
         2.3,
         0.6,
         1.4
        ],
        [
         "Haywood Highsmith",
         27,
         20.7,
         6.1,
         0.465,
         2.2,
         1.0,
         0.5
        ],
        [
         "Kris Murray",
         23,
         21.7,
         6.1,
         0.396,
         2.2,
         1.4,
         0.9
        ],
        [
         "Noah Clowney",
         19,
         16.1,
         5.8,
         0.538,
         2.4,
         1.1,
         0.7
        ],
        [
         "John Konchar",
         27,
         21.3,
         4.3,
         0.423,
         3.4,
         1.3,
         0.8
        ],
        [
         "Goga Bitadze",
         24,
         15.4,
         5.0,
         0.603,
         2.9,
         1.8,
         0.7
        ],
        [
         "Justin Champagnie",
         22,
         15.7,
         5.9,
         0.41,
         2.3,
         1.3,
         0.7
        ],
        [
         "Pat Connaughton",
         31,
         22.1,
         5.6,
         0.435,
         2.5,
         0.7,
         0.6
        ],
        [
         "Aaron Wiggins",
         25,
         15.7,
         6.9,
         0.562,
         1.6,
         0.8,
         0.7
        ],
        [
         "Neemias Queta",
         24,
         11.9,
         5.5,
         0.644,
         2.5,
         1.9,
         0.5
        ],
        [
         "Richaun Holmes",
         30,
         13.9,
         5.0,
         0.558,
         2.8,
         1.8,
         0.6
        ],
        [
         "Cameron Payne",
         29,
         16.7,
         7.4,
         0.432,
         1.2,
         0.3,
         0.8
        ],
        [
         "Xavier Tillman Sr.",
         25,
         18.0,
         5.3,
         0.434,
         2.6,
         1.3,
         0.6
        ],
        [
         "Cason Wallace",
         20,
         20.6,
         6.8,
         0.491,
         1.6,
         0.6,
         0.5
        ],
        [
         "Amir Coffey",
         26,
         20.9,
         6.6,
         0.472,
         1.7,
         0.4,
         0.5
        ],
        [
         "Aleksej Pokusevski",
         22,
         14.5,
         5.2,
         0.405,
         2.6,
         0.6,
         0.7
        ],
        [
         "Spencer Dinwiddie",
         30,
         24.2,
         6.8,
         0.397,
         1.5,
         0.1,
         1.0
        ],
        [
         "Jeff Green",
         37,
         16.8,
         6.5,
         0.456,
         1.7,
         0.6,
         0.6
        ],
        [
         "Bones Hyland",
         23,
         14.6,
         6.9,
         0.386,
         1.4,
         0.1,
         1.2
        ],
        [
         "Vit Krejci",
         23,
         24.6,
         6.1,
         0.49,
         1.9,
         0.5,
         0.9
        ],
        [
         "Bol Bol",
         24,
         10.9,
         5.2,
         0.616,
         2.4,
         0.7,
         0.4
        ],
        [
         "Wenyen Gabriel",
         26,
         16.2,
         3.4,
         0.364,
         3.6,
         1.4,
         1.6
        ],
        [
         "Vasilije MiciÄ",
         30,
         19.6,
         7.0,
         0.43,
         1.2,
         0.2,
         1.7
        ],
        [
         "Omer Yurtseven",
         25,
         11.4,
         4.6,
         0.538,
         2.8,
         1.5,
         0.8
        ],
        [
         "Luke Kornet",
         28,
         15.6,
         5.3,
         0.7,
         2.3,
         1.9,
         0.3
        ],
        [
         "Gary Harris",
         29,
         24.0,
         6.9,
         0.441,
         1.2,
         0.4,
         0.6
        ],
        [
         "Patrick Baldwin Jr.",
         21,
         13.0,
         4.4,
         0.381,
         2.8,
         0.4,
         0.5
        ],
        [
         "Mo Bamba",
         25,
         13.0,
         4.4,
         0.49,
         2.8,
         1.4,
         0.7
        ],
        [
         "Darius Bazley",
         23,
         16.9,
         5.3,
         0.6,
         2.2,
         0.9,
         0.9
        ],
        [
         "Alec Burks",
         32,
         13.5,
         6.5,
         0.307,
         1.4,
         0.3,
         0.7
        ],
        [
         "Landry Shamet",
         26,
         15.8,
         7.1,
         0.431,
         1.0,
         0.3,
         0.7
        ],
        [
         "Kris Dunn",
         29,
         18.9,
         5.4,
         0.47,
         2.1,
         0.8,
         1.2
        ],
        [
         "Aaron Holiday",
         27,
         16.3,
         6.6,
         0.446,
         1.3,
         0.3,
         0.7
        ],
        [
         "Ochai Agbaji",
         23,
         21.0,
         5.8,
         0.411,
         1.8,
         0.9,
         0.8
        ],
        [
         "DÄvis BertÄns",
         31,
         15.7,
         6.7,
         0.393,
         1.2,
         0.2,
         0.4
        ],
        [
         "Dexter Dennis",
         24,
         7.5,
         5.5,
         0.526,
         2.0,
         0.3,
         0.8
        ],
        [
         "Chimezie Metu",
         26,
         12.1,
         5.0,
         0.508,
         2.3,
         0.6,
         0.7
        ],
        [
         "P.J. Tucker",
         38,
         22.0,
         2.0,
         0.4,
         4.3,
         0.3,
         0.7
        ],
        [
         "Danilo Gallinari",
         35,
         12.9,
         5.7,
         0.437,
         1.8,
         0.4,
         0.5
        ],
        [
         "Troy Brown Jr.",
         24,
         19.0,
         4.2,
         0.296,
         2.8,
         0.5,
         0.5
        ],
        [
         "Marcus Morris",
         34,
         15.0,
         5.8,
         0.441,
         1.7,
         0.4,
         0.9
        ],
        [
         "Jaylin Williams",
         21,
         13.0,
         4.0,
         0.417,
         2.9,
         0.5,
         0.5
        ],
        [
         "Gordon Hayward",
         33,
         17.2,
         5.3,
         0.453,
         2.0,
         0.5,
         0.6
        ],
        [
         "Maxi Kleber",
         32,
         20.3,
         4.4,
         0.432,
         2.6,
         0.7,
         0.7
        ],
        [
         "Jaylen Nowell",
         24,
         16.5,
         6.2,
         0.436,
         1.4,
         0.5,
         0.5
        ],
        [
         "DeAndre Jordan",
         35,
         11.0,
         3.9,
         0.624,
         2.9,
         1.5,
         0.6
        ],
        [
         "Skylar Mays",
         26,
         17.0,
         6.3,
         0.384,
         1.3,
         0.4,
         0.9
        ],
        [
         "Craig Porter Jr.",
         23,
         12.7,
         5.6,
         0.509,
         1.7,
         0.4,
         0.9
        ],
        [
         "Ochai Agbaji",
         23,
         19.7,
         5.4,
         0.426,
         1.8,
         0.7,
         0.7
        ],
        [
         "Jared Butler",
         23,
         14.2,
         6.3,
         0.488,
         1.2,
         0.2,
         1.3
        ],
        [
         "Quentin Grimes",
         23,
         19.2,
         5.3,
         0.214,
         1.8,
         0.2,
         1.2
        ],
        [
         "Cameron Payne",
         29,
         14.9,
         6.2,
         0.455,
         1.2,
         0.1,
         0.7
        ],
        [
         "Stanley Umude",
         24,
         12.8,
         5.3,
         0.44,
         1.8,
         0.3,
         0.6
        ],
        [
         "Jalen Wilson",
         23,
         15.4,
         5.0,
         0.425,
         2.0,
         1.1,
         0.4
        ],
        [
         "Thaddeus Young",
         35,
         15.2,
         5.0,
         0.621,
         2.0,
         1.3,
         0.5
        ],
        [
         "Robert Covington",
         33,
         16.1,
         4.5,
         0.449,
         2.3,
         1.1,
         0.4
        ],
        [
         "Kenrich Williams",
         29,
         14.9,
         4.7,
         0.468,
         2.1,
         0.9,
         0.5
        ],
        [
         "Robert Covington",
         33,
         16.8,
         4.4,
         0.439,
         2.3,
         1.1,
         0.4
        ],
        [
         "Jordan Goodwin",
         25,
         14.0,
         5.0,
         0.389,
         1.9,
         1.0,
         0.7
        ],
        [
         "Keon Ellis",
         24,
         17.2,
         5.4,
         0.461,
         1.6,
         0.6,
         0.6
        ],
        [
         "Matisse Thybulle",
         26,
         22.9,
         5.4,
         0.397,
         1.6,
         0.5,
         0.6
        ],
        [
         "Sasha Vezenkov",
         28,
         12.2,
         5.4,
         0.44,
         1.6,
         0.7,
         0.3
        ],
        [
         "Jamaree Bouyea",
         24,
         12.7,
         3.7,
         0.714,
         2.7,
         0.3,
         0.3
        ],
        [
         "Gary Payton II",
         31,
         15.5,
         5.5,
         0.563,
         1.5,
         1.0,
         0.6
        ],
        [
         "Jontay Porter",
         24,
         13.8,
         4.4,
         0.385,
         2.2,
         1.0,
         0.8
        ],
        [
         "Marques Bolden",
         25,
         13.1,
         4.1,
         0.68,
         2.4,
         1.1,
         0.3
        ],
        [
         "Cam Reddish",
         24,
         20.5,
         5.4,
         0.389,
         1.5,
         0.6,
         0.6
        ],
        [
         "Delon Wright",
         31,
         20.4,
         5.4,
         0.394,
         1.5,
         0.4,
         0.2
        ],
        [
         "Malachi Flynn",
         25,
         15.3,
         5.1,
         0.409,
         1.7,
         0.4,
         1.1
        ],
        [
         "Malik Williams",
         25,
         15.3,
         2.7,
         0.265,
         3.3,
         2.1,
         0.4
        ],
        [
         "Jared Rhoden",
         24,
         14.4,
         4.9,
         0.5,
         1.8,
         0.2,
         0.4
        ],
        [
         "Dominick Barlow",
         20,
         12.7,
         4.4,
         0.496,
         2.1,
         1.4,
         0.3
        ],
        [
         "Nick Smith Jr.",
         19,
         14.3,
         5.9,
         0.391,
         1.1,
         0.4,
         0.8
        ],
        [
         "Jaylen Nowell",
         24,
         17.3,
         5.7,
         0.4,
         1.2,
         0.3,
         0.6
        ],
        [
         "Charles Bassey",
         23,
         10.8,
         3.3,
         0.725,
         2.8,
         1.2,
         0.8
        ],
        [
         "Malachi Flynn",
         25,
         12.7,
         5.5,
         0.418,
         1.3,
         0.3,
         0.9
        ],
        [
         "Keon Johnson",
         21,
         12.2,
         6.2,
         0.381,
         0.8,
         0.6,
         1.0
        ],
        [
         "Sandro Mamukelashvili",
         24,
         9.8,
         4.1,
         0.471,
         2.2,
         1.0,
         0.4
        ],
        [
         "Doug McDermott",
         32,
         15.2,
         6.0,
         0.442,
         0.9,
         0.2,
         0.5
        ],
        [
         "Monte Morris",
         28,
         15.1,
         5.1,
         0.417,
         1.5,
         0.2,
         0.2
        ],
        [
         "Mike Muscala",
         32,
         14.1,
         4.0,
         0.367,
         2.2,
         0.9,
         0.7
        ],
        [
         "Jaxson Hayes",
         23,
         12.5,
         4.3,
         0.72,
         2.0,
         1.0,
         0.6
        ],
        [
         "Jordan Nwora",
         25,
         10.2,
         5.2,
         0.451,
         1.4,
         0.4,
         0.7
        ],
        [
         "Monte Morris",
         28,
         14.4,
         5.0,
         0.405,
         1.5,
         0.2,
         0.2
        ],
        [
         "Kobi Simmons",
         26,
         16.8,
         5.0,
         0.429,
         1.5,
         0.3,
         0.3
        ],
        [
         "Jae'Sean Tate",
         28,
         15.9,
         4.1,
         0.472,
         2.1,
         0.9,
         0.6
        ],
        [
         "Keita Bates-Diop",
         28,
         15.3,
         4.5,
         0.427,
         1.8,
         0.8,
         0.3
        ],
        [
         "Troy Brown Jr.",
         24,
         14.0,
         4.2,
         0.372,
         2.0,
         0.4,
         0.5
        ],
        [
         "Kobe Bufkin",
         20,
         11.5,
         4.8,
         0.37,
         1.6,
         0.4,
         0.6
        ],
        [
         "Taj Gibson",
         38,
         9.8,
         4.5,
         0.571,
         1.8,
         0.5,
         0.0
        ],
        [
         "Matt Ryan",
         26,
         13.9,
         5.4,
         0.434,
         1.2,
         0.2,
         0.7
        ],
        [
         "Bryce McGowens",
         21,
         14.9,
         5.1,
         0.439,
         1.4,
         0.3,
         0.5
        ],
        [
         "Jock Landale",
         28,
         13.6,
         4.9,
         0.515,
         1.5,
         1.6,
         0.6
        ],
        [
         "Joe Ingles",
         36,
         17.2,
         4.4,
         0.436,
         1.8,
         0.3,
         1.0
        ],
        [
         "Isaiah Livers",
         25,
         20.4,
         5.0,
         0.345,
         1.4,
         0.7,
         0.7
        ],
        [
         "Max Christie",
         20,
         14.1,
         4.2,
         0.427,
         1.9,
         0.2,
         0.5
        ],
        [
         "Monte Morris",
         28,
         11.3,
         4.5,
         0.364,
         1.7,
         0.3,
         0.3
        ],
        [
         "Mouhamed Gueye",
         21,
         12.2,
         4.0,
         0.348,
         2.0,
         1.7,
         0.2
        ],
        [
         "Patty Mills",
         35,
         16.4,
         5.8,
         0.338,
         0.8,
         0.3,
         0.6
        ],
        [
         "Xavier Tillman Sr.",
         25,
         13.7,
         4.0,
         0.515,
         2.0,
         0.7,
         0.3
        ],
        [
         "Devonte' Graham",
         28,
         13.6,
         5.0,
         0.352,
         1.3,
         0.2,
         0.7
        ],
        [
         "Davion Mitchell",
         25,
         15.3,
         5.3,
         0.452,
         1.1,
         0.3,
         0.6
        ],
        [
         "Dylan Windler",
         27,
         12.2,
         4.7,
         0.526,
         1.5,
         0.5,
         0.3
        ],
        [
         "Luka Å amaniÄ",
         24,
         9.4,
         4.1,
         0.38,
         1.9,
         0.5,
         0.7
        ],
        [
         "Ricky Council IV",
         22,
         9.0,
         5.4,
         0.482,
         1.0,
         0.4,
         0.2
        ],
        [
         "Anthony Black",
         20,
         16.9,
         4.6,
         0.466,
         1.5,
         0.5,
         0.8
        ],
        [
         "Adama Sanogo",
         21,
         7.3,
         4.0,
         0.519,
         1.9,
         2.1,
         0.6
        ],
        [
         "MarJon Beauchamp",
         23,
         12.7,
         4.4,
         0.488,
         1.6,
         0.5,
         0.6
        ],
        [
         "Seth Curry",
         33,
         14.0,
         5.1,
         0.392,
         1.1,
         0.4,
         0.5
        ],
        [
         "Thaddeus Young",
         35,
         13.3,
         4.2,
         0.602,
         1.7,
         1.4,
         0.5
        ],
        [
         "Marques Bolden",
         25,
         11.0,
         3.4,
         0.68,
         2.2,
         0.9,
         0.3
        ],
        [
         "Brandon Boston Jr.",
         22,
         10.8,
         5.2,
         0.404,
         1.0,
         0.6,
         0.8
        ],
        [
         "Moses Brown",
         24,
         9.1,
         3.4,
         0.508,
         2.2,
         1.7,
         0.5
        ],
        [
         "Doug McDermott",
         32,
         14.1,
         5.5,
         0.433,
         0.8,
         0.2,
         0.4
        ],
        [
         "JaVale McGee",
         36,
         7.4,
         4.0,
         0.598,
         1.8,
         0.9,
         0.7
        ],
        [
         "Troy Brown Jr.",
         24,
         11.1,
         4.2,
         0.441,
         1.6,
         0.4,
         0.5
        ],
        [
         "Ashton Hagans",
         24,
         16.6,
         4.2,
         0.408,
         1.6,
         0.7,
         1.6
        ],
        [
         "Eugene Omoruyi",
         26,
         9.1,
         4.8,
         0.485,
         1.2,
         0.8,
         0.5
        ],
        [
         "Delon Wright",
         31,
         15.8,
         4.5,
         0.394,
         1.4,
         0.4,
         0.3
        ],
        [
         "Garrison Mathews",
         27,
         15.0,
         4.9,
         0.456,
         1.1,
         0.3,
         0.3
        ],
        [
         "Josh Okogie",
         25,
         16.0,
         4.6,
         0.417,
         1.3,
         1.2,
         0.6
        ],
        [
         "Rayan Rupert",
         19,
         16.2,
         4.0,
         0.335,
         1.7,
         0.6,
         0.8
        ],
        [
         "Timmy Allen",
         24,
         25.0,
         2.6,
         0.261,
         2.6,
         0.8,
         0.4
        ],
        [
         "KJ Martin",
         23,
         15.5,
         5.0,
         0.4,
         1.0,
         0.5,
         1.0
        ],
        [
         "Shake Milton",
         27,
         12.9,
         4.7,
         0.4,
         1.2,
         0.2,
         0.7
        ],
        [
         "Lester Quinones",
         23,
         10.6,
         4.4,
         0.397,
         1.4,
         0.6,
         0.5
        ],
        [
         "ThÃ©o Maledon",
         22,
         15.4,
         4.2,
         0.288,
         1.5,
         0.3,
         1.2
        ],
        [
         "Shake Milton",
         27,
         12.1,
         4.5,
         0.405,
         1.3,
         0.3,
         0.6
        ],
        [
         "Micah Potter",
         25,
         11.6,
         3.3,
         0.475,
         2.1,
         0.6,
         0.3
        ],
        [
         "Tristan Thompson",
         32,
         11.2,
         3.3,
         0.608,
         2.1,
         1.5,
         0.6
        ],
        [
         "Oshae Brissett",
         25,
         11.5,
         3.7,
         0.444,
         1.8,
         1.1,
         0.4
        ],
        [
         "Richaun Holmes",
         30,
         10.3,
         3.4,
         0.559,
         2.0,
         1.4,
         0.5
        ],
        [
         "Jeff Dowtin",
         26,
         11.8,
         4.3,
         0.556,
         1.4,
         0.3,
         0.4
        ],
        [
         "Kenneth Lofton Jr.",
         21,
         9.5,
         4.6,
         0.462,
         1.2,
         0.6,
         0.7
        ],
        [
         "Ben Sheppard",
         22,
         14.3,
         4.4,
         0.393,
         1.3,
         0.3,
         0.3
        ],
        [
         "Alex Fudge",
         20,
         13.0,
         5.5,
         0.556,
         0.5,
         1.0,
         0.5
        ],
        [
         "Blake Wesley",
         20,
         14.4,
         4.4,
         0.474,
         1.2,
         0.3,
         0.9
        ],
        [
         "Delon Wright",
         31,
         13.8,
         4.1,
         0.393,
         1.4,
         0.4,
         0.3
        ],
        [
         "Nicolas Batum",
         35,
         18.0,
         2.7,
         0.375,
         2.3,
         0.0,
         0.3
        ],
        [
         "Julian Strawther",
         21,
         10.9,
         4.5,
         0.369,
         1.1,
         0.1,
         0.5
        ],
        [
         "Dwight Powell",
         32,
         13.3,
         3.3,
         0.679,
         1.9,
         1.5,
         0.5
        ],
        [
         "Jacob Gilyard",
         25,
         17.7,
         4.7,
         0.417,
         0.9,
         0.2,
         0.8
        ],
        [
         "Jevon Carter",
         28,
         13.9,
         5.0,
         0.378,
         0.7,
         0.2,
         0.5
        ],
        [
         "Tre Mann",
         22,
         9.2,
         3.8,
         0.5,
         1.5,
         0.3,
         0.7
        ],
        [
         "Robert Covington",
         33,
         23.0,
         3.0,
         0.333,
         2.0,
         0.7,
         0.0
        ],
        [
         "Chris Duarte",
         26,
         12.2,
         3.9,
         0.381,
         1.4,
         0.4,
         0.4
        ],
        [
         "A.J. Green",
         24,
         11.0,
         4.5,
         0.423,
         1.0,
         0.2,
         0.2
        ],
        [
         "Danuel House Jr.",
         30,
         15.0,
         4.2,
         0.448,
         1.2,
         0.5,
         0.6
        ],
        [
         "Taze Moore",
         25,
         10.0,
         4.5,
         0.421,
         1.0,
         1.0,
         0.8
        ],
        [
         "Keita Bates-Diop",
         28,
         12.5,
         3.7,
         0.434,
         1.5,
         0.6,
         0.3
        ],
        [
         "Evan Fournier",
         31,
         13.0,
         4.0,
         0.2,
         1.3,
         0.0,
         0.3
        ],
        [
         "KJ Martin",
         23,
         12.4,
         3.7,
         0.536,
         1.5,
         0.7,
         0.5
        ],
        [
         "KJ Martin",
         23,
         12.3,
         3.7,
         0.544,
         1.5,
         0.7,
         0.5
        ],
        [
         "T.J. Warren",
         30,
         11.4,
         3.7,
         0.439,
         1.5,
         0.5,
         0.4
        ],
        [
         "Boban MarjanoviÄ",
         35,
         5.1,
         3.2,
         0.529,
         1.8,
         0.5,
         0.4
        ],
        [
         "Armoni Brooks",
         25,
         10.4,
         4.2,
         0.326,
         1.1,
         0.7,
         0.3
        ],
        [
         "Jarace Walker",
         20,
         10.3,
         3.6,
         0.409,
         1.5,
         0.4,
         0.5
        ],
        [
         "Seth Curry",
         33,
         12.7,
         4.3,
         0.372,
         1.0,
         0.4,
         0.4
        ],
        [
         "Ousmane Dieng",
         20,
         11.1,
         4.0,
         0.422,
         1.2,
         0.3,
         0.6
        ],
        [
         "Mike Muscala",
         32,
         13.2,
         3.5,
         0.341,
         1.5,
         0.8,
         0.2
        ],
        [
         "D.J. Wilson",
         27,
         7.5,
         5.0,
         0.667,
         0.5,
         0.5,
         0.0
        ],
        [
         "Gui Santos",
         21,
         8.3,
         3.6,
         0.509,
         1.4,
         0.7,
         0.3
        ],
        [
         "Justin Holiday",
         34,
         14.9,
         4.0,
         0.454,
         1.1,
         0.2,
         0.2
        ],
        [
         "Caleb Houstan",
         21,
         13.8,
         4.3,
         0.388,
         0.9,
         0.5,
         0.3
        ],
        [
         "Dru Smith",
         26,
         14.6,
         4.3,
         0.455,
         0.9,
         0.7,
         0.6
        ],
        [
         "JT Thor",
         21,
         12.4,
         3.2,
         0.437,
         1.6,
         0.7,
         0.2
        ],
        [
         "Sidy Cissoko",
         19,
         11.8,
         3.8,
         0.485,
         1.2,
         0.7,
         0.3
        ],
        [
         "Jacob Gilyard",
         25,
         17.0,
         4.2,
         0.4,
         0.9,
         0.2,
         0.7
        ],
        [
         "Izaiah Brockington",
         24,
         3.0,
         4.0,
         0.4,
         1.0,
         1.0,
         0.0
        ],
        [
         "Nassir Little",
         23,
         10.2,
         3.4,
         0.46,
         1.4,
         0.3,
         0.3
        ],
        [
         "Svi Mykhailiuk",
         26,
         10.1,
         4.0,
         0.416,
         1.0,
         0.3,
         0.3
        ],
        [
         "Jaden Springer",
         21,
         11.8,
         4.0,
         0.39,
         1.0,
         0.8,
         0.8
        ],
        [
         "Anthony Gill",
         31,
         9.3,
         3.8,
         0.469,
         1.1,
         0.7,
         0.5
        ],
        [
         "Ish Smith",
         35,
         17.2,
         3.2,
         0.418,
         1.5,
         0.3,
         1.1
        ],
        [
         "Skylar Mays",
         26,
         11.4,
         4.1,
         0.396,
         0.9,
         0.3,
         0.5
        ],
        [
         "Ryan Rollins",
         21,
         6.6,
         4.1,
         0.52,
         0.9,
         0.2,
         0.7
        ],
        [
         "Mike Muscala",
         32,
         11.3,
         3.0,
         0.359,
         1.6,
         0.7,
         0.4
        ],
        [
         "Yuta Watanabe",
         29,
         13.2,
         3.6,
         0.361,
         1.2,
         0.4,
         0.6
        ],
        [
         "Matthew Hurt",
         23,
         14.1,
         4.0,
         0.353,
         0.9,
         1.1,
         0.3
        ],
        [
         "Yuta Watanabe",
         29,
         13.6,
         3.4,
         0.353,
         1.3,
         0.3,
         0.6
        ],
        [
         "Yuta Watanabe",
         29,
         16.4,
         2.6,
         0.316,
         1.8,
         0.0,
         0.6
        ],
        [
         "ThÃ©o Maledon",
         22,
         12.5,
         3.5,
         0.286,
         1.2,
         0.2,
         1.1
        ],
        [
         "Patty Mills",
         35,
         13.0,
         4.0,
         0.351,
         0.8,
         0.3,
         0.5
        ],
        [
         "Orlando Robinson",
         23,
         8.4,
         2.8,
         0.5,
         1.6,
         0.8,
         0.5
        ],
        [
         "Jalen McDaniels",
         26,
         10.8,
         3.4,
         0.344,
         1.2,
         0.4,
         0.6
        ],
        [
         "Dalen Terry",
         21,
         11.5,
         3.1,
         0.439,
         1.4,
         0.5,
         0.5
        ],
        [
         "Onuralp Bitim",
         24,
         11.7,
         3.5,
         0.381,
         1.1,
         0.3,
         0.4
        ],
        [
         "Jules Bernard",
         24,
         7.8,
         3.9,
         0.453,
         0.8,
         0.5,
         0.4
        ],
        [
         "Olivier-Maxence Prosper",
         21,
         8.4,
         3.0,
         0.385,
         1.4,
         0.6,
         0.2
        ],
        [
         "Mamadi Diakite",
         27,
         5.3,
         4.0,
         0.8,
         0.7,
         0.3,
         0.0
        ],
        [
         "Alex Len",
         30,
         9.3,
         2.5,
         0.617,
         1.7,
         1.0,
         0.6
        ],
        [
         "Jamaree Bouyea",
         24,
         10.6,
         2.3,
         0.357,
         1.8,
         0.3,
         1.0
        ],
        [
         "Jordan McLaughlin",
         27,
         11.2,
         3.5,
         0.483,
         1.0,
         0.3,
         0.3
        ],
        [
         "Jeremiah Robinson-Earl",
         23,
         8.6,
         2.9,
         0.474,
         1.4,
         0.6,
         0.4
        ],
        [
         "Jericho Sims",
         25,
         13.0,
         2.0,
         0.691,
         2.0,
         1.2,
         0.4
        ],
        [
         "Leaky Black",
         24,
         10.9,
         2.7,
         0.481,
         1.5,
         0.3,
         0.2
        ],
        [
         "Doug McDermott",
         32,
         11.3,
         4.2,
         0.406,
         0.5,
         0.1,
         0.2
        ],
        [
         "Lindy Waters III",
         26,
         7.4,
         3.6,
         0.471,
         0.9,
         0.2,
         0.2
        ],
        [
         "Jamal Cain",
         24,
         10.0,
         3.7,
         0.43,
         0.8,
         0.6,
         0.3
        ],
        [
         "Wesley Matthews",
         37,
         11.5,
         3.1,
         0.351,
         1.2,
         0.3,
         0.2
        ],
        [
         "Zeke Nnaji",
         23,
         9.9,
         3.2,
         0.463,
         1.1,
         1.1,
         0.5
        ],
        [
         "Otto Porter Jr.",
         30,
         11.6,
         2.6,
         0.424,
         1.5,
         0.4,
         0.1
        ],
        [
         "Olivier Sarr",
         24,
         6.5,
         2.3,
         0.579,
         1.7,
         0.7,
         0.2
        ],
        [
         "Ish Wainright",
         29,
         6.6,
         2.9,
         0.333,
         1.3,
         0.0,
         0.1
        ],
        [
         "Collin Gillespie",
         24,
         9.4,
         3.6,
         0.464,
         0.8,
         0.0,
         0.6
        ],
        [
         "Garrett Temple",
         37,
         10.7,
         3.3,
         0.372,
         1.0,
         0.7,
         0.5
        ],
        [
         "Oscar Tshiebwe",
         24,
         5.3,
         3.3,
         0.5,
         1.0,
         1.0,
         0.0
        ],
        [
         "Tosan Evbuomwan",
         22,
         18.5,
         2.5,
         0.267,
         1.5,
         2.0,
         0.3
        ],
        [
         "Luka Garza",
         25,
         4.9,
         4.0,
         0.48,
         0.5,
         0.8,
         0.2
        ],
        [
         "Harry Giles",
         25,
         5.1,
         3.4,
         0.5,
         0.9,
         0.8,
         0.4
        ],
        [
         "Kira Lewis Jr.",
         22,
         9.9,
         3.8,
         0.45,
         0.6,
         0.4,
         0.5
        ],
        [
         "Trevelin Queen",
         26,
         11.8,
         2.9,
         0.368,
         1.2,
         0.2,
         0.5
        ],
        [
         "Johnny Davis",
         21,
         12.3,
         3.0,
         0.403,
         1.1,
         0.4,
         0.3
        ],
        [
         "Jaden Springer",
         21,
         10.3,
         3.3,
         0.399,
         0.9,
         0.7,
         0.7
        ],
        [
         "Ryan Rollins",
         21,
         6.0,
         3.4,
         0.519,
         0.8,
         0.2,
         0.6
        ],
        [
         "A.J. Lawson",
         23,
         7.4,
         3.2,
         0.446,
         0.9,
         0.3,
         0.3
        ],
        [
         "James Bouknight",
         23,
         5.8,
         3.6,
         0.439,
         0.6,
         0.1,
         0.1
        ],
        [
         "Vasilije MiciÄ",
         30,
         12.0,
         3.3,
         0.407,
         0.8,
         0.0,
         1.0
        ],
        [
         "Dariq Whitehead",
         19,
         12.0,
         1.5,
         0.2,
         2.0,
         0.0,
         0.0
        ],
        [
         "Jack White",
         26,
         16.0,
         1.5,
         0.125,
         2.0,
         1.0,
         0.5
        ],
        [
         "Reggie Bullock",
         32,
         9.5,
         2.2,
         0.415,
         1.5,
         0.1,
         0.2
        ],
        [
         "Markieff Morris",
         34,
         8.3,
         2.5,
         0.338,
         1.3,
         0.2,
         0.5
        ],
        [
         "Buddy Boeheim",
         24,
         8.4,
         3.4,
         0.31,
         0.7,
         0.3,
         0.0
        ],
        [
         "P.J. Tucker",
         38,
         15.7,
         1.7,
         0.36,
         1.8,
         0.9,
         0.3
        ],
        [
         "Damian Jones",
         28,
         6.9,
         2.7,
         0.597,
         1.1,
         0.5,
         0.3
        ],
        [
         "Saben Lee",
         24,
         7.7,
         3.0,
         0.364,
         0.9,
         0.4,
         0.3
        ],
        [
         "Lamar Stevens",
         26,
         6.4,
         2.8,
         0.467,
         1.0,
         0.6,
         0.5
        ],
        [
         "Chuma Okeke",
         25,
         9.2,
         2.3,
         0.357,
         1.3,
         0.4,
         0.3
        ],
        [
         "Jordan Walsh",
         19,
         9.2,
         1.7,
         0.4,
         1.7,
         0.6,
         0.3
        ],
        [
         "Udoka Azubuike",
         24,
         7.1,
         2.2,
         0.696,
         1.3,
         0.7,
         0.3
        ],
        [
         "Drew Peterson",
         24,
         7.7,
         3.7,
         0.667,
         0.3,
         0.0,
         0.3
        ],
        [
         "Jason Preston",
         24,
         10.1,
         1.7,
         0.316,
         1.6,
         0.9,
         0.3
        ],
        [
         "Kira Lewis Jr.",
         22,
         9.5,
         3.2,
         0.37,
         0.6,
         0.3,
         0.5
        ],
        [
         "Emoni Bates",
         20,
         8.9,
         2.7,
         0.306,
         0.9,
         0.1,
         0.5
        ],
        [
         "Cody Zeller",
         31,
         7.4,
         1.8,
         0.419,
         1.5,
         1.1,
         0.4
        ],
        [
         "Greg Brown III",
         22,
         6.7,
         2.5,
         0.455,
         1.0,
         0.5,
         0.7
        ],
        [
         "Henri Drell",
         23,
         7.5,
         2.8,
         0.4,
         0.8,
         0.3,
         0.5
        ],
        [
         "Andre Jackson Jr.",
         22,
         10.0,
         2.2,
         0.5,
         1.2,
         0.8,
         0.5
        ],
        [
         "P.J. Tucker",
         38,
         15.0,
         1.6,
         0.356,
         1.6,
         1.0,
         0.2
        ],
        [
         "Kenneth Lofton Jr.",
         21,
         6.6,
         2.6,
         0.378,
         0.9,
         0.1,
         0.4
        ],
        [
         "Brandon Williams",
         24,
         6.6,
         3.2,
         0.37,
         0.5,
         0.2,
         0.4
        ],
        [
         "Thaddeus Young",
         35,
         8.9,
         2.3,
         0.524,
         1.1,
         1.7,
         0.4
        ],
        [
         "Kira Lewis Jr.",
         22,
         9.6,
         2.9,
         0.308,
         0.7,
         0.3,
         0.5
        ],
        [
         "Patty Mills",
         35,
         10.6,
         2.7,
         0.373,
         0.8,
         0.3,
         0.4
        ],
        [
         "Mouhamadou Gueye",
         25,
         10.9,
         2.4,
         0.289,
         1.0,
         1.1,
         1.1
        ],
        [
         "Trent Forrest",
         25,
         10.9,
         2.2,
         0.378,
         1.1,
         0.3,
         0.5
        ],
        [
         "Gabe Vincent",
         27,
         19.8,
         3.1,
         0.306,
         0.5,
         0.4,
         0.5
        ],
        [
         "Danilo Gallinari",
         35,
         9.1,
         2.8,
         0.378,
         0.7,
         0.4,
         0.6
        ],
        [
         "Moussa DiabatÃ©",
         22,
         5.8,
         2.6,
         0.526,
         0.8,
         1.4,
         0.2
        ],
        [
         "Dalano Banton",
         24,
         7.1,
         2.3,
         0.373,
         1.0,
         0.5,
         0.4
        ],
        [
         "Dereon Seabron",
         23,
         9.2,
         2.3,
         0.308,
         1.0,
         0.2,
         0.0
        ],
        [
         "Bismack Biyombo",
         31,
         7.3,
         1.8,
         0.583,
         1.3,
         0.5,
         0.4
        ],
        [
         "Cory Joseph",
         32,
         11.4,
         2.4,
         0.359,
         0.9,
         0.2,
         0.5
        ],
        [
         "Terquavion Smith",
         21,
         5.3,
         3.3,
         0.391,
         0.3,
         0.0,
         0.4
        ],
        [
         "Nate Hinton",
         24,
         5.0,
         2.2,
         0.423,
         1.0,
         0.5,
         0.2
        ],
        [
         "Dylan Windler",
         27,
         6.4,
         2.5,
         0.5,
         0.8,
         0.2,
         0.1
        ],
        [
         "Jamaree Bouyea",
         24,
         9.5,
         1.7,
         0.238,
         1.3,
         0.3,
         1.3
        ],
        [
         "Taj Gibson",
         38,
         10.2,
         1.7,
         0.405,
         1.3,
         0.6,
         0.3
        ],
        [
         "DÄvis BertÄns",
         31,
         6.1,
         2.9,
         0.385,
         0.5,
         0.1,
         0.1
        ],
        [
         "Jeenathan Williams",
         24,
         5.9,
         2.9,
         0.54,
         0.5,
         0.5,
         0.2
        ],
        [
         "Harry Giles",
         25,
         4.3,
         2.4,
         0.46,
         0.8,
         0.5,
         0.3
        ],
        [
         "AJ Griffin",
         20,
         8.6,
         2.4,
         0.29,
         0.8,
         0.1,
         0.4
        ],
        [
         "Ish Wainright",
         29,
         5.6,
         2.1,
         0.292,
         1.0,
         0.3,
         0.2
        ],
        [
         "Ibou Badji",
         21,
         10.3,
         1.5,
         0.636,
         1.4,
         0.9,
         0.7
        ],
        [
         "D.J. Carton",
         23,
         9.0,
         2.8,
         0.375,
         0.5,
         0.5,
         0.3
        ],
        [
         "Furkan Korkmaz",
         26,
         8.6,
         2.5,
         0.395,
         0.7,
         0.1,
         0.3
        ],
        [
         "Kobe Brown",
         24,
         9.0,
         2.0,
         0.411,
         1.0,
         0.5,
         0.2
        ],
        [
         "JD Davison",
         21,
         4.9,
         2.0,
         0.417,
         1.0,
         0.3,
         0.3
        ],
        [
         "Kevon Harris",
         26,
         3.0,
         2.0,
         0.667,
         1.0,
         0.0,
         0.5
        ],
        [
         "Xavier Moon",
         29,
         8.5,
         2.4,
         0.326,
         0.7,
         0.6,
         0.4
        ],
        [
         "Nathan Mensah",
         25,
         12.3,
         1.3,
         0.429,
         1.4,
         1.2,
         0.6
        ],
        [
         "Isaiah Mobley",
         24,
         7.2,
         2.3,
         0.417,
         0.7,
         0.3,
         0.2
        ],
        [
         "Colby Jones",
         21,
         6.4,
         2.1,
         0.394,
         0.8,
         0.6,
         0.3
        ],
        [
         "Joe Harris",
         32,
         10.6,
         2.4,
         0.359,
         0.6,
         0.2,
         0.3
        ],
        [
         "Shake Milton",
         27,
         4.5,
         1.8,
         0.444,
         1.0,
         0.0,
         0.0
        ],
        [
         "Kenneth Lofton Jr.",
         21,
         4.5,
         1.0,
         0.167,
         1.5,
         0.0,
         1.0
        ],
        [
         "Jaden Springer",
         21,
         7.6,
         2.1,
         0.433,
         0.7,
         0.5,
         0.5
        ],
        [
         "Julian Phillips",
         20,
         8.1,
         2.2,
         0.416,
         0.6,
         0.3,
         0.3
        ],
        [
         "Leonard Miller",
         20,
         3.1,
         1.7,
         0.65,
         0.9,
         0.3,
         0.1
        ],
        [
         "Justin Minaya",
         24,
         11.2,
         1.8,
         0.297,
         0.8,
         0.9,
         0.3
        ],
        [
         "Malachi Flynn",
         25,
         4.3,
         2.2,
         0.391,
         0.4,
         0.0,
         0.2
        ],
        [
         "Alex Fudge",
         20,
         6.7,
         2.5,
         0.4,
         0.2,
         0.7,
         0.3
        ],
        [
         "Amari Bailey",
         19,
         6.5,
         2.3,
         0.333,
         0.3,
         0.6,
         0.4
        ],
        [
         "Mamadi Diakite",
         27,
         4.0,
         2.0,
         0.667,
         0.5,
         0.2,
         0.2
        ],
        [
         "Cole Swider",
         24,
         4.8,
         2.3,
         0.395,
         0.3,
         0.1,
         0.4
        ],
        [
         "Taj Gibson",
         38,
         10.3,
         1.0,
         0.304,
         1.1,
         0.6,
         0.3
        ],
        [
         "Quenton Jackson",
         25,
         3.7,
         0.7,
         0.0,
         1.3,
         0.0,
         0.0
        ],
        [
         "Seth Lundy",
         23,
         5.8,
         1.6,
         0.235,
         0.7,
         0.1,
         0.1
        ],
        [
         "Mason Jones",
         25,
         5.6,
         1.4,
         0.25,
         0.8,
         0.2,
         0.4
        ],
        [
         "Kessler Edwards",
         23,
         5.1,
         1.7,
         0.415,
         0.6,
         0.2,
         0.1
        ],
        [
         "Chris Livingston",
         20,
         4.3,
         1.2,
         0.5,
         0.9,
         0.1,
         0.2
        ],
        [
         "Keita Bates-Diop",
         28,
         4.9,
         1.6,
         0.5,
         0.6,
         0.1,
         0.1
        ],
        [
         "Frank Ntilikina",
         25,
         8.6,
         1.0,
         0.111,
         1.0,
         0.2,
         0.2
        ],
        [
         "Jordan Ford",
         25,
         3.7,
         2.0,
         0.571,
         0.3,
         0.0,
         0.2
        ],
        [
         "Mike Muscala",
         32,
         5.7,
         1.1,
         0.364,
         0.9,
         0.4,
         0.3
        ],
        [
         "Jermaine Samuels",
         25,
         4.3,
         1.4,
         0.643,
         0.7,
         0.2,
         0.0
        ],
        [
         "Aleksej Pokusevski",
         22,
         6.0,
         1.2,
         0.25,
         0.8,
         0.2,
         0.3
        ],
        [
         "Terry Taylor",
         24,
         6.1,
         1.5,
         0.513,
         0.6,
         0.5,
         0.2
        ],
        [
         "Jalen Hood-Schifino",
         20,
         5.2,
         1.6,
         0.222,
         0.5,
         0.1,
         0.4
        ],
        [
         "Jalen Pickett",
         24,
         4.5,
         1.6,
         0.429,
         0.5,
         0.0,
         0.3
        ],
        [
         "Braxton Key",
         26,
         3.0,
         1.1,
         0.412,
         0.8,
         0.2,
         0.1
        ],
        [
         "Keyontae Johnson",
         23,
         7.3,
         1.2,
         0.313,
         0.7,
         0.4,
         0.4
        ],
        [
         "Josh Minott",
         21,
         2.8,
         1.6,
         0.472,
         0.4,
         0.1,
         0.1
        ],
        [
         "Colin Castleton",
         23,
         3.7,
         1.5,
         0.563,
         0.4,
         0.4,
         0.2
        ],
        [
         "Dylan Windler",
         27,
         3.5,
         1.5,
         0.444,
         0.4,
         0.0,
         0.0
        ],
        [
         "R.J. Hampton",
         22,
         9.5,
         1.3,
         0.286,
         0.5,
         0.3,
         0.4
        ],
        [
         "Jett Howard",
         20,
         3.7,
         1.6,
         0.333,
         0.3,
         0.1,
         0.2
        ],
        [
         "Jordan Miller",
         24,
         3.5,
         1.6,
         0.556,
         0.3,
         0.4,
         0.1
        ],
        [
         "David Roddy",
         22,
         3.7,
         1.3,
         0.435,
         0.5,
         0.1,
         0.2
        ],
        [
         "Ryan Rollins",
         21,
         4.0,
         1.0,
         0.5,
         0.7,
         0.0,
         0.3
        ],
        [
         "D'Moi Hodge",
         25,
         5.9,
         2.0,
         0.333,
         0.0,
         0.0,
         0.1
        ],
        [
         "Ty Jerome",
         26,
         7.5,
         2.0,
         0.5,
         0.0,
         0.5,
         0.5
        ],
        [
         "Markquis Nowell",
         24,
         4.0,
         2.0,
         0.0,
         0.0,
         2.0,
         0.0
        ],
        [
         "Admiral Schofield",
         26,
         3.7,
         1.1,
         0.385,
         0.6,
         0.1,
         0.2
        ],
        [
         "Daniel Theis",
         31,
         8.0,
         2.0,
         0.25,
         0.0,
         0.0,
         0.0
        ],
        [
         "Jacob Toppin",
         23,
         4.2,
         1.4,
         0.556,
         0.4,
         0.3,
         0.1
        ],
        [
         "Lindell Wigginton",
         25,
         2.7,
         2.0,
         0.4,
         0.0,
         0.0,
         0.3
        ],
        [
         "Isaiah Wong",
         23,
         4.0,
         2.0,
         0.333,
         0.0,
         0.0,
         0.0
        ],
        [
         "Daishen Nix",
         21,
         3.3,
         1.8,
         0.375,
         0.1,
         0.1,
         0.3
        ],
        [
         "Juan Toscano-Anderson",
         30,
         4.8,
         0.6,
         0.25,
         0.9,
         0.4,
         0.2
        ],
        [
         "Jay Huff",
         25,
         2.5,
         1.2,
         0.6,
         0.5,
         0.1,
         0.1
        ],
        [
         "TyTy Washington Jr.",
         22,
         5.1,
         1.3,
         0.3,
         0.4,
         0.1,
         0.2
        ],
        [
         "ThÃ©o Maledon",
         22,
         3.3,
         1.3,
         0.25,
         0.3,
         0.0,
         0.8
        ],
        [
         "Skylar Mays",
         26,
         4.5,
         1.3,
         0.476,
         0.3,
         0.1,
         0.1
        ],
        [
         "Shaquille Harrison",
         30,
         2.0,
         0.7,
         0.5,
         0.7,
         0.0,
         0.0
        ],
        [
         "Hunter Tyson",
         23,
         2.7,
         1.1,
         0.4,
         0.4,
         0.1,
         0.1
        ],
        [
         "Jerome Robinson",
         26,
         3.7,
         1.4,
         0.333,
         0.2,
         0.0,
         0.1
        ],
        [
         "Ish Wainright",
         29,
         4.0,
         0.8,
         0.167,
         0.5,
         0.8,
         0.3
        ],
        [
         "Kendall Brown",
         20,
         4.2,
         1.4,
         0.533,
         0.1,
         0.2,
         0.1
        ],
        [
         "Usman Garuba",
         21,
         3.0,
         0.5,
         0.167,
         0.7,
         0.5,
         0.3
        ],
        [
         "Marques Bolden",
         25,
         1.5,
         0.0,
         null,
         1.0,
         0.0,
         0.0
        ],
        [
         "Adam Flagler",
         24,
         7.0,
         1.5,
         0.143,
         0.0,
         0.0,
         0.0
        ],
        [
         "Kaiser Gates",
         27,
         7.0,
         0.0,
         0.0,
         1.0,
         0.0,
         0.0
        ],
        [
         "Danny Green",
         36,
         9.0,
         0.0,
         0.0,
         1.0,
         0.0,
         0.0
        ],
        [
         "Filip PetruÅ¡ev",
         23,
         3.0,
         0.0,
         null,
         1.0,
         0.0,
         0.0
        ],
        [
         "Filip PetruÅ¡ev",
         23,
         3.5,
         1.5,
         0.5,
         0.0,
         0.0,
         0.0
        ],
        [
         "Wendell Moore Jr.",
         22,
         3.0,
         0.7,
         0.5,
         0.5,
         0.0,
         0.2
        ],
        [
         "Filip PetruÅ¡ev",
         23,
         3.3,
         1.0,
         0.5,
         0.3,
         0.0,
         0.0
        ],
        [
         "Jalen Slawson",
         24,
         3.1,
         0.7,
         0.667,
         0.5,
         0.1,
         0.2
        ],
        [
         "Dylan Windler",
         27,
         2.3,
         1.0,
         0.5,
         0.3,
         0.0,
         0.0
        ],
        [
         "E.J. Liddell",
         23,
         2.9,
         0.5,
         0.167,
         0.6,
         0.0,
         0.3
        ],
        [
         "James Johnson",
         36,
         5.2,
         0.9,
         0.3,
         0.3,
         0.1,
         0.6
        ],
        [
         "Isaiah Thomas",
         34,
         3.2,
         1.3,
         0.3,
         0.0,
         0.0,
         0.0
        ],
        [
         "DaQuan Jeffries",
         26,
         2.7,
         0.8,
         0.353,
         0.3,
         0.0,
         0.2
        ],
        [
         "Robin Lopez",
         35,
         4.1,
         1.1,
         0.368,
         0.1,
         0.2,
         0.1
        ],
        [
         "Thanasis Antetokounmpo",
         31,
         4.6,
         0.9,
         0.533,
         0.2,
         0.2,
         0.4
        ],
        [
         "Harry Giles",
         25,
         2.7,
         0.3,
         0.167,
         0.6,
         0.0,
         0.0
        ],
        [
         "Pat Spencer",
         27,
         4.3,
         0.7,
         0.5,
         0.3,
         0.3,
         0.2
        ],
        [
         "Hamidou Diallo",
         25,
         2.5,
         1.0,
         0.5,
         0.0,
         1.0,
         0.5
        ],
        [
         "Alex Fudge",
         20,
         3.5,
         1.0,
         0.167,
         0.0,
         0.5,
         0.3
        ],
        [
         "Pete Nance",
         23,
         3.4,
         0.4,
         0.167,
         0.4,
         0.0,
         0.1
        ],
        [
         "Joshua Primo",
         21,
         5.0,
         1.0,
         0.333,
         0.0,
         0.5,
         2.0
        ],
        [
         "Charlie Brown Jr.",
         26,
         4.6,
         0.8,
         0.2,
         0.1,
         0.1,
         0.3
        ],
        [
         "Alondes Williams",
         24,
         2.3,
         0.7,
         0.25,
         0.1,
         0.0,
         0.3
        ],
        [
         "Jacob Gilyard",
         25,
         11.3,
         0.0,
         0.0,
         0.5,
         0.3,
         0.3
        ],
        [
         "Trey Jemison",
         24,
         0.5,
         0.0,
         null,
         0.5,
         0.0,
         0.5
        ],
        [
         "Ryan Arcidiacono",
         29,
         2.3,
         0.0,
         0.0,
         0.4,
         0.0,
         0.1
        ],
        [
         "Maxwell Lewis",
         21,
         3.0,
         0.3,
         0.19,
         0.1,
         0.1,
         0.3
        ],
        [
         "Darius Bazley",
         23,
         3.3,
         0.0,
         0.0,
         0.3,
         0.0,
         0.3
        ],
        [
         "Mamadi Diakite",
         27,
         2.7,
         0.0,
         0.0,
         0.3,
         0.0,
         0.3
        ],
        [
         "Malcolm Cazalon",
         22,
         3.0,
         0.0,
         null,
         0.0,
         0.0,
         0.0
        ],
        [
         "Jalen Crutcher",
         24,
         3.0,
         0.0,
         0.0,
         0.0,
         0.0,
         0.0
        ],
        [
         "Andrew Funk",
         24,
         2.6,
         0.0,
         0.0,
         0.0,
         0.0,
         0.0
        ],
        [
         "Ron Harper Jr.",
         23,
         4.0,
         0.0,
         null,
         0.0,
         0.0,
         0.0
        ],
        [
         "Justin Jackson",
         28,
         0.5,
         0.0,
         null,
         0.0,
         0.0,
         0.0
        ],
        [
         "Kira Lewis Jr.",
         22,
         2.0,
         0.0,
         null,
         0.0,
         0.0,
         0.0
        ],
        [
         "Dmytro Skapintsev",
         25,
         1.0,
         0.0,
         0.0,
         0.0,
         0.0,
         0.0
        ],
        [
         "Javonte Smart",
         24,
         1.0,
         0.0,
         null,
         0.0,
         0.0,
         0.0
        ]
       ],
       "datasetInfos": [],
       "dbfsResultPath": null,
       "isJsonSchema": true,
       "metadata": {},
       "overflow": false,
       "plotOptions": {
        "customPlotOptions": {},
        "displayType": "table",
        "pivotAggregation": null,
        "pivotColumns": null,
        "xColumns": null,
        "yColumns": null
       },
       "removedWidgets": [],
       "schema": [
        {
         "metadata": "{}",
         "name": "Player",
         "type": "\"string\""
        },
        {
         "metadata": "{}",
         "name": "Age",
         "type": "\"integer\""
        },
        {
         "metadata": "{}",
         "name": "MP",
         "type": "\"double\""
        },
        {
         "metadata": "{}",
         "name": "PTS",
         "type": "\"double\""
        },
        {
         "metadata": "{}",
         "name": "FGPerc",
         "type": "\"double\""
        },
        {
         "metadata": "{}",
         "name": "DRB",
         "type": "\"double\""
        },
        {
         "metadata": "{}",
         "name": "ORB",
         "type": "\"double\""
        },
        {
         "metadata": "{}",
         "name": "TOV",
         "type": "\"double\""
        }
       ],
       "type": "table"
      }
     },
     "output_type": "display_data"
    }
   ],
   "source": [
    "%sql \n",
    "SELECT\n",
    "    Player,\n",
    "    Age,\n",
    "    MP,\n",
    "    PTS,\n",
    "    FGPerc,\n",
    "    DRB,\n",
    "    ORB,\n",
    "    TOV\n",
    "FROM Dados_Jogadores_NBA_24\n",
    "ORDER BY (PTS + 1.5 * DRB) DESC;"
   ]
  },
  {
   "cell_type": "code",
   "execution_count": 0,
   "metadata": {
    "application/vnd.databricks.v1+cell": {
     "cellMetadata": {
      "byteLimit": 2048000,
      "implicitDf": true,
      "rowLimit": 10000
     },
     "inputWidgets": {},
     "nuid": "b4990376-a31c-4e19-9709-e1b3dce6a1ca",
     "showTitle": false,
     "title": ""
    }
   },
   "outputs": [
    {
     "output_type": "display_data",
     "data": {
      "text/html": [
       "<style scoped>\n",
       "  .table-result-container {\n",
       "    max-height: 300px;\n",
       "    overflow: auto;\n",
       "  }\n",
       "  table, th, td {\n",
       "    border: 1px solid black;\n",
       "    border-collapse: collapse;\n",
       "  }\n",
       "  th, td {\n",
       "    padding: 5px;\n",
       "  }\n",
       "  th {\n",
       "    text-align: left;\n",
       "  }\n",
       "</style><div class='table-result-container'><table class='table-result'><thead style='background-color: white'><tr><th>Player</th><th>Age</th><th>MP</th><th>PTS</th><th>FGPerc</th><th>DRB</th><th>ORB</th><th>TOV</th></tr></thead><tbody><tr><td>Joel Embiid</td><td>29</td><td>33.6</td><td>34.7</td><td>0.529</td><td>8.6</td><td>2.4</td><td>3.8</td></tr><tr><td>Luka DonÄiÄ</td><td>24</td><td>37.5</td><td>33.9</td><td>0.487</td><td>8.4</td><td>0.8</td><td>4.0</td></tr><tr><td>Giannis Antetokounmpo</td><td>29</td><td>35.2</td><td>30.4</td><td>0.611</td><td>8.8</td><td>2.7</td><td>3.4</td></tr><tr><td>Nikola JokiÄ</td><td>28</td><td>34.6</td><td>26.4</td><td>0.583</td><td>9.5</td><td>2.8</td><td>3.0</td></tr><tr><td>Anthony Davis</td><td>30</td><td>35.5</td><td>24.7</td><td>0.556</td><td>9.5</td><td>3.1</td><td>2.1</td></tr><tr><td>Jayson Tatum</td><td>25</td><td>35.7</td><td>26.9</td><td>0.471</td><td>7.2</td><td>0.9</td><td>2.5</td></tr><tr><td>Shai Gilgeous-Alexander</td><td>25</td><td>34.0</td><td>30.1</td><td>0.535</td><td>4.7</td><td>0.9</td><td>2.2</td></tr><tr><td>Kevin Durant</td><td>35</td><td>37.2</td><td>27.1</td><td>0.523</td><td>6.1</td><td>0.5</td><td>3.3</td></tr><tr><td>LeBron James</td><td>39</td><td>35.3</td><td>25.7</td><td>0.54</td><td>6.4</td><td>0.9</td><td>3.5</td></tr><tr><td>Domantas Sabonis</td><td>27</td><td>35.7</td><td>19.4</td><td>0.594</td><td>10.1</td><td>3.6</td><td>3.3</td></tr><tr><td>Julius Randle</td><td>29</td><td>35.4</td><td>24.0</td><td>0.472</td><td>7.0</td><td>2.2</td><td>3.5</td></tr><tr><td>Victor Wembanyama</td><td>20</td><td>29.7</td><td>21.4</td><td>0.465</td><td>8.4</td><td>2.3</td><td>3.7</td></tr><tr><td>Jalen Brunson</td><td>27</td><td>35.4</td><td>28.7</td><td>0.479</td><td>3.1</td><td>0.6</td><td>2.4</td></tr><tr><td>Anthony Edwards</td><td>22</td><td>35.1</td><td>25.9</td><td>0.461</td><td>4.8</td><td>0.7</td><td>3.1</td></tr><tr><td>Donovan Mitchell</td><td>27</td><td>35.3</td><td>26.6</td><td>0.462</td><td>4.3</td><td>0.8</td><td>2.8</td></tr><tr><td>Devin Booker</td><td>27</td><td>36.0</td><td>27.1</td><td>0.492</td><td>3.7</td><td>0.8</td><td>2.6</td></tr><tr><td>Ja Morant</td><td>24</td><td>35.3</td><td>25.1</td><td>0.471</td><td>4.9</td><td>0.7</td><td>3.0</td></tr><tr><td>Stephen Curry</td><td>35</td><td>32.7</td><td>26.4</td><td>0.45</td><td>4.0</td><td>0.5</td><td>2.8</td></tr><tr><td>De'Aaron Fox</td><td>26</td><td>35.9</td><td>26.6</td><td>0.465</td><td>3.7</td><td>0.9</td><td>2.6</td></tr><tr><td>Lauri Markkanen</td><td>26</td><td>33.1</td><td>23.2</td><td>0.48</td><td>5.9</td><td>2.2</td><td>1.4</td></tr><tr><td>Karl-Anthony Towns</td><td>28</td><td>32.7</td><td>21.8</td><td>0.504</td><td>6.8</td><td>1.5</td><td>2.9</td></tr><tr><td>Kyrie Irving</td><td>31</td><td>35.0</td><td>25.6</td><td>0.497</td><td>4.2</td><td>0.8</td><td>1.8</td></tr><tr><td>Paolo Banchero</td><td>21</td><td>35.0</td><td>22.6</td><td>0.455</td><td>5.9</td><td>1.0</td><td>3.1</td></tr><tr><td>Bam Adebayo</td><td>26</td><td>34.0</td><td>19.3</td><td>0.521</td><td>8.1</td><td>2.2</td><td>2.3</td></tr><tr><td>Kawhi Leonard</td><td>32</td><td>34.3</td><td>23.7</td><td>0.525</td><td>4.9</td><td>1.2</td><td>1.8</td></tr><tr><td>Kyle Kuzma</td><td>28</td><td>32.6</td><td>22.2</td><td>0.463</td><td>5.7</td><td>0.9</td><td>2.7</td></tr><tr><td>Alperen Sengun</td><td>21</td><td>32.5</td><td>21.1</td><td>0.537</td><td>6.4</td><td>2.9</td><td>2.6</td></tr><tr><td>Tyrese Maxey</td><td>23</td><td>37.5</td><td>25.9</td><td>0.45</td><td>3.2</td><td>0.5</td><td>1.7</td></tr><tr><td>Miles Bridges</td><td>25</td><td>37.4</td><td>21.0</td><td>0.462</td><td>6.3</td><td>1.0</td><td>2.0</td></tr><tr><td>Damian Lillard</td><td>33</td><td>35.3</td><td>24.3</td><td>0.424</td><td>3.9</td><td>0.5</td><td>2.6</td></tr><tr><td>Pascal Siakam</td><td>29</td><td>31.8</td><td>21.3</td><td>0.549</td><td>5.7</td><td>2.1</td><td>1.4</td></tr><tr><td>RJ Barrett</td><td>23</td><td>33.5</td><td>21.8</td><td>0.553</td><td>5.3</td><td>1.1</td><td>2.5</td></tr><tr><td>DeMar DeRozan</td><td>34</td><td>37.8</td><td>24.0</td><td>0.48</td><td>3.8</td><td>0.5</td><td>1.7</td></tr><tr><td>Nikola VuÄeviÄ</td><td>33</td><td>34.3</td><td>18.0</td><td>0.484</td><td>7.8</td><td>2.8</td><td>1.6</td></tr><tr><td>Paul George</td><td>33</td><td>33.8</td><td>22.6</td><td>0.471</td><td>4.7</td><td>0.5</td><td>2.1</td></tr><tr><td>Pascal Siakam</td><td>29</td><td>33.2</td><td>21.7</td><td>0.536</td><td>5.3</td><td>1.7</td><td>1.8</td></tr><tr><td>LaMelo Ball</td><td>22</td><td>32.3</td><td>23.9</td><td>0.433</td><td>3.8</td><td>1.3</td><td>3.8</td></tr><tr><td>Pascal Siakam</td><td>29</td><td>34.7</td><td>22.2</td><td>0.522</td><td>4.9</td><td>1.4</td><td>2.1</td></tr><tr><td>Jaylen Brown</td><td>27</td><td>33.5</td><td>23.0</td><td>0.499</td><td>4.3</td><td>1.2</td><td>2.4</td></tr><tr><td>Dejounte Murray</td><td>27</td><td>35.7</td><td>22.5</td><td>0.459</td><td>4.5</td><td>0.8</td><td>2.6</td></tr><tr><td>Trae Young</td><td>25</td><td>36.0</td><td>25.7</td><td>0.43</td><td>2.3</td><td>0.4</td><td>4.4</td></tr><tr><td>Zion Williamson</td><td>23</td><td>31.5</td><td>22.9</td><td>0.57</td><td>4.1</td><td>1.7</td><td>2.8</td></tr><tr><td>Desmond Bane</td><td>25</td><td>34.4</td><td>23.7</td><td>0.464</td><td>3.5</td><td>0.9</td><td>2.7</td></tr><tr><td>Jaren Jackson Jr.</td><td>24</td><td>32.2</td><td>22.5</td><td>0.444</td><td>4.2</td><td>1.3</td><td>2.4</td></tr><tr><td>Scottie Barnes</td><td>22</td><td>34.9</td><td>19.9</td><td>0.475</td><td>5.9</td><td>2.4</td><td>2.8</td></tr><tr><td>Deandre Ayton</td><td>25</td><td>32.4</td><td>16.7</td><td>0.57</td><td>7.9</td><td>3.2</td><td>1.8</td></tr><tr><td>Cade Cunningham</td><td>22</td><td>33.5</td><td>22.7</td><td>0.449</td><td>3.8</td><td>0.5</td><td>3.4</td></tr><tr><td>Kristaps PorziÅÄ£is</td><td>28</td><td>29.6</td><td>20.1</td><td>0.516</td><td>5.5</td><td>1.7</td><td>1.6</td></tr><tr><td>Terry Rozier</td><td>29</td><td>35.5</td><td>23.2</td><td>0.459</td><td>3.3</td><td>0.6</td><td>2.2</td></tr><tr><td>Tyler Herro</td><td>24</td><td>33.5</td><td>20.8</td><td>0.441</td><td>4.8</td><td>0.5</td><td>2.2</td></tr><tr><td>Rudy Gobert</td><td>31</td><td>34.1</td><td>14.0</td><td>0.661</td><td>9.2</td><td>3.8</td><td>1.6</td></tr><tr><td>Jarrett Allen</td><td>25</td><td>31.7</td><td>16.5</td><td>0.634</td><td>7.4</td><td>3.2</td><td>1.6</td></tr><tr><td>Brandon Ingram</td><td>26</td><td>32.9</td><td>20.8</td><td>0.492</td><td>4.4</td><td>0.7</td><td>2.5</td></tr><tr><td>Anfernee Simons</td><td>24</td><td>34.4</td><td>22.6</td><td>0.43</td><td>3.2</td><td>0.5</td><td>2.7</td></tr><tr><td>Jalen Johnson</td><td>22</td><td>33.7</td><td>16.0</td><td>0.511</td><td>7.4</td><td>1.3</td><td>1.8</td></tr><tr><td>RJ Barrett</td><td>23</td><td>31.7</td><td>20.2</td><td>0.495</td><td>4.5</td><td>0.9</td><td>2.2</td></tr><tr><td>Zach LaVine</td><td>28</td><td>34.9</td><td>19.5</td><td>0.452</td><td>4.8</td><td>0.3</td><td>2.1</td></tr><tr><td>Cam Thomas</td><td>22</td><td>31.4</td><td>22.5</td><td>0.442</td><td>2.8</td><td>0.4</td><td>1.9</td></tr><tr><td>Jalen Green</td><td>21</td><td>31.7</td><td>19.6</td><td>0.423</td><td>4.7</td><td>0.5</td><td>2.3</td></tr><tr><td>Jalen Duren</td><td>20</td><td>29.1</td><td>13.8</td><td>0.619</td><td>8.5</td><td>3.1</td><td>2.1</td></tr><tr><td>Evan Mobley</td><td>22</td><td>30.6</td><td>15.7</td><td>0.58</td><td>7.1</td><td>2.2</td><td>1.8</td></tr><tr><td>Jamal Murray</td><td>26</td><td>31.5</td><td>21.2</td><td>0.481</td><td>3.4</td><td>0.7</td><td>2.1</td></tr><tr><td>Jimmy Butler</td><td>34</td><td>34.0</td><td>20.8</td><td>0.499</td><td>3.6</td><td>1.8</td><td>1.7</td></tr><tr><td>Franz Wagner</td><td>22</td><td>32.5</td><td>19.7</td><td>0.482</td><td>4.3</td><td>1.0</td><td>1.9</td></tr><tr><td>Chet Holmgren</td><td>21</td><td>29.4</td><td>16.5</td><td>0.53</td><td>6.3</td><td>1.6</td><td>1.6</td></tr><tr><td>CJ McCollum</td><td>32</td><td>32.7</td><td>20.0</td><td>0.459</td><td>3.7</td><td>0.6</td><td>1.7</td></tr><tr><td>Jerami Grant</td><td>29</td><td>33.9</td><td>21.0</td><td>0.451</td><td>2.9</td><td>0.7</td><td>2.1</td></tr><tr><td>Immanuel Quickley</td><td>24</td><td>33.3</td><td>18.6</td><td>0.422</td><td>4.5</td><td>0.3</td><td>1.8</td></tr><tr><td>Myles Turner</td><td>27</td><td>27.0</td><td>17.1</td><td>0.524</td><td>5.5</td><td>1.5</td><td>1.4</td></tr><tr><td>Michael Porter Jr.</td><td>25</td><td>31.7</td><td>16.7</td><td>0.484</td><td>5.7</td><td>1.3</td><td>1.1</td></tr><tr><td>Tyrese Haliburton</td><td>23</td><td>32.2</td><td>20.1</td><td>0.477</td><td>3.4</td><td>0.5</td><td>2.3</td></tr><tr><td>Mikal Bridges</td><td>27</td><td>34.8</td><td>19.6</td><td>0.436</td><td>3.7</td><td>0.8</td><td>2.0</td></tr><tr><td>Tobias Harris</td><td>31</td><td>33.8</td><td>17.2</td><td>0.487</td><td>5.3</td><td>1.1</td><td>1.3</td></tr><tr><td>Coby White</td><td>23</td><td>36.5</td><td>19.1</td><td>0.447</td><td>4.0</td><td>0.6</td><td>2.1</td></tr><tr><td>Terry Rozier</td><td>29</td><td>33.4</td><td>19.8</td><td>0.443</td><td>3.5</td><td>0.6</td><td>1.7</td></tr><tr><td>Devin Vassell</td><td>23</td><td>33.1</td><td>19.5</td><td>0.472</td><td>3.4</td><td>0.4</td><td>1.6</td></tr><tr><td>Bojan BogdanoviÄ</td><td>34</td><td>32.9</td><td>20.2</td><td>0.468</td><td>2.9</td><td>0.5</td><td>2.3</td></tr><tr><td>Jalen Williams</td><td>22</td><td>31.3</td><td>19.1</td><td>0.54</td><td>3.5</td><td>0.5</td><td>1.7</td></tr><tr><td>John Collins</td><td>26</td><td>28.0</td><td>15.1</td><td>0.532</td><td>6.1</td><td>2.3</td><td>1.4</td></tr><tr><td>Deni Avdija</td><td>23</td><td>30.1</td><td>14.7</td><td>0.506</td><td>6.1</td><td>1.1</td><td>2.1</td></tr><tr><td>James Harden</td><td>34</td><td>34.3</td><td>16.6</td><td>0.428</td><td>4.7</td><td>0.5</td><td>2.6</td></tr><tr><td>RJ Barrett</td><td>23</td><td>29.5</td><td>18.2</td><td>0.423</td><td>3.5</td><td>0.7</td><td>1.8</td></tr><tr><td>Bradley Beal</td><td>30</td><td>33.3</td><td>18.2</td><td>0.513</td><td>3.4</td><td>1.0</td><td>2.5</td></tr><tr><td>Jabari Smith Jr.</td><td>20</td><td>31.9</td><td>13.7</td><td>0.454</td><td>6.3</td><td>1.8</td><td>1.2</td></tr><tr><td>Jusuf NurkiÄ</td><td>29</td><td>27.3</td><td>10.9</td><td>0.51</td><td>8.1</td><td>2.9</td><td>2.3</td></tr><tr><td>Nic Claxton</td><td>24</td><td>29.8</td><td>11.8</td><td>0.629</td><td>7.2</td><td>2.7</td><td>1.3</td></tr><tr><td>Fred VanVleet</td><td>29</td><td>36.8</td><td>17.4</td><td>0.416</td><td>3.4</td><td>0.5</td><td>1.7</td></tr><tr><td>Dalano Banton</td><td>24</td><td>29.2</td><td>16.7</td><td>0.408</td><td>3.8</td><td>1.0</td><td>2.2</td></tr><tr><td>Brandon Miller</td><td>21</td><td>32.2</td><td>17.3</td><td>0.44</td><td>3.4</td><td>0.8</td><td>1.8</td></tr><tr><td>Immanuel Quickley</td><td>24</td><td>29.2</td><td>17.0</td><td>0.434</td><td>3.6</td><td>0.3</td><td>1.5</td></tr><tr><td>Bobby Portis</td><td>28</td><td>24.5</td><td>13.8</td><td>0.508</td><td>5.7</td><td>1.7</td><td>1.1</td></tr><tr><td>Klay Thompson</td><td>33</td><td>29.7</td><td>17.9</td><td>0.432</td><td>2.8</td><td>0.5</td><td>1.5</td></tr><tr><td>D'Angelo Russell</td><td>27</td><td>32.7</td><td>18.0</td><td>0.456</td><td>2.7</td><td>0.4</td><td>2.1</td></tr><tr><td>Jonas ValanÄiÅ«nas</td><td>31</td><td>23.5</td><td>12.2</td><td>0.559</td><td>6.5</td><td>2.3</td><td>1.4</td></tr><tr><td>Keldon Johnson</td><td>24</td><td>29.5</td><td>15.7</td><td>0.454</td><td>4.1</td><td>1.4</td><td>1.4</td></tr><tr><td>Terry Rozier</td><td>29</td><td>31.5</td><td>16.4</td><td>0.423</td><td>3.6</td><td>0.6</td><td>1.3</td></tr><tr><td>Jonathan Kuminga</td><td>21</td><td>26.3</td><td>16.1</td><td>0.529</td><td>3.6</td><td>1.2</td><td>1.6</td></tr><tr><td>Shaedon Sharpe</td><td>20</td><td>33.1</td><td>15.9</td><td>0.406</td><td>3.7</td><td>1.3</td><td>2.3</td></tr><tr><td>Keegan Murray</td><td>23</td><td>33.6</td><td>15.2</td><td>0.454</td><td>4.1</td><td>1.4</td><td>0.8</td></tr><tr><td>Austin Reaves</td><td>25</td><td>32.1</td><td>15.9</td><td>0.486</td><td>3.6</td><td>0.7</td><td>2.1</td></tr><tr><td>Collin Sexton</td><td>25</td><td>26.6</td><td>18.7</td><td>0.487</td><td>1.7</td><td>0.9</td><td>2.1</td></tr><tr><td>Mark Williams</td><td>22</td><td>26.7</td><td>12.7</td><td>0.649</td><td>5.7</td><td>4.0</td><td>0.9</td></tr><tr><td>Darius Garland</td><td>24</td><td>33.4</td><td>18.0</td><td>0.446</td><td>2.1</td><td>0.5</td><td>3.1</td></tr><tr><td>Ivica Zubac</td><td>26</td><td>26.4</td><td>11.7</td><td>0.649</td><td>6.3</td><td>2.9</td><td>1.2</td></tr><tr><td>Trey Murphy III</td><td>23</td><td>29.6</td><td>14.8</td><td>0.443</td><td>4.2</td><td>0.7</td><td>0.6</td></tr><tr><td>Bogdan BogdanoviÄ</td><td>31</td><td>30.4</td><td>16.9</td><td>0.428</td><td>2.8</td><td>0.7</td><td>1.4</td></tr><tr><td>Khris Middleton</td><td>32</td><td>27.0</td><td>15.1</td><td>0.493</td><td>3.9</td><td>0.7</td><td>2.3</td></tr><tr><td>Jordan Clarkson</td><td>31</td><td>30.6</td><td>17.1</td><td>0.413</td><td>2.5</td><td>0.9</td><td>2.7</td></tr><tr><td>Jordan Poole</td><td>24</td><td>30.1</td><td>17.4</td><td>0.413</td><td>2.3</td><td>0.4</td><td>2.4</td></tr><tr><td>Simone Fontecchio</td><td>28</td><td>30.3</td><td>15.4</td><td>0.479</td><td>3.6</td><td>0.8</td><td>1.1</td></tr><tr><td>Kelly Oubre Jr.</td><td>28</td><td>30.2</td><td>15.4</td><td>0.441</td><td>3.6</td><td>1.4</td><td>1.3</td></tr><tr><td>De'Andre Hunter</td><td>26</td><td>29.5</td><td>15.6</td><td>0.459</td><td>3.4</td><td>0.5</td><td>1.5</td></tr><tr><td>Clint Capela</td><td>29</td><td>25.8</td><td>11.5</td><td>0.571</td><td>6.0</td><td>4.6</td><td>1.0</td></tr><tr><td>Derrick White</td><td>29</td><td>32.6</td><td>15.2</td><td>0.461</td><td>3.5</td><td>0.7</td><td>1.5</td></tr><tr><td>Malcolm Brogdon</td><td>31</td><td>28.7</td><td>15.7</td><td>0.44</td><td>3.1</td><td>0.7</td><td>1.5</td></tr><tr><td>Marvin Bagley III</td><td>24</td><td>24.0</td><td>13.3</td><td>0.581</td><td>4.6</td><td>3.5</td><td>1.3</td></tr><tr><td>Aaron Gordon</td><td>28</td><td>31.5</td><td>13.9</td><td>0.556</td><td>4.1</td><td>2.4</td><td>1.4</td></tr><tr><td>Gordon Hayward</td><td>33</td><td>31.9</td><td>14.5</td><td>0.468</td><td>3.7</td><td>1.0</td><td>2.0</td></tr><tr><td>Javonte Green</td><td>30</td><td>25.6</td><td>12.2</td><td>0.6</td><td>5.2</td><td>2.2</td><td>0.8</td></tr><tr><td>Naz Reid</td><td>24</td><td>24.2</td><td>13.5</td><td>0.477</td><td>4.3</td><td>0.9</td><td>1.4</td></tr><tr><td>Donte DiVincenzo</td><td>27</td><td>29.1</td><td>15.5</td><td>0.443</td><td>2.9</td><td>0.8</td><td>1.4</td></tr><tr><td>Josh Giddey</td><td>21</td><td>25.1</td><td>12.3</td><td>0.475</td><td>5.0</td><td>1.4</td><td>2.1</td></tr><tr><td>P.J. Washington</td><td>25</td><td>29.2</td><td>13.6</td><td>0.446</td><td>4.1</td><td>1.2</td><td>1.5</td></tr><tr><td>Jakob Poeltl</td><td>28</td><td>26.4</td><td>11.1</td><td>0.656</td><td>5.7</td><td>2.9</td><td>1.5</td></tr><tr><td>P.J. Washington</td><td>25</td><td>30.4</td><td>12.9</td><td>0.436</td><td>4.5</td><td>1.2</td><td>1.3</td></tr><tr><td>OG Anunoby</td><td>26</td><td>33.3</td><td>15.1</td><td>0.489</td><td>3.0</td><td>0.9</td><td>1.6</td></tr><tr><td>Josh Hart</td><td>28</td><td>33.4</td><td>9.4</td><td>0.434</td><td>6.8</td><td>1.6</td><td>1.5</td></tr><tr><td>Grant Williams</td><td>25</td><td>30.6</td><td>13.9</td><td>0.503</td><td>3.8</td><td>1.4</td><td>1.9</td></tr><tr><td>Saddiq Bey</td><td>24</td><td>32.7</td><td>13.7</td><td>0.416</td><td>3.9</td><td>2.7</td><td>0.9</td></tr><tr><td>OG Anunoby</td><td>26</td><td>34.0</td><td>14.7</td><td>0.489</td><td>3.2</td><td>0.9</td><td>1.6</td></tr><tr><td>P.J. Washington</td><td>25</td><td>32.2</td><td>11.7</td><td>0.421</td><td>5.1</td><td>1.1</td><td>1.0</td></tr><tr><td>Malik Monk</td><td>25</td><td>26.0</td><td>15.4</td><td>0.443</td><td>2.6</td><td>0.4</td><td>2.1</td></tr><tr><td>Caris LeVert</td><td>29</td><td>28.8</td><td>14.0</td><td>0.421</td><td>3.5</td><td>0.6</td><td>1.7</td></tr><tr><td>OG Anunoby</td><td>26</td><td>34.9</td><td>14.1</td><td>0.488</td><td>3.4</td><td>1.0</td><td>1.7</td></tr><tr><td>GG Jackson II</td><td>19</td><td>25.7</td><td>14.6</td><td>0.428</td><td>3.0</td><td>1.1</td><td>1.4</td></tr><tr><td>Dennis SchrÃ¶der</td><td>30</td><td>32.0</td><td>14.6</td><td>0.424</td><td>2.9</td><td>0.6</td><td>2.4</td></tr><tr><td>Rui Hachimura</td><td>25</td><td>26.9</td><td>13.6</td><td>0.537</td><td>3.5</td><td>0.9</td><td>0.7</td></tr><tr><td>Jaden Ivey</td><td>21</td><td>28.8</td><td>15.4</td><td>0.429</td><td>2.3</td><td>1.1</td><td>2.5</td></tr><tr><td>Bennedict Mathurin</td><td>21</td><td>26.1</td><td>14.5</td><td>0.446</td><td>2.9</td><td>1.0</td><td>1.6</td></tr><tr><td>Jrue Holiday</td><td>33</td><td>32.8</td><td>12.5</td><td>0.48</td><td>4.2</td><td>1.2</td><td>1.8</td></tr><tr><td>Tim Hardaway Jr.</td><td>31</td><td>26.8</td><td>14.4</td><td>0.402</td><td>2.9</td><td>0.3</td><td>0.9</td></tr><tr><td>Kelly Olynyk</td><td>32</td><td>26.4</td><td>12.7</td><td>0.548</td><td>4.0</td><td>1.6</td><td>2.5</td></tr><tr><td>Bojan BogdanoviÄ</td><td>34</td><td>25.9</td><td>15.2</td><td>0.454</td><td>2.3</td><td>0.4</td><td>1.8</td></tr><tr><td>Immanuel Quickley</td><td>24</td><td>24.0</td><td>15.0</td><td>0.454</td><td>2.4</td><td>0.2</td><td>1.0</td></tr><tr><td>Daniel Gafford</td><td>25</td><td>26.5</td><td>10.9</td><td>0.69</td><td>5.1</td><td>2.9</td><td>1.0</td></tr><tr><td>Daniel Gafford</td><td>25</td><td>24.5</td><td>11.0</td><td>0.725</td><td>5.0</td><td>2.6</td><td>1.0</td></tr><tr><td>Cameron Johnson</td><td>27</td><td>27.6</td><td>13.4</td><td>0.446</td><td>3.4</td><td>0.9</td><td>1.0</td></tr><tr><td>Jeremy Sochan</td><td>20</td><td>29.6</td><td>11.6</td><td>0.438</td><td>4.6</td><td>1.9</td><td>1.9</td></tr><tr><td>Grayson Allen</td><td>28</td><td>33.5</td><td>13.5</td><td>0.499</td><td>3.3</td><td>0.6</td><td>1.3</td></tr><tr><td>Isaiah Stewart</td><td>22</td><td>30.9</td><td>10.9</td><td>0.487</td><td>5.0</td><td>1.6</td><td>1.4</td></tr><tr><td>Wendell Carter Jr.</td><td>24</td><td>25.6</td><td>11.0</td><td>0.525</td><td>4.9</td><td>2.0</td><td>1.2</td></tr><tr><td>Daniel Gafford</td><td>25</td><td>21.5</td><td>11.2</td><td>0.78</td><td>4.7</td><td>2.2</td><td>1.0</td></tr><tr><td>Marcus Smart</td><td>29</td><td>30.3</td><td>14.5</td><td>0.43</td><td>2.4</td><td>0.3</td><td>3.1</td></tr><tr><td>Brook Lopez</td><td>35</td><td>30.5</td><td>12.5</td><td>0.485</td><td>3.7</td><td>1.5</td><td>1.0</td></tr><tr><td>Max Strus</td><td>27</td><td>32.0</td><td>12.2</td><td>0.418</td><td>3.9</td><td>0.9</td><td>1.6</td></tr><tr><td>Bruce Brown</td><td>27</td><td>29.7</td><td>12.1</td><td>0.475</td><td>3.9</td><td>0.8</td><td>1.2</td></tr><tr><td>Nick Richards</td><td>26</td><td>26.3</td><td>9.7</td><td>0.691</td><td>5.5</td><td>2.6</td><td>1.1</td></tr><tr><td>Jordan Goodwin</td><td>25</td><td>29.2</td><td>10.0</td><td>0.349</td><td>5.2</td><td>2.8</td><td>1.6</td></tr><tr><td>Tre Mann</td><td>22</td><td>31.0</td><td>11.9</td><td>0.453</td><td>3.9</td><td>0.6</td><td>2.0</td></tr><tr><td>Dennis SchrÃ¶der</td><td>30</td><td>31.1</td><td>14.0</td><td>0.435</td><td>2.5</td><td>0.5</td><td>1.9</td></tr><tr><td>Chimezie Metu</td><td>26</td><td>29.4</td><td>10.5</td><td>0.5</td><td>4.8</td><td>1.2</td><td>1.8</td></tr><tr><td>Andrew Wiggins</td><td>28</td><td>27.0</td><td>13.2</td><td>0.453</td><td>3.0</td><td>1.5</td><td>1.2</td></tr><tr><td>Santi Aldama</td><td>23</td><td>26.5</td><td>10.7</td><td>0.435</td><td>4.6</td><td>1.2</td><td>1.1</td></tr><tr><td>Kenneth Lofton Jr.</td><td>21</td><td>22.8</td><td>13.8</td><td>0.6</td><td>2.5</td><td>2.5</td><td>1.5</td></tr><tr><td>Norman Powell</td><td>30</td><td>26.2</td><td>13.9</td><td>0.486</td><td>2.4</td><td>0.2</td><td>0.9</td></tr><tr><td>Draymond Green</td><td>33</td><td>27.1</td><td>8.6</td><td>0.497</td><td>5.9</td><td>1.4</td><td>2.5</td></tr><tr><td>Scoot Henderson</td><td>19</td><td>28.5</td><td>14.0</td><td>0.385</td><td>2.3</td><td>0.9</td><td>3.4</td></tr><tr><td>Lamar Stevens</td><td>26</td><td>23.0</td><td>11.5</td><td>0.446</td><td>3.8</td><td>1.3</td><td>0.8</td></tr><tr><td>Tari Eason</td><td>22</td><td>21.8</td><td>9.8</td><td>0.466</td><td>4.9</td><td>2.1</td><td>0.9</td></tr><tr><td>Dennis SchrÃ¶der</td><td>30</td><td>30.6</td><td>13.7</td><td>0.442</td><td>2.3</td><td>0.4</td><td>1.6</td></tr><tr><td>Gary Trent Jr.</td><td>25</td><td>28.1</td><td>13.7</td><td>0.426</td><td>2.3</td><td>0.4</td><td>0.7</td></tr><tr><td>Marvin Bagley III</td><td>24</td><td>21.1</td><td>11.7</td><td>0.586</td><td>3.6</td><td>2.6</td><td>1.2</td></tr><tr><td>Corey Kispert</td><td>24</td><td>25.8</td><td>13.4</td><td>0.486</td><td>2.4</td><td>0.4</td><td>1.2</td></tr><tr><td>Keyonte George</td><td>20</td><td>27.0</td><td>13.0</td><td>0.391</td><td>2.6</td><td>0.2</td><td>2.5</td></tr><tr><td>Spencer Dinwiddie</td><td>30</td><td>30.7</td><td>12.6</td><td>0.391</td><td>2.8</td><td>0.5</td><td>1.3</td></tr><tr><td>Andre Drummond</td><td>30</td><td>17.1</td><td>8.4</td><td>0.556</td><td>5.6</td><td>3.4</td><td>1.0</td></tr><tr><td>Dillon Brooks</td><td>28</td><td>30.9</td><td>12.7</td><td>0.428</td><td>2.7</td><td>0.7</td><td>1.2</td></tr><tr><td>Zach Collins</td><td>26</td><td>22.1</td><td>11.2</td><td>0.484</td><td>3.7</td><td>1.7</td><td>1.9</td></tr><tr><td>Russell Westbrook</td><td>35</td><td>22.5</td><td>11.1</td><td>0.454</td><td>3.7</td><td>1.4</td><td>2.1</td></tr><tr><td>Cam Whitmore</td><td>19</td><td>18.7</td><td>12.3</td><td>0.454</td><td>2.9</td><td>0.9</td><td>1.0</td></tr><tr><td>Vince Williams Jr.</td><td>23</td><td>27.6</td><td>10.0</td><td>0.446</td><td>4.4</td><td>1.1</td><td>1.8</td></tr><tr><td>Aaron Nesmith</td><td>24</td><td>27.7</td><td>12.2</td><td>0.496</td><td>2.9</td><td>0.9</td><td>0.9</td></tr><tr><td>Onyeka Okongwu</td><td>23</td><td>25.5</td><td>10.2</td><td>0.611</td><td>4.2</td><td>2.6</td><td>0.8</td></tr><tr><td>Kevin Love</td><td>35</td><td>16.8</td><td>8.8</td><td>0.44</td><td>5.1</td><td>1.1</td><td>0.9</td></tr><tr><td>Jabari Walker</td><td>21</td><td>23.6</td><td>8.9</td><td>0.46</td><td>5.0</td><td>2.1</td><td>0.9</td></tr><tr><td>Duncan Robinson</td><td>29</td><td>28.0</td><td>12.9</td><td>0.45</td><td>2.3</td><td>0.2</td><td>1.4</td></tr><tr><td>Al Horford</td><td>37</td><td>26.8</td><td>8.6</td><td>0.511</td><td>5.1</td><td>1.3</td><td>0.7</td></tr><tr><td>Jalen Suggs</td><td>22</td><td>27.0</td><td>12.6</td><td>0.471</td><td>2.4</td><td>0.6</td><td>1.8</td></tr><tr><td>Cole Anthony</td><td>23</td><td>22.4</td><td>11.6</td><td>0.435</td><td>3.0</td><td>0.8</td><td>1.6</td></tr><tr><td>Malik Beasley</td><td>27</td><td>29.6</td><td>11.3</td><td>0.443</td><td>3.2</td><td>0.5</td><td>0.7</td></tr><tr><td>Brandon Clarke</td><td>27</td><td>22.3</td><td>11.3</td><td>0.559</td><td>3.2</td><td>2.2</td><td>0.5</td></tr><tr><td>Scotty Pippen Jr.</td><td>23</td><td>25.1</td><td>12.9</td><td>0.493</td><td>2.1</td><td>1.0</td><td>2.7</td></tr><tr><td>Jaime Jaquez Jr.</td><td>22</td><td>28.2</td><td>11.9</td><td>0.489</td><td>2.7</td><td>1.1</td><td>1.5</td></tr><tr><td>Bruce Brown</td><td>27</td><td>27.9</td><td>10.8</td><td>0.478</td><td>3.4</td><td>0.8</td><td>1.3</td></tr><tr><td>Alec Burks</td><td>32</td><td>21.0</td><td>12.6</td><td>0.394</td><td>2.2</td><td>0.4</td><td>0.7</td></tr><tr><td>Buddy Hield</td><td>31</td><td>25.7</td><td>12.0</td><td>0.443</td><td>2.6</td><td>0.7</td><td>1.2</td></tr><tr><td>Buddy Hield</td><td>31</td><td>25.7</td><td>12.1</td><td>0.436</td><td>2.5</td><td>0.7</td><td>1.2</td></tr><tr><td>Amen Thompson</td><td>21</td><td>22.4</td><td>9.5</td><td>0.536</td><td>4.2</td><td>2.4</td><td>1.5</td></tr><tr><td>Kelly Olynyk</td><td>32</td><td>22.6</td><td>9.8</td><td>0.555</td><td>3.9</td><td>1.4</td><td>1.9</td></tr><tr><td>Buddy Hield</td><td>31</td><td>25.8</td><td>12.2</td><td>0.426</td><td>2.3</td><td>0.8</td><td>1.3</td></tr><tr><td>Tyus Jones</td><td>27</td><td>29.3</td><td>12.0</td><td>0.489</td><td>2.4</td><td>0.3</td><td>1.0</td></tr><tr><td>De'Anthony Melton</td><td>25</td><td>26.9</td><td>11.1</td><td>0.386</td><td>3.0</td><td>0.7</td><td>1.0</td></tr><tr><td>Harrison Barnes</td><td>31</td><td>29.0</td><td>12.2</td><td>0.474</td><td>2.2</td><td>0.8</td><td>0.7</td></tr><tr><td>Brandin Podziemski</td><td>20</td><td>26.6</td><td>9.2</td><td>0.454</td><td>4.2</td><td>1.6</td><td>1.2</td></tr><tr><td>Jalen Smith</td><td>23</td><td>17.2</td><td>9.9</td><td>0.592</td><td>3.7</td><td>1.8</td><td>0.7</td></tr><tr><td>Isaiah Hartenstein</td><td>25</td><td>25.3</td><td>7.8</td><td>0.644</td><td>5.1</td><td>3.3</td><td>1.2</td></tr><tr><td>Walker Kessler</td><td>22</td><td>23.3</td><td>8.1</td><td>0.654</td><td>4.9</td><td>2.6</td><td>1.0</td></tr><tr><td>Dereck Lively II</td><td>19</td><td>23.5</td><td>8.8</td><td>0.747</td><td>4.4</td><td>2.5</td><td>0.9</td></tr><tr><td>Ayo Dosunmu</td><td>24</td><td>29.1</td><td>12.2</td><td>0.501</td><td>2.1</td><td>0.7</td><td>1.4</td></tr><tr><td>Ausar Thompson</td><td>21</td><td>25.1</td><td>8.8</td><td>0.483</td><td>4.3</td><td>2.0</td><td>1.3</td></tr><tr><td>Moritz Wagner</td><td>26</td><td>17.7</td><td>10.9</td><td>0.601</td><td>2.9</td><td>1.5</td><td>1.2</td></tr><tr><td>Mike Conley</td><td>36</td><td>28.9</td><td>11.4</td><td>0.457</td><td>2.4</td><td>0.5</td><td>1.3</td></tr><tr><td>Luguentz Dort</td><td>24</td><td>28.4</td><td>10.9</td><td>0.438</td><td>2.7</td><td>0.9</td><td>0.9</td></tr><tr><td>Ben Simmons</td><td>27</td><td>23.9</td><td>6.1</td><td>0.581</td><td>5.9</td><td>2.1</td><td>1.8</td></tr><tr><td>Grant Williams</td><td>25</td><td>28.0</td><td>10.3</td><td>0.456</td><td>3.1</td><td>1.1</td><td>1.4</td></tr><tr><td>Herbert Jones</td><td>25</td><td>30.5</td><td>11.0</td><td>0.498</td><td>2.6</td><td>1.0</td><td>1.2</td></tr><tr><td>Luke Kennard</td><td>27</td><td>25.6</td><td>11.0</td><td>0.448</td><td>2.6</td><td>0.3</td><td>1.4</td></tr><tr><td>Royce O'Neale</td><td>30</td><td>25.1</td><td>8.1</td><td>0.411</td><td>4.5</td><td>0.7</td><td>0.7</td></tr><tr><td>Caleb Martin</td><td>28</td><td>27.4</td><td>10.0</td><td>0.431</td><td>3.2</td><td>1.2</td><td>1.2</td></tr><tr><td>Simone Fontecchio</td><td>28</td><td>24.9</td><td>10.5</td><td>0.46</td><td>2.8</td><td>1.0</td><td>1.0</td></tr><tr><td>Obi Toppin</td><td>25</td><td>21.1</td><td>10.3</td><td>0.573</td><td>2.9</td><td>1.0</td><td>0.8</td></tr><tr><td>Alex Caruso</td><td>29</td><td>28.7</td><td>10.1</td><td>0.468</td><td>3.0</td><td>0.9</td><td>1.4</td></tr><tr><td>Chris Paul</td><td>38</td><td>26.4</td><td>9.2</td><td>0.441</td><td>3.6</td><td>0.3</td><td>1.3</td></tr><tr><td>Kevin Huerter</td><td>25</td><td>24.4</td><td>10.2</td><td>0.443</td><td>2.9</td><td>0.6</td><td>0.8</td></tr><tr><td>Tre Jones</td><td>24</td><td>27.8</td><td>10.0</td><td>0.505</td><td>3.0</td><td>0.8</td><td>1.5</td></tr><tr><td>Marvin Bagley III</td><td>24</td><td>18.4</td><td>10.2</td><td>0.591</td><td>2.8</td><td>1.8</td><td>1.1</td></tr><tr><td>Patrick Williams</td><td>22</td><td>27.3</td><td>10.0</td><td>0.443</td><td>2.8</td><td>1.1</td><td>1.3</td></tr><tr><td>Jake LaRavia</td><td>22</td><td>23.0</td><td>10.8</td><td>0.389</td><td>2.2</td><td>1.5</td><td>1.3</td></tr><tr><td>Bruce Brown</td><td>27</td><td>26.0</td><td>9.6</td><td>0.481</td><td>3.0</td><td>0.8</td><td>1.3</td></tr><tr><td>Dalano Banton</td><td>24</td><td>19.4</td><td>10.3</td><td>0.404</td><td>2.5</td><td>0.8</td><td>1.4</td></tr><tr><td>Georges Niang</td><td>30</td><td>22.3</td><td>9.4</td><td>0.449</td><td>3.1</td><td>0.3</td><td>0.9</td></tr><tr><td>Precious Achiuwa</td><td>24</td><td>24.2</td><td>7.6</td><td>0.525</td><td>4.3</td><td>2.9</td><td>1.1</td></tr><tr><td>Gordon Hayward</td><td>33</td><td>24.4</td><td>9.8</td><td>0.464</td><td>2.8</td><td>0.7</td><td>1.3</td></tr><tr><td>Tre Mann</td><td>22</td><td>24.1</td><td>9.3</td><td>0.459</td><td>3.1</td><td>0.5</td><td>1.6</td></tr><tr><td>Spencer Dinwiddie</td><td>30</td><td>28.3</td><td>10.5</td><td>0.392</td><td>2.3</td><td>0.4</td><td>1.2</td></tr><tr><td>Jaden McDaniels</td><td>23</td><td>29.2</td><td>10.5</td><td>0.489</td><td>2.3</td><td>0.8</td><td>1.2</td></tr><tr><td>Kelly Olynyk</td><td>32</td><td>20.4</td><td>8.1</td><td>0.562</td><td>3.8</td><td>1.3</td><td>1.6</td></tr><tr><td>Royce O'Neale</td><td>30</td><td>24.7</td><td>7.7</td><td>0.397</td><td>4.0</td><td>0.8</td><td>0.9</td></tr><tr><td>Precious Achiuwa</td><td>24</td><td>21.9</td><td>7.6</td><td>0.501</td><td>4.0</td><td>2.6</td><td>1.1</td></tr><tr><td>Robert Williams</td><td>26</td><td>19.8</td><td>6.8</td><td>0.654</td><td>4.5</td><td>1.8</td><td>1.2</td></tr><tr><td>T.J. McConnell</td><td>31</td><td>18.2</td><td>10.2</td><td>0.556</td><td>2.2</td><td>0.5</td><td>1.5</td></tr><tr><td>Josh Richardson</td><td>30</td><td>25.7</td><td>9.9</td><td>0.444</td><td>2.4</td><td>0.4</td><td>0.8</td></tr><tr><td>Eric Gordon</td><td>35</td><td>27.8</td><td>11.0</td><td>0.443</td><td>1.6</td><td>0.2</td><td>1.1</td></tr><tr><td>Vasilije MiciÄ</td><td>30</td><td>27.2</td><td>10.8</td><td>0.437</td><td>1.7</td><td>0.4</td><td>2.3</td></tr><tr><td>Sam Hauser</td><td>26</td><td>22.0</td><td>9.0</td><td>0.446</td><td>2.9</td><td>0.6</td><td>0.4</td></tr><tr><td>Christian Wood</td><td>28</td><td>17.4</td><td>6.9</td><td>0.466</td><td>4.3</td><td>0.8</td><td>1.0</td></tr><tr><td>Alec Burks</td><td>32</td><td>18.4</td><td>10.4</td><td>0.369</td><td>1.9</td><td>0.4</td><td>0.7</td></tr><tr><td>Bilal Coulibaly</td><td>19</td><td>27.2</td><td>8.4</td><td>0.435</td><td>3.2</td><td>0.9</td><td>1.4</td></tr><tr><td>Payton Pritchard</td><td>26</td><td>22.3</td><td>9.6</td><td>0.468</td><td>2.4</td><td>0.9</td><td>0.7</td></tr><tr><td>Dorian Finney-Smith</td><td>30</td><td>28.4</td><td>8.5</td><td>0.421</td><td>3.1</td><td>1.6</td><td>0.9</td></tr><tr><td>Nikola JoviÄ</td><td>20</td><td>19.5</td><td>7.7</td><td>0.452</td><td>3.6</td><td>0.5</td><td>0.9</td></tr><tr><td>Kentavious Caldwell-Pope</td><td>30</td><td>31.6</td><td>10.1</td><td>0.46</td><td>2.0</td><td>0.4</td><td>1.0</td></tr><tr><td>Talen Horton-Tucker</td><td>23</td><td>19.8</td><td>10.1</td><td>0.396</td><td>2.0</td><td>0.4</td><td>1.3</td></tr><tr><td>David Roddy</td><td>22</td><td>23.2</td><td>8.4</td><td>0.402</td><td>3.1</td><td>1.1</td><td>1.1</td></tr><tr><td>Tristan Vukcevic</td><td>20</td><td>15.3</td><td>8.5</td><td>0.433</td><td>3.0</td><td>0.6</td><td>1.0</td></tr><tr><td>Royce O'Neale</td><td>30</td><td>24.5</td><td>7.4</td><td>0.388</td><td>3.7</td><td>0.8</td><td>1.0</td></tr><tr><td>Taurean Prince</td><td>29</td><td>27.0</td><td>8.9</td><td>0.442</td><td>2.7</td><td>0.3</td><td>0.9</td></tr><tr><td>Bojan BogdanoviÄ</td><td>34</td><td>19.2</td><td>10.4</td><td>0.43</td><td>1.7</td><td>0.3</td><td>1.3</td></tr><tr><td>Richaun Holmes</td><td>30</td><td>18.7</td><td>7.1</td><td>0.557</td><td>3.9</td><td>2.2</td><td>0.7</td></tr><tr><td>Dario Å ariÄ</td><td>29</td><td>17.2</td><td>8.0</td><td>0.466</td><td>3.3</td><td>1.1</td><td>1.2</td></tr><tr><td>Precious Achiuwa</td><td>24</td><td>17.5</td><td>7.7</td><td>0.459</td><td>3.4</td><td>2.0</td><td>1.2</td></tr><tr><td>Darius Bazley</td><td>23</td><td>23.7</td><td>8.0</td><td>0.621</td><td>3.2</td><td>1.3</td><td>1.2</td></tr><tr><td>Aleksej Pokusevski</td><td>22</td><td>19.2</td><td>7.4</td><td>0.429</td><td>3.6</td><td>0.8</td><td>0.9</td></tr><tr><td>Paul Reed</td><td>24</td><td>19.4</td><td>7.3</td><td>0.54</td><td>3.6</td><td>2.4</td><td>0.8</td></tr><tr><td>Lonnie Walker IV</td><td>25</td><td>17.4</td><td>9.7</td><td>0.423</td><td>2.0</td><td>0.2</td><td>0.9</td></tr><tr><td>Simone Fontecchio</td><td>28</td><td>23.2</td><td>8.9</td><td>0.45</td><td>2.5</td><td>1.0</td><td>1.0</td></tr><tr><td>Taylor Hendricks</td><td>20</td><td>21.4</td><td>7.3</td><td>0.45</td><td>3.5</td><td>1.2</td><td>0.7</td></tr><tr><td>Duop Reath</td><td>27</td><td>17.9</td><td>9.1</td><td>0.461</td><td>2.3</td><td>1.4</td><td>0.8</td></tr><tr><td>James Wiseman</td><td>22</td><td>17.3</td><td>7.1</td><td>0.613</td><td>3.6</td><td>1.7</td><td>1.0</td></tr><tr><td>MÃ£ozinha Pereira</td><td>23</td><td>17.4</td><td>6.9</td><td>0.514</td><td>3.7</td><td>1.6</td><td>0.7</td></tr><tr><td>Reggie Jackson</td><td>33</td><td>22.2</td><td>10.2</td><td>0.431</td><td>1.5</td><td>0.4</td><td>1.3</td></tr><tr><td>Trayce Jackson-Davis</td><td>23</td><td>16.6</td><td>7.9</td><td>0.702</td><td>3.0</td><td>2.0</td><td>0.7</td></tr><tr><td>Isaac Okoro</td><td>23</td><td>27.3</td><td>9.4</td><td>0.49</td><td>2.0</td><td>1.0</td><td>0.8</td></tr><tr><td>Kyle Lowry</td><td>37</td><td>28.0</td><td>8.2</td><td>0.426</td><td>2.8</td><td>0.7</td><td>1.4</td></tr><tr><td>Ziaire Williams</td><td>22</td><td>20.4</td><td>8.2</td><td>0.397</td><td>2.8</td><td>0.7</td><td>1.3</td></tr><tr><td>Day'Ron Sharpe</td><td>22</td><td>15.1</td><td>6.8</td><td>0.571</td><td>3.7</td><td>2.6</td><td>1.1</td></tr><tr><td>Trey Lyles</td><td>28</td><td>20.0</td><td>7.2</td><td>0.445</td><td>3.4</td><td>1.1</td><td>0.7</td></tr><tr><td>Cody Martin</td><td>28</td><td>26.9</td><td>7.5</td><td>0.381</td><td>3.2</td><td>0.7</td><td>1.6</td></tr><tr><td>Kyle Lowry</td><td>37</td><td>28.2</td><td>8.1</td><td>0.432</td><td>2.7</td><td>0.6</td><td>1.4</td></tr><tr><td>Terance Mann</td><td>27</td><td>25.0</td><td>8.8</td><td>0.515</td><td>2.2</td><td>1.2</td><td>0.6</td></tr><tr><td>Jordan Nwora</td><td>25</td><td>15.6</td><td>7.9</td><td>0.465</td><td>2.8</td><td>0.6</td><td>1.2</td></tr><tr><td>Grant Williams</td><td>25</td><td>26.4</td><td>8.1</td><td>0.413</td><td>2.6</td><td>1.0</td><td>1.1</td></tr><tr><td>Bismack Biyombo</td><td>31</td><td>23.9</td><td>5.2</td><td>0.563</td><td>4.5</td><td>1.9</td><td>1.3</td></tr><tr><td>Josh Green</td><td>23</td><td>26.4</td><td>8.2</td><td>0.479</td><td>2.5</td><td>0.7</td><td>1.1</td></tr><tr><td>Trey Jemison</td><td>24</td><td>24.9</td><td>7.4</td><td>0.551</td><td>3.0</td><td>2.8</td><td>1.4</td></tr><tr><td>Derrick Jones Jr.</td><td>26</td><td>23.5</td><td>8.6</td><td>0.483</td><td>2.2</td><td>1.1</td><td>0.9</td></tr><tr><td>Toumani Camara</td><td>23</td><td>24.8</td><td>7.5</td><td>0.45</td><td>2.9</td><td>2.0</td><td>1.2</td></tr><tr><td>Danilo Gallinari</td><td>35</td><td>15.0</td><td>8.7</td><td>0.545</td><td>2.0</td><td>0.3</td><td>0.2</td></tr><tr><td>Jonathan Isaac</td><td>26</td><td>15.8</td><td>6.8</td><td>0.51</td><td>3.2</td><td>1.3</td><td>0.5</td></tr><tr><td>Malaki Branham</td><td>20</td><td>21.3</td><td>9.2</td><td>0.432</td><td>1.6</td><td>0.4</td><td>1.2</td></tr><tr><td>Kyle Lowry</td><td>37</td><td>28.4</td><td>8.0</td><td>0.444</td><td>2.4</td><td>0.4</td><td>1.4</td></tr><tr><td>Brice Sensabaugh</td><td>20</td><td>18.3</td><td>7.5</td><td>0.39</td><td>2.7</td><td>0.5</td><td>1.5</td></tr><tr><td>Christian Braun</td><td>22</td><td>20.2</td><td>7.3</td><td>0.46</td><td>2.8</td><td>1.0</td><td>0.7</td></tr><tr><td>Andrew Nembhard</td><td>24</td><td>25.0</td><td>9.2</td><td>0.498</td><td>1.5</td><td>0.5</td><td>1.5</td></tr><tr><td>Mitchell Robinson</td><td>25</td><td>24.8</td><td>5.6</td><td>0.575</td><td>3.9</td><td>4.6</td><td>0.8</td></tr><tr><td>Seth Curry</td><td>33</td><td>19.9</td><td>9.0</td><td>0.441</td><td>1.6</td><td>0.4</td><td>0.6</td></tr><tr><td>Naji Marshall</td><td>26</td><td>19.0</td><td>7.1</td><td>0.463</td><td>2.8</td><td>0.8</td><td>1.0</td></tr><tr><td>Dante Exum</td><td>28</td><td>19.8</td><td>7.8</td><td>0.533</td><td>2.3</td><td>0.5</td><td>0.9</td></tr><tr><td>Cameron Payne</td><td>29</td><td>19.4</td><td>9.3</td><td>0.413</td><td>1.3</td><td>0.5</td><td>1.1</td></tr><tr><td>DÄvis BertÄns</td><td>31</td><td>20.8</td><td>8.8</td><td>0.394</td><td>1.6</td><td>0.3</td><td>0.6</td></tr><tr><td>Gradey Dick</td><td>20</td><td>21.1</td><td>8.5</td><td>0.425</td><td>1.8</td><td>0.5</td><td>0.8</td></tr><tr><td>Tosan Evbuomwan</td><td>22</td><td>22.5</td><td>7.0</td><td>0.571</td><td>2.8</td><td>0.8</td><td>0.6</td></tr><tr><td>Moses Moody</td><td>21</td><td>17.5</td><td>8.1</td><td>0.462</td><td>2.0</td><td>1.0</td><td>0.7</td></tr><tr><td>Isaiah Joe</td><td>24</td><td>18.5</td><td>8.2</td><td>0.458</td><td>1.9</td><td>0.4</td><td>0.6</td></tr><tr><td>Trey Jemison</td><td>24</td><td>22.9</td><td>6.8</td><td>0.551</td><td>2.8</td><td>2.6</td><td>1.4</td></tr><tr><td>Chimezie Metu</td><td>26</td><td>16.8</td><td>6.5</td><td>0.504</td><td>3.0</td><td>0.8</td><td>1.0</td></tr><tr><td>Shake Milton</td><td>27</td><td>15.8</td><td>6.8</td><td>0.423</td><td>2.8</td><td>1.8</td><td>0.8</td></tr><tr><td>Mason Plumlee</td><td>33</td><td>14.7</td><td>5.3</td><td>0.569</td><td>3.8</td><td>1.3</td><td>0.8</td></tr><tr><td>Larry Nance Jr.</td><td>31</td><td>19.9</td><td>5.7</td><td>0.573</td><td>3.5</td><td>1.5</td><td>0.8</td></tr><tr><td>Jordan Goodwin</td><td>25</td><td>18.5</td><td>6.5</td><td>0.369</td><td>2.9</td><td>1.5</td><td>1.0</td></tr><tr><td>Bruno Fernando</td><td>25</td><td>15.2</td><td>6.3</td><td>0.583</td><td>3.0</td><td>1.3</td><td>1.0</td></tr><tr><td>Killian Hayes</td><td>22</td><td>24.0</td><td>6.9</td><td>0.413</td><td>2.6</td><td>0.3</td><td>1.2</td></tr><tr><td>DeJon Jarreau</td><td>26</td><td>16.7</td><td>4.8</td><td>0.34</td><td>4.0</td><td>0.9</td><td>1.0</td></tr><tr><td>Lamar Stevens</td><td>26</td><td>14.7</td><td>7.2</td><td>0.45</td><td>2.4</td><td>0.9</td><td>0.6</td></tr><tr><td>Chris Boucher</td><td>31</td><td>14.1</td><td>6.4</td><td>0.507</td><td>2.9</td><td>1.2</td><td>0.6</td></tr><tr><td>Javon Freeman-Liberty</td><td>24</td><td>18.3</td><td>7.0</td><td>0.444</td><td>2.5</td><td>0.7</td><td>1.1</td></tr><tr><td>Danilo Gallinari</td><td>35</td><td>14.8</td><td>7.0</td><td>0.435</td><td>2.5</td><td>0.5</td><td>0.5</td></tr><tr><td>Marcus Sasser</td><td>23</td><td>19.0</td><td>8.3</td><td>0.428</td><td>1.6</td><td>0.2</td><td>1.3</td></tr><tr><td>Markelle Fultz</td><td>25</td><td>21.2</td><td>7.8</td><td>0.472</td><td>1.9</td><td>1.3</td><td>1.2</td></tr><tr><td>Jahmi'us Ramsey</td><td>22</td><td>17.3</td><td>6.7</td><td>0.439</td><td>2.6</td><td>0.6</td><td>1.0</td></tr><tr><td>Jordan Hawkins</td><td>21</td><td>17.3</td><td>7.8</td><td>0.382</td><td>1.8</td><td>0.4</td><td>0.6</td></tr><tr><td>Xavier Tillman Sr.</td><td>25</td><td>20.6</td><td>6.0</td><td>0.408</td><td>3.0</td><td>1.6</td><td>0.9</td></tr><tr><td>Dean Wade</td><td>27</td><td>20.5</td><td>5.4</td><td>0.414</td><td>3.4</td><td>0.7</td><td>0.4</td></tr><tr><td>Kyle Anderson</td><td>30</td><td>22.6</td><td>6.4</td><td>0.46</td><td>2.7</td><td>0.8</td><td>1.2</td></tr><tr><td>Marcus Morris</td><td>34</td><td>17.2</td><td>6.7</td><td>0.439</td><td>2.5</td><td>0.5</td><td>0.5</td></tr><tr><td>Jordan Nwora</td><td>25</td><td>13.7</td><td>7.0</td><td>0.462</td><td>2.3</td><td>0.5</td><td>1.0</td></tr><tr><td>Peyton Watson</td><td>21</td><td>18.6</td><td>6.7</td><td>0.465</td><td>2.5</td><td>0.7</td><td>0.7</td></tr><tr><td>Nickeil Alexander-Walker</td><td>25</td><td>23.4</td><td>8.0</td><td>0.439</td><td>1.6</td><td>0.4</td><td>0.9</td></tr><tr><td>Sam Merrill</td><td>27</td><td>17.5</td><td>8.0</td><td>0.402</td><td>1.6</td><td>0.4</td><td>0.3</td></tr><tr><td>Derrick Rose</td><td>35</td><td>16.6</td><td>8.0</td><td>0.461</td><td>1.6</td><td>0.3</td><td>1.3</td></tr><tr><td>Daniel Theis</td><td>31</td><td>16.9</td><td>6.3</td><td>0.532</td><td>2.7</td><td>1.4</td><td>0.7</td></tr><tr><td>Daniel Theis</td><td>31</td><td>17.1</td><td>6.3</td><td>0.536</td><td>2.7</td><td>1.4</td><td>0.7</td></tr><tr><td>Patrick Beverley</td><td>35</td><td>20.9</td><td>6.0</td><td>0.391</td><td>2.9</td><td>0.7</td><td>0.6</td></tr><tr><td>Trendon Watford</td><td>23</td><td>13.6</td><td>6.9</td><td>0.527</td><td>2.3</td><td>0.8</td><td>1.0</td></tr><tr><td>Malachi Flynn</td><td>25</td><td>14.3</td><td>8.0</td><td>0.43</td><td>1.5</td><td>0.3</td><td>1.1</td></tr><tr><td>RaiQuan Gray</td><td>24</td><td>13.0</td><td>7.7</td><td>0.588</td><td>1.7</td><td>0.7</td><td>0.3</td></tr><tr><td>Jaylen Nowell</td><td>24</td><td>14.5</td><td>7.5</td><td>0.522</td><td>1.8</td><td>0.8</td><td>0.5</td></tr><tr><td>Dyson Daniels</td><td>20</td><td>22.3</td><td>5.8</td><td>0.447</td><td>2.9</td><td>1.0</td><td>1.0</td></tr><tr><td>Jarred Vanderbilt</td><td>24</td><td>20.0</td><td>5.2</td><td>0.518</td><td>3.3</td><td>1.4</td><td>1.0</td></tr><tr><td>Patrick Beverley</td><td>35</td><td>20.0</td><td>6.2</td><td>0.417</td><td>2.6</td><td>0.7</td><td>0.9</td></tr><tr><td>Jae Crowder</td><td>33</td><td>23.1</td><td>6.2</td><td>0.422</td><td>2.6</td><td>0.6</td><td>0.5</td></tr><tr><td>Julian Champagnie</td><td>22</td><td>19.8</td><td>6.8</td><td>0.408</td><td>2.2</td><td>0.6</td><td>0.8</td></tr><tr><td>Isaiah Jackson</td><td>22</td><td>13.1</td><td>6.5</td><td>0.665</td><td>2.4</td><td>1.6</td><td>0.7</td></tr><tr><td>Cedi Osman</td><td>28</td><td>17.6</td><td>6.8</td><td>0.479</td><td>2.2</td><td>0.3</td><td>0.7</td></tr><tr><td>David Roddy</td><td>22</td><td>18.1</td><td>6.5</td><td>0.403</td><td>2.4</td><td>0.8</td><td>0.9</td></tr><tr><td>Kevon Looney</td><td>27</td><td>16.1</td><td>4.5</td><td>0.597</td><td>3.7</td><td>1.9</td><td>0.7</td></tr><tr><td>Nicolas Batum</td><td>35</td><td>25.9</td><td>5.5</td><td>0.456</td><td>3.0</td><td>1.2</td><td>0.7</td></tr><tr><td>Bismack Biyombo</td><td>31</td><td>19.8</td><td>4.4</td><td>0.565</td><td>3.7</td><td>1.6</td><td>1.1</td></tr><tr><td>Kevin Knox</td><td>24</td><td>18.1</td><td>7.2</td><td>0.462</td><td>1.8</td><td>0.6</td><td>0.7</td></tr><tr><td>Patrick Beverley</td><td>35</td><td>19.6</td><td>6.3</td><td>0.432</td><td>2.4</td><td>0.6</td><td>1.0</td></tr><tr><td>Torrey Craig</td><td>33</td><td>19.8</td><td>5.7</td><td>0.43</td><td>2.8</td><td>1.3</td><td>0.6</td></tr><tr><td>Marcus Morris</td><td>34</td><td>16.7</td><td>6.4</td><td>0.439</td><td>2.3</td><td>0.5</td><td>0.6</td></tr><tr><td>Jose Alvarado</td><td>25</td><td>18.4</td><td>7.1</td><td>0.412</td><td>1.8</td><td>0.4</td><td>0.7</td></tr><tr><td>Nicolas Batum</td><td>35</td><td>25.5</td><td>5.3</td><td>0.453</td><td>3.0</td><td>1.2</td><td>0.7</td></tr><tr><td>Miles McBride</td><td>23</td><td>19.5</td><td>8.3</td><td>0.452</td><td>1.0</td><td>0.5</td><td>0.4</td></tr><tr><td>Thomas Bryant</td><td>26</td><td>11.6</td><td>5.7</td><td>0.577</td><td>2.7</td><td>1.1</td><td>0.6</td></tr><tr><td>Evan Fournier</td><td>31</td><td>18.7</td><td>7.2</td><td>0.373</td><td>1.7</td><td>0.2</td><td>0.7</td></tr><tr><td>Quentin Grimes</td><td>23</td><td>20.2</td><td>7.3</td><td>0.395</td><td>1.6</td><td>0.3</td><td>0.5</td></tr><tr><td>Tosan Evbuomwan</td><td>22</td><td>21.6</td><td>5.9</td><td>0.507</td><td>2.5</td><td>1.1</td><td>0.5</td></tr><tr><td>Dennis Smith Jr.</td><td>26</td><td>18.9</td><td>6.6</td><td>0.435</td><td>2.0</td><td>0.9</td><td>1.2</td></tr><tr><td>Ochai Agbaji</td><td>23</td><td>23.6</td><td>6.7</td><td>0.391</td><td>1.9</td><td>1.4</td><td>1.1</td></tr><tr><td>Quentin Grimes</td><td>23</td><td>20.1</td><td>7.0</td><td>0.372</td><td>1.7</td><td>0.3</td><td>0.5</td></tr><tr><td>Jaden Hardy</td><td>21</td><td>13.5</td><td>7.3</td><td>0.407</td><td>1.5</td><td>0.3</td><td>0.8</td></tr><tr><td>David Duke Jr.</td><td>24</td><td>12.8</td><td>6.5</td><td>0.556</td><td>2.0</td><td>0.5</td><td>0.8</td></tr><tr><td>Drew Eubanks</td><td>26</td><td>15.6</td><td>5.1</td><td>0.601</td><td>2.9</td><td>1.4</td><td>0.8</td></tr><tr><td>Evan Fournier</td><td>31</td><td>18.1</td><td>6.9</td><td>0.357</td><td>1.7</td><td>0.2</td><td>0.7</td></tr><tr><td>Johnny Juzang</td><td>22</td><td>18.6</td><td>7.2</td><td>0.464</td><td>1.5</td><td>0.4</td><td>0.7</td></tr><tr><td>Zavier Simpson</td><td>26</td><td>23.0</td><td>6.0</td><td>0.315</td><td>2.3</td><td>0.6</td><td>1.4</td></tr><tr><td>Haywood Highsmith</td><td>27</td><td>20.7</td><td>6.1</td><td>0.465</td><td>2.2</td><td>1.0</td><td>0.5</td></tr><tr><td>Kris Murray</td><td>23</td><td>21.7</td><td>6.1</td><td>0.396</td><td>2.2</td><td>1.4</td><td>0.9</td></tr><tr><td>Noah Clowney</td><td>19</td><td>16.1</td><td>5.8</td><td>0.538</td><td>2.4</td><td>1.1</td><td>0.7</td></tr><tr><td>John Konchar</td><td>27</td><td>21.3</td><td>4.3</td><td>0.423</td><td>3.4</td><td>1.3</td><td>0.8</td></tr><tr><td>Goga Bitadze</td><td>24</td><td>15.4</td><td>5.0</td><td>0.603</td><td>2.9</td><td>1.8</td><td>0.7</td></tr><tr><td>Justin Champagnie</td><td>22</td><td>15.7</td><td>5.9</td><td>0.41</td><td>2.3</td><td>1.3</td><td>0.7</td></tr><tr><td>Pat Connaughton</td><td>31</td><td>22.1</td><td>5.6</td><td>0.435</td><td>2.5</td><td>0.7</td><td>0.6</td></tr><tr><td>Aaron Wiggins</td><td>25</td><td>15.7</td><td>6.9</td><td>0.562</td><td>1.6</td><td>0.8</td><td>0.7</td></tr><tr><td>Neemias Queta</td><td>24</td><td>11.9</td><td>5.5</td><td>0.644</td><td>2.5</td><td>1.9</td><td>0.5</td></tr><tr><td>Richaun Holmes</td><td>30</td><td>13.9</td><td>5.0</td><td>0.558</td><td>2.8</td><td>1.8</td><td>0.6</td></tr><tr><td>Cameron Payne</td><td>29</td><td>16.7</td><td>7.4</td><td>0.432</td><td>1.2</td><td>0.3</td><td>0.8</td></tr><tr><td>Xavier Tillman Sr.</td><td>25</td><td>18.0</td><td>5.3</td><td>0.434</td><td>2.6</td><td>1.3</td><td>0.6</td></tr><tr><td>Cason Wallace</td><td>20</td><td>20.6</td><td>6.8</td><td>0.491</td><td>1.6</td><td>0.6</td><td>0.5</td></tr><tr><td>Amir Coffey</td><td>26</td><td>20.9</td><td>6.6</td><td>0.472</td><td>1.7</td><td>0.4</td><td>0.5</td></tr><tr><td>Aleksej Pokusevski</td><td>22</td><td>14.5</td><td>5.2</td><td>0.405</td><td>2.6</td><td>0.6</td><td>0.7</td></tr><tr><td>Spencer Dinwiddie</td><td>30</td><td>24.2</td><td>6.8</td><td>0.397</td><td>1.5</td><td>0.1</td><td>1.0</td></tr><tr><td>Jeff Green</td><td>37</td><td>16.8</td><td>6.5</td><td>0.456</td><td>1.7</td><td>0.6</td><td>0.6</td></tr><tr><td>Bones Hyland</td><td>23</td><td>14.6</td><td>6.9</td><td>0.386</td><td>1.4</td><td>0.1</td><td>1.2</td></tr><tr><td>Vit Krejci</td><td>23</td><td>24.6</td><td>6.1</td><td>0.49</td><td>1.9</td><td>0.5</td><td>0.9</td></tr><tr><td>Bol Bol</td><td>24</td><td>10.9</td><td>5.2</td><td>0.616</td><td>2.4</td><td>0.7</td><td>0.4</td></tr><tr><td>Wenyen Gabriel</td><td>26</td><td>16.2</td><td>3.4</td><td>0.364</td><td>3.6</td><td>1.4</td><td>1.6</td></tr><tr><td>Vasilije MiciÄ</td><td>30</td><td>19.6</td><td>7.0</td><td>0.43</td><td>1.2</td><td>0.2</td><td>1.7</td></tr><tr><td>Omer Yurtseven</td><td>25</td><td>11.4</td><td>4.6</td><td>0.538</td><td>2.8</td><td>1.5</td><td>0.8</td></tr><tr><td>Luke Kornet</td><td>28</td><td>15.6</td><td>5.3</td><td>0.7</td><td>2.3</td><td>1.9</td><td>0.3</td></tr><tr><td>Gary Harris</td><td>29</td><td>24.0</td><td>6.9</td><td>0.441</td><td>1.2</td><td>0.4</td><td>0.6</td></tr><tr><td>Patrick Baldwin Jr.</td><td>21</td><td>13.0</td><td>4.4</td><td>0.381</td><td>2.8</td><td>0.4</td><td>0.5</td></tr><tr><td>Mo Bamba</td><td>25</td><td>13.0</td><td>4.4</td><td>0.49</td><td>2.8</td><td>1.4</td><td>0.7</td></tr><tr><td>Darius Bazley</td><td>23</td><td>16.9</td><td>5.3</td><td>0.6</td><td>2.2</td><td>0.9</td><td>0.9</td></tr><tr><td>Alec Burks</td><td>32</td><td>13.5</td><td>6.5</td><td>0.307</td><td>1.4</td><td>0.3</td><td>0.7</td></tr><tr><td>Landry Shamet</td><td>26</td><td>15.8</td><td>7.1</td><td>0.431</td><td>1.0</td><td>0.3</td><td>0.7</td></tr><tr><td>Kris Dunn</td><td>29</td><td>18.9</td><td>5.4</td><td>0.47</td><td>2.1</td><td>0.8</td><td>1.2</td></tr><tr><td>Aaron Holiday</td><td>27</td><td>16.3</td><td>6.6</td><td>0.446</td><td>1.3</td><td>0.3</td><td>0.7</td></tr><tr><td>Ochai Agbaji</td><td>23</td><td>21.0</td><td>5.8</td><td>0.411</td><td>1.8</td><td>0.9</td><td>0.8</td></tr><tr><td>DÄvis BertÄns</td><td>31</td><td>15.7</td><td>6.7</td><td>0.393</td><td>1.2</td><td>0.2</td><td>0.4</td></tr><tr><td>Dexter Dennis</td><td>24</td><td>7.5</td><td>5.5</td><td>0.526</td><td>2.0</td><td>0.3</td><td>0.8</td></tr><tr><td>Chimezie Metu</td><td>26</td><td>12.1</td><td>5.0</td><td>0.508</td><td>2.3</td><td>0.6</td><td>0.7</td></tr><tr><td>P.J. Tucker</td><td>38</td><td>22.0</td><td>2.0</td><td>0.4</td><td>4.3</td><td>0.3</td><td>0.7</td></tr><tr><td>Danilo Gallinari</td><td>35</td><td>12.9</td><td>5.7</td><td>0.437</td><td>1.8</td><td>0.4</td><td>0.5</td></tr><tr><td>Troy Brown Jr.</td><td>24</td><td>19.0</td><td>4.2</td><td>0.296</td><td>2.8</td><td>0.5</td><td>0.5</td></tr><tr><td>Marcus Morris</td><td>34</td><td>15.0</td><td>5.8</td><td>0.441</td><td>1.7</td><td>0.4</td><td>0.9</td></tr><tr><td>Jaylin Williams</td><td>21</td><td>13.0</td><td>4.0</td><td>0.417</td><td>2.9</td><td>0.5</td><td>0.5</td></tr><tr><td>Gordon Hayward</td><td>33</td><td>17.2</td><td>5.3</td><td>0.453</td><td>2.0</td><td>0.5</td><td>0.6</td></tr><tr><td>Maxi Kleber</td><td>32</td><td>20.3</td><td>4.4</td><td>0.432</td><td>2.6</td><td>0.7</td><td>0.7</td></tr><tr><td>Jaylen Nowell</td><td>24</td><td>16.5</td><td>6.2</td><td>0.436</td><td>1.4</td><td>0.5</td><td>0.5</td></tr><tr><td>DeAndre Jordan</td><td>35</td><td>11.0</td><td>3.9</td><td>0.624</td><td>2.9</td><td>1.5</td><td>0.6</td></tr><tr><td>Skylar Mays</td><td>26</td><td>17.0</td><td>6.3</td><td>0.384</td><td>1.3</td><td>0.4</td><td>0.9</td></tr><tr><td>Craig Porter Jr.</td><td>23</td><td>12.7</td><td>5.6</td><td>0.509</td><td>1.7</td><td>0.4</td><td>0.9</td></tr><tr><td>Ochai Agbaji</td><td>23</td><td>19.7</td><td>5.4</td><td>0.426</td><td>1.8</td><td>0.7</td><td>0.7</td></tr><tr><td>Jared Butler</td><td>23</td><td>14.2</td><td>6.3</td><td>0.488</td><td>1.2</td><td>0.2</td><td>1.3</td></tr><tr><td>Quentin Grimes</td><td>23</td><td>19.2</td><td>5.3</td><td>0.214</td><td>1.8</td><td>0.2</td><td>1.2</td></tr><tr><td>Cameron Payne</td><td>29</td><td>14.9</td><td>6.2</td><td>0.455</td><td>1.2</td><td>0.1</td><td>0.7</td></tr><tr><td>Stanley Umude</td><td>24</td><td>12.8</td><td>5.3</td><td>0.44</td><td>1.8</td><td>0.3</td><td>0.6</td></tr><tr><td>Jalen Wilson</td><td>23</td><td>15.4</td><td>5.0</td><td>0.425</td><td>2.0</td><td>1.1</td><td>0.4</td></tr><tr><td>Thaddeus Young</td><td>35</td><td>15.2</td><td>5.0</td><td>0.621</td><td>2.0</td><td>1.3</td><td>0.5</td></tr><tr><td>Robert Covington</td><td>33</td><td>16.1</td><td>4.5</td><td>0.449</td><td>2.3</td><td>1.1</td><td>0.4</td></tr><tr><td>Kenrich Williams</td><td>29</td><td>14.9</td><td>4.7</td><td>0.468</td><td>2.1</td><td>0.9</td><td>0.5</td></tr><tr><td>Robert Covington</td><td>33</td><td>16.8</td><td>4.4</td><td>0.439</td><td>2.3</td><td>1.1</td><td>0.4</td></tr><tr><td>Jordan Goodwin</td><td>25</td><td>14.0</td><td>5.0</td><td>0.389</td><td>1.9</td><td>1.0</td><td>0.7</td></tr><tr><td>Keon Ellis</td><td>24</td><td>17.2</td><td>5.4</td><td>0.461</td><td>1.6</td><td>0.6</td><td>0.6</td></tr><tr><td>Matisse Thybulle</td><td>26</td><td>22.9</td><td>5.4</td><td>0.397</td><td>1.6</td><td>0.5</td><td>0.6</td></tr><tr><td>Sasha Vezenkov</td><td>28</td><td>12.2</td><td>5.4</td><td>0.44</td><td>1.6</td><td>0.7</td><td>0.3</td></tr><tr><td>Jamaree Bouyea</td><td>24</td><td>12.7</td><td>3.7</td><td>0.714</td><td>2.7</td><td>0.3</td><td>0.3</td></tr><tr><td>Gary Payton II</td><td>31</td><td>15.5</td><td>5.5</td><td>0.563</td><td>1.5</td><td>1.0</td><td>0.6</td></tr><tr><td>Jontay Porter</td><td>24</td><td>13.8</td><td>4.4</td><td>0.385</td><td>2.2</td><td>1.0</td><td>0.8</td></tr><tr><td>Marques Bolden</td><td>25</td><td>13.1</td><td>4.1</td><td>0.68</td><td>2.4</td><td>1.1</td><td>0.3</td></tr><tr><td>Cam Reddish</td><td>24</td><td>20.5</td><td>5.4</td><td>0.389</td><td>1.5</td><td>0.6</td><td>0.6</td></tr><tr><td>Delon Wright</td><td>31</td><td>20.4</td><td>5.4</td><td>0.394</td><td>1.5</td><td>0.4</td><td>0.2</td></tr><tr><td>Malachi Flynn</td><td>25</td><td>15.3</td><td>5.1</td><td>0.409</td><td>1.7</td><td>0.4</td><td>1.1</td></tr><tr><td>Malik Williams</td><td>25</td><td>15.3</td><td>2.7</td><td>0.265</td><td>3.3</td><td>2.1</td><td>0.4</td></tr><tr><td>Jared Rhoden</td><td>24</td><td>14.4</td><td>4.9</td><td>0.5</td><td>1.8</td><td>0.2</td><td>0.4</td></tr><tr><td>Dominick Barlow</td><td>20</td><td>12.7</td><td>4.4</td><td>0.496</td><td>2.1</td><td>1.4</td><td>0.3</td></tr><tr><td>Nick Smith Jr.</td><td>19</td><td>14.3</td><td>5.9</td><td>0.391</td><td>1.1</td><td>0.4</td><td>0.8</td></tr><tr><td>Jaylen Nowell</td><td>24</td><td>17.3</td><td>5.7</td><td>0.4</td><td>1.2</td><td>0.3</td><td>0.6</td></tr><tr><td>Charles Bassey</td><td>23</td><td>10.8</td><td>3.3</td><td>0.725</td><td>2.8</td><td>1.2</td><td>0.8</td></tr><tr><td>Malachi Flynn</td><td>25</td><td>12.7</td><td>5.5</td><td>0.418</td><td>1.3</td><td>0.3</td><td>0.9</td></tr><tr><td>Keon Johnson</td><td>21</td><td>12.2</td><td>6.2</td><td>0.381</td><td>0.8</td><td>0.6</td><td>1.0</td></tr><tr><td>Sandro Mamukelashvili</td><td>24</td><td>9.8</td><td>4.1</td><td>0.471</td><td>2.2</td><td>1.0</td><td>0.4</td></tr><tr><td>Doug McDermott</td><td>32</td><td>15.2</td><td>6.0</td><td>0.442</td><td>0.9</td><td>0.2</td><td>0.5</td></tr><tr><td>Monte Morris</td><td>28</td><td>15.1</td><td>5.1</td><td>0.417</td><td>1.5</td><td>0.2</td><td>0.2</td></tr><tr><td>Mike Muscala</td><td>32</td><td>14.1</td><td>4.0</td><td>0.367</td><td>2.2</td><td>0.9</td><td>0.7</td></tr><tr><td>Jaxson Hayes</td><td>23</td><td>12.5</td><td>4.3</td><td>0.72</td><td>2.0</td><td>1.0</td><td>0.6</td></tr><tr><td>Jordan Nwora</td><td>25</td><td>10.2</td><td>5.2</td><td>0.451</td><td>1.4</td><td>0.4</td><td>0.7</td></tr><tr><td>Monte Morris</td><td>28</td><td>14.4</td><td>5.0</td><td>0.405</td><td>1.5</td><td>0.2</td><td>0.2</td></tr><tr><td>Kobi Simmons</td><td>26</td><td>16.8</td><td>5.0</td><td>0.429</td><td>1.5</td><td>0.3</td><td>0.3</td></tr><tr><td>Jae'Sean Tate</td><td>28</td><td>15.9</td><td>4.1</td><td>0.472</td><td>2.1</td><td>0.9</td><td>0.6</td></tr><tr><td>Keita Bates-Diop</td><td>28</td><td>15.3</td><td>4.5</td><td>0.427</td><td>1.8</td><td>0.8</td><td>0.3</td></tr><tr><td>Troy Brown Jr.</td><td>24</td><td>14.0</td><td>4.2</td><td>0.372</td><td>2.0</td><td>0.4</td><td>0.5</td></tr><tr><td>Kobe Bufkin</td><td>20</td><td>11.5</td><td>4.8</td><td>0.37</td><td>1.6</td><td>0.4</td><td>0.6</td></tr><tr><td>Taj Gibson</td><td>38</td><td>9.8</td><td>4.5</td><td>0.571</td><td>1.8</td><td>0.5</td><td>0.0</td></tr><tr><td>Matt Ryan</td><td>26</td><td>13.9</td><td>5.4</td><td>0.434</td><td>1.2</td><td>0.2</td><td>0.7</td></tr><tr><td>Bryce McGowens</td><td>21</td><td>14.9</td><td>5.1</td><td>0.439</td><td>1.4</td><td>0.3</td><td>0.5</td></tr><tr><td>Jock Landale</td><td>28</td><td>13.6</td><td>4.9</td><td>0.515</td><td>1.5</td><td>1.6</td><td>0.6</td></tr><tr><td>Joe Ingles</td><td>36</td><td>17.2</td><td>4.4</td><td>0.436</td><td>1.8</td><td>0.3</td><td>1.0</td></tr><tr><td>Isaiah Livers</td><td>25</td><td>20.4</td><td>5.0</td><td>0.345</td><td>1.4</td><td>0.7</td><td>0.7</td></tr><tr><td>Max Christie</td><td>20</td><td>14.1</td><td>4.2</td><td>0.427</td><td>1.9</td><td>0.2</td><td>0.5</td></tr><tr><td>Monte Morris</td><td>28</td><td>11.3</td><td>4.5</td><td>0.364</td><td>1.7</td><td>0.3</td><td>0.3</td></tr><tr><td>Mouhamed Gueye</td><td>21</td><td>12.2</td><td>4.0</td><td>0.348</td><td>2.0</td><td>1.7</td><td>0.2</td></tr><tr><td>Patty Mills</td><td>35</td><td>16.4</td><td>5.8</td><td>0.338</td><td>0.8</td><td>0.3</td><td>0.6</td></tr><tr><td>Xavier Tillman Sr.</td><td>25</td><td>13.7</td><td>4.0</td><td>0.515</td><td>2.0</td><td>0.7</td><td>0.3</td></tr><tr><td>Devonte' Graham</td><td>28</td><td>13.6</td><td>5.0</td><td>0.352</td><td>1.3</td><td>0.2</td><td>0.7</td></tr><tr><td>Davion Mitchell</td><td>25</td><td>15.3</td><td>5.3</td><td>0.452</td><td>1.1</td><td>0.3</td><td>0.6</td></tr><tr><td>Dylan Windler</td><td>27</td><td>12.2</td><td>4.7</td><td>0.526</td><td>1.5</td><td>0.5</td><td>0.3</td></tr><tr><td>Luka Å amaniÄ</td><td>24</td><td>9.4</td><td>4.1</td><td>0.38</td><td>1.9</td><td>0.5</td><td>0.7</td></tr><tr><td>Ricky Council IV</td><td>22</td><td>9.0</td><td>5.4</td><td>0.482</td><td>1.0</td><td>0.4</td><td>0.2</td></tr><tr><td>Anthony Black</td><td>20</td><td>16.9</td><td>4.6</td><td>0.466</td><td>1.5</td><td>0.5</td><td>0.8</td></tr><tr><td>Adama Sanogo</td><td>21</td><td>7.3</td><td>4.0</td><td>0.519</td><td>1.9</td><td>2.1</td><td>0.6</td></tr><tr><td>MarJon Beauchamp</td><td>23</td><td>12.7</td><td>4.4</td><td>0.488</td><td>1.6</td><td>0.5</td><td>0.6</td></tr><tr><td>Seth Curry</td><td>33</td><td>14.0</td><td>5.1</td><td>0.392</td><td>1.1</td><td>0.4</td><td>0.5</td></tr><tr><td>Thaddeus Young</td><td>35</td><td>13.3</td><td>4.2</td><td>0.602</td><td>1.7</td><td>1.4</td><td>0.5</td></tr><tr><td>Marques Bolden</td><td>25</td><td>11.0</td><td>3.4</td><td>0.68</td><td>2.2</td><td>0.9</td><td>0.3</td></tr><tr><td>Brandon Boston Jr.</td><td>22</td><td>10.8</td><td>5.2</td><td>0.404</td><td>1.0</td><td>0.6</td><td>0.8</td></tr><tr><td>Moses Brown</td><td>24</td><td>9.1</td><td>3.4</td><td>0.508</td><td>2.2</td><td>1.7</td><td>0.5</td></tr><tr><td>Doug McDermott</td><td>32</td><td>14.1</td><td>5.5</td><td>0.433</td><td>0.8</td><td>0.2</td><td>0.4</td></tr><tr><td>JaVale McGee</td><td>36</td><td>7.4</td><td>4.0</td><td>0.598</td><td>1.8</td><td>0.9</td><td>0.7</td></tr><tr><td>Troy Brown Jr.</td><td>24</td><td>11.1</td><td>4.2</td><td>0.441</td><td>1.6</td><td>0.4</td><td>0.5</td></tr><tr><td>Ashton Hagans</td><td>24</td><td>16.6</td><td>4.2</td><td>0.408</td><td>1.6</td><td>0.7</td><td>1.6</td></tr><tr><td>Eugene Omoruyi</td><td>26</td><td>9.1</td><td>4.8</td><td>0.485</td><td>1.2</td><td>0.8</td><td>0.5</td></tr><tr><td>Delon Wright</td><td>31</td><td>15.8</td><td>4.5</td><td>0.394</td><td>1.4</td><td>0.4</td><td>0.3</td></tr><tr><td>Garrison Mathews</td><td>27</td><td>15.0</td><td>4.9</td><td>0.456</td><td>1.1</td><td>0.3</td><td>0.3</td></tr><tr><td>Josh Okogie</td><td>25</td><td>16.0</td><td>4.6</td><td>0.417</td><td>1.3</td><td>1.2</td><td>0.6</td></tr><tr><td>Rayan Rupert</td><td>19</td><td>16.2</td><td>4.0</td><td>0.335</td><td>1.7</td><td>0.6</td><td>0.8</td></tr><tr><td>Timmy Allen</td><td>24</td><td>25.0</td><td>2.6</td><td>0.261</td><td>2.6</td><td>0.8</td><td>0.4</td></tr><tr><td>KJ Martin</td><td>23</td><td>15.5</td><td>5.0</td><td>0.4</td><td>1.0</td><td>0.5</td><td>1.0</td></tr><tr><td>Shake Milton</td><td>27</td><td>12.9</td><td>4.7</td><td>0.4</td><td>1.2</td><td>0.2</td><td>0.7</td></tr><tr><td>Lester Quinones</td><td>23</td><td>10.6</td><td>4.4</td><td>0.397</td><td>1.4</td><td>0.6</td><td>0.5</td></tr><tr><td>ThÃ©o Maledon</td><td>22</td><td>15.4</td><td>4.2</td><td>0.288</td><td>1.5</td><td>0.3</td><td>1.2</td></tr><tr><td>Shake Milton</td><td>27</td><td>12.1</td><td>4.5</td><td>0.405</td><td>1.3</td><td>0.3</td><td>0.6</td></tr><tr><td>Micah Potter</td><td>25</td><td>11.6</td><td>3.3</td><td>0.475</td><td>2.1</td><td>0.6</td><td>0.3</td></tr><tr><td>Tristan Thompson</td><td>32</td><td>11.2</td><td>3.3</td><td>0.608</td><td>2.1</td><td>1.5</td><td>0.6</td></tr><tr><td>Oshae Brissett</td><td>25</td><td>11.5</td><td>3.7</td><td>0.444</td><td>1.8</td><td>1.1</td><td>0.4</td></tr><tr><td>Richaun Holmes</td><td>30</td><td>10.3</td><td>3.4</td><td>0.559</td><td>2.0</td><td>1.4</td><td>0.5</td></tr><tr><td>Jeff Dowtin</td><td>26</td><td>11.8</td><td>4.3</td><td>0.556</td><td>1.4</td><td>0.3</td><td>0.4</td></tr><tr><td>Kenneth Lofton Jr.</td><td>21</td><td>9.5</td><td>4.6</td><td>0.462</td><td>1.2</td><td>0.6</td><td>0.7</td></tr><tr><td>Ben Sheppard</td><td>22</td><td>14.3</td><td>4.4</td><td>0.393</td><td>1.3</td><td>0.3</td><td>0.3</td></tr><tr><td>Alex Fudge</td><td>20</td><td>13.0</td><td>5.5</td><td>0.556</td><td>0.5</td><td>1.0</td><td>0.5</td></tr><tr><td>Blake Wesley</td><td>20</td><td>14.4</td><td>4.4</td><td>0.474</td><td>1.2</td><td>0.3</td><td>0.9</td></tr><tr><td>Delon Wright</td><td>31</td><td>13.8</td><td>4.1</td><td>0.393</td><td>1.4</td><td>0.4</td><td>0.3</td></tr><tr><td>Nicolas Batum</td><td>35</td><td>18.0</td><td>2.7</td><td>0.375</td><td>2.3</td><td>0.0</td><td>0.3</td></tr><tr><td>Julian Strawther</td><td>21</td><td>10.9</td><td>4.5</td><td>0.369</td><td>1.1</td><td>0.1</td><td>0.5</td></tr><tr><td>Dwight Powell</td><td>32</td><td>13.3</td><td>3.3</td><td>0.679</td><td>1.9</td><td>1.5</td><td>0.5</td></tr><tr><td>Jacob Gilyard</td><td>25</td><td>17.7</td><td>4.7</td><td>0.417</td><td>0.9</td><td>0.2</td><td>0.8</td></tr><tr><td>Jevon Carter</td><td>28</td><td>13.9</td><td>5.0</td><td>0.378</td><td>0.7</td><td>0.2</td><td>0.5</td></tr><tr><td>Tre Mann</td><td>22</td><td>9.2</td><td>3.8</td><td>0.5</td><td>1.5</td><td>0.3</td><td>0.7</td></tr><tr><td>Robert Covington</td><td>33</td><td>23.0</td><td>3.0</td><td>0.333</td><td>2.0</td><td>0.7</td><td>0.0</td></tr><tr><td>Chris Duarte</td><td>26</td><td>12.2</td><td>3.9</td><td>0.381</td><td>1.4</td><td>0.4</td><td>0.4</td></tr><tr><td>A.J. Green</td><td>24</td><td>11.0</td><td>4.5</td><td>0.423</td><td>1.0</td><td>0.2</td><td>0.2</td></tr><tr><td>Danuel House Jr.</td><td>30</td><td>15.0</td><td>4.2</td><td>0.448</td><td>1.2</td><td>0.5</td><td>0.6</td></tr><tr><td>Taze Moore</td><td>25</td><td>10.0</td><td>4.5</td><td>0.421</td><td>1.0</td><td>1.0</td><td>0.8</td></tr><tr><td>Keita Bates-Diop</td><td>28</td><td>12.5</td><td>3.7</td><td>0.434</td><td>1.5</td><td>0.6</td><td>0.3</td></tr><tr><td>Evan Fournier</td><td>31</td><td>13.0</td><td>4.0</td><td>0.2</td><td>1.3</td><td>0.0</td><td>0.3</td></tr><tr><td>KJ Martin</td><td>23</td><td>12.4</td><td>3.7</td><td>0.536</td><td>1.5</td><td>0.7</td><td>0.5</td></tr><tr><td>KJ Martin</td><td>23</td><td>12.3</td><td>3.7</td><td>0.544</td><td>1.5</td><td>0.7</td><td>0.5</td></tr><tr><td>T.J. Warren</td><td>30</td><td>11.4</td><td>3.7</td><td>0.439</td><td>1.5</td><td>0.5</td><td>0.4</td></tr><tr><td>Boban MarjanoviÄ</td><td>35</td><td>5.1</td><td>3.2</td><td>0.529</td><td>1.8</td><td>0.5</td><td>0.4</td></tr><tr><td>Armoni Brooks</td><td>25</td><td>10.4</td><td>4.2</td><td>0.326</td><td>1.1</td><td>0.7</td><td>0.3</td></tr><tr><td>Jarace Walker</td><td>20</td><td>10.3</td><td>3.6</td><td>0.409</td><td>1.5</td><td>0.4</td><td>0.5</td></tr><tr><td>Seth Curry</td><td>33</td><td>12.7</td><td>4.3</td><td>0.372</td><td>1.0</td><td>0.4</td><td>0.4</td></tr><tr><td>Ousmane Dieng</td><td>20</td><td>11.1</td><td>4.0</td><td>0.422</td><td>1.2</td><td>0.3</td><td>0.6</td></tr><tr><td>Mike Muscala</td><td>32</td><td>13.2</td><td>3.5</td><td>0.341</td><td>1.5</td><td>0.8</td><td>0.2</td></tr><tr><td>D.J. Wilson</td><td>27</td><td>7.5</td><td>5.0</td><td>0.667</td><td>0.5</td><td>0.5</td><td>0.0</td></tr><tr><td>Gui Santos</td><td>21</td><td>8.3</td><td>3.6</td><td>0.509</td><td>1.4</td><td>0.7</td><td>0.3</td></tr><tr><td>Justin Holiday</td><td>34</td><td>14.9</td><td>4.0</td><td>0.454</td><td>1.1</td><td>0.2</td><td>0.2</td></tr><tr><td>Caleb Houstan</td><td>21</td><td>13.8</td><td>4.3</td><td>0.388</td><td>0.9</td><td>0.5</td><td>0.3</td></tr><tr><td>Dru Smith</td><td>26</td><td>14.6</td><td>4.3</td><td>0.455</td><td>0.9</td><td>0.7</td><td>0.6</td></tr><tr><td>JT Thor</td><td>21</td><td>12.4</td><td>3.2</td><td>0.437</td><td>1.6</td><td>0.7</td><td>0.2</td></tr><tr><td>Sidy Cissoko</td><td>19</td><td>11.8</td><td>3.8</td><td>0.485</td><td>1.2</td><td>0.7</td><td>0.3</td></tr><tr><td>Jacob Gilyard</td><td>25</td><td>17.0</td><td>4.2</td><td>0.4</td><td>0.9</td><td>0.2</td><td>0.7</td></tr><tr><td>Izaiah Brockington</td><td>24</td><td>3.0</td><td>4.0</td><td>0.4</td><td>1.0</td><td>1.0</td><td>0.0</td></tr><tr><td>Nassir Little</td><td>23</td><td>10.2</td><td>3.4</td><td>0.46</td><td>1.4</td><td>0.3</td><td>0.3</td></tr><tr><td>Svi Mykhailiuk</td><td>26</td><td>10.1</td><td>4.0</td><td>0.416</td><td>1.0</td><td>0.3</td><td>0.3</td></tr><tr><td>Jaden Springer</td><td>21</td><td>11.8</td><td>4.0</td><td>0.39</td><td>1.0</td><td>0.8</td><td>0.8</td></tr><tr><td>Anthony Gill</td><td>31</td><td>9.3</td><td>3.8</td><td>0.469</td><td>1.1</td><td>0.7</td><td>0.5</td></tr><tr><td>Ish Smith</td><td>35</td><td>17.2</td><td>3.2</td><td>0.418</td><td>1.5</td><td>0.3</td><td>1.1</td></tr><tr><td>Skylar Mays</td><td>26</td><td>11.4</td><td>4.1</td><td>0.396</td><td>0.9</td><td>0.3</td><td>0.5</td></tr><tr><td>Ryan Rollins</td><td>21</td><td>6.6</td><td>4.1</td><td>0.52</td><td>0.9</td><td>0.2</td><td>0.7</td></tr><tr><td>Mike Muscala</td><td>32</td><td>11.3</td><td>3.0</td><td>0.359</td><td>1.6</td><td>0.7</td><td>0.4</td></tr><tr><td>Yuta Watanabe</td><td>29</td><td>13.2</td><td>3.6</td><td>0.361</td><td>1.2</td><td>0.4</td><td>0.6</td></tr><tr><td>Matthew Hurt</td><td>23</td><td>14.1</td><td>4.0</td><td>0.353</td><td>0.9</td><td>1.1</td><td>0.3</td></tr><tr><td>Yuta Watanabe</td><td>29</td><td>13.6</td><td>3.4</td><td>0.353</td><td>1.3</td><td>0.3</td><td>0.6</td></tr><tr><td>Yuta Watanabe</td><td>29</td><td>16.4</td><td>2.6</td><td>0.316</td><td>1.8</td><td>0.0</td><td>0.6</td></tr><tr><td>ThÃ©o Maledon</td><td>22</td><td>12.5</td><td>3.5</td><td>0.286</td><td>1.2</td><td>0.2</td><td>1.1</td></tr><tr><td>Patty Mills</td><td>35</td><td>13.0</td><td>4.0</td><td>0.351</td><td>0.8</td><td>0.3</td><td>0.5</td></tr><tr><td>Orlando Robinson</td><td>23</td><td>8.4</td><td>2.8</td><td>0.5</td><td>1.6</td><td>0.8</td><td>0.5</td></tr><tr><td>Jalen McDaniels</td><td>26</td><td>10.8</td><td>3.4</td><td>0.344</td><td>1.2</td><td>0.4</td><td>0.6</td></tr><tr><td>Dalen Terry</td><td>21</td><td>11.5</td><td>3.1</td><td>0.439</td><td>1.4</td><td>0.5</td><td>0.5</td></tr><tr><td>Onuralp Bitim</td><td>24</td><td>11.7</td><td>3.5</td><td>0.381</td><td>1.1</td><td>0.3</td><td>0.4</td></tr><tr><td>Jules Bernard</td><td>24</td><td>7.8</td><td>3.9</td><td>0.453</td><td>0.8</td><td>0.5</td><td>0.4</td></tr><tr><td>Olivier-Maxence Prosper</td><td>21</td><td>8.4</td><td>3.0</td><td>0.385</td><td>1.4</td><td>0.6</td><td>0.2</td></tr><tr><td>Mamadi Diakite</td><td>27</td><td>5.3</td><td>4.0</td><td>0.8</td><td>0.7</td><td>0.3</td><td>0.0</td></tr><tr><td>Alex Len</td><td>30</td><td>9.3</td><td>2.5</td><td>0.617</td><td>1.7</td><td>1.0</td><td>0.6</td></tr><tr><td>Jamaree Bouyea</td><td>24</td><td>10.6</td><td>2.3</td><td>0.357</td><td>1.8</td><td>0.3</td><td>1.0</td></tr><tr><td>Jordan McLaughlin</td><td>27</td><td>11.2</td><td>3.5</td><td>0.483</td><td>1.0</td><td>0.3</td><td>0.3</td></tr><tr><td>Jeremiah Robinson-Earl</td><td>23</td><td>8.6</td><td>2.9</td><td>0.474</td><td>1.4</td><td>0.6</td><td>0.4</td></tr><tr><td>Jericho Sims</td><td>25</td><td>13.0</td><td>2.0</td><td>0.691</td><td>2.0</td><td>1.2</td><td>0.4</td></tr><tr><td>Leaky Black</td><td>24</td><td>10.9</td><td>2.7</td><td>0.481</td><td>1.5</td><td>0.3</td><td>0.2</td></tr><tr><td>Doug McDermott</td><td>32</td><td>11.3</td><td>4.2</td><td>0.406</td><td>0.5</td><td>0.1</td><td>0.2</td></tr><tr><td>Lindy Waters III</td><td>26</td><td>7.4</td><td>3.6</td><td>0.471</td><td>0.9</td><td>0.2</td><td>0.2</td></tr><tr><td>Jamal Cain</td><td>24</td><td>10.0</td><td>3.7</td><td>0.43</td><td>0.8</td><td>0.6</td><td>0.3</td></tr><tr><td>Wesley Matthews</td><td>37</td><td>11.5</td><td>3.1</td><td>0.351</td><td>1.2</td><td>0.3</td><td>0.2</td></tr><tr><td>Zeke Nnaji</td><td>23</td><td>9.9</td><td>3.2</td><td>0.463</td><td>1.1</td><td>1.1</td><td>0.5</td></tr><tr><td>Otto Porter Jr.</td><td>30</td><td>11.6</td><td>2.6</td><td>0.424</td><td>1.5</td><td>0.4</td><td>0.1</td></tr><tr><td>Olivier Sarr</td><td>24</td><td>6.5</td><td>2.3</td><td>0.579</td><td>1.7</td><td>0.7</td><td>0.2</td></tr><tr><td>Ish Wainright</td><td>29</td><td>6.6</td><td>2.9</td><td>0.333</td><td>1.3</td><td>0.0</td><td>0.1</td></tr><tr><td>Collin Gillespie</td><td>24</td><td>9.4</td><td>3.6</td><td>0.464</td><td>0.8</td><td>0.0</td><td>0.6</td></tr><tr><td>Garrett Temple</td><td>37</td><td>10.7</td><td>3.3</td><td>0.372</td><td>1.0</td><td>0.7</td><td>0.5</td></tr><tr><td>Oscar Tshiebwe</td><td>24</td><td>5.3</td><td>3.3</td><td>0.5</td><td>1.0</td><td>1.0</td><td>0.0</td></tr><tr><td>Tosan Evbuomwan</td><td>22</td><td>18.5</td><td>2.5</td><td>0.267</td><td>1.5</td><td>2.0</td><td>0.3</td></tr><tr><td>Luka Garza</td><td>25</td><td>4.9</td><td>4.0</td><td>0.48</td><td>0.5</td><td>0.8</td><td>0.2</td></tr><tr><td>Harry Giles</td><td>25</td><td>5.1</td><td>3.4</td><td>0.5</td><td>0.9</td><td>0.8</td><td>0.4</td></tr><tr><td>Kira Lewis Jr.</td><td>22</td><td>9.9</td><td>3.8</td><td>0.45</td><td>0.6</td><td>0.4</td><td>0.5</td></tr><tr><td>Trevelin Queen</td><td>26</td><td>11.8</td><td>2.9</td><td>0.368</td><td>1.2</td><td>0.2</td><td>0.5</td></tr><tr><td>Johnny Davis</td><td>21</td><td>12.3</td><td>3.0</td><td>0.403</td><td>1.1</td><td>0.4</td><td>0.3</td></tr><tr><td>Jaden Springer</td><td>21</td><td>10.3</td><td>3.3</td><td>0.399</td><td>0.9</td><td>0.7</td><td>0.7</td></tr><tr><td>Ryan Rollins</td><td>21</td><td>6.0</td><td>3.4</td><td>0.519</td><td>0.8</td><td>0.2</td><td>0.6</td></tr><tr><td>A.J. Lawson</td><td>23</td><td>7.4</td><td>3.2</td><td>0.446</td><td>0.9</td><td>0.3</td><td>0.3</td></tr><tr><td>James Bouknight</td><td>23</td><td>5.8</td><td>3.6</td><td>0.439</td><td>0.6</td><td>0.1</td><td>0.1</td></tr><tr><td>Vasilije MiciÄ</td><td>30</td><td>12.0</td><td>3.3</td><td>0.407</td><td>0.8</td><td>0.0</td><td>1.0</td></tr><tr><td>Dariq Whitehead</td><td>19</td><td>12.0</td><td>1.5</td><td>0.2</td><td>2.0</td><td>0.0</td><td>0.0</td></tr><tr><td>Jack White</td><td>26</td><td>16.0</td><td>1.5</td><td>0.125</td><td>2.0</td><td>1.0</td><td>0.5</td></tr><tr><td>Reggie Bullock</td><td>32</td><td>9.5</td><td>2.2</td><td>0.415</td><td>1.5</td><td>0.1</td><td>0.2</td></tr><tr><td>Markieff Morris</td><td>34</td><td>8.3</td><td>2.5</td><td>0.338</td><td>1.3</td><td>0.2</td><td>0.5</td></tr><tr><td>Buddy Boeheim</td><td>24</td><td>8.4</td><td>3.4</td><td>0.31</td><td>0.7</td><td>0.3</td><td>0.0</td></tr><tr><td>P.J. Tucker</td><td>38</td><td>15.7</td><td>1.7</td><td>0.36</td><td>1.8</td><td>0.9</td><td>0.3</td></tr><tr><td>Damian Jones</td><td>28</td><td>6.9</td><td>2.7</td><td>0.597</td><td>1.1</td><td>0.5</td><td>0.3</td></tr><tr><td>Saben Lee</td><td>24</td><td>7.7</td><td>3.0</td><td>0.364</td><td>0.9</td><td>0.4</td><td>0.3</td></tr><tr><td>Lamar Stevens</td><td>26</td><td>6.4</td><td>2.8</td><td>0.467</td><td>1.0</td><td>0.6</td><td>0.5</td></tr><tr><td>Chuma Okeke</td><td>25</td><td>9.2</td><td>2.3</td><td>0.357</td><td>1.3</td><td>0.4</td><td>0.3</td></tr><tr><td>Jordan Walsh</td><td>19</td><td>9.2</td><td>1.7</td><td>0.4</td><td>1.7</td><td>0.6</td><td>0.3</td></tr><tr><td>Udoka Azubuike</td><td>24</td><td>7.1</td><td>2.2</td><td>0.696</td><td>1.3</td><td>0.7</td><td>0.3</td></tr><tr><td>Drew Peterson</td><td>24</td><td>7.7</td><td>3.7</td><td>0.667</td><td>0.3</td><td>0.0</td><td>0.3</td></tr><tr><td>Jason Preston</td><td>24</td><td>10.1</td><td>1.7</td><td>0.316</td><td>1.6</td><td>0.9</td><td>0.3</td></tr><tr><td>Kira Lewis Jr.</td><td>22</td><td>9.5</td><td>3.2</td><td>0.37</td><td>0.6</td><td>0.3</td><td>0.5</td></tr><tr><td>Emoni Bates</td><td>20</td><td>8.9</td><td>2.7</td><td>0.306</td><td>0.9</td><td>0.1</td><td>0.5</td></tr><tr><td>Cody Zeller</td><td>31</td><td>7.4</td><td>1.8</td><td>0.419</td><td>1.5</td><td>1.1</td><td>0.4</td></tr><tr><td>Greg Brown III</td><td>22</td><td>6.7</td><td>2.5</td><td>0.455</td><td>1.0</td><td>0.5</td><td>0.7</td></tr><tr><td>Henri Drell</td><td>23</td><td>7.5</td><td>2.8</td><td>0.4</td><td>0.8</td><td>0.3</td><td>0.5</td></tr><tr><td>Andre Jackson Jr.</td><td>22</td><td>10.0</td><td>2.2</td><td>0.5</td><td>1.2</td><td>0.8</td><td>0.5</td></tr><tr><td>P.J. Tucker</td><td>38</td><td>15.0</td><td>1.6</td><td>0.356</td><td>1.6</td><td>1.0</td><td>0.2</td></tr><tr><td>Kenneth Lofton Jr.</td><td>21</td><td>6.6</td><td>2.6</td><td>0.378</td><td>0.9</td><td>0.1</td><td>0.4</td></tr><tr><td>Brandon Williams</td><td>24</td><td>6.6</td><td>3.2</td><td>0.37</td><td>0.5</td><td>0.2</td><td>0.4</td></tr><tr><td>Thaddeus Young</td><td>35</td><td>8.9</td><td>2.3</td><td>0.524</td><td>1.1</td><td>1.7</td><td>0.4</td></tr><tr><td>Kira Lewis Jr.</td><td>22</td><td>9.6</td><td>2.9</td><td>0.308</td><td>0.7</td><td>0.3</td><td>0.5</td></tr><tr><td>Patty Mills</td><td>35</td><td>10.6</td><td>2.7</td><td>0.373</td><td>0.8</td><td>0.3</td><td>0.4</td></tr><tr><td>Mouhamadou Gueye</td><td>25</td><td>10.9</td><td>2.4</td><td>0.289</td><td>1.0</td><td>1.1</td><td>1.1</td></tr><tr><td>Trent Forrest</td><td>25</td><td>10.9</td><td>2.2</td><td>0.378</td><td>1.1</td><td>0.3</td><td>0.5</td></tr><tr><td>Gabe Vincent</td><td>27</td><td>19.8</td><td>3.1</td><td>0.306</td><td>0.5</td><td>0.4</td><td>0.5</td></tr><tr><td>Danilo Gallinari</td><td>35</td><td>9.1</td><td>2.8</td><td>0.378</td><td>0.7</td><td>0.4</td><td>0.6</td></tr><tr><td>Moussa DiabatÃ©</td><td>22</td><td>5.8</td><td>2.6</td><td>0.526</td><td>0.8</td><td>1.4</td><td>0.2</td></tr><tr><td>Dalano Banton</td><td>24</td><td>7.1</td><td>2.3</td><td>0.373</td><td>1.0</td><td>0.5</td><td>0.4</td></tr><tr><td>Dereon Seabron</td><td>23</td><td>9.2</td><td>2.3</td><td>0.308</td><td>1.0</td><td>0.2</td><td>0.0</td></tr><tr><td>Bismack Biyombo</td><td>31</td><td>7.3</td><td>1.8</td><td>0.583</td><td>1.3</td><td>0.5</td><td>0.4</td></tr><tr><td>Cory Joseph</td><td>32</td><td>11.4</td><td>2.4</td><td>0.359</td><td>0.9</td><td>0.2</td><td>0.5</td></tr><tr><td>Terquavion Smith</td><td>21</td><td>5.3</td><td>3.3</td><td>0.391</td><td>0.3</td><td>0.0</td><td>0.4</td></tr><tr><td>Nate Hinton</td><td>24</td><td>5.0</td><td>2.2</td><td>0.423</td><td>1.0</td><td>0.5</td><td>0.2</td></tr><tr><td>Dylan Windler</td><td>27</td><td>6.4</td><td>2.5</td><td>0.5</td><td>0.8</td><td>0.2</td><td>0.1</td></tr><tr><td>Jamaree Bouyea</td><td>24</td><td>9.5</td><td>1.7</td><td>0.238</td><td>1.3</td><td>0.3</td><td>1.3</td></tr><tr><td>Taj Gibson</td><td>38</td><td>10.2</td><td>1.7</td><td>0.405</td><td>1.3</td><td>0.6</td><td>0.3</td></tr><tr><td>DÄvis BertÄns</td><td>31</td><td>6.1</td><td>2.9</td><td>0.385</td><td>0.5</td><td>0.1</td><td>0.1</td></tr><tr><td>Jeenathan Williams</td><td>24</td><td>5.9</td><td>2.9</td><td>0.54</td><td>0.5</td><td>0.5</td><td>0.2</td></tr><tr><td>Harry Giles</td><td>25</td><td>4.3</td><td>2.4</td><td>0.46</td><td>0.8</td><td>0.5</td><td>0.3</td></tr><tr><td>AJ Griffin</td><td>20</td><td>8.6</td><td>2.4</td><td>0.29</td><td>0.8</td><td>0.1</td><td>0.4</td></tr><tr><td>Ish Wainright</td><td>29</td><td>5.6</td><td>2.1</td><td>0.292</td><td>1.0</td><td>0.3</td><td>0.2</td></tr><tr><td>Ibou Badji</td><td>21</td><td>10.3</td><td>1.5</td><td>0.636</td><td>1.4</td><td>0.9</td><td>0.7</td></tr><tr><td>D.J. Carton</td><td>23</td><td>9.0</td><td>2.8</td><td>0.375</td><td>0.5</td><td>0.5</td><td>0.3</td></tr><tr><td>Furkan Korkmaz</td><td>26</td><td>8.6</td><td>2.5</td><td>0.395</td><td>0.7</td><td>0.1</td><td>0.3</td></tr><tr><td>Kobe Brown</td><td>24</td><td>9.0</td><td>2.0</td><td>0.411</td><td>1.0</td><td>0.5</td><td>0.2</td></tr><tr><td>JD Davison</td><td>21</td><td>4.9</td><td>2.0</td><td>0.417</td><td>1.0</td><td>0.3</td><td>0.3</td></tr><tr><td>Kevon Harris</td><td>26</td><td>3.0</td><td>2.0</td><td>0.667</td><td>1.0</td><td>0.0</td><td>0.5</td></tr><tr><td>Xavier Moon</td><td>29</td><td>8.5</td><td>2.4</td><td>0.326</td><td>0.7</td><td>0.6</td><td>0.4</td></tr><tr><td>Nathan Mensah</td><td>25</td><td>12.3</td><td>1.3</td><td>0.429</td><td>1.4</td><td>1.2</td><td>0.6</td></tr><tr><td>Isaiah Mobley</td><td>24</td><td>7.2</td><td>2.3</td><td>0.417</td><td>0.7</td><td>0.3</td><td>0.2</td></tr><tr><td>Colby Jones</td><td>21</td><td>6.4</td><td>2.1</td><td>0.394</td><td>0.8</td><td>0.6</td><td>0.3</td></tr><tr><td>Joe Harris</td><td>32</td><td>10.6</td><td>2.4</td><td>0.359</td><td>0.6</td><td>0.2</td><td>0.3</td></tr><tr><td>Shake Milton</td><td>27</td><td>4.5</td><td>1.8</td><td>0.444</td><td>1.0</td><td>0.0</td><td>0.0</td></tr><tr><td>Kenneth Lofton Jr.</td><td>21</td><td>4.5</td><td>1.0</td><td>0.167</td><td>1.5</td><td>0.0</td><td>1.0</td></tr><tr><td>Jaden Springer</td><td>21</td><td>7.6</td><td>2.1</td><td>0.433</td><td>0.7</td><td>0.5</td><td>0.5</td></tr><tr><td>Julian Phillips</td><td>20</td><td>8.1</td><td>2.2</td><td>0.416</td><td>0.6</td><td>0.3</td><td>0.3</td></tr><tr><td>Leonard Miller</td><td>20</td><td>3.1</td><td>1.7</td><td>0.65</td><td>0.9</td><td>0.3</td><td>0.1</td></tr><tr><td>Justin Minaya</td><td>24</td><td>11.2</td><td>1.8</td><td>0.297</td><td>0.8</td><td>0.9</td><td>0.3</td></tr><tr><td>Malachi Flynn</td><td>25</td><td>4.3</td><td>2.2</td><td>0.391</td><td>0.4</td><td>0.0</td><td>0.2</td></tr><tr><td>Alex Fudge</td><td>20</td><td>6.7</td><td>2.5</td><td>0.4</td><td>0.2</td><td>0.7</td><td>0.3</td></tr><tr><td>Amari Bailey</td><td>19</td><td>6.5</td><td>2.3</td><td>0.333</td><td>0.3</td><td>0.6</td><td>0.4</td></tr><tr><td>Mamadi Diakite</td><td>27</td><td>4.0</td><td>2.0</td><td>0.667</td><td>0.5</td><td>0.2</td><td>0.2</td></tr><tr><td>Cole Swider</td><td>24</td><td>4.8</td><td>2.3</td><td>0.395</td><td>0.3</td><td>0.1</td><td>0.4</td></tr><tr><td>Taj Gibson</td><td>38</td><td>10.3</td><td>1.0</td><td>0.304</td><td>1.1</td><td>0.6</td><td>0.3</td></tr><tr><td>Quenton Jackson</td><td>25</td><td>3.7</td><td>0.7</td><td>0.0</td><td>1.3</td><td>0.0</td><td>0.0</td></tr><tr><td>Seth Lundy</td><td>23</td><td>5.8</td><td>1.6</td><td>0.235</td><td>0.7</td><td>0.1</td><td>0.1</td></tr><tr><td>Mason Jones</td><td>25</td><td>5.6</td><td>1.4</td><td>0.25</td><td>0.8</td><td>0.2</td><td>0.4</td></tr><tr><td>Kessler Edwards</td><td>23</td><td>5.1</td><td>1.7</td><td>0.415</td><td>0.6</td><td>0.2</td><td>0.1</td></tr><tr><td>Chris Livingston</td><td>20</td><td>4.3</td><td>1.2</td><td>0.5</td><td>0.9</td><td>0.1</td><td>0.2</td></tr><tr><td>Keita Bates-Diop</td><td>28</td><td>4.9</td><td>1.6</td><td>0.5</td><td>0.6</td><td>0.1</td><td>0.1</td></tr><tr><td>Frank Ntilikina</td><td>25</td><td>8.6</td><td>1.0</td><td>0.111</td><td>1.0</td><td>0.2</td><td>0.2</td></tr><tr><td>Jordan Ford</td><td>25</td><td>3.7</td><td>2.0</td><td>0.571</td><td>0.3</td><td>0.0</td><td>0.2</td></tr><tr><td>Mike Muscala</td><td>32</td><td>5.7</td><td>1.1</td><td>0.364</td><td>0.9</td><td>0.4</td><td>0.3</td></tr><tr><td>Jermaine Samuels</td><td>25</td><td>4.3</td><td>1.4</td><td>0.643</td><td>0.7</td><td>0.2</td><td>0.0</td></tr><tr><td>Aleksej Pokusevski</td><td>22</td><td>6.0</td><td>1.2</td><td>0.25</td><td>0.8</td><td>0.2</td><td>0.3</td></tr><tr><td>Terry Taylor</td><td>24</td><td>6.1</td><td>1.5</td><td>0.513</td><td>0.6</td><td>0.5</td><td>0.2</td></tr><tr><td>Jalen Hood-Schifino</td><td>20</td><td>5.2</td><td>1.6</td><td>0.222</td><td>0.5</td><td>0.1</td><td>0.4</td></tr><tr><td>Jalen Pickett</td><td>24</td><td>4.5</td><td>1.6</td><td>0.429</td><td>0.5</td><td>0.0</td><td>0.3</td></tr><tr><td>Braxton Key</td><td>26</td><td>3.0</td><td>1.1</td><td>0.412</td><td>0.8</td><td>0.2</td><td>0.1</td></tr><tr><td>Keyontae Johnson</td><td>23</td><td>7.3</td><td>1.2</td><td>0.313</td><td>0.7</td><td>0.4</td><td>0.4</td></tr><tr><td>Josh Minott</td><td>21</td><td>2.8</td><td>1.6</td><td>0.472</td><td>0.4</td><td>0.1</td><td>0.1</td></tr><tr><td>Colin Castleton</td><td>23</td><td>3.7</td><td>1.5</td><td>0.563</td><td>0.4</td><td>0.4</td><td>0.2</td></tr><tr><td>Dylan Windler</td><td>27</td><td>3.5</td><td>1.5</td><td>0.444</td><td>0.4</td><td>0.0</td><td>0.0</td></tr><tr><td>R.J. Hampton</td><td>22</td><td>9.5</td><td>1.3</td><td>0.286</td><td>0.5</td><td>0.3</td><td>0.4</td></tr><tr><td>Jett Howard</td><td>20</td><td>3.7</td><td>1.6</td><td>0.333</td><td>0.3</td><td>0.1</td><td>0.2</td></tr><tr><td>Jordan Miller</td><td>24</td><td>3.5</td><td>1.6</td><td>0.556</td><td>0.3</td><td>0.4</td><td>0.1</td></tr><tr><td>David Roddy</td><td>22</td><td>3.7</td><td>1.3</td><td>0.435</td><td>0.5</td><td>0.1</td><td>0.2</td></tr><tr><td>Ryan Rollins</td><td>21</td><td>4.0</td><td>1.0</td><td>0.5</td><td>0.7</td><td>0.0</td><td>0.3</td></tr><tr><td>D'Moi Hodge</td><td>25</td><td>5.9</td><td>2.0</td><td>0.333</td><td>0.0</td><td>0.0</td><td>0.1</td></tr><tr><td>Ty Jerome</td><td>26</td><td>7.5</td><td>2.0</td><td>0.5</td><td>0.0</td><td>0.5</td><td>0.5</td></tr><tr><td>Markquis Nowell</td><td>24</td><td>4.0</td><td>2.0</td><td>0.0</td><td>0.0</td><td>2.0</td><td>0.0</td></tr><tr><td>Admiral Schofield</td><td>26</td><td>3.7</td><td>1.1</td><td>0.385</td><td>0.6</td><td>0.1</td><td>0.2</td></tr><tr><td>Daniel Theis</td><td>31</td><td>8.0</td><td>2.0</td><td>0.25</td><td>0.0</td><td>0.0</td><td>0.0</td></tr><tr><td>Jacob Toppin</td><td>23</td><td>4.2</td><td>1.4</td><td>0.556</td><td>0.4</td><td>0.3</td><td>0.1</td></tr><tr><td>Lindell Wigginton</td><td>25</td><td>2.7</td><td>2.0</td><td>0.4</td><td>0.0</td><td>0.0</td><td>0.3</td></tr><tr><td>Isaiah Wong</td><td>23</td><td>4.0</td><td>2.0</td><td>0.333</td><td>0.0</td><td>0.0</td><td>0.0</td></tr><tr><td>Daishen Nix</td><td>21</td><td>3.3</td><td>1.8</td><td>0.375</td><td>0.1</td><td>0.1</td><td>0.3</td></tr><tr><td>Juan Toscano-Anderson</td><td>30</td><td>4.8</td><td>0.6</td><td>0.25</td><td>0.9</td><td>0.4</td><td>0.2</td></tr><tr><td>Jay Huff</td><td>25</td><td>2.5</td><td>1.2</td><td>0.6</td><td>0.5</td><td>0.1</td><td>0.1</td></tr><tr><td>TyTy Washington Jr.</td><td>22</td><td>5.1</td><td>1.3</td><td>0.3</td><td>0.4</td><td>0.1</td><td>0.2</td></tr><tr><td>ThÃ©o Maledon</td><td>22</td><td>3.3</td><td>1.3</td><td>0.25</td><td>0.3</td><td>0.0</td><td>0.8</td></tr><tr><td>Skylar Mays</td><td>26</td><td>4.5</td><td>1.3</td><td>0.476</td><td>0.3</td><td>0.1</td><td>0.1</td></tr><tr><td>Shaquille Harrison</td><td>30</td><td>2.0</td><td>0.7</td><td>0.5</td><td>0.7</td><td>0.0</td><td>0.0</td></tr><tr><td>Hunter Tyson</td><td>23</td><td>2.7</td><td>1.1</td><td>0.4</td><td>0.4</td><td>0.1</td><td>0.1</td></tr><tr><td>Jerome Robinson</td><td>26</td><td>3.7</td><td>1.4</td><td>0.333</td><td>0.2</td><td>0.0</td><td>0.1</td></tr><tr><td>Ish Wainright</td><td>29</td><td>4.0</td><td>0.8</td><td>0.167</td><td>0.5</td><td>0.8</td><td>0.3</td></tr><tr><td>Kendall Brown</td><td>20</td><td>4.2</td><td>1.4</td><td>0.533</td><td>0.1</td><td>0.2</td><td>0.1</td></tr><tr><td>Usman Garuba</td><td>21</td><td>3.0</td><td>0.5</td><td>0.167</td><td>0.7</td><td>0.5</td><td>0.3</td></tr><tr><td>Marques Bolden</td><td>25</td><td>1.5</td><td>0.0</td><td>null</td><td>1.0</td><td>0.0</td><td>0.0</td></tr><tr><td>Adam Flagler</td><td>24</td><td>7.0</td><td>1.5</td><td>0.143</td><td>0.0</td><td>0.0</td><td>0.0</td></tr><tr><td>Kaiser Gates</td><td>27</td><td>7.0</td><td>0.0</td><td>0.0</td><td>1.0</td><td>0.0</td><td>0.0</td></tr><tr><td>Danny Green</td><td>36</td><td>9.0</td><td>0.0</td><td>0.0</td><td>1.0</td><td>0.0</td><td>0.0</td></tr><tr><td>Filip PetruÅ¡ev</td><td>23</td><td>3.0</td><td>0.0</td><td>null</td><td>1.0</td><td>0.0</td><td>0.0</td></tr><tr><td>Filip PetruÅ¡ev</td><td>23</td><td>3.5</td><td>1.5</td><td>0.5</td><td>0.0</td><td>0.0</td><td>0.0</td></tr><tr><td>Wendell Moore Jr.</td><td>22</td><td>3.0</td><td>0.7</td><td>0.5</td><td>0.5</td><td>0.0</td><td>0.2</td></tr><tr><td>Filip PetruÅ¡ev</td><td>23</td><td>3.3</td><td>1.0</td><td>0.5</td><td>0.3</td><td>0.0</td><td>0.0</td></tr><tr><td>Jalen Slawson</td><td>24</td><td>3.1</td><td>0.7</td><td>0.667</td><td>0.5</td><td>0.1</td><td>0.2</td></tr><tr><td>Dylan Windler</td><td>27</td><td>2.3</td><td>1.0</td><td>0.5</td><td>0.3</td><td>0.0</td><td>0.0</td></tr><tr><td>E.J. Liddell</td><td>23</td><td>2.9</td><td>0.5</td><td>0.167</td><td>0.6</td><td>0.0</td><td>0.3</td></tr><tr><td>James Johnson</td><td>36</td><td>5.2</td><td>0.9</td><td>0.3</td><td>0.3</td><td>0.1</td><td>0.6</td></tr><tr><td>Isaiah Thomas</td><td>34</td><td>3.2</td><td>1.3</td><td>0.3</td><td>0.0</td><td>0.0</td><td>0.0</td></tr><tr><td>DaQuan Jeffries</td><td>26</td><td>2.7</td><td>0.8</td><td>0.353</td><td>0.3</td><td>0.0</td><td>0.2</td></tr><tr><td>Robin Lopez</td><td>35</td><td>4.1</td><td>1.1</td><td>0.368</td><td>0.1</td><td>0.2</td><td>0.1</td></tr><tr><td>Thanasis Antetokounmpo</td><td>31</td><td>4.6</td><td>0.9</td><td>0.533</td><td>0.2</td><td>0.2</td><td>0.4</td></tr><tr><td>Harry Giles</td><td>25</td><td>2.7</td><td>0.3</td><td>0.167</td><td>0.6</td><td>0.0</td><td>0.0</td></tr><tr><td>Pat Spencer</td><td>27</td><td>4.3</td><td>0.7</td><td>0.5</td><td>0.3</td><td>0.3</td><td>0.2</td></tr><tr><td>Hamidou Diallo</td><td>25</td><td>2.5</td><td>1.0</td><td>0.5</td><td>0.0</td><td>1.0</td><td>0.5</td></tr><tr><td>Alex Fudge</td><td>20</td><td>3.5</td><td>1.0</td><td>0.167</td><td>0.0</td><td>0.5</td><td>0.3</td></tr><tr><td>Pete Nance</td><td>23</td><td>3.4</td><td>0.4</td><td>0.167</td><td>0.4</td><td>0.0</td><td>0.1</td></tr><tr><td>Joshua Primo</td><td>21</td><td>5.0</td><td>1.0</td><td>0.333</td><td>0.0</td><td>0.5</td><td>2.0</td></tr><tr><td>Charlie Brown Jr.</td><td>26</td><td>4.6</td><td>0.8</td><td>0.2</td><td>0.1</td><td>0.1</td><td>0.3</td></tr><tr><td>Alondes Williams</td><td>24</td><td>2.3</td><td>0.7</td><td>0.25</td><td>0.1</td><td>0.0</td><td>0.3</td></tr><tr><td>Jacob Gilyard</td><td>25</td><td>11.3</td><td>0.0</td><td>0.0</td><td>0.5</td><td>0.3</td><td>0.3</td></tr><tr><td>Trey Jemison</td><td>24</td><td>0.5</td><td>0.0</td><td>null</td><td>0.5</td><td>0.0</td><td>0.5</td></tr><tr><td>Ryan Arcidiacono</td><td>29</td><td>2.3</td><td>0.0</td><td>0.0</td><td>0.4</td><td>0.0</td><td>0.1</td></tr><tr><td>Maxwell Lewis</td><td>21</td><td>3.0</td><td>0.3</td><td>0.19</td><td>0.1</td><td>0.1</td><td>0.3</td></tr><tr><td>Darius Bazley</td><td>23</td><td>3.3</td><td>0.0</td><td>0.0</td><td>0.3</td><td>0.0</td><td>0.3</td></tr><tr><td>Mamadi Diakite</td><td>27</td><td>2.7</td><td>0.0</td><td>0.0</td><td>0.3</td><td>0.0</td><td>0.3</td></tr><tr><td>Malcolm Cazalon</td><td>22</td><td>3.0</td><td>0.0</td><td>null</td><td>0.0</td><td>0.0</td><td>0.0</td></tr><tr><td>Jalen Crutcher</td><td>24</td><td>3.0</td><td>0.0</td><td>0.0</td><td>0.0</td><td>0.0</td><td>0.0</td></tr><tr><td>Andrew Funk</td><td>24</td><td>2.6</td><td>0.0</td><td>0.0</td><td>0.0</td><td>0.0</td><td>0.0</td></tr><tr><td>Ron Harper Jr.</td><td>23</td><td>4.0</td><td>0.0</td><td>null</td><td>0.0</td><td>0.0</td><td>0.0</td></tr><tr><td>Justin Jackson</td><td>28</td><td>0.5</td><td>0.0</td><td>null</td><td>0.0</td><td>0.0</td><td>0.0</td></tr><tr><td>Kira Lewis Jr.</td><td>22</td><td>2.0</td><td>0.0</td><td>null</td><td>0.0</td><td>0.0</td><td>0.0</td></tr><tr><td>Dmytro Skapintsev</td><td>25</td><td>1.0</td><td>0.0</td><td>0.0</td><td>0.0</td><td>0.0</td><td>0.0</td></tr><tr><td>Javonte Smart</td><td>24</td><td>1.0</td><td>0.0</td><td>null</td><td>0.0</td><td>0.0</td><td>0.0</td></tr></tbody></table></div>"
      ]
     },
     "metadata": {
      "application/vnd.databricks.v1+output": {
       "addedWidgets": {},
       "aggData": [],
       "aggError": "",
       "aggOverflow": false,
       "aggSchema": [],
       "aggSeriesLimitReached": false,
       "aggType": "",
       "arguments": {},
       "columnCustomDisplayInfos": {},
       "data": [
        [
         "Joel Embiid",
         29,
         33.6,
         34.7,
         0.529,
         8.6,
         2.4,
         3.8
        ],
        [
         "Luka DonÄiÄ",
         24,
         37.5,
         33.9,
         0.487,
         8.4,
         0.8,
         4.0
        ],
        [
         "Giannis Antetokounmpo",
         29,
         35.2,
         30.4,
         0.611,
         8.8,
         2.7,
         3.4
        ],
        [
         "Nikola JokiÄ",
         28,
         34.6,
         26.4,
         0.583,
         9.5,
         2.8,
         3.0
        ],
        [
         "Anthony Davis",
         30,
         35.5,
         24.7,
         0.556,
         9.5,
         3.1,
         2.1
        ],
        [
         "Jayson Tatum",
         25,
         35.7,
         26.9,
         0.471,
         7.2,
         0.9,
         2.5
        ],
        [
         "Shai Gilgeous-Alexander",
         25,
         34.0,
         30.1,
         0.535,
         4.7,
         0.9,
         2.2
        ],
        [
         "Kevin Durant",
         35,
         37.2,
         27.1,
         0.523,
         6.1,
         0.5,
         3.3
        ],
        [
         "LeBron James",
         39,
         35.3,
         25.7,
         0.54,
         6.4,
         0.9,
         3.5
        ],
        [
         "Domantas Sabonis",
         27,
         35.7,
         19.4,
         0.594,
         10.1,
         3.6,
         3.3
        ],
        [
         "Julius Randle",
         29,
         35.4,
         24.0,
         0.472,
         7.0,
         2.2,
         3.5
        ],
        [
         "Victor Wembanyama",
         20,
         29.7,
         21.4,
         0.465,
         8.4,
         2.3,
         3.7
        ],
        [
         "Jalen Brunson",
         27,
         35.4,
         28.7,
         0.479,
         3.1,
         0.6,
         2.4
        ],
        [
         "Anthony Edwards",
         22,
         35.1,
         25.9,
         0.461,
         4.8,
         0.7,
         3.1
        ],
        [
         "Donovan Mitchell",
         27,
         35.3,
         26.6,
         0.462,
         4.3,
         0.8,
         2.8
        ],
        [
         "Devin Booker",
         27,
         36.0,
         27.1,
         0.492,
         3.7,
         0.8,
         2.6
        ],
        [
         "Ja Morant",
         24,
         35.3,
         25.1,
         0.471,
         4.9,
         0.7,
         3.0
        ],
        [
         "Stephen Curry",
         35,
         32.7,
         26.4,
         0.45,
         4.0,
         0.5,
         2.8
        ],
        [
         "De'Aaron Fox",
         26,
         35.9,
         26.6,
         0.465,
         3.7,
         0.9,
         2.6
        ],
        [
         "Lauri Markkanen",
         26,
         33.1,
         23.2,
         0.48,
         5.9,
         2.2,
         1.4
        ],
        [
         "Karl-Anthony Towns",
         28,
         32.7,
         21.8,
         0.504,
         6.8,
         1.5,
         2.9
        ],
        [
         "Kyrie Irving",
         31,
         35.0,
         25.6,
         0.497,
         4.2,
         0.8,
         1.8
        ],
        [
         "Paolo Banchero",
         21,
         35.0,
         22.6,
         0.455,
         5.9,
         1.0,
         3.1
        ],
        [
         "Bam Adebayo",
         26,
         34.0,
         19.3,
         0.521,
         8.1,
         2.2,
         2.3
        ],
        [
         "Kawhi Leonard",
         32,
         34.3,
         23.7,
         0.525,
         4.9,
         1.2,
         1.8
        ],
        [
         "Kyle Kuzma",
         28,
         32.6,
         22.2,
         0.463,
         5.7,
         0.9,
         2.7
        ],
        [
         "Alperen Sengun",
         21,
         32.5,
         21.1,
         0.537,
         6.4,
         2.9,
         2.6
        ],
        [
         "Tyrese Maxey",
         23,
         37.5,
         25.9,
         0.45,
         3.2,
         0.5,
         1.7
        ],
        [
         "Miles Bridges",
         25,
         37.4,
         21.0,
         0.462,
         6.3,
         1.0,
         2.0
        ],
        [
         "Damian Lillard",
         33,
         35.3,
         24.3,
         0.424,
         3.9,
         0.5,
         2.6
        ],
        [
         "Pascal Siakam",
         29,
         31.8,
         21.3,
         0.549,
         5.7,
         2.1,
         1.4
        ],
        [
         "RJ Barrett",
         23,
         33.5,
         21.8,
         0.553,
         5.3,
         1.1,
         2.5
        ],
        [
         "DeMar DeRozan",
         34,
         37.8,
         24.0,
         0.48,
         3.8,
         0.5,
         1.7
        ],
        [
         "Nikola VuÄeviÄ",
         33,
         34.3,
         18.0,
         0.484,
         7.8,
         2.8,
         1.6
        ],
        [
         "Paul George",
         33,
         33.8,
         22.6,
         0.471,
         4.7,
         0.5,
         2.1
        ],
        [
         "Pascal Siakam",
         29,
         33.2,
         21.7,
         0.536,
         5.3,
         1.7,
         1.8
        ],
        [
         "LaMelo Ball",
         22,
         32.3,
         23.9,
         0.433,
         3.8,
         1.3,
         3.8
        ],
        [
         "Pascal Siakam",
         29,
         34.7,
         22.2,
         0.522,
         4.9,
         1.4,
         2.1
        ],
        [
         "Jaylen Brown",
         27,
         33.5,
         23.0,
         0.499,
         4.3,
         1.2,
         2.4
        ],
        [
         "Dejounte Murray",
         27,
         35.7,
         22.5,
         0.459,
         4.5,
         0.8,
         2.6
        ],
        [
         "Trae Young",
         25,
         36.0,
         25.7,
         0.43,
         2.3,
         0.4,
         4.4
        ],
        [
         "Zion Williamson",
         23,
         31.5,
         22.9,
         0.57,
         4.1,
         1.7,
         2.8
        ],
        [
         "Desmond Bane",
         25,
         34.4,
         23.7,
         0.464,
         3.5,
         0.9,
         2.7
        ],
        [
         "Jaren Jackson Jr.",
         24,
         32.2,
         22.5,
         0.444,
         4.2,
         1.3,
         2.4
        ],
        [
         "Scottie Barnes",
         22,
         34.9,
         19.9,
         0.475,
         5.9,
         2.4,
         2.8
        ],
        [
         "Deandre Ayton",
         25,
         32.4,
         16.7,
         0.57,
         7.9,
         3.2,
         1.8
        ],
        [
         "Cade Cunningham",
         22,
         33.5,
         22.7,
         0.449,
         3.8,
         0.5,
         3.4
        ],
        [
         "Kristaps PorziÅÄ£is",
         28,
         29.6,
         20.1,
         0.516,
         5.5,
         1.7,
         1.6
        ],
        [
         "Terry Rozier",
         29,
         35.5,
         23.2,
         0.459,
         3.3,
         0.6,
         2.2
        ],
        [
         "Tyler Herro",
         24,
         33.5,
         20.8,
         0.441,
         4.8,
         0.5,
         2.2
        ],
        [
         "Rudy Gobert",
         31,
         34.1,
         14.0,
         0.661,
         9.2,
         3.8,
         1.6
        ],
        [
         "Jarrett Allen",
         25,
         31.7,
         16.5,
         0.634,
         7.4,
         3.2,
         1.6
        ],
        [
         "Brandon Ingram",
         26,
         32.9,
         20.8,
         0.492,
         4.4,
         0.7,
         2.5
        ],
        [
         "Anfernee Simons",
         24,
         34.4,
         22.6,
         0.43,
         3.2,
         0.5,
         2.7
        ],
        [
         "Jalen Johnson",
         22,
         33.7,
         16.0,
         0.511,
         7.4,
         1.3,
         1.8
        ],
        [
         "RJ Barrett",
         23,
         31.7,
         20.2,
         0.495,
         4.5,
         0.9,
         2.2
        ],
        [
         "Zach LaVine",
         28,
         34.9,
         19.5,
         0.452,
         4.8,
         0.3,
         2.1
        ],
        [
         "Cam Thomas",
         22,
         31.4,
         22.5,
         0.442,
         2.8,
         0.4,
         1.9
        ],
        [
         "Jalen Green",
         21,
         31.7,
         19.6,
         0.423,
         4.7,
         0.5,
         2.3
        ],
        [
         "Jalen Duren",
         20,
         29.1,
         13.8,
         0.619,
         8.5,
         3.1,
         2.1
        ],
        [
         "Evan Mobley",
         22,
         30.6,
         15.7,
         0.58,
         7.1,
         2.2,
         1.8
        ],
        [
         "Jamal Murray",
         26,
         31.5,
         21.2,
         0.481,
         3.4,
         0.7,
         2.1
        ],
        [
         "Jimmy Butler",
         34,
         34.0,
         20.8,
         0.499,
         3.6,
         1.8,
         1.7
        ],
        [
         "Franz Wagner",
         22,
         32.5,
         19.7,
         0.482,
         4.3,
         1.0,
         1.9
        ],
        [
         "Chet Holmgren",
         21,
         29.4,
         16.5,
         0.53,
         6.3,
         1.6,
         1.6
        ],
        [
         "CJ McCollum",
         32,
         32.7,
         20.0,
         0.459,
         3.7,
         0.6,
         1.7
        ],
        [
         "Jerami Grant",
         29,
         33.9,
         21.0,
         0.451,
         2.9,
         0.7,
         2.1
        ],
        [
         "Immanuel Quickley",
         24,
         33.3,
         18.6,
         0.422,
         4.5,
         0.3,
         1.8
        ],
        [
         "Myles Turner",
         27,
         27.0,
         17.1,
         0.524,
         5.5,
         1.5,
         1.4
        ],
        [
         "Michael Porter Jr.",
         25,
         31.7,
         16.7,
         0.484,
         5.7,
         1.3,
         1.1
        ],
        [
         "Tyrese Haliburton",
         23,
         32.2,
         20.1,
         0.477,
         3.4,
         0.5,
         2.3
        ],
        [
         "Mikal Bridges",
         27,
         34.8,
         19.6,
         0.436,
         3.7,
         0.8,
         2.0
        ],
        [
         "Tobias Harris",
         31,
         33.8,
         17.2,
         0.487,
         5.3,
         1.1,
         1.3
        ],
        [
         "Coby White",
         23,
         36.5,
         19.1,
         0.447,
         4.0,
         0.6,
         2.1
        ],
        [
         "Terry Rozier",
         29,
         33.4,
         19.8,
         0.443,
         3.5,
         0.6,
         1.7
        ],
        [
         "Devin Vassell",
         23,
         33.1,
         19.5,
         0.472,
         3.4,
         0.4,
         1.6
        ],
        [
         "Bojan BogdanoviÄ",
         34,
         32.9,
         20.2,
         0.468,
         2.9,
         0.5,
         2.3
        ],
        [
         "Jalen Williams",
         22,
         31.3,
         19.1,
         0.54,
         3.5,
         0.5,
         1.7
        ],
        [
         "John Collins",
         26,
         28.0,
         15.1,
         0.532,
         6.1,
         2.3,
         1.4
        ],
        [
         "Deni Avdija",
         23,
         30.1,
         14.7,
         0.506,
         6.1,
         1.1,
         2.1
        ],
        [
         "James Harden",
         34,
         34.3,
         16.6,
         0.428,
         4.7,
         0.5,
         2.6
        ],
        [
         "RJ Barrett",
         23,
         29.5,
         18.2,
         0.423,
         3.5,
         0.7,
         1.8
        ],
        [
         "Bradley Beal",
         30,
         33.3,
         18.2,
         0.513,
         3.4,
         1.0,
         2.5
        ],
        [
         "Jabari Smith Jr.",
         20,
         31.9,
         13.7,
         0.454,
         6.3,
         1.8,
         1.2
        ],
        [
         "Jusuf NurkiÄ",
         29,
         27.3,
         10.9,
         0.51,
         8.1,
         2.9,
         2.3
        ],
        [
         "Nic Claxton",
         24,
         29.8,
         11.8,
         0.629,
         7.2,
         2.7,
         1.3
        ],
        [
         "Fred VanVleet",
         29,
         36.8,
         17.4,
         0.416,
         3.4,
         0.5,
         1.7
        ],
        [
         "Dalano Banton",
         24,
         29.2,
         16.7,
         0.408,
         3.8,
         1.0,
         2.2
        ],
        [
         "Brandon Miller",
         21,
         32.2,
         17.3,
         0.44,
         3.4,
         0.8,
         1.8
        ],
        [
         "Immanuel Quickley",
         24,
         29.2,
         17.0,
         0.434,
         3.6,
         0.3,
         1.5
        ],
        [
         "Bobby Portis",
         28,
         24.5,
         13.8,
         0.508,
         5.7,
         1.7,
         1.1
        ],
        [
         "Klay Thompson",
         33,
         29.7,
         17.9,
         0.432,
         2.8,
         0.5,
         1.5
        ],
        [
         "D'Angelo Russell",
         27,
         32.7,
         18.0,
         0.456,
         2.7,
         0.4,
         2.1
        ],
        [
         "Jonas ValanÄiÅ«nas",
         31,
         23.5,
         12.2,
         0.559,
         6.5,
         2.3,
         1.4
        ],
        [
         "Keldon Johnson",
         24,
         29.5,
         15.7,
         0.454,
         4.1,
         1.4,
         1.4
        ],
        [
         "Terry Rozier",
         29,
         31.5,
         16.4,
         0.423,
         3.6,
         0.6,
         1.3
        ],
        [
         "Jonathan Kuminga",
         21,
         26.3,
         16.1,
         0.529,
         3.6,
         1.2,
         1.6
        ],
        [
         "Shaedon Sharpe",
         20,
         33.1,
         15.9,
         0.406,
         3.7,
         1.3,
         2.3
        ],
        [
         "Keegan Murray",
         23,
         33.6,
         15.2,
         0.454,
         4.1,
         1.4,
         0.8
        ],
        [
         "Austin Reaves",
         25,
         32.1,
         15.9,
         0.486,
         3.6,
         0.7,
         2.1
        ],
        [
         "Collin Sexton",
         25,
         26.6,
         18.7,
         0.487,
         1.7,
         0.9,
         2.1
        ],
        [
         "Mark Williams",
         22,
         26.7,
         12.7,
         0.649,
         5.7,
         4.0,
         0.9
        ],
        [
         "Darius Garland",
         24,
         33.4,
         18.0,
         0.446,
         2.1,
         0.5,
         3.1
        ],
        [
         "Ivica Zubac",
         26,
         26.4,
         11.7,
         0.649,
         6.3,
         2.9,
         1.2
        ],
        [
         "Trey Murphy III",
         23,
         29.6,
         14.8,
         0.443,
         4.2,
         0.7,
         0.6
        ],
        [
         "Bogdan BogdanoviÄ",
         31,
         30.4,
         16.9,
         0.428,
         2.8,
         0.7,
         1.4
        ],
        [
         "Khris Middleton",
         32,
         27.0,
         15.1,
         0.493,
         3.9,
         0.7,
         2.3
        ],
        [
         "Jordan Clarkson",
         31,
         30.6,
         17.1,
         0.413,
         2.5,
         0.9,
         2.7
        ],
        [
         "Jordan Poole",
         24,
         30.1,
         17.4,
         0.413,
         2.3,
         0.4,
         2.4
        ],
        [
         "Simone Fontecchio",
         28,
         30.3,
         15.4,
         0.479,
         3.6,
         0.8,
         1.1
        ],
        [
         "Kelly Oubre Jr.",
         28,
         30.2,
         15.4,
         0.441,
         3.6,
         1.4,
         1.3
        ],
        [
         "De'Andre Hunter",
         26,
         29.5,
         15.6,
         0.459,
         3.4,
         0.5,
         1.5
        ],
        [
         "Clint Capela",
         29,
         25.8,
         11.5,
         0.571,
         6.0,
         4.6,
         1.0
        ],
        [
         "Derrick White",
         29,
         32.6,
         15.2,
         0.461,
         3.5,
         0.7,
         1.5
        ],
        [
         "Malcolm Brogdon",
         31,
         28.7,
         15.7,
         0.44,
         3.1,
         0.7,
         1.5
        ],
        [
         "Marvin Bagley III",
         24,
         24.0,
         13.3,
         0.581,
         4.6,
         3.5,
         1.3
        ],
        [
         "Aaron Gordon",
         28,
         31.5,
         13.9,
         0.556,
         4.1,
         2.4,
         1.4
        ],
        [
         "Gordon Hayward",
         33,
         31.9,
         14.5,
         0.468,
         3.7,
         1.0,
         2.0
        ],
        [
         "Javonte Green",
         30,
         25.6,
         12.2,
         0.6,
         5.2,
         2.2,
         0.8
        ],
        [
         "Naz Reid",
         24,
         24.2,
         13.5,
         0.477,
         4.3,
         0.9,
         1.4
        ],
        [
         "Donte DiVincenzo",
         27,
         29.1,
         15.5,
         0.443,
         2.9,
         0.8,
         1.4
        ],
        [
         "Josh Giddey",
         21,
         25.1,
         12.3,
         0.475,
         5.0,
         1.4,
         2.1
        ],
        [
         "P.J. Washington",
         25,
         29.2,
         13.6,
         0.446,
         4.1,
         1.2,
         1.5
        ],
        [
         "Jakob Poeltl",
         28,
         26.4,
         11.1,
         0.656,
         5.7,
         2.9,
         1.5
        ],
        [
         "P.J. Washington",
         25,
         30.4,
         12.9,
         0.436,
         4.5,
         1.2,
         1.3
        ],
        [
         "OG Anunoby",
         26,
         33.3,
         15.1,
         0.489,
         3.0,
         0.9,
         1.6
        ],
        [
         "Josh Hart",
         28,
         33.4,
         9.4,
         0.434,
         6.8,
         1.6,
         1.5
        ],
        [
         "Grant Williams",
         25,
         30.6,
         13.9,
         0.503,
         3.8,
         1.4,
         1.9
        ],
        [
         "Saddiq Bey",
         24,
         32.7,
         13.7,
         0.416,
         3.9,
         2.7,
         0.9
        ],
        [
         "OG Anunoby",
         26,
         34.0,
         14.7,
         0.489,
         3.2,
         0.9,
         1.6
        ],
        [
         "P.J. Washington",
         25,
         32.2,
         11.7,
         0.421,
         5.1,
         1.1,
         1.0
        ],
        [
         "Malik Monk",
         25,
         26.0,
         15.4,
         0.443,
         2.6,
         0.4,
         2.1
        ],
        [
         "Caris LeVert",
         29,
         28.8,
         14.0,
         0.421,
         3.5,
         0.6,
         1.7
        ],
        [
         "OG Anunoby",
         26,
         34.9,
         14.1,
         0.488,
         3.4,
         1.0,
         1.7
        ],
        [
         "GG Jackson II",
         19,
         25.7,
         14.6,
         0.428,
         3.0,
         1.1,
         1.4
        ],
        [
         "Dennis SchrÃ¶der",
         30,
         32.0,
         14.6,
         0.424,
         2.9,
         0.6,
         2.4
        ],
        [
         "Rui Hachimura",
         25,
         26.9,
         13.6,
         0.537,
         3.5,
         0.9,
         0.7
        ],
        [
         "Jaden Ivey",
         21,
         28.8,
         15.4,
         0.429,
         2.3,
         1.1,
         2.5
        ],
        [
         "Bennedict Mathurin",
         21,
         26.1,
         14.5,
         0.446,
         2.9,
         1.0,
         1.6
        ],
        [
         "Jrue Holiday",
         33,
         32.8,
         12.5,
         0.48,
         4.2,
         1.2,
         1.8
        ],
        [
         "Tim Hardaway Jr.",
         31,
         26.8,
         14.4,
         0.402,
         2.9,
         0.3,
         0.9
        ],
        [
         "Kelly Olynyk",
         32,
         26.4,
         12.7,
         0.548,
         4.0,
         1.6,
         2.5
        ],
        [
         "Bojan BogdanoviÄ",
         34,
         25.9,
         15.2,
         0.454,
         2.3,
         0.4,
         1.8
        ],
        [
         "Immanuel Quickley",
         24,
         24.0,
         15.0,
         0.454,
         2.4,
         0.2,
         1.0
        ],
        [
         "Daniel Gafford",
         25,
         26.5,
         10.9,
         0.69,
         5.1,
         2.9,
         1.0
        ],
        [
         "Daniel Gafford",
         25,
         24.5,
         11.0,
         0.725,
         5.0,
         2.6,
         1.0
        ],
        [
         "Cameron Johnson",
         27,
         27.6,
         13.4,
         0.446,
         3.4,
         0.9,
         1.0
        ],
        [
         "Jeremy Sochan",
         20,
         29.6,
         11.6,
         0.438,
         4.6,
         1.9,
         1.9
        ],
        [
         "Grayson Allen",
         28,
         33.5,
         13.5,
         0.499,
         3.3,
         0.6,
         1.3
        ],
        [
         "Isaiah Stewart",
         22,
         30.9,
         10.9,
         0.487,
         5.0,
         1.6,
         1.4
        ],
        [
         "Wendell Carter Jr.",
         24,
         25.6,
         11.0,
         0.525,
         4.9,
         2.0,
         1.2
        ],
        [
         "Daniel Gafford",
         25,
         21.5,
         11.2,
         0.78,
         4.7,
         2.2,
         1.0
        ],
        [
         "Marcus Smart",
         29,
         30.3,
         14.5,
         0.43,
         2.4,
         0.3,
         3.1
        ],
        [
         "Brook Lopez",
         35,
         30.5,
         12.5,
         0.485,
         3.7,
         1.5,
         1.0
        ],
        [
         "Max Strus",
         27,
         32.0,
         12.2,
         0.418,
         3.9,
         0.9,
         1.6
        ],
        [
         "Bruce Brown",
         27,
         29.7,
         12.1,
         0.475,
         3.9,
         0.8,
         1.2
        ],
        [
         "Nick Richards",
         26,
         26.3,
         9.7,
         0.691,
         5.5,
         2.6,
         1.1
        ],
        [
         "Jordan Goodwin",
         25,
         29.2,
         10.0,
         0.349,
         5.2,
         2.8,
         1.6
        ],
        [
         "Tre Mann",
         22,
         31.0,
         11.9,
         0.453,
         3.9,
         0.6,
         2.0
        ],
        [
         "Dennis SchrÃ¶der",
         30,
         31.1,
         14.0,
         0.435,
         2.5,
         0.5,
         1.9
        ],
        [
         "Chimezie Metu",
         26,
         29.4,
         10.5,
         0.5,
         4.8,
         1.2,
         1.8
        ],
        [
         "Andrew Wiggins",
         28,
         27.0,
         13.2,
         0.453,
         3.0,
         1.5,
         1.2
        ],
        [
         "Santi Aldama",
         23,
         26.5,
         10.7,
         0.435,
         4.6,
         1.2,
         1.1
        ],
        [
         "Kenneth Lofton Jr.",
         21,
         22.8,
         13.8,
         0.6,
         2.5,
         2.5,
         1.5
        ],
        [
         "Norman Powell",
         30,
         26.2,
         13.9,
         0.486,
         2.4,
         0.2,
         0.9
        ],
        [
         "Draymond Green",
         33,
         27.1,
         8.6,
         0.497,
         5.9,
         1.4,
         2.5
        ],
        [
         "Scoot Henderson",
         19,
         28.5,
         14.0,
         0.385,
         2.3,
         0.9,
         3.4
        ],
        [
         "Lamar Stevens",
         26,
         23.0,
         11.5,
         0.446,
         3.8,
         1.3,
         0.8
        ],
        [
         "Tari Eason",
         22,
         21.8,
         9.8,
         0.466,
         4.9,
         2.1,
         0.9
        ],
        [
         "Dennis SchrÃ¶der",
         30,
         30.6,
         13.7,
         0.442,
         2.3,
         0.4,
         1.6
        ],
        [
         "Gary Trent Jr.",
         25,
         28.1,
         13.7,
         0.426,
         2.3,
         0.4,
         0.7
        ],
        [
         "Marvin Bagley III",
         24,
         21.1,
         11.7,
         0.586,
         3.6,
         2.6,
         1.2
        ],
        [
         "Corey Kispert",
         24,
         25.8,
         13.4,
         0.486,
         2.4,
         0.4,
         1.2
        ],
        [
         "Keyonte George",
         20,
         27.0,
         13.0,
         0.391,
         2.6,
         0.2,
         2.5
        ],
        [
         "Spencer Dinwiddie",
         30,
         30.7,
         12.6,
         0.391,
         2.8,
         0.5,
         1.3
        ],
        [
         "Andre Drummond",
         30,
         17.1,
         8.4,
         0.556,
         5.6,
         3.4,
         1.0
        ],
        [
         "Dillon Brooks",
         28,
         30.9,
         12.7,
         0.428,
         2.7,
         0.7,
         1.2
        ],
        [
         "Zach Collins",
         26,
         22.1,
         11.2,
         0.484,
         3.7,
         1.7,
         1.9
        ],
        [
         "Russell Westbrook",
         35,
         22.5,
         11.1,
         0.454,
         3.7,
         1.4,
         2.1
        ],
        [
         "Cam Whitmore",
         19,
         18.7,
         12.3,
         0.454,
         2.9,
         0.9,
         1.0
        ],
        [
         "Vince Williams Jr.",
         23,
         27.6,
         10.0,
         0.446,
         4.4,
         1.1,
         1.8
        ],
        [
         "Aaron Nesmith",
         24,
         27.7,
         12.2,
         0.496,
         2.9,
         0.9,
         0.9
        ],
        [
         "Onyeka Okongwu",
         23,
         25.5,
         10.2,
         0.611,
         4.2,
         2.6,
         0.8
        ],
        [
         "Kevin Love",
         35,
         16.8,
         8.8,
         0.44,
         5.1,
         1.1,
         0.9
        ],
        [
         "Jabari Walker",
         21,
         23.6,
         8.9,
         0.46,
         5.0,
         2.1,
         0.9
        ],
        [
         "Duncan Robinson",
         29,
         28.0,
         12.9,
         0.45,
         2.3,
         0.2,
         1.4
        ],
        [
         "Al Horford",
         37,
         26.8,
         8.6,
         0.511,
         5.1,
         1.3,
         0.7
        ],
        [
         "Jalen Suggs",
         22,
         27.0,
         12.6,
         0.471,
         2.4,
         0.6,
         1.8
        ],
        [
         "Cole Anthony",
         23,
         22.4,
         11.6,
         0.435,
         3.0,
         0.8,
         1.6
        ],
        [
         "Malik Beasley",
         27,
         29.6,
         11.3,
         0.443,
         3.2,
         0.5,
         0.7
        ],
        [
         "Brandon Clarke",
         27,
         22.3,
         11.3,
         0.559,
         3.2,
         2.2,
         0.5
        ],
        [
         "Scotty Pippen Jr.",
         23,
         25.1,
         12.9,
         0.493,
         2.1,
         1.0,
         2.7
        ],
        [
         "Jaime Jaquez Jr.",
         22,
         28.2,
         11.9,
         0.489,
         2.7,
         1.1,
         1.5
        ],
        [
         "Bruce Brown",
         27,
         27.9,
         10.8,
         0.478,
         3.4,
         0.8,
         1.3
        ],
        [
         "Alec Burks",
         32,
         21.0,
         12.6,
         0.394,
         2.2,
         0.4,
         0.7
        ],
        [
         "Buddy Hield",
         31,
         25.7,
         12.0,
         0.443,
         2.6,
         0.7,
         1.2
        ],
        [
         "Buddy Hield",
         31,
         25.7,
         12.1,
         0.436,
         2.5,
         0.7,
         1.2
        ],
        [
         "Amen Thompson",
         21,
         22.4,
         9.5,
         0.536,
         4.2,
         2.4,
         1.5
        ],
        [
         "Kelly Olynyk",
         32,
         22.6,
         9.8,
         0.555,
         3.9,
         1.4,
         1.9
        ],
        [
         "Buddy Hield",
         31,
         25.8,
         12.2,
         0.426,
         2.3,
         0.8,
         1.3
        ],
        [
         "Tyus Jones",
         27,
         29.3,
         12.0,
         0.489,
         2.4,
         0.3,
         1.0
        ],
        [
         "De'Anthony Melton",
         25,
         26.9,
         11.1,
         0.386,
         3.0,
         0.7,
         1.0
        ],
        [
         "Harrison Barnes",
         31,
         29.0,
         12.2,
         0.474,
         2.2,
         0.8,
         0.7
        ],
        [
         "Brandin Podziemski",
         20,
         26.6,
         9.2,
         0.454,
         4.2,
         1.6,
         1.2
        ],
        [
         "Jalen Smith",
         23,
         17.2,
         9.9,
         0.592,
         3.7,
         1.8,
         0.7
        ],
        [
         "Isaiah Hartenstein",
         25,
         25.3,
         7.8,
         0.644,
         5.1,
         3.3,
         1.2
        ],
        [
         "Walker Kessler",
         22,
         23.3,
         8.1,
         0.654,
         4.9,
         2.6,
         1.0
        ],
        [
         "Dereck Lively II",
         19,
         23.5,
         8.8,
         0.747,
         4.4,
         2.5,
         0.9
        ],
        [
         "Ayo Dosunmu",
         24,
         29.1,
         12.2,
         0.501,
         2.1,
         0.7,
         1.4
        ],
        [
         "Ausar Thompson",
         21,
         25.1,
         8.8,
         0.483,
         4.3,
         2.0,
         1.3
        ],
        [
         "Moritz Wagner",
         26,
         17.7,
         10.9,
         0.601,
         2.9,
         1.5,
         1.2
        ],
        [
         "Mike Conley",
         36,
         28.9,
         11.4,
         0.457,
         2.4,
         0.5,
         1.3
        ],
        [
         "Luguentz Dort",
         24,
         28.4,
         10.9,
         0.438,
         2.7,
         0.9,
         0.9
        ],
        [
         "Ben Simmons",
         27,
         23.9,
         6.1,
         0.581,
         5.9,
         2.1,
         1.8
        ],
        [
         "Grant Williams",
         25,
         28.0,
         10.3,
         0.456,
         3.1,
         1.1,
         1.4
        ],
        [
         "Herbert Jones",
         25,
         30.5,
         11.0,
         0.498,
         2.6,
         1.0,
         1.2
        ],
        [
         "Luke Kennard",
         27,
         25.6,
         11.0,
         0.448,
         2.6,
         0.3,
         1.4
        ],
        [
         "Royce O'Neale",
         30,
         25.1,
         8.1,
         0.411,
         4.5,
         0.7,
         0.7
        ],
        [
         "Caleb Martin",
         28,
         27.4,
         10.0,
         0.431,
         3.2,
         1.2,
         1.2
        ],
        [
         "Simone Fontecchio",
         28,
         24.9,
         10.5,
         0.46,
         2.8,
         1.0,
         1.0
        ],
        [
         "Obi Toppin",
         25,
         21.1,
         10.3,
         0.573,
         2.9,
         1.0,
         0.8
        ],
        [
         "Alex Caruso",
         29,
         28.7,
         10.1,
         0.468,
         3.0,
         0.9,
         1.4
        ],
        [
         "Chris Paul",
         38,
         26.4,
         9.2,
         0.441,
         3.6,
         0.3,
         1.3
        ],
        [
         "Kevin Huerter",
         25,
         24.4,
         10.2,
         0.443,
         2.9,
         0.6,
         0.8
        ],
        [
         "Tre Jones",
         24,
         27.8,
         10.0,
         0.505,
         3.0,
         0.8,
         1.5
        ],
        [
         "Marvin Bagley III",
         24,
         18.4,
         10.2,
         0.591,
         2.8,
         1.8,
         1.1
        ],
        [
         "Patrick Williams",
         22,
         27.3,
         10.0,
         0.443,
         2.8,
         1.1,
         1.3
        ],
        [
         "Jake LaRavia",
         22,
         23.0,
         10.8,
         0.389,
         2.2,
         1.5,
         1.3
        ],
        [
         "Bruce Brown",
         27,
         26.0,
         9.6,
         0.481,
         3.0,
         0.8,
         1.3
        ],
        [
         "Dalano Banton",
         24,
         19.4,
         10.3,
         0.404,
         2.5,
         0.8,
         1.4
        ],
        [
         "Georges Niang",
         30,
         22.3,
         9.4,
         0.449,
         3.1,
         0.3,
         0.9
        ],
        [
         "Precious Achiuwa",
         24,
         24.2,
         7.6,
         0.525,
         4.3,
         2.9,
         1.1
        ],
        [
         "Gordon Hayward",
         33,
         24.4,
         9.8,
         0.464,
         2.8,
         0.7,
         1.3
        ],
        [
         "Tre Mann",
         22,
         24.1,
         9.3,
         0.459,
         3.1,
         0.5,
         1.6
        ],
        [
         "Spencer Dinwiddie",
         30,
         28.3,
         10.5,
         0.392,
         2.3,
         0.4,
         1.2
        ],
        [
         "Jaden McDaniels",
         23,
         29.2,
         10.5,
         0.489,
         2.3,
         0.8,
         1.2
        ],
        [
         "Kelly Olynyk",
         32,
         20.4,
         8.1,
         0.562,
         3.8,
         1.3,
         1.6
        ],
        [
         "Royce O'Neale",
         30,
         24.7,
         7.7,
         0.397,
         4.0,
         0.8,
         0.9
        ],
        [
         "Precious Achiuwa",
         24,
         21.9,
         7.6,
         0.501,
         4.0,
         2.6,
         1.1
        ],
        [
         "Robert Williams",
         26,
         19.8,
         6.8,
         0.654,
         4.5,
         1.8,
         1.2
        ],
        [
         "T.J. McConnell",
         31,
         18.2,
         10.2,
         0.556,
         2.2,
         0.5,
         1.5
        ],
        [
         "Josh Richardson",
         30,
         25.7,
         9.9,
         0.444,
         2.4,
         0.4,
         0.8
        ],
        [
         "Eric Gordon",
         35,
         27.8,
         11.0,
         0.443,
         1.6,
         0.2,
         1.1
        ],
        [
         "Vasilije MiciÄ",
         30,
         27.2,
         10.8,
         0.437,
         1.7,
         0.4,
         2.3
        ],
        [
         "Sam Hauser",
         26,
         22.0,
         9.0,
         0.446,
         2.9,
         0.6,
         0.4
        ],
        [
         "Christian Wood",
         28,
         17.4,
         6.9,
         0.466,
         4.3,
         0.8,
         1.0
        ],
        [
         "Alec Burks",
         32,
         18.4,
         10.4,
         0.369,
         1.9,
         0.4,
         0.7
        ],
        [
         "Bilal Coulibaly",
         19,
         27.2,
         8.4,
         0.435,
         3.2,
         0.9,
         1.4
        ],
        [
         "Payton Pritchard",
         26,
         22.3,
         9.6,
         0.468,
         2.4,
         0.9,
         0.7
        ],
        [
         "Dorian Finney-Smith",
         30,
         28.4,
         8.5,
         0.421,
         3.1,
         1.6,
         0.9
        ],
        [
         "Nikola JoviÄ",
         20,
         19.5,
         7.7,
         0.452,
         3.6,
         0.5,
         0.9
        ],
        [
         "Kentavious Caldwell-Pope",
         30,
         31.6,
         10.1,
         0.46,
         2.0,
         0.4,
         1.0
        ],
        [
         "Talen Horton-Tucker",
         23,
         19.8,
         10.1,
         0.396,
         2.0,
         0.4,
         1.3
        ],
        [
         "David Roddy",
         22,
         23.2,
         8.4,
         0.402,
         3.1,
         1.1,
         1.1
        ],
        [
         "Tristan Vukcevic",
         20,
         15.3,
         8.5,
         0.433,
         3.0,
         0.6,
         1.0
        ],
        [
         "Royce O'Neale",
         30,
         24.5,
         7.4,
         0.388,
         3.7,
         0.8,
         1.0
        ],
        [
         "Taurean Prince",
         29,
         27.0,
         8.9,
         0.442,
         2.7,
         0.3,
         0.9
        ],
        [
         "Bojan BogdanoviÄ",
         34,
         19.2,
         10.4,
         0.43,
         1.7,
         0.3,
         1.3
        ],
        [
         "Richaun Holmes",
         30,
         18.7,
         7.1,
         0.557,
         3.9,
         2.2,
         0.7
        ],
        [
         "Dario Å ariÄ",
         29,
         17.2,
         8.0,
         0.466,
         3.3,
         1.1,
         1.2
        ],
        [
         "Precious Achiuwa",
         24,
         17.5,
         7.7,
         0.459,
         3.4,
         2.0,
         1.2
        ],
        [
         "Darius Bazley",
         23,
         23.7,
         8.0,
         0.621,
         3.2,
         1.3,
         1.2
        ],
        [
         "Aleksej Pokusevski",
         22,
         19.2,
         7.4,
         0.429,
         3.6,
         0.8,
         0.9
        ],
        [
         "Paul Reed",
         24,
         19.4,
         7.3,
         0.54,
         3.6,
         2.4,
         0.8
        ],
        [
         "Lonnie Walker IV",
         25,
         17.4,
         9.7,
         0.423,
         2.0,
         0.2,
         0.9
        ],
        [
         "Simone Fontecchio",
         28,
         23.2,
         8.9,
         0.45,
         2.5,
         1.0,
         1.0
        ],
        [
         "Taylor Hendricks",
         20,
         21.4,
         7.3,
         0.45,
         3.5,
         1.2,
         0.7
        ],
        [
         "Duop Reath",
         27,
         17.9,
         9.1,
         0.461,
         2.3,
         1.4,
         0.8
        ],
        [
         "James Wiseman",
         22,
         17.3,
         7.1,
         0.613,
         3.6,
         1.7,
         1.0
        ],
        [
         "MÃ£ozinha Pereira",
         23,
         17.4,
         6.9,
         0.514,
         3.7,
         1.6,
         0.7
        ],
        [
         "Reggie Jackson",
         33,
         22.2,
         10.2,
         0.431,
         1.5,
         0.4,
         1.3
        ],
        [
         "Trayce Jackson-Davis",
         23,
         16.6,
         7.9,
         0.702,
         3.0,
         2.0,
         0.7
        ],
        [
         "Isaac Okoro",
         23,
         27.3,
         9.4,
         0.49,
         2.0,
         1.0,
         0.8
        ],
        [
         "Kyle Lowry",
         37,
         28.0,
         8.2,
         0.426,
         2.8,
         0.7,
         1.4
        ],
        [
         "Ziaire Williams",
         22,
         20.4,
         8.2,
         0.397,
         2.8,
         0.7,
         1.3
        ],
        [
         "Day'Ron Sharpe",
         22,
         15.1,
         6.8,
         0.571,
         3.7,
         2.6,
         1.1
        ],
        [
         "Trey Lyles",
         28,
         20.0,
         7.2,
         0.445,
         3.4,
         1.1,
         0.7
        ],
        [
         "Cody Martin",
         28,
         26.9,
         7.5,
         0.381,
         3.2,
         0.7,
         1.6
        ],
        [
         "Kyle Lowry",
         37,
         28.2,
         8.1,
         0.432,
         2.7,
         0.6,
         1.4
        ],
        [
         "Terance Mann",
         27,
         25.0,
         8.8,
         0.515,
         2.2,
         1.2,
         0.6
        ],
        [
         "Jordan Nwora",
         25,
         15.6,
         7.9,
         0.465,
         2.8,
         0.6,
         1.2
        ],
        [
         "Grant Williams",
         25,
         26.4,
         8.1,
         0.413,
         2.6,
         1.0,
         1.1
        ],
        [
         "Bismack Biyombo",
         31,
         23.9,
         5.2,
         0.563,
         4.5,
         1.9,
         1.3
        ],
        [
         "Josh Green",
         23,
         26.4,
         8.2,
         0.479,
         2.5,
         0.7,
         1.1
        ],
        [
         "Trey Jemison",
         24,
         24.9,
         7.4,
         0.551,
         3.0,
         2.8,
         1.4
        ],
        [
         "Derrick Jones Jr.",
         26,
         23.5,
         8.6,
         0.483,
         2.2,
         1.1,
         0.9
        ],
        [
         "Toumani Camara",
         23,
         24.8,
         7.5,
         0.45,
         2.9,
         2.0,
         1.2
        ],
        [
         "Danilo Gallinari",
         35,
         15.0,
         8.7,
         0.545,
         2.0,
         0.3,
         0.2
        ],
        [
         "Jonathan Isaac",
         26,
         15.8,
         6.8,
         0.51,
         3.2,
         1.3,
         0.5
        ],
        [
         "Malaki Branham",
         20,
         21.3,
         9.2,
         0.432,
         1.6,
         0.4,
         1.2
        ],
        [
         "Kyle Lowry",
         37,
         28.4,
         8.0,
         0.444,
         2.4,
         0.4,
         1.4
        ],
        [
         "Brice Sensabaugh",
         20,
         18.3,
         7.5,
         0.39,
         2.7,
         0.5,
         1.5
        ],
        [
         "Christian Braun",
         22,
         20.2,
         7.3,
         0.46,
         2.8,
         1.0,
         0.7
        ],
        [
         "Andrew Nembhard",
         24,
         25.0,
         9.2,
         0.498,
         1.5,
         0.5,
         1.5
        ],
        [
         "Mitchell Robinson",
         25,
         24.8,
         5.6,
         0.575,
         3.9,
         4.6,
         0.8
        ],
        [
         "Seth Curry",
         33,
         19.9,
         9.0,
         0.441,
         1.6,
         0.4,
         0.6
        ],
        [
         "Naji Marshall",
         26,
         19.0,
         7.1,
         0.463,
         2.8,
         0.8,
         1.0
        ],
        [
         "Dante Exum",
         28,
         19.8,
         7.8,
         0.533,
         2.3,
         0.5,
         0.9
        ],
        [
         "Cameron Payne",
         29,
         19.4,
         9.3,
         0.413,
         1.3,
         0.5,
         1.1
        ],
        [
         "DÄvis BertÄns",
         31,
         20.8,
         8.8,
         0.394,
         1.6,
         0.3,
         0.6
        ],
        [
         "Gradey Dick",
         20,
         21.1,
         8.5,
         0.425,
         1.8,
         0.5,
         0.8
        ],
        [
         "Tosan Evbuomwan",
         22,
         22.5,
         7.0,
         0.571,
         2.8,
         0.8,
         0.6
        ],
        [
         "Moses Moody",
         21,
         17.5,
         8.1,
         0.462,
         2.0,
         1.0,
         0.7
        ],
        [
         "Isaiah Joe",
         24,
         18.5,
         8.2,
         0.458,
         1.9,
         0.4,
         0.6
        ],
        [
         "Trey Jemison",
         24,
         22.9,
         6.8,
         0.551,
         2.8,
         2.6,
         1.4
        ],
        [
         "Chimezie Metu",
         26,
         16.8,
         6.5,
         0.504,
         3.0,
         0.8,
         1.0
        ],
        [
         "Shake Milton",
         27,
         15.8,
         6.8,
         0.423,
         2.8,
         1.8,
         0.8
        ],
        [
         "Mason Plumlee",
         33,
         14.7,
         5.3,
         0.569,
         3.8,
         1.3,
         0.8
        ],
        [
         "Larry Nance Jr.",
         31,
         19.9,
         5.7,
         0.573,
         3.5,
         1.5,
         0.8
        ],
        [
         "Jordan Goodwin",
         25,
         18.5,
         6.5,
         0.369,
         2.9,
         1.5,
         1.0
        ],
        [
         "Bruno Fernando",
         25,
         15.2,
         6.3,
         0.583,
         3.0,
         1.3,
         1.0
        ],
        [
         "Killian Hayes",
         22,
         24.0,
         6.9,
         0.413,
         2.6,
         0.3,
         1.2
        ],
        [
         "DeJon Jarreau",
         26,
         16.7,
         4.8,
         0.34,
         4.0,
         0.9,
         1.0
        ],
        [
         "Lamar Stevens",
         26,
         14.7,
         7.2,
         0.45,
         2.4,
         0.9,
         0.6
        ],
        [
         "Chris Boucher",
         31,
         14.1,
         6.4,
         0.507,
         2.9,
         1.2,
         0.6
        ],
        [
         "Javon Freeman-Liberty",
         24,
         18.3,
         7.0,
         0.444,
         2.5,
         0.7,
         1.1
        ],
        [
         "Danilo Gallinari",
         35,
         14.8,
         7.0,
         0.435,
         2.5,
         0.5,
         0.5
        ],
        [
         "Marcus Sasser",
         23,
         19.0,
         8.3,
         0.428,
         1.6,
         0.2,
         1.3
        ],
        [
         "Markelle Fultz",
         25,
         21.2,
         7.8,
         0.472,
         1.9,
         1.3,
         1.2
        ],
        [
         "Jahmi'us Ramsey",
         22,
         17.3,
         6.7,
         0.439,
         2.6,
         0.6,
         1.0
        ],
        [
         "Jordan Hawkins",
         21,
         17.3,
         7.8,
         0.382,
         1.8,
         0.4,
         0.6
        ],
        [
         "Xavier Tillman Sr.",
         25,
         20.6,
         6.0,
         0.408,
         3.0,
         1.6,
         0.9
        ],
        [
         "Dean Wade",
         27,
         20.5,
         5.4,
         0.414,
         3.4,
         0.7,
         0.4
        ],
        [
         "Kyle Anderson",
         30,
         22.6,
         6.4,
         0.46,
         2.7,
         0.8,
         1.2
        ],
        [
         "Marcus Morris",
         34,
         17.2,
         6.7,
         0.439,
         2.5,
         0.5,
         0.5
        ],
        [
         "Jordan Nwora",
         25,
         13.7,
         7.0,
         0.462,
         2.3,
         0.5,
         1.0
        ],
        [
         "Peyton Watson",
         21,
         18.6,
         6.7,
         0.465,
         2.5,
         0.7,
         0.7
        ],
        [
         "Nickeil Alexander-Walker",
         25,
         23.4,
         8.0,
         0.439,
         1.6,
         0.4,
         0.9
        ],
        [
         "Sam Merrill",
         27,
         17.5,
         8.0,
         0.402,
         1.6,
         0.4,
         0.3
        ],
        [
         "Derrick Rose",
         35,
         16.6,
         8.0,
         0.461,
         1.6,
         0.3,
         1.3
        ],
        [
         "Daniel Theis",
         31,
         16.9,
         6.3,
         0.532,
         2.7,
         1.4,
         0.7
        ],
        [
         "Daniel Theis",
         31,
         17.1,
         6.3,
         0.536,
         2.7,
         1.4,
         0.7
        ],
        [
         "Patrick Beverley",
         35,
         20.9,
         6.0,
         0.391,
         2.9,
         0.7,
         0.6
        ],
        [
         "Trendon Watford",
         23,
         13.6,
         6.9,
         0.527,
         2.3,
         0.8,
         1.0
        ],
        [
         "Malachi Flynn",
         25,
         14.3,
         8.0,
         0.43,
         1.5,
         0.3,
         1.1
        ],
        [
         "RaiQuan Gray",
         24,
         13.0,
         7.7,
         0.588,
         1.7,
         0.7,
         0.3
        ],
        [
         "Jaylen Nowell",
         24,
         14.5,
         7.5,
         0.522,
         1.8,
         0.8,
         0.5
        ],
        [
         "Dyson Daniels",
         20,
         22.3,
         5.8,
         0.447,
         2.9,
         1.0,
         1.0
        ],
        [
         "Jarred Vanderbilt",
         24,
         20.0,
         5.2,
         0.518,
         3.3,
         1.4,
         1.0
        ],
        [
         "Patrick Beverley",
         35,
         20.0,
         6.2,
         0.417,
         2.6,
         0.7,
         0.9
        ],
        [
         "Jae Crowder",
         33,
         23.1,
         6.2,
         0.422,
         2.6,
         0.6,
         0.5
        ],
        [
         "Julian Champagnie",
         22,
         19.8,
         6.8,
         0.408,
         2.2,
         0.6,
         0.8
        ],
        [
         "Isaiah Jackson",
         22,
         13.1,
         6.5,
         0.665,
         2.4,
         1.6,
         0.7
        ],
        [
         "Cedi Osman",
         28,
         17.6,
         6.8,
         0.479,
         2.2,
         0.3,
         0.7
        ],
        [
         "David Roddy",
         22,
         18.1,
         6.5,
         0.403,
         2.4,
         0.8,
         0.9
        ],
        [
         "Kevon Looney",
         27,
         16.1,
         4.5,
         0.597,
         3.7,
         1.9,
         0.7
        ],
        [
         "Nicolas Batum",
         35,
         25.9,
         5.5,
         0.456,
         3.0,
         1.2,
         0.7
        ],
        [
         "Bismack Biyombo",
         31,
         19.8,
         4.4,
         0.565,
         3.7,
         1.6,
         1.1
        ],
        [
         "Kevin Knox",
         24,
         18.1,
         7.2,
         0.462,
         1.8,
         0.6,
         0.7
        ],
        [
         "Patrick Beverley",
         35,
         19.6,
         6.3,
         0.432,
         2.4,
         0.6,
         1.0
        ],
        [
         "Torrey Craig",
         33,
         19.8,
         5.7,
         0.43,
         2.8,
         1.3,
         0.6
        ],
        [
         "Marcus Morris",
         34,
         16.7,
         6.4,
         0.439,
         2.3,
         0.5,
         0.6
        ],
        [
         "Jose Alvarado",
         25,
         18.4,
         7.1,
         0.412,
         1.8,
         0.4,
         0.7
        ],
        [
         "Nicolas Batum",
         35,
         25.5,
         5.3,
         0.453,
         3.0,
         1.2,
         0.7
        ],
        [
         "Miles McBride",
         23,
         19.5,
         8.3,
         0.452,
         1.0,
         0.5,
         0.4
        ],
        [
         "Thomas Bryant",
         26,
         11.6,
         5.7,
         0.577,
         2.7,
         1.1,
         0.6
        ],
        [
         "Evan Fournier",
         31,
         18.7,
         7.2,
         0.373,
         1.7,
         0.2,
         0.7
        ],
        [
         "Quentin Grimes",
         23,
         20.2,
         7.3,
         0.395,
         1.6,
         0.3,
         0.5
        ],
        [
         "Tosan Evbuomwan",
         22,
         21.6,
         5.9,
         0.507,
         2.5,
         1.1,
         0.5
        ],
        [
         "Dennis Smith Jr.",
         26,
         18.9,
         6.6,
         0.435,
         2.0,
         0.9,
         1.2
        ],
        [
         "Ochai Agbaji",
         23,
         23.6,
         6.7,
         0.391,
         1.9,
         1.4,
         1.1
        ],
        [
         "Quentin Grimes",
         23,
         20.1,
         7.0,
         0.372,
         1.7,
         0.3,
         0.5
        ],
        [
         "Jaden Hardy",
         21,
         13.5,
         7.3,
         0.407,
         1.5,
         0.3,
         0.8
        ],
        [
         "David Duke Jr.",
         24,
         12.8,
         6.5,
         0.556,
         2.0,
         0.5,
         0.8
        ],
        [
         "Drew Eubanks",
         26,
         15.6,
         5.1,
         0.601,
         2.9,
         1.4,
         0.8
        ],
        [
         "Evan Fournier",
         31,
         18.1,
         6.9,
         0.357,
         1.7,
         0.2,
         0.7
        ],
        [
         "Johnny Juzang",
         22,
         18.6,
         7.2,
         0.464,
         1.5,
         0.4,
         0.7
        ],
        [
         "Zavier Simpson",
         26,
         23.0,
         6.0,
         0.315,
         2.3,
         0.6,
         1.4
        ],
        [
         "Haywood Highsmith",
         27,
         20.7,
         6.1,
         0.465,
         2.2,
         1.0,
         0.5
        ],
        [
         "Kris Murray",
         23,
         21.7,
         6.1,
         0.396,
         2.2,
         1.4,
         0.9
        ],
        [
         "Noah Clowney",
         19,
         16.1,
         5.8,
         0.538,
         2.4,
         1.1,
         0.7
        ],
        [
         "John Konchar",
         27,
         21.3,
         4.3,
         0.423,
         3.4,
         1.3,
         0.8
        ],
        [
         "Goga Bitadze",
         24,
         15.4,
         5.0,
         0.603,
         2.9,
         1.8,
         0.7
        ],
        [
         "Justin Champagnie",
         22,
         15.7,
         5.9,
         0.41,
         2.3,
         1.3,
         0.7
        ],
        [
         "Pat Connaughton",
         31,
         22.1,
         5.6,
         0.435,
         2.5,
         0.7,
         0.6
        ],
        [
         "Aaron Wiggins",
         25,
         15.7,
         6.9,
         0.562,
         1.6,
         0.8,
         0.7
        ],
        [
         "Neemias Queta",
         24,
         11.9,
         5.5,
         0.644,
         2.5,
         1.9,
         0.5
        ],
        [
         "Richaun Holmes",
         30,
         13.9,
         5.0,
         0.558,
         2.8,
         1.8,
         0.6
        ],
        [
         "Cameron Payne",
         29,
         16.7,
         7.4,
         0.432,
         1.2,
         0.3,
         0.8
        ],
        [
         "Xavier Tillman Sr.",
         25,
         18.0,
         5.3,
         0.434,
         2.6,
         1.3,
         0.6
        ],
        [
         "Cason Wallace",
         20,
         20.6,
         6.8,
         0.491,
         1.6,
         0.6,
         0.5
        ],
        [
         "Amir Coffey",
         26,
         20.9,
         6.6,
         0.472,
         1.7,
         0.4,
         0.5
        ],
        [
         "Aleksej Pokusevski",
         22,
         14.5,
         5.2,
         0.405,
         2.6,
         0.6,
         0.7
        ],
        [
         "Spencer Dinwiddie",
         30,
         24.2,
         6.8,
         0.397,
         1.5,
         0.1,
         1.0
        ],
        [
         "Jeff Green",
         37,
         16.8,
         6.5,
         0.456,
         1.7,
         0.6,
         0.6
        ],
        [
         "Bones Hyland",
         23,
         14.6,
         6.9,
         0.386,
         1.4,
         0.1,
         1.2
        ],
        [
         "Vit Krejci",
         23,
         24.6,
         6.1,
         0.49,
         1.9,
         0.5,
         0.9
        ],
        [
         "Bol Bol",
         24,
         10.9,
         5.2,
         0.616,
         2.4,
         0.7,
         0.4
        ],
        [
         "Wenyen Gabriel",
         26,
         16.2,
         3.4,
         0.364,
         3.6,
         1.4,
         1.6
        ],
        [
         "Vasilije MiciÄ",
         30,
         19.6,
         7.0,
         0.43,
         1.2,
         0.2,
         1.7
        ],
        [
         "Omer Yurtseven",
         25,
         11.4,
         4.6,
         0.538,
         2.8,
         1.5,
         0.8
        ],
        [
         "Luke Kornet",
         28,
         15.6,
         5.3,
         0.7,
         2.3,
         1.9,
         0.3
        ],
        [
         "Gary Harris",
         29,
         24.0,
         6.9,
         0.441,
         1.2,
         0.4,
         0.6
        ],
        [
         "Patrick Baldwin Jr.",
         21,
         13.0,
         4.4,
         0.381,
         2.8,
         0.4,
         0.5
        ],
        [
         "Mo Bamba",
         25,
         13.0,
         4.4,
         0.49,
         2.8,
         1.4,
         0.7
        ],
        [
         "Darius Bazley",
         23,
         16.9,
         5.3,
         0.6,
         2.2,
         0.9,
         0.9
        ],
        [
         "Alec Burks",
         32,
         13.5,
         6.5,
         0.307,
         1.4,
         0.3,
         0.7
        ],
        [
         "Landry Shamet",
         26,
         15.8,
         7.1,
         0.431,
         1.0,
         0.3,
         0.7
        ],
        [
         "Kris Dunn",
         29,
         18.9,
         5.4,
         0.47,
         2.1,
         0.8,
         1.2
        ],
        [
         "Aaron Holiday",
         27,
         16.3,
         6.6,
         0.446,
         1.3,
         0.3,
         0.7
        ],
        [
         "Ochai Agbaji",
         23,
         21.0,
         5.8,
         0.411,
         1.8,
         0.9,
         0.8
        ],
        [
         "DÄvis BertÄns",
         31,
         15.7,
         6.7,
         0.393,
         1.2,
         0.2,
         0.4
        ],
        [
         "Dexter Dennis",
         24,
         7.5,
         5.5,
         0.526,
         2.0,
         0.3,
         0.8
        ],
        [
         "Chimezie Metu",
         26,
         12.1,
         5.0,
         0.508,
         2.3,
         0.6,
         0.7
        ],
        [
         "P.J. Tucker",
         38,
         22.0,
         2.0,
         0.4,
         4.3,
         0.3,
         0.7
        ],
        [
         "Danilo Gallinari",
         35,
         12.9,
         5.7,
         0.437,
         1.8,
         0.4,
         0.5
        ],
        [
         "Troy Brown Jr.",
         24,
         19.0,
         4.2,
         0.296,
         2.8,
         0.5,
         0.5
        ],
        [
         "Marcus Morris",
         34,
         15.0,
         5.8,
         0.441,
         1.7,
         0.4,
         0.9
        ],
        [
         "Jaylin Williams",
         21,
         13.0,
         4.0,
         0.417,
         2.9,
         0.5,
         0.5
        ],
        [
         "Gordon Hayward",
         33,
         17.2,
         5.3,
         0.453,
         2.0,
         0.5,
         0.6
        ],
        [
         "Maxi Kleber",
         32,
         20.3,
         4.4,
         0.432,
         2.6,
         0.7,
         0.7
        ],
        [
         "Jaylen Nowell",
         24,
         16.5,
         6.2,
         0.436,
         1.4,
         0.5,
         0.5
        ],
        [
         "DeAndre Jordan",
         35,
         11.0,
         3.9,
         0.624,
         2.9,
         1.5,
         0.6
        ],
        [
         "Skylar Mays",
         26,
         17.0,
         6.3,
         0.384,
         1.3,
         0.4,
         0.9
        ],
        [
         "Craig Porter Jr.",
         23,
         12.7,
         5.6,
         0.509,
         1.7,
         0.4,
         0.9
        ],
        [
         "Ochai Agbaji",
         23,
         19.7,
         5.4,
         0.426,
         1.8,
         0.7,
         0.7
        ],
        [
         "Jared Butler",
         23,
         14.2,
         6.3,
         0.488,
         1.2,
         0.2,
         1.3
        ],
        [
         "Quentin Grimes",
         23,
         19.2,
         5.3,
         0.214,
         1.8,
         0.2,
         1.2
        ],
        [
         "Cameron Payne",
         29,
         14.9,
         6.2,
         0.455,
         1.2,
         0.1,
         0.7
        ],
        [
         "Stanley Umude",
         24,
         12.8,
         5.3,
         0.44,
         1.8,
         0.3,
         0.6
        ],
        [
         "Jalen Wilson",
         23,
         15.4,
         5.0,
         0.425,
         2.0,
         1.1,
         0.4
        ],
        [
         "Thaddeus Young",
         35,
         15.2,
         5.0,
         0.621,
         2.0,
         1.3,
         0.5
        ],
        [
         "Robert Covington",
         33,
         16.1,
         4.5,
         0.449,
         2.3,
         1.1,
         0.4
        ],
        [
         "Kenrich Williams",
         29,
         14.9,
         4.7,
         0.468,
         2.1,
         0.9,
         0.5
        ],
        [
         "Robert Covington",
         33,
         16.8,
         4.4,
         0.439,
         2.3,
         1.1,
         0.4
        ],
        [
         "Jordan Goodwin",
         25,
         14.0,
         5.0,
         0.389,
         1.9,
         1.0,
         0.7
        ],
        [
         "Keon Ellis",
         24,
         17.2,
         5.4,
         0.461,
         1.6,
         0.6,
         0.6
        ],
        [
         "Matisse Thybulle",
         26,
         22.9,
         5.4,
         0.397,
         1.6,
         0.5,
         0.6
        ],
        [
         "Sasha Vezenkov",
         28,
         12.2,
         5.4,
         0.44,
         1.6,
         0.7,
         0.3
        ],
        [
         "Jamaree Bouyea",
         24,
         12.7,
         3.7,
         0.714,
         2.7,
         0.3,
         0.3
        ],
        [
         "Gary Payton II",
         31,
         15.5,
         5.5,
         0.563,
         1.5,
         1.0,
         0.6
        ],
        [
         "Jontay Porter",
         24,
         13.8,
         4.4,
         0.385,
         2.2,
         1.0,
         0.8
        ],
        [
         "Marques Bolden",
         25,
         13.1,
         4.1,
         0.68,
         2.4,
         1.1,
         0.3
        ],
        [
         "Cam Reddish",
         24,
         20.5,
         5.4,
         0.389,
         1.5,
         0.6,
         0.6
        ],
        [
         "Delon Wright",
         31,
         20.4,
         5.4,
         0.394,
         1.5,
         0.4,
         0.2
        ],
        [
         "Malachi Flynn",
         25,
         15.3,
         5.1,
         0.409,
         1.7,
         0.4,
         1.1
        ],
        [
         "Malik Williams",
         25,
         15.3,
         2.7,
         0.265,
         3.3,
         2.1,
         0.4
        ],
        [
         "Jared Rhoden",
         24,
         14.4,
         4.9,
         0.5,
         1.8,
         0.2,
         0.4
        ],
        [
         "Dominick Barlow",
         20,
         12.7,
         4.4,
         0.496,
         2.1,
         1.4,
         0.3
        ],
        [
         "Nick Smith Jr.",
         19,
         14.3,
         5.9,
         0.391,
         1.1,
         0.4,
         0.8
        ],
        [
         "Jaylen Nowell",
         24,
         17.3,
         5.7,
         0.4,
         1.2,
         0.3,
         0.6
        ],
        [
         "Charles Bassey",
         23,
         10.8,
         3.3,
         0.725,
         2.8,
         1.2,
         0.8
        ],
        [
         "Malachi Flynn",
         25,
         12.7,
         5.5,
         0.418,
         1.3,
         0.3,
         0.9
        ],
        [
         "Keon Johnson",
         21,
         12.2,
         6.2,
         0.381,
         0.8,
         0.6,
         1.0
        ],
        [
         "Sandro Mamukelashvili",
         24,
         9.8,
         4.1,
         0.471,
         2.2,
         1.0,
         0.4
        ],
        [
         "Doug McDermott",
         32,
         15.2,
         6.0,
         0.442,
         0.9,
         0.2,
         0.5
        ],
        [
         "Monte Morris",
         28,
         15.1,
         5.1,
         0.417,
         1.5,
         0.2,
         0.2
        ],
        [
         "Mike Muscala",
         32,
         14.1,
         4.0,
         0.367,
         2.2,
         0.9,
         0.7
        ],
        [
         "Jaxson Hayes",
         23,
         12.5,
         4.3,
         0.72,
         2.0,
         1.0,
         0.6
        ],
        [
         "Jordan Nwora",
         25,
         10.2,
         5.2,
         0.451,
         1.4,
         0.4,
         0.7
        ],
        [
         "Monte Morris",
         28,
         14.4,
         5.0,
         0.405,
         1.5,
         0.2,
         0.2
        ],
        [
         "Kobi Simmons",
         26,
         16.8,
         5.0,
         0.429,
         1.5,
         0.3,
         0.3
        ],
        [
         "Jae'Sean Tate",
         28,
         15.9,
         4.1,
         0.472,
         2.1,
         0.9,
         0.6
        ],
        [
         "Keita Bates-Diop",
         28,
         15.3,
         4.5,
         0.427,
         1.8,
         0.8,
         0.3
        ],
        [
         "Troy Brown Jr.",
         24,
         14.0,
         4.2,
         0.372,
         2.0,
         0.4,
         0.5
        ],
        [
         "Kobe Bufkin",
         20,
         11.5,
         4.8,
         0.37,
         1.6,
         0.4,
         0.6
        ],
        [
         "Taj Gibson",
         38,
         9.8,
         4.5,
         0.571,
         1.8,
         0.5,
         0.0
        ],
        [
         "Matt Ryan",
         26,
         13.9,
         5.4,
         0.434,
         1.2,
         0.2,
         0.7
        ],
        [
         "Bryce McGowens",
         21,
         14.9,
         5.1,
         0.439,
         1.4,
         0.3,
         0.5
        ],
        [
         "Jock Landale",
         28,
         13.6,
         4.9,
         0.515,
         1.5,
         1.6,
         0.6
        ],
        [
         "Joe Ingles",
         36,
         17.2,
         4.4,
         0.436,
         1.8,
         0.3,
         1.0
        ],
        [
         "Isaiah Livers",
         25,
         20.4,
         5.0,
         0.345,
         1.4,
         0.7,
         0.7
        ],
        [
         "Max Christie",
         20,
         14.1,
         4.2,
         0.427,
         1.9,
         0.2,
         0.5
        ],
        [
         "Monte Morris",
         28,
         11.3,
         4.5,
         0.364,
         1.7,
         0.3,
         0.3
        ],
        [
         "Mouhamed Gueye",
         21,
         12.2,
         4.0,
         0.348,
         2.0,
         1.7,
         0.2
        ],
        [
         "Patty Mills",
         35,
         16.4,
         5.8,
         0.338,
         0.8,
         0.3,
         0.6
        ],
        [
         "Xavier Tillman Sr.",
         25,
         13.7,
         4.0,
         0.515,
         2.0,
         0.7,
         0.3
        ],
        [
         "Devonte' Graham",
         28,
         13.6,
         5.0,
         0.352,
         1.3,
         0.2,
         0.7
        ],
        [
         "Davion Mitchell",
         25,
         15.3,
         5.3,
         0.452,
         1.1,
         0.3,
         0.6
        ],
        [
         "Dylan Windler",
         27,
         12.2,
         4.7,
         0.526,
         1.5,
         0.5,
         0.3
        ],
        [
         "Luka Å amaniÄ",
         24,
         9.4,
         4.1,
         0.38,
         1.9,
         0.5,
         0.7
        ],
        [
         "Ricky Council IV",
         22,
         9.0,
         5.4,
         0.482,
         1.0,
         0.4,
         0.2
        ],
        [
         "Anthony Black",
         20,
         16.9,
         4.6,
         0.466,
         1.5,
         0.5,
         0.8
        ],
        [
         "Adama Sanogo",
         21,
         7.3,
         4.0,
         0.519,
         1.9,
         2.1,
         0.6
        ],
        [
         "MarJon Beauchamp",
         23,
         12.7,
         4.4,
         0.488,
         1.6,
         0.5,
         0.6
        ],
        [
         "Seth Curry",
         33,
         14.0,
         5.1,
         0.392,
         1.1,
         0.4,
         0.5
        ],
        [
         "Thaddeus Young",
         35,
         13.3,
         4.2,
         0.602,
         1.7,
         1.4,
         0.5
        ],
        [
         "Marques Bolden",
         25,
         11.0,
         3.4,
         0.68,
         2.2,
         0.9,
         0.3
        ],
        [
         "Brandon Boston Jr.",
         22,
         10.8,
         5.2,
         0.404,
         1.0,
         0.6,
         0.8
        ],
        [
         "Moses Brown",
         24,
         9.1,
         3.4,
         0.508,
         2.2,
         1.7,
         0.5
        ],
        [
         "Doug McDermott",
         32,
         14.1,
         5.5,
         0.433,
         0.8,
         0.2,
         0.4
        ],
        [
         "JaVale McGee",
         36,
         7.4,
         4.0,
         0.598,
         1.8,
         0.9,
         0.7
        ],
        [
         "Troy Brown Jr.",
         24,
         11.1,
         4.2,
         0.441,
         1.6,
         0.4,
         0.5
        ],
        [
         "Ashton Hagans",
         24,
         16.6,
         4.2,
         0.408,
         1.6,
         0.7,
         1.6
        ],
        [
         "Eugene Omoruyi",
         26,
         9.1,
         4.8,
         0.485,
         1.2,
         0.8,
         0.5
        ],
        [
         "Delon Wright",
         31,
         15.8,
         4.5,
         0.394,
         1.4,
         0.4,
         0.3
        ],
        [
         "Garrison Mathews",
         27,
         15.0,
         4.9,
         0.456,
         1.1,
         0.3,
         0.3
        ],
        [
         "Josh Okogie",
         25,
         16.0,
         4.6,
         0.417,
         1.3,
         1.2,
         0.6
        ],
        [
         "Rayan Rupert",
         19,
         16.2,
         4.0,
         0.335,
         1.7,
         0.6,
         0.8
        ],
        [
         "Timmy Allen",
         24,
         25.0,
         2.6,
         0.261,
         2.6,
         0.8,
         0.4
        ],
        [
         "KJ Martin",
         23,
         15.5,
         5.0,
         0.4,
         1.0,
         0.5,
         1.0
        ],
        [
         "Shake Milton",
         27,
         12.9,
         4.7,
         0.4,
         1.2,
         0.2,
         0.7
        ],
        [
         "Lester Quinones",
         23,
         10.6,
         4.4,
         0.397,
         1.4,
         0.6,
         0.5
        ],
        [
         "ThÃ©o Maledon",
         22,
         15.4,
         4.2,
         0.288,
         1.5,
         0.3,
         1.2
        ],
        [
         "Shake Milton",
         27,
         12.1,
         4.5,
         0.405,
         1.3,
         0.3,
         0.6
        ],
        [
         "Micah Potter",
         25,
         11.6,
         3.3,
         0.475,
         2.1,
         0.6,
         0.3
        ],
        [
         "Tristan Thompson",
         32,
         11.2,
         3.3,
         0.608,
         2.1,
         1.5,
         0.6
        ],
        [
         "Oshae Brissett",
         25,
         11.5,
         3.7,
         0.444,
         1.8,
         1.1,
         0.4
        ],
        [
         "Richaun Holmes",
         30,
         10.3,
         3.4,
         0.559,
         2.0,
         1.4,
         0.5
        ],
        [
         "Jeff Dowtin",
         26,
         11.8,
         4.3,
         0.556,
         1.4,
         0.3,
         0.4
        ],
        [
         "Kenneth Lofton Jr.",
         21,
         9.5,
         4.6,
         0.462,
         1.2,
         0.6,
         0.7
        ],
        [
         "Ben Sheppard",
         22,
         14.3,
         4.4,
         0.393,
         1.3,
         0.3,
         0.3
        ],
        [
         "Alex Fudge",
         20,
         13.0,
         5.5,
         0.556,
         0.5,
         1.0,
         0.5
        ],
        [
         "Blake Wesley",
         20,
         14.4,
         4.4,
         0.474,
         1.2,
         0.3,
         0.9
        ],
        [
         "Delon Wright",
         31,
         13.8,
         4.1,
         0.393,
         1.4,
         0.4,
         0.3
        ],
        [
         "Nicolas Batum",
         35,
         18.0,
         2.7,
         0.375,
         2.3,
         0.0,
         0.3
        ],
        [
         "Julian Strawther",
         21,
         10.9,
         4.5,
         0.369,
         1.1,
         0.1,
         0.5
        ],
        [
         "Dwight Powell",
         32,
         13.3,
         3.3,
         0.679,
         1.9,
         1.5,
         0.5
        ],
        [
         "Jacob Gilyard",
         25,
         17.7,
         4.7,
         0.417,
         0.9,
         0.2,
         0.8
        ],
        [
         "Jevon Carter",
         28,
         13.9,
         5.0,
         0.378,
         0.7,
         0.2,
         0.5
        ],
        [
         "Tre Mann",
         22,
         9.2,
         3.8,
         0.5,
         1.5,
         0.3,
         0.7
        ],
        [
         "Robert Covington",
         33,
         23.0,
         3.0,
         0.333,
         2.0,
         0.7,
         0.0
        ],
        [
         "Chris Duarte",
         26,
         12.2,
         3.9,
         0.381,
         1.4,
         0.4,
         0.4
        ],
        [
         "A.J. Green",
         24,
         11.0,
         4.5,
         0.423,
         1.0,
         0.2,
         0.2
        ],
        [
         "Danuel House Jr.",
         30,
         15.0,
         4.2,
         0.448,
         1.2,
         0.5,
         0.6
        ],
        [
         "Taze Moore",
         25,
         10.0,
         4.5,
         0.421,
         1.0,
         1.0,
         0.8
        ],
        [
         "Keita Bates-Diop",
         28,
         12.5,
         3.7,
         0.434,
         1.5,
         0.6,
         0.3
        ],
        [
         "Evan Fournier",
         31,
         13.0,
         4.0,
         0.2,
         1.3,
         0.0,
         0.3
        ],
        [
         "KJ Martin",
         23,
         12.4,
         3.7,
         0.536,
         1.5,
         0.7,
         0.5
        ],
        [
         "KJ Martin",
         23,
         12.3,
         3.7,
         0.544,
         1.5,
         0.7,
         0.5
        ],
        [
         "T.J. Warren",
         30,
         11.4,
         3.7,
         0.439,
         1.5,
         0.5,
         0.4
        ],
        [
         "Boban MarjanoviÄ",
         35,
         5.1,
         3.2,
         0.529,
         1.8,
         0.5,
         0.4
        ],
        [
         "Armoni Brooks",
         25,
         10.4,
         4.2,
         0.326,
         1.1,
         0.7,
         0.3
        ],
        [
         "Jarace Walker",
         20,
         10.3,
         3.6,
         0.409,
         1.5,
         0.4,
         0.5
        ],
        [
         "Seth Curry",
         33,
         12.7,
         4.3,
         0.372,
         1.0,
         0.4,
         0.4
        ],
        [
         "Ousmane Dieng",
         20,
         11.1,
         4.0,
         0.422,
         1.2,
         0.3,
         0.6
        ],
        [
         "Mike Muscala",
         32,
         13.2,
         3.5,
         0.341,
         1.5,
         0.8,
         0.2
        ],
        [
         "D.J. Wilson",
         27,
         7.5,
         5.0,
         0.667,
         0.5,
         0.5,
         0.0
        ],
        [
         "Gui Santos",
         21,
         8.3,
         3.6,
         0.509,
         1.4,
         0.7,
         0.3
        ],
        [
         "Justin Holiday",
         34,
         14.9,
         4.0,
         0.454,
         1.1,
         0.2,
         0.2
        ],
        [
         "Caleb Houstan",
         21,
         13.8,
         4.3,
         0.388,
         0.9,
         0.5,
         0.3
        ],
        [
         "Dru Smith",
         26,
         14.6,
         4.3,
         0.455,
         0.9,
         0.7,
         0.6
        ],
        [
         "JT Thor",
         21,
         12.4,
         3.2,
         0.437,
         1.6,
         0.7,
         0.2
        ],
        [
         "Sidy Cissoko",
         19,
         11.8,
         3.8,
         0.485,
         1.2,
         0.7,
         0.3
        ],
        [
         "Jacob Gilyard",
         25,
         17.0,
         4.2,
         0.4,
         0.9,
         0.2,
         0.7
        ],
        [
         "Izaiah Brockington",
         24,
         3.0,
         4.0,
         0.4,
         1.0,
         1.0,
         0.0
        ],
        [
         "Nassir Little",
         23,
         10.2,
         3.4,
         0.46,
         1.4,
         0.3,
         0.3
        ],
        [
         "Svi Mykhailiuk",
         26,
         10.1,
         4.0,
         0.416,
         1.0,
         0.3,
         0.3
        ],
        [
         "Jaden Springer",
         21,
         11.8,
         4.0,
         0.39,
         1.0,
         0.8,
         0.8
        ],
        [
         "Anthony Gill",
         31,
         9.3,
         3.8,
         0.469,
         1.1,
         0.7,
         0.5
        ],
        [
         "Ish Smith",
         35,
         17.2,
         3.2,
         0.418,
         1.5,
         0.3,
         1.1
        ],
        [
         "Skylar Mays",
         26,
         11.4,
         4.1,
         0.396,
         0.9,
         0.3,
         0.5
        ],
        [
         "Ryan Rollins",
         21,
         6.6,
         4.1,
         0.52,
         0.9,
         0.2,
         0.7
        ],
        [
         "Mike Muscala",
         32,
         11.3,
         3.0,
         0.359,
         1.6,
         0.7,
         0.4
        ],
        [
         "Yuta Watanabe",
         29,
         13.2,
         3.6,
         0.361,
         1.2,
         0.4,
         0.6
        ],
        [
         "Matthew Hurt",
         23,
         14.1,
         4.0,
         0.353,
         0.9,
         1.1,
         0.3
        ],
        [
         "Yuta Watanabe",
         29,
         13.6,
         3.4,
         0.353,
         1.3,
         0.3,
         0.6
        ],
        [
         "Yuta Watanabe",
         29,
         16.4,
         2.6,
         0.316,
         1.8,
         0.0,
         0.6
        ],
        [
         "ThÃ©o Maledon",
         22,
         12.5,
         3.5,
         0.286,
         1.2,
         0.2,
         1.1
        ],
        [
         "Patty Mills",
         35,
         13.0,
         4.0,
         0.351,
         0.8,
         0.3,
         0.5
        ],
        [
         "Orlando Robinson",
         23,
         8.4,
         2.8,
         0.5,
         1.6,
         0.8,
         0.5
        ],
        [
         "Jalen McDaniels",
         26,
         10.8,
         3.4,
         0.344,
         1.2,
         0.4,
         0.6
        ],
        [
         "Dalen Terry",
         21,
         11.5,
         3.1,
         0.439,
         1.4,
         0.5,
         0.5
        ],
        [
         "Onuralp Bitim",
         24,
         11.7,
         3.5,
         0.381,
         1.1,
         0.3,
         0.4
        ],
        [
         "Jules Bernard",
         24,
         7.8,
         3.9,
         0.453,
         0.8,
         0.5,
         0.4
        ],
        [
         "Olivier-Maxence Prosper",
         21,
         8.4,
         3.0,
         0.385,
         1.4,
         0.6,
         0.2
        ],
        [
         "Mamadi Diakite",
         27,
         5.3,
         4.0,
         0.8,
         0.7,
         0.3,
         0.0
        ],
        [
         "Alex Len",
         30,
         9.3,
         2.5,
         0.617,
         1.7,
         1.0,
         0.6
        ],
        [
         "Jamaree Bouyea",
         24,
         10.6,
         2.3,
         0.357,
         1.8,
         0.3,
         1.0
        ],
        [
         "Jordan McLaughlin",
         27,
         11.2,
         3.5,
         0.483,
         1.0,
         0.3,
         0.3
        ],
        [
         "Jeremiah Robinson-Earl",
         23,
         8.6,
         2.9,
         0.474,
         1.4,
         0.6,
         0.4
        ],
        [
         "Jericho Sims",
         25,
         13.0,
         2.0,
         0.691,
         2.0,
         1.2,
         0.4
        ],
        [
         "Leaky Black",
         24,
         10.9,
         2.7,
         0.481,
         1.5,
         0.3,
         0.2
        ],
        [
         "Doug McDermott",
         32,
         11.3,
         4.2,
         0.406,
         0.5,
         0.1,
         0.2
        ],
        [
         "Lindy Waters III",
         26,
         7.4,
         3.6,
         0.471,
         0.9,
         0.2,
         0.2
        ],
        [
         "Jamal Cain",
         24,
         10.0,
         3.7,
         0.43,
         0.8,
         0.6,
         0.3
        ],
        [
         "Wesley Matthews",
         37,
         11.5,
         3.1,
         0.351,
         1.2,
         0.3,
         0.2
        ],
        [
         "Zeke Nnaji",
         23,
         9.9,
         3.2,
         0.463,
         1.1,
         1.1,
         0.5
        ],
        [
         "Otto Porter Jr.",
         30,
         11.6,
         2.6,
         0.424,
         1.5,
         0.4,
         0.1
        ],
        [
         "Olivier Sarr",
         24,
         6.5,
         2.3,
         0.579,
         1.7,
         0.7,
         0.2
        ],
        [
         "Ish Wainright",
         29,
         6.6,
         2.9,
         0.333,
         1.3,
         0.0,
         0.1
        ],
        [
         "Collin Gillespie",
         24,
         9.4,
         3.6,
         0.464,
         0.8,
         0.0,
         0.6
        ],
        [
         "Garrett Temple",
         37,
         10.7,
         3.3,
         0.372,
         1.0,
         0.7,
         0.5
        ],
        [
         "Oscar Tshiebwe",
         24,
         5.3,
         3.3,
         0.5,
         1.0,
         1.0,
         0.0
        ],
        [
         "Tosan Evbuomwan",
         22,
         18.5,
         2.5,
         0.267,
         1.5,
         2.0,
         0.3
        ],
        [
         "Luka Garza",
         25,
         4.9,
         4.0,
         0.48,
         0.5,
         0.8,
         0.2
        ],
        [
         "Harry Giles",
         25,
         5.1,
         3.4,
         0.5,
         0.9,
         0.8,
         0.4
        ],
        [
         "Kira Lewis Jr.",
         22,
         9.9,
         3.8,
         0.45,
         0.6,
         0.4,
         0.5
        ],
        [
         "Trevelin Queen",
         26,
         11.8,
         2.9,
         0.368,
         1.2,
         0.2,
         0.5
        ],
        [
         "Johnny Davis",
         21,
         12.3,
         3.0,
         0.403,
         1.1,
         0.4,
         0.3
        ],
        [
         "Jaden Springer",
         21,
         10.3,
         3.3,
         0.399,
         0.9,
         0.7,
         0.7
        ],
        [
         "Ryan Rollins",
         21,
         6.0,
         3.4,
         0.519,
         0.8,
         0.2,
         0.6
        ],
        [
         "A.J. Lawson",
         23,
         7.4,
         3.2,
         0.446,
         0.9,
         0.3,
         0.3
        ],
        [
         "James Bouknight",
         23,
         5.8,
         3.6,
         0.439,
         0.6,
         0.1,
         0.1
        ],
        [
         "Vasilije MiciÄ",
         30,
         12.0,
         3.3,
         0.407,
         0.8,
         0.0,
         1.0
        ],
        [
         "Dariq Whitehead",
         19,
         12.0,
         1.5,
         0.2,
         2.0,
         0.0,
         0.0
        ],
        [
         "Jack White",
         26,
         16.0,
         1.5,
         0.125,
         2.0,
         1.0,
         0.5
        ],
        [
         "Reggie Bullock",
         32,
         9.5,
         2.2,
         0.415,
         1.5,
         0.1,
         0.2
        ],
        [
         "Markieff Morris",
         34,
         8.3,
         2.5,
         0.338,
         1.3,
         0.2,
         0.5
        ],
        [
         "Buddy Boeheim",
         24,
         8.4,
         3.4,
         0.31,
         0.7,
         0.3,
         0.0
        ],
        [
         "P.J. Tucker",
         38,
         15.7,
         1.7,
         0.36,
         1.8,
         0.9,
         0.3
        ],
        [
         "Damian Jones",
         28,
         6.9,
         2.7,
         0.597,
         1.1,
         0.5,
         0.3
        ],
        [
         "Saben Lee",
         24,
         7.7,
         3.0,
         0.364,
         0.9,
         0.4,
         0.3
        ],
        [
         "Lamar Stevens",
         26,
         6.4,
         2.8,
         0.467,
         1.0,
         0.6,
         0.5
        ],
        [
         "Chuma Okeke",
         25,
         9.2,
         2.3,
         0.357,
         1.3,
         0.4,
         0.3
        ],
        [
         "Jordan Walsh",
         19,
         9.2,
         1.7,
         0.4,
         1.7,
         0.6,
         0.3
        ],
        [
         "Udoka Azubuike",
         24,
         7.1,
         2.2,
         0.696,
         1.3,
         0.7,
         0.3
        ],
        [
         "Drew Peterson",
         24,
         7.7,
         3.7,
         0.667,
         0.3,
         0.0,
         0.3
        ],
        [
         "Jason Preston",
         24,
         10.1,
         1.7,
         0.316,
         1.6,
         0.9,
         0.3
        ],
        [
         "Kira Lewis Jr.",
         22,
         9.5,
         3.2,
         0.37,
         0.6,
         0.3,
         0.5
        ],
        [
         "Emoni Bates",
         20,
         8.9,
         2.7,
         0.306,
         0.9,
         0.1,
         0.5
        ],
        [
         "Cody Zeller",
         31,
         7.4,
         1.8,
         0.419,
         1.5,
         1.1,
         0.4
        ],
        [
         "Greg Brown III",
         22,
         6.7,
         2.5,
         0.455,
         1.0,
         0.5,
         0.7
        ],
        [
         "Henri Drell",
         23,
         7.5,
         2.8,
         0.4,
         0.8,
         0.3,
         0.5
        ],
        [
         "Andre Jackson Jr.",
         22,
         10.0,
         2.2,
         0.5,
         1.2,
         0.8,
         0.5
        ],
        [
         "P.J. Tucker",
         38,
         15.0,
         1.6,
         0.356,
         1.6,
         1.0,
         0.2
        ],
        [
         "Kenneth Lofton Jr.",
         21,
         6.6,
         2.6,
         0.378,
         0.9,
         0.1,
         0.4
        ],
        [
         "Brandon Williams",
         24,
         6.6,
         3.2,
         0.37,
         0.5,
         0.2,
         0.4
        ],
        [
         "Thaddeus Young",
         35,
         8.9,
         2.3,
         0.524,
         1.1,
         1.7,
         0.4
        ],
        [
         "Kira Lewis Jr.",
         22,
         9.6,
         2.9,
         0.308,
         0.7,
         0.3,
         0.5
        ],
        [
         "Patty Mills",
         35,
         10.6,
         2.7,
         0.373,
         0.8,
         0.3,
         0.4
        ],
        [
         "Mouhamadou Gueye",
         25,
         10.9,
         2.4,
         0.289,
         1.0,
         1.1,
         1.1
        ],
        [
         "Trent Forrest",
         25,
         10.9,
         2.2,
         0.378,
         1.1,
         0.3,
         0.5
        ],
        [
         "Gabe Vincent",
         27,
         19.8,
         3.1,
         0.306,
         0.5,
         0.4,
         0.5
        ],
        [
         "Danilo Gallinari",
         35,
         9.1,
         2.8,
         0.378,
         0.7,
         0.4,
         0.6
        ],
        [
         "Moussa DiabatÃ©",
         22,
         5.8,
         2.6,
         0.526,
         0.8,
         1.4,
         0.2
        ],
        [
         "Dalano Banton",
         24,
         7.1,
         2.3,
         0.373,
         1.0,
         0.5,
         0.4
        ],
        [
         "Dereon Seabron",
         23,
         9.2,
         2.3,
         0.308,
         1.0,
         0.2,
         0.0
        ],
        [
         "Bismack Biyombo",
         31,
         7.3,
         1.8,
         0.583,
         1.3,
         0.5,
         0.4
        ],
        [
         "Cory Joseph",
         32,
         11.4,
         2.4,
         0.359,
         0.9,
         0.2,
         0.5
        ],
        [
         "Terquavion Smith",
         21,
         5.3,
         3.3,
         0.391,
         0.3,
         0.0,
         0.4
        ],
        [
         "Nate Hinton",
         24,
         5.0,
         2.2,
         0.423,
         1.0,
         0.5,
         0.2
        ],
        [
         "Dylan Windler",
         27,
         6.4,
         2.5,
         0.5,
         0.8,
         0.2,
         0.1
        ],
        [
         "Jamaree Bouyea",
         24,
         9.5,
         1.7,
         0.238,
         1.3,
         0.3,
         1.3
        ],
        [
         "Taj Gibson",
         38,
         10.2,
         1.7,
         0.405,
         1.3,
         0.6,
         0.3
        ],
        [
         "DÄvis BertÄns",
         31,
         6.1,
         2.9,
         0.385,
         0.5,
         0.1,
         0.1
        ],
        [
         "Jeenathan Williams",
         24,
         5.9,
         2.9,
         0.54,
         0.5,
         0.5,
         0.2
        ],
        [
         "Harry Giles",
         25,
         4.3,
         2.4,
         0.46,
         0.8,
         0.5,
         0.3
        ],
        [
         "AJ Griffin",
         20,
         8.6,
         2.4,
         0.29,
         0.8,
         0.1,
         0.4
        ],
        [
         "Ish Wainright",
         29,
         5.6,
         2.1,
         0.292,
         1.0,
         0.3,
         0.2
        ],
        [
         "Ibou Badji",
         21,
         10.3,
         1.5,
         0.636,
         1.4,
         0.9,
         0.7
        ],
        [
         "D.J. Carton",
         23,
         9.0,
         2.8,
         0.375,
         0.5,
         0.5,
         0.3
        ],
        [
         "Furkan Korkmaz",
         26,
         8.6,
         2.5,
         0.395,
         0.7,
         0.1,
         0.3
        ],
        [
         "Kobe Brown",
         24,
         9.0,
         2.0,
         0.411,
         1.0,
         0.5,
         0.2
        ],
        [
         "JD Davison",
         21,
         4.9,
         2.0,
         0.417,
         1.0,
         0.3,
         0.3
        ],
        [
         "Kevon Harris",
         26,
         3.0,
         2.0,
         0.667,
         1.0,
         0.0,
         0.5
        ],
        [
         "Xavier Moon",
         29,
         8.5,
         2.4,
         0.326,
         0.7,
         0.6,
         0.4
        ],
        [
         "Nathan Mensah",
         25,
         12.3,
         1.3,
         0.429,
         1.4,
         1.2,
         0.6
        ],
        [
         "Isaiah Mobley",
         24,
         7.2,
         2.3,
         0.417,
         0.7,
         0.3,
         0.2
        ],
        [
         "Colby Jones",
         21,
         6.4,
         2.1,
         0.394,
         0.8,
         0.6,
         0.3
        ],
        [
         "Joe Harris",
         32,
         10.6,
         2.4,
         0.359,
         0.6,
         0.2,
         0.3
        ],
        [
         "Shake Milton",
         27,
         4.5,
         1.8,
         0.444,
         1.0,
         0.0,
         0.0
        ],
        [
         "Kenneth Lofton Jr.",
         21,
         4.5,
         1.0,
         0.167,
         1.5,
         0.0,
         1.0
        ],
        [
         "Jaden Springer",
         21,
         7.6,
         2.1,
         0.433,
         0.7,
         0.5,
         0.5
        ],
        [
         "Julian Phillips",
         20,
         8.1,
         2.2,
         0.416,
         0.6,
         0.3,
         0.3
        ],
        [
         "Leonard Miller",
         20,
         3.1,
         1.7,
         0.65,
         0.9,
         0.3,
         0.1
        ],
        [
         "Justin Minaya",
         24,
         11.2,
         1.8,
         0.297,
         0.8,
         0.9,
         0.3
        ],
        [
         "Malachi Flynn",
         25,
         4.3,
         2.2,
         0.391,
         0.4,
         0.0,
         0.2
        ],
        [
         "Alex Fudge",
         20,
         6.7,
         2.5,
         0.4,
         0.2,
         0.7,
         0.3
        ],
        [
         "Amari Bailey",
         19,
         6.5,
         2.3,
         0.333,
         0.3,
         0.6,
         0.4
        ],
        [
         "Mamadi Diakite",
         27,
         4.0,
         2.0,
         0.667,
         0.5,
         0.2,
         0.2
        ],
        [
         "Cole Swider",
         24,
         4.8,
         2.3,
         0.395,
         0.3,
         0.1,
         0.4
        ],
        [
         "Taj Gibson",
         38,
         10.3,
         1.0,
         0.304,
         1.1,
         0.6,
         0.3
        ],
        [
         "Quenton Jackson",
         25,
         3.7,
         0.7,
         0.0,
         1.3,
         0.0,
         0.0
        ],
        [
         "Seth Lundy",
         23,
         5.8,
         1.6,
         0.235,
         0.7,
         0.1,
         0.1
        ],
        [
         "Mason Jones",
         25,
         5.6,
         1.4,
         0.25,
         0.8,
         0.2,
         0.4
        ],
        [
         "Kessler Edwards",
         23,
         5.1,
         1.7,
         0.415,
         0.6,
         0.2,
         0.1
        ],
        [
         "Chris Livingston",
         20,
         4.3,
         1.2,
         0.5,
         0.9,
         0.1,
         0.2
        ],
        [
         "Keita Bates-Diop",
         28,
         4.9,
         1.6,
         0.5,
         0.6,
         0.1,
         0.1
        ],
        [
         "Frank Ntilikina",
         25,
         8.6,
         1.0,
         0.111,
         1.0,
         0.2,
         0.2
        ],
        [
         "Jordan Ford",
         25,
         3.7,
         2.0,
         0.571,
         0.3,
         0.0,
         0.2
        ],
        [
         "Mike Muscala",
         32,
         5.7,
         1.1,
         0.364,
         0.9,
         0.4,
         0.3
        ],
        [
         "Jermaine Samuels",
         25,
         4.3,
         1.4,
         0.643,
         0.7,
         0.2,
         0.0
        ],
        [
         "Aleksej Pokusevski",
         22,
         6.0,
         1.2,
         0.25,
         0.8,
         0.2,
         0.3
        ],
        [
         "Terry Taylor",
         24,
         6.1,
         1.5,
         0.513,
         0.6,
         0.5,
         0.2
        ],
        [
         "Jalen Hood-Schifino",
         20,
         5.2,
         1.6,
         0.222,
         0.5,
         0.1,
         0.4
        ],
        [
         "Jalen Pickett",
         24,
         4.5,
         1.6,
         0.429,
         0.5,
         0.0,
         0.3
        ],
        [
         "Braxton Key",
         26,
         3.0,
         1.1,
         0.412,
         0.8,
         0.2,
         0.1
        ],
        [
         "Keyontae Johnson",
         23,
         7.3,
         1.2,
         0.313,
         0.7,
         0.4,
         0.4
        ],
        [
         "Josh Minott",
         21,
         2.8,
         1.6,
         0.472,
         0.4,
         0.1,
         0.1
        ],
        [
         "Colin Castleton",
         23,
         3.7,
         1.5,
         0.563,
         0.4,
         0.4,
         0.2
        ],
        [
         "Dylan Windler",
         27,
         3.5,
         1.5,
         0.444,
         0.4,
         0.0,
         0.0
        ],
        [
         "R.J. Hampton",
         22,
         9.5,
         1.3,
         0.286,
         0.5,
         0.3,
         0.4
        ],
        [
         "Jett Howard",
         20,
         3.7,
         1.6,
         0.333,
         0.3,
         0.1,
         0.2
        ],
        [
         "Jordan Miller",
         24,
         3.5,
         1.6,
         0.556,
         0.3,
         0.4,
         0.1
        ],
        [
         "David Roddy",
         22,
         3.7,
         1.3,
         0.435,
         0.5,
         0.1,
         0.2
        ],
        [
         "Ryan Rollins",
         21,
         4.0,
         1.0,
         0.5,
         0.7,
         0.0,
         0.3
        ],
        [
         "D'Moi Hodge",
         25,
         5.9,
         2.0,
         0.333,
         0.0,
         0.0,
         0.1
        ],
        [
         "Ty Jerome",
         26,
         7.5,
         2.0,
         0.5,
         0.0,
         0.5,
         0.5
        ],
        [
         "Markquis Nowell",
         24,
         4.0,
         2.0,
         0.0,
         0.0,
         2.0,
         0.0
        ],
        [
         "Admiral Schofield",
         26,
         3.7,
         1.1,
         0.385,
         0.6,
         0.1,
         0.2
        ],
        [
         "Daniel Theis",
         31,
         8.0,
         2.0,
         0.25,
         0.0,
         0.0,
         0.0
        ],
        [
         "Jacob Toppin",
         23,
         4.2,
         1.4,
         0.556,
         0.4,
         0.3,
         0.1
        ],
        [
         "Lindell Wigginton",
         25,
         2.7,
         2.0,
         0.4,
         0.0,
         0.0,
         0.3
        ],
        [
         "Isaiah Wong",
         23,
         4.0,
         2.0,
         0.333,
         0.0,
         0.0,
         0.0
        ],
        [
         "Daishen Nix",
         21,
         3.3,
         1.8,
         0.375,
         0.1,
         0.1,
         0.3
        ],
        [
         "Juan Toscano-Anderson",
         30,
         4.8,
         0.6,
         0.25,
         0.9,
         0.4,
         0.2
        ],
        [
         "Jay Huff",
         25,
         2.5,
         1.2,
         0.6,
         0.5,
         0.1,
         0.1
        ],
        [
         "TyTy Washington Jr.",
         22,
         5.1,
         1.3,
         0.3,
         0.4,
         0.1,
         0.2
        ],
        [
         "ThÃ©o Maledon",
         22,
         3.3,
         1.3,
         0.25,
         0.3,
         0.0,
         0.8
        ],
        [
         "Skylar Mays",
         26,
         4.5,
         1.3,
         0.476,
         0.3,
         0.1,
         0.1
        ],
        [
         "Shaquille Harrison",
         30,
         2.0,
         0.7,
         0.5,
         0.7,
         0.0,
         0.0
        ],
        [
         "Hunter Tyson",
         23,
         2.7,
         1.1,
         0.4,
         0.4,
         0.1,
         0.1
        ],
        [
         "Jerome Robinson",
         26,
         3.7,
         1.4,
         0.333,
         0.2,
         0.0,
         0.1
        ],
        [
         "Ish Wainright",
         29,
         4.0,
         0.8,
         0.167,
         0.5,
         0.8,
         0.3
        ],
        [
         "Kendall Brown",
         20,
         4.2,
         1.4,
         0.533,
         0.1,
         0.2,
         0.1
        ],
        [
         "Usman Garuba",
         21,
         3.0,
         0.5,
         0.167,
         0.7,
         0.5,
         0.3
        ],
        [
         "Marques Bolden",
         25,
         1.5,
         0.0,
         null,
         1.0,
         0.0,
         0.0
        ],
        [
         "Adam Flagler",
         24,
         7.0,
         1.5,
         0.143,
         0.0,
         0.0,
         0.0
        ],
        [
         "Kaiser Gates",
         27,
         7.0,
         0.0,
         0.0,
         1.0,
         0.0,
         0.0
        ],
        [
         "Danny Green",
         36,
         9.0,
         0.0,
         0.0,
         1.0,
         0.0,
         0.0
        ],
        [
         "Filip PetruÅ¡ev",
         23,
         3.0,
         0.0,
         null,
         1.0,
         0.0,
         0.0
        ],
        [
         "Filip PetruÅ¡ev",
         23,
         3.5,
         1.5,
         0.5,
         0.0,
         0.0,
         0.0
        ],
        [
         "Wendell Moore Jr.",
         22,
         3.0,
         0.7,
         0.5,
         0.5,
         0.0,
         0.2
        ],
        [
         "Filip PetruÅ¡ev",
         23,
         3.3,
         1.0,
         0.5,
         0.3,
         0.0,
         0.0
        ],
        [
         "Jalen Slawson",
         24,
         3.1,
         0.7,
         0.667,
         0.5,
         0.1,
         0.2
        ],
        [
         "Dylan Windler",
         27,
         2.3,
         1.0,
         0.5,
         0.3,
         0.0,
         0.0
        ],
        [
         "E.J. Liddell",
         23,
         2.9,
         0.5,
         0.167,
         0.6,
         0.0,
         0.3
        ],
        [
         "James Johnson",
         36,
         5.2,
         0.9,
         0.3,
         0.3,
         0.1,
         0.6
        ],
        [
         "Isaiah Thomas",
         34,
         3.2,
         1.3,
         0.3,
         0.0,
         0.0,
         0.0
        ],
        [
         "DaQuan Jeffries",
         26,
         2.7,
         0.8,
         0.353,
         0.3,
         0.0,
         0.2
        ],
        [
         "Robin Lopez",
         35,
         4.1,
         1.1,
         0.368,
         0.1,
         0.2,
         0.1
        ],
        [
         "Thanasis Antetokounmpo",
         31,
         4.6,
         0.9,
         0.533,
         0.2,
         0.2,
         0.4
        ],
        [
         "Harry Giles",
         25,
         2.7,
         0.3,
         0.167,
         0.6,
         0.0,
         0.0
        ],
        [
         "Pat Spencer",
         27,
         4.3,
         0.7,
         0.5,
         0.3,
         0.3,
         0.2
        ],
        [
         "Hamidou Diallo",
         25,
         2.5,
         1.0,
         0.5,
         0.0,
         1.0,
         0.5
        ],
        [
         "Alex Fudge",
         20,
         3.5,
         1.0,
         0.167,
         0.0,
         0.5,
         0.3
        ],
        [
         "Pete Nance",
         23,
         3.4,
         0.4,
         0.167,
         0.4,
         0.0,
         0.1
        ],
        [
         "Joshua Primo",
         21,
         5.0,
         1.0,
         0.333,
         0.0,
         0.5,
         2.0
        ],
        [
         "Charlie Brown Jr.",
         26,
         4.6,
         0.8,
         0.2,
         0.1,
         0.1,
         0.3
        ],
        [
         "Alondes Williams",
         24,
         2.3,
         0.7,
         0.25,
         0.1,
         0.0,
         0.3
        ],
        [
         "Jacob Gilyard",
         25,
         11.3,
         0.0,
         0.0,
         0.5,
         0.3,
         0.3
        ],
        [
         "Trey Jemison",
         24,
         0.5,
         0.0,
         null,
         0.5,
         0.0,
         0.5
        ],
        [
         "Ryan Arcidiacono",
         29,
         2.3,
         0.0,
         0.0,
         0.4,
         0.0,
         0.1
        ],
        [
         "Maxwell Lewis",
         21,
         3.0,
         0.3,
         0.19,
         0.1,
         0.1,
         0.3
        ],
        [
         "Darius Bazley",
         23,
         3.3,
         0.0,
         0.0,
         0.3,
         0.0,
         0.3
        ],
        [
         "Mamadi Diakite",
         27,
         2.7,
         0.0,
         0.0,
         0.3,
         0.0,
         0.3
        ],
        [
         "Malcolm Cazalon",
         22,
         3.0,
         0.0,
         null,
         0.0,
         0.0,
         0.0
        ],
        [
         "Jalen Crutcher",
         24,
         3.0,
         0.0,
         0.0,
         0.0,
         0.0,
         0.0
        ],
        [
         "Andrew Funk",
         24,
         2.6,
         0.0,
         0.0,
         0.0,
         0.0,
         0.0
        ],
        [
         "Ron Harper Jr.",
         23,
         4.0,
         0.0,
         null,
         0.0,
         0.0,
         0.0
        ],
        [
         "Justin Jackson",
         28,
         0.5,
         0.0,
         null,
         0.0,
         0.0,
         0.0
        ],
        [
         "Kira Lewis Jr.",
         22,
         2.0,
         0.0,
         null,
         0.0,
         0.0,
         0.0
        ],
        [
         "Dmytro Skapintsev",
         25,
         1.0,
         0.0,
         0.0,
         0.0,
         0.0,
         0.0
        ],
        [
         "Javonte Smart",
         24,
         1.0,
         0.0,
         null,
         0.0,
         0.0,
         0.0
        ]
       ],
       "datasetInfos": [],
       "dbfsResultPath": null,
       "isJsonSchema": true,
       "metadata": {},
       "overflow": false,
       "plotOptions": {
        "customPlotOptions": {},
        "displayType": "table",
        "pivotAggregation": null,
        "pivotColumns": null,
        "xColumns": null,
        "yColumns": null
       },
       "removedWidgets": [],
       "schema": [
        {
         "metadata": "{}",
         "name": "Player",
         "type": "\"string\""
        },
        {
         "metadata": "{}",
         "name": "Age",
         "type": "\"integer\""
        },
        {
         "metadata": "{}",
         "name": "MP",
         "type": "\"double\""
        },
        {
         "metadata": "{}",
         "name": "PTS",
         "type": "\"double\""
        },
        {
         "metadata": "{}",
         "name": "FGPerc",
         "type": "\"double\""
        },
        {
         "metadata": "{}",
         "name": "DRB",
         "type": "\"double\""
        },
        {
         "metadata": "{}",
         "name": "ORB",
         "type": "\"double\""
        },
        {
         "metadata": "{}",
         "name": "TOV",
         "type": "\"double\""
        }
       ],
       "type": "table"
      }
     },
     "output_type": "display_data"
    }
   ],
   "source": [
    "%sql\n",
    "SELECT\n",
    "  Player,\n",
    "    Age,\n",
    "    MP,\n",
    "    PTS,\n",
    "    FGPerc,\n",
    "    DRB,\n",
    "    ORB,\n",
    "    TOV\n",
    "FROM Dados_Jogadores_NBA_24\n",
    "ORDER BY (PTS + 1.5 * DRB) DESC;\n"
   ]
  },
  {
   "cell_type": "code",
   "execution_count": 0,
   "metadata": {
    "application/vnd.databricks.v1+cell": {
     "cellMetadata": {
      "byteLimit": 2048000,
      "implicitDf": true,
      "rowLimit": 10000
     },
     "inputWidgets": {},
     "nuid": "38214d88-6007-4961-87c5-3fd035a9aa5b",
     "showTitle": false,
     "title": ""
    }
   },
   "outputs": [
    {
     "output_type": "display_data",
     "data": {
      "text/html": [
       "<style scoped>\n",
       "  .table-result-container {\n",
       "    max-height: 300px;\n",
       "    overflow: auto;\n",
       "  }\n",
       "  table, th, td {\n",
       "    border: 1px solid black;\n",
       "    border-collapse: collapse;\n",
       "  }\n",
       "  th, td {\n",
       "    padding: 5px;\n",
       "  }\n",
       "  th {\n",
       "    text-align: left;\n",
       "  }\n",
       "</style><div class='table-result-container'><table class='table-result'><thead style='background-color: white'><tr><th>Player</th><th>Age</th><th>MP</th><th>PTS</th><th>FGPerc</th><th>DRB</th><th>ORB</th><th>TOV</th></tr></thead><tbody><tr><td>Joel Embiid</td><td>29</td><td>33.6</td><td>34.7</td><td>0.529</td><td>8.6</td><td>2.4</td><td>3.8</td></tr><tr><td>Luka DonÄiÄ</td><td>24</td><td>37.5</td><td>33.9</td><td>0.487</td><td>8.4</td><td>0.8</td><td>4.0</td></tr><tr><td>Giannis Antetokounmpo</td><td>29</td><td>35.2</td><td>30.4</td><td>0.611</td><td>8.8</td><td>2.7</td><td>3.4</td></tr><tr><td>Shai Gilgeous-Alexander</td><td>25</td><td>34.0</td><td>30.1</td><td>0.535</td><td>4.7</td><td>0.9</td><td>2.2</td></tr><tr><td>Nikola JokiÄ</td><td>28</td><td>34.6</td><td>26.4</td><td>0.583</td><td>9.5</td><td>2.8</td><td>3.0</td></tr><tr><td>Jayson Tatum</td><td>25</td><td>35.7</td><td>26.9</td><td>0.471</td><td>7.2</td><td>0.9</td><td>2.5</td></tr><tr><td>Kevin Durant</td><td>35</td><td>37.2</td><td>27.1</td><td>0.523</td><td>6.1</td><td>0.5</td><td>3.3</td></tr><tr><td>Anthony Davis</td><td>30</td><td>35.5</td><td>24.7</td><td>0.556</td><td>9.5</td><td>3.1</td><td>2.1</td></tr><tr><td>Jalen Brunson</td><td>27</td><td>35.4</td><td>28.7</td><td>0.479</td><td>3.1</td><td>0.6</td><td>2.4</td></tr><tr><td>LeBron James</td><td>39</td><td>35.3</td><td>25.7</td><td>0.54</td><td>6.4</td><td>0.9</td><td>3.5</td></tr><tr><td>Devin Booker</td><td>27</td><td>36.0</td><td>27.1</td><td>0.492</td><td>3.7</td><td>0.8</td><td>2.6</td></tr><tr><td>Donovan Mitchell</td><td>27</td><td>35.3</td><td>26.6</td><td>0.462</td><td>4.3</td><td>0.8</td><td>2.8</td></tr><tr><td>Anthony Edwards</td><td>22</td><td>35.1</td><td>25.9</td><td>0.461</td><td>4.8</td><td>0.7</td><td>3.1</td></tr><tr><td>De'Aaron Fox</td><td>26</td><td>35.9</td><td>26.6</td><td>0.465</td><td>3.7</td><td>0.9</td><td>2.6</td></tr><tr><td>Stephen Curry</td><td>35</td><td>32.7</td><td>26.4</td><td>0.45</td><td>4.0</td><td>0.5</td><td>2.8</td></tr><tr><td>Julius Randle</td><td>29</td><td>35.4</td><td>24.0</td><td>0.472</td><td>7.0</td><td>2.2</td><td>3.5</td></tr><tr><td>Kyrie Irving</td><td>31</td><td>35.0</td><td>25.6</td><td>0.497</td><td>4.2</td><td>0.8</td><td>1.8</td></tr><tr><td>Ja Morant</td><td>24</td><td>35.3</td><td>25.1</td><td>0.471</td><td>4.9</td><td>0.7</td><td>3.0</td></tr><tr><td>Tyrese Maxey</td><td>23</td><td>37.5</td><td>25.9</td><td>0.45</td><td>3.2</td><td>0.5</td><td>1.7</td></tr><tr><td>Trae Young</td><td>25</td><td>36.0</td><td>25.7</td><td>0.43</td><td>2.3</td><td>0.4</td><td>4.4</td></tr><tr><td>Lauri Markkanen</td><td>26</td><td>33.1</td><td>23.2</td><td>0.48</td><td>5.9</td><td>2.2</td><td>1.4</td></tr><tr><td>Victor Wembanyama</td><td>20</td><td>29.7</td><td>21.4</td><td>0.465</td><td>8.4</td><td>2.3</td><td>3.7</td></tr><tr><td>Kawhi Leonard</td><td>32</td><td>34.3</td><td>23.7</td><td>0.525</td><td>4.9</td><td>1.2</td><td>1.8</td></tr><tr><td>Damian Lillard</td><td>33</td><td>35.3</td><td>24.3</td><td>0.424</td><td>3.9</td><td>0.5</td><td>2.6</td></tr><tr><td>Paolo Banchero</td><td>21</td><td>35.0</td><td>22.6</td><td>0.455</td><td>5.9</td><td>1.0</td><td>3.1</td></tr><tr><td>DeMar DeRozan</td><td>34</td><td>37.8</td><td>24.0</td><td>0.48</td><td>3.8</td><td>0.5</td><td>1.7</td></tr><tr><td>LaMelo Ball</td><td>22</td><td>32.3</td><td>23.9</td><td>0.433</td><td>3.8</td><td>1.3</td><td>3.8</td></tr><tr><td>Karl-Anthony Towns</td><td>28</td><td>32.7</td><td>21.8</td><td>0.504</td><td>6.8</td><td>1.5</td><td>2.9</td></tr><tr><td>Domantas Sabonis</td><td>27</td><td>35.7</td><td>19.4</td><td>0.594</td><td>10.1</td><td>3.6</td><td>3.3</td></tr><tr><td>Desmond Bane</td><td>25</td><td>34.4</td><td>23.7</td><td>0.464</td><td>3.5</td><td>0.9</td><td>2.7</td></tr><tr><td>Kyle Kuzma</td><td>28</td><td>32.6</td><td>22.2</td><td>0.463</td><td>5.7</td><td>0.9</td><td>2.7</td></tr><tr><td>Jaylen Brown</td><td>27</td><td>33.5</td><td>23.0</td><td>0.499</td><td>4.3</td><td>1.2</td><td>2.4</td></tr><tr><td>Paul George</td><td>33</td><td>33.8</td><td>22.6</td><td>0.471</td><td>4.7</td><td>0.5</td><td>2.1</td></tr><tr><td>Zion Williamson</td><td>23</td><td>31.5</td><td>22.9</td><td>0.57</td><td>4.1</td><td>1.7</td><td>2.8</td></tr><tr><td>Dejounte Murray</td><td>27</td><td>35.7</td><td>22.5</td><td>0.459</td><td>4.5</td><td>0.8</td><td>2.6</td></tr><tr><td>Pascal Siakam</td><td>29</td><td>34.7</td><td>22.2</td><td>0.522</td><td>4.9</td><td>1.4</td><td>2.1</td></tr><tr><td>Terry Rozier</td><td>29</td><td>35.5</td><td>23.2</td><td>0.459</td><td>3.3</td><td>0.6</td><td>2.2</td></tr><tr><td>Alperen Sengun</td><td>21</td><td>32.5</td><td>21.1</td><td>0.537</td><td>6.4</td><td>2.9</td><td>2.6</td></tr><tr><td>RJ Barrett</td><td>23</td><td>33.5</td><td>21.8</td><td>0.553</td><td>5.3</td><td>1.1</td><td>2.5</td></tr><tr><td>Jaren Jackson Jr.</td><td>24</td><td>32.2</td><td>22.5</td><td>0.444</td><td>4.2</td><td>1.3</td><td>2.4</td></tr><tr><td>Cade Cunningham</td><td>22</td><td>33.5</td><td>22.7</td><td>0.449</td><td>3.8</td><td>0.5</td><td>3.4</td></tr><tr><td>Pascal Siakam</td><td>29</td><td>33.2</td><td>21.7</td><td>0.536</td><td>5.3</td><td>1.7</td><td>1.8</td></tr><tr><td>Miles Bridges</td><td>25</td><td>37.4</td><td>21.0</td><td>0.462</td><td>6.3</td><td>1.0</td><td>2.0</td></tr><tr><td>Pascal Siakam</td><td>29</td><td>31.8</td><td>21.3</td><td>0.549</td><td>5.7</td><td>2.1</td><td>1.4</td></tr><tr><td>Anfernee Simons</td><td>24</td><td>34.4</td><td>22.6</td><td>0.43</td><td>3.2</td><td>0.5</td><td>2.7</td></tr><tr><td>Bam Adebayo</td><td>26</td><td>34.0</td><td>19.3</td><td>0.521</td><td>8.1</td><td>2.2</td><td>2.3</td></tr><tr><td>Cam Thomas</td><td>22</td><td>31.4</td><td>22.5</td><td>0.442</td><td>2.8</td><td>0.4</td><td>1.9</td></tr><tr><td>Tyler Herro</td><td>24</td><td>33.5</td><td>20.8</td><td>0.441</td><td>4.8</td><td>0.5</td><td>2.2</td></tr><tr><td>Scottie Barnes</td><td>22</td><td>34.9</td><td>19.9</td><td>0.475</td><td>5.9</td><td>2.4</td><td>2.8</td></tr><tr><td>Kristaps PorziÅÄ£is</td><td>28</td><td>29.6</td><td>20.1</td><td>0.516</td><td>5.5</td><td>1.7</td><td>1.6</td></tr><tr><td>Brandon Ingram</td><td>26</td><td>32.9</td><td>20.8</td><td>0.492</td><td>4.4</td><td>0.7</td><td>2.5</td></tr><tr><td>Jamal Murray</td><td>26</td><td>31.5</td><td>21.2</td><td>0.481</td><td>3.4</td><td>0.7</td><td>2.1</td></tr><tr><td>Jimmy Butler</td><td>34</td><td>34.0</td><td>20.8</td><td>0.499</td><td>3.6</td><td>1.8</td><td>1.7</td></tr><tr><td>RJ Barrett</td><td>23</td><td>31.7</td><td>20.2</td><td>0.495</td><td>4.5</td><td>0.9</td><td>2.2</td></tr><tr><td>Nikola VuÄeviÄ</td><td>33</td><td>34.3</td><td>18.0</td><td>0.484</td><td>7.8</td><td>2.8</td><td>1.6</td></tr><tr><td>Jerami Grant</td><td>29</td><td>33.9</td><td>21.0</td><td>0.451</td><td>2.9</td><td>0.7</td><td>2.1</td></tr><tr><td>Jalen Green</td><td>21</td><td>31.7</td><td>19.6</td><td>0.423</td><td>4.7</td><td>0.5</td><td>2.3</td></tr><tr><td>Zach LaVine</td><td>28</td><td>34.9</td><td>19.5</td><td>0.452</td><td>4.8</td><td>0.3</td><td>2.1</td></tr><tr><td>Franz Wagner</td><td>22</td><td>32.5</td><td>19.7</td><td>0.482</td><td>4.3</td><td>1.0</td><td>1.9</td></tr><tr><td>CJ McCollum</td><td>32</td><td>32.7</td><td>20.0</td><td>0.459</td><td>3.7</td><td>0.6</td><td>1.7</td></tr><tr><td>Tyrese Haliburton</td><td>23</td><td>32.2</td><td>20.1</td><td>0.477</td><td>3.4</td><td>0.5</td><td>2.3</td></tr><tr><td>Terry Rozier</td><td>29</td><td>33.4</td><td>19.8</td><td>0.443</td><td>3.5</td><td>0.6</td><td>1.7</td></tr><tr><td>Bojan BogdanoviÄ</td><td>34</td><td>32.9</td><td>20.2</td><td>0.468</td><td>2.9</td><td>0.5</td><td>2.3</td></tr><tr><td>Mikal Bridges</td><td>27</td><td>34.8</td><td>19.6</td><td>0.436</td><td>3.7</td><td>0.8</td><td>2.0</td></tr><tr><td>Deandre Ayton</td><td>25</td><td>32.4</td><td>16.7</td><td>0.57</td><td>7.9</td><td>3.2</td><td>1.8</td></tr><tr><td>Coby White</td><td>23</td><td>36.5</td><td>19.1</td><td>0.447</td><td>4.0</td><td>0.6</td><td>2.1</td></tr><tr><td>Devin Vassell</td><td>23</td><td>33.1</td><td>19.5</td><td>0.472</td><td>3.4</td><td>0.4</td><td>1.6</td></tr><tr><td>Immanuel Quickley</td><td>24</td><td>33.3</td><td>18.6</td><td>0.422</td><td>4.5</td><td>0.3</td><td>1.8</td></tr><tr><td>Jalen Williams</td><td>22</td><td>31.3</td><td>19.1</td><td>0.54</td><td>3.5</td><td>0.5</td><td>1.7</td></tr><tr><td>Jarrett Allen</td><td>25</td><td>31.7</td><td>16.5</td><td>0.634</td><td>7.4</td><td>3.2</td><td>1.6</td></tr><tr><td>Jalen Johnson</td><td>22</td><td>33.7</td><td>16.0</td><td>0.511</td><td>7.4</td><td>1.3</td><td>1.8</td></tr><tr><td>Myles Turner</td><td>27</td><td>27.0</td><td>17.1</td><td>0.524</td><td>5.5</td><td>1.5</td><td>1.4</td></tr><tr><td>Tobias Harris</td><td>31</td><td>33.8</td><td>17.2</td><td>0.487</td><td>5.3</td><td>1.1</td><td>1.3</td></tr><tr><td>Chet Holmgren</td><td>21</td><td>29.4</td><td>16.5</td><td>0.53</td><td>6.3</td><td>1.6</td><td>1.6</td></tr><tr><td>RJ Barrett</td><td>23</td><td>29.5</td><td>18.2</td><td>0.423</td><td>3.5</td><td>0.7</td><td>1.8</td></tr><tr><td>Michael Porter Jr.</td><td>25</td><td>31.7</td><td>16.7</td><td>0.484</td><td>5.7</td><td>1.3</td><td>1.1</td></tr><tr><td>Bradley Beal</td><td>30</td><td>33.3</td><td>18.2</td><td>0.513</td><td>3.4</td><td>1.0</td><td>2.5</td></tr><tr><td>Evan Mobley</td><td>22</td><td>30.6</td><td>15.7</td><td>0.58</td><td>7.1</td><td>2.2</td><td>1.8</td></tr><tr><td>Rudy Gobert</td><td>31</td><td>34.1</td><td>14.0</td><td>0.661</td><td>9.2</td><td>3.8</td><td>1.6</td></tr><tr><td>Collin Sexton</td><td>25</td><td>26.6</td><td>18.7</td><td>0.487</td><td>1.7</td><td>0.9</td><td>2.1</td></tr><tr><td>D'Angelo Russell</td><td>27</td><td>32.7</td><td>18.0</td><td>0.456</td><td>2.7</td><td>0.4</td><td>2.1</td></tr><tr><td>Klay Thompson</td><td>33</td><td>29.7</td><td>17.9</td><td>0.432</td><td>2.8</td><td>0.5</td><td>1.5</td></tr><tr><td>James Harden</td><td>34</td><td>34.3</td><td>16.6</td><td>0.428</td><td>4.7</td><td>0.5</td><td>2.6</td></tr><tr><td>Fred VanVleet</td><td>29</td><td>36.8</td><td>17.4</td><td>0.416</td><td>3.4</td><td>0.5</td><td>1.7</td></tr><tr><td>Brandon Miller</td><td>21</td><td>32.2</td><td>17.3</td><td>0.44</td><td>3.4</td><td>0.8</td><td>1.8</td></tr><tr><td>Jalen Duren</td><td>20</td><td>29.1</td><td>13.8</td><td>0.619</td><td>8.5</td><td>3.1</td><td>2.1</td></tr><tr><td>Darius Garland</td><td>24</td><td>33.4</td><td>18.0</td><td>0.446</td><td>2.1</td><td>0.5</td><td>3.1</td></tr><tr><td>Immanuel Quickley</td><td>24</td><td>29.2</td><td>17.0</td><td>0.434</td><td>3.6</td><td>0.3</td><td>1.5</td></tr><tr><td>Dalano Banton</td><td>24</td><td>29.2</td><td>16.7</td><td>0.408</td><td>3.8</td><td>1.0</td><td>2.2</td></tr><tr><td>John Collins</td><td>26</td><td>28.0</td><td>15.1</td><td>0.532</td><td>6.1</td><td>2.3</td><td>1.4</td></tr><tr><td>Jordan Poole</td><td>24</td><td>30.1</td><td>17.4</td><td>0.413</td><td>2.3</td><td>0.4</td><td>2.4</td></tr><tr><td>Terry Rozier</td><td>29</td><td>31.5</td><td>16.4</td><td>0.423</td><td>3.6</td><td>0.6</td><td>1.3</td></tr><tr><td>Jordan Clarkson</td><td>31</td><td>30.6</td><td>17.1</td><td>0.413</td><td>2.5</td><td>0.9</td><td>2.7</td></tr><tr><td>Deni Avdija</td><td>23</td><td>30.1</td><td>14.7</td><td>0.506</td><td>6.1</td><td>1.1</td><td>2.1</td></tr><tr><td>Bogdan BogdanoviÄ</td><td>31</td><td>30.4</td><td>16.9</td><td>0.428</td><td>2.8</td><td>0.7</td><td>1.4</td></tr><tr><td>Jonathan Kuminga</td><td>21</td><td>26.3</td><td>16.1</td><td>0.529</td><td>3.6</td><td>1.2</td><td>1.6</td></tr><tr><td>Keldon Johnson</td><td>24</td><td>29.5</td><td>15.7</td><td>0.454</td><td>4.1</td><td>1.4</td><td>1.4</td></tr><tr><td>Shaedon Sharpe</td><td>20</td><td>33.1</td><td>15.9</td><td>0.406</td><td>3.7</td><td>1.3</td><td>2.3</td></tr><tr><td>Austin Reaves</td><td>25</td><td>32.1</td><td>15.9</td><td>0.486</td><td>3.6</td><td>0.7</td><td>2.1</td></tr><tr><td>Keegan Murray</td><td>23</td><td>33.6</td><td>15.2</td><td>0.454</td><td>4.1</td><td>1.4</td><td>0.8</td></tr><tr><td>Jabari Smith Jr.</td><td>20</td><td>31.9</td><td>13.7</td><td>0.454</td><td>6.3</td><td>1.8</td><td>1.2</td></tr><tr><td>De'Andre Hunter</td><td>26</td><td>29.5</td><td>15.6</td><td>0.459</td><td>3.4</td><td>0.5</td><td>1.5</td></tr><tr><td>Simone Fontecchio</td><td>28</td><td>30.3</td><td>15.4</td><td>0.479</td><td>3.6</td><td>0.8</td><td>1.1</td></tr><tr><td>Kelly Oubre Jr.</td><td>28</td><td>30.2</td><td>15.4</td><td>0.441</td><td>3.6</td><td>1.4</td><td>1.3</td></tr><tr><td>Malcolm Brogdon</td><td>31</td><td>28.7</td><td>15.7</td><td>0.44</td><td>3.1</td><td>0.7</td><td>1.5</td></tr><tr><td>Khris Middleton</td><td>32</td><td>27.0</td><td>15.1</td><td>0.493</td><td>3.9</td><td>0.7</td><td>2.3</td></tr><tr><td>Trey Murphy III</td><td>23</td><td>29.6</td><td>14.8</td><td>0.443</td><td>4.2</td><td>0.7</td><td>0.6</td></tr><tr><td>Bobby Portis</td><td>28</td><td>24.5</td><td>13.8</td><td>0.508</td><td>5.7</td><td>1.7</td><td>1.1</td></tr><tr><td>Derrick White</td><td>29</td><td>32.6</td><td>15.2</td><td>0.461</td><td>3.5</td><td>0.7</td><td>1.5</td></tr><tr><td>Donte DiVincenzo</td><td>27</td><td>29.1</td><td>15.5</td><td>0.443</td><td>2.9</td><td>0.8</td><td>1.4</td></tr><tr><td>Malik Monk</td><td>25</td><td>26.0</td><td>15.4</td><td>0.443</td><td>2.6</td><td>0.4</td><td>2.1</td></tr><tr><td>OG Anunoby</td><td>26</td><td>33.3</td><td>15.1</td><td>0.489</td><td>3.0</td><td>0.9</td><td>1.6</td></tr><tr><td>Gordon Hayward</td><td>33</td><td>31.9</td><td>14.5</td><td>0.468</td><td>3.7</td><td>1.0</td><td>2.0</td></tr><tr><td>Jaden Ivey</td><td>21</td><td>28.8</td><td>15.4</td><td>0.429</td><td>2.3</td><td>1.1</td><td>2.5</td></tr><tr><td>OG Anunoby</td><td>26</td><td>34.0</td><td>14.7</td><td>0.489</td><td>3.2</td><td>0.9</td><td>1.6</td></tr><tr><td>Bojan BogdanoviÄ</td><td>34</td><td>25.9</td><td>15.2</td><td>0.454</td><td>2.3</td><td>0.4</td><td>1.8</td></tr><tr><td>Aaron Gordon</td><td>28</td><td>31.5</td><td>13.9</td><td>0.556</td><td>4.1</td><td>2.4</td><td>1.4</td></tr><tr><td>Nic Claxton</td><td>24</td><td>29.8</td><td>11.8</td><td>0.629</td><td>7.2</td><td>2.7</td><td>1.3</td></tr><tr><td>GG Jackson II</td><td>19</td><td>25.7</td><td>14.6</td><td>0.428</td><td>3.0</td><td>1.1</td><td>1.4</td></tr><tr><td>Immanuel Quickley</td><td>24</td><td>24.0</td><td>15.0</td><td>0.454</td><td>2.4</td><td>0.2</td><td>1.0</td></tr><tr><td>Dennis SchrÃ¶der</td><td>30</td><td>32.0</td><td>14.6</td><td>0.424</td><td>2.9</td><td>0.6</td><td>2.4</td></tr><tr><td>Jonas ValanÄiÅ«nas</td><td>31</td><td>23.5</td><td>12.2</td><td>0.559</td><td>6.5</td><td>2.3</td><td>1.4</td></tr><tr><td>Mark Williams</td><td>22</td><td>26.7</td><td>12.7</td><td>0.649</td><td>5.7</td><td>4.0</td><td>0.9</td></tr><tr><td>Grant Williams</td><td>25</td><td>30.6</td><td>13.9</td><td>0.503</td><td>3.8</td><td>1.4</td><td>1.9</td></tr><tr><td>Bennedict Mathurin</td><td>21</td><td>26.1</td><td>14.5</td><td>0.446</td><td>2.9</td><td>1.0</td><td>1.6</td></tr><tr><td>Marvin Bagley III</td><td>24</td><td>24.0</td><td>13.3</td><td>0.581</td><td>4.6</td><td>3.5</td><td>1.3</td></tr><tr><td>Naz Reid</td><td>24</td><td>24.2</td><td>13.5</td><td>0.477</td><td>4.3</td><td>0.9</td><td>1.4</td></tr><tr><td>OG Anunoby</td><td>26</td><td>34.9</td><td>14.1</td><td>0.488</td><td>3.4</td><td>1.0</td><td>1.7</td></tr><tr><td>Tim Hardaway Jr.</td><td>31</td><td>26.8</td><td>14.4</td><td>0.402</td><td>2.9</td><td>0.3</td><td>0.9</td></tr><tr><td>Caris LeVert</td><td>29</td><td>28.8</td><td>14.0</td><td>0.421</td><td>3.5</td><td>0.6</td><td>1.7</td></tr><tr><td>P.J. Washington</td><td>25</td><td>29.2</td><td>13.6</td><td>0.446</td><td>4.1</td><td>1.2</td><td>1.5</td></tr><tr><td>Jusuf NurkiÄ</td><td>29</td><td>27.3</td><td>10.9</td><td>0.51</td><td>8.1</td><td>2.9</td><td>2.3</td></tr><tr><td>Saddiq Bey</td><td>24</td><td>32.7</td><td>13.7</td><td>0.416</td><td>3.9</td><td>2.7</td><td>0.9</td></tr><tr><td>Marcus Smart</td><td>29</td><td>30.3</td><td>14.5</td><td>0.43</td><td>2.4</td><td>0.3</td><td>3.1</td></tr><tr><td>Rui Hachimura</td><td>25</td><td>26.9</td><td>13.6</td><td>0.537</td><td>3.5</td><td>0.9</td><td>0.7</td></tr><tr><td>P.J. Washington</td><td>25</td><td>30.4</td><td>12.9</td><td>0.436</td><td>4.5</td><td>1.2</td><td>1.3</td></tr><tr><td>Ivica Zubac</td><td>26</td><td>26.4</td><td>11.7</td><td>0.649</td><td>6.3</td><td>2.9</td><td>1.2</td></tr><tr><td>Grayson Allen</td><td>28</td><td>33.5</td><td>13.5</td><td>0.499</td><td>3.3</td><td>0.6</td><td>1.3</td></tr><tr><td>Cameron Johnson</td><td>27</td><td>27.6</td><td>13.4</td><td>0.446</td><td>3.4</td><td>0.9</td><td>1.0</td></tr><tr><td>Dennis SchrÃ¶der</td><td>30</td><td>31.1</td><td>14.0</td><td>0.435</td><td>2.5</td><td>0.5</td><td>1.9</td></tr><tr><td>Javonte Green</td><td>30</td><td>25.6</td><td>12.2</td><td>0.6</td><td>5.2</td><td>2.2</td><td>0.8</td></tr><tr><td>Josh Giddey</td><td>21</td><td>25.1</td><td>12.3</td><td>0.475</td><td>5.0</td><td>1.4</td><td>2.1</td></tr><tr><td>Scoot Henderson</td><td>19</td><td>28.5</td><td>14.0</td><td>0.385</td><td>2.3</td><td>0.9</td><td>3.4</td></tr><tr><td>Clint Capela</td><td>29</td><td>25.8</td><td>11.5</td><td>0.571</td><td>6.0</td><td>4.6</td><td>1.0</td></tr><tr><td>Norman Powell</td><td>30</td><td>26.2</td><td>13.9</td><td>0.486</td><td>2.4</td><td>0.2</td><td>0.9</td></tr><tr><td>Kenneth Lofton Jr.</td><td>21</td><td>22.8</td><td>13.8</td><td>0.6</td><td>2.5</td><td>2.5</td><td>1.5</td></tr><tr><td>Kelly Olynyk</td><td>32</td><td>26.4</td><td>12.7</td><td>0.548</td><td>4.0</td><td>1.6</td><td>2.5</td></tr><tr><td>Jrue Holiday</td><td>33</td><td>32.8</td><td>12.5</td><td>0.48</td><td>4.2</td><td>1.2</td><td>1.8</td></tr><tr><td>Dennis SchrÃ¶der</td><td>30</td><td>30.6</td><td>13.7</td><td>0.442</td><td>2.3</td><td>0.4</td><td>1.6</td></tr><tr><td>Gary Trent Jr.</td><td>25</td><td>28.1</td><td>13.7</td><td>0.426</td><td>2.3</td><td>0.4</td><td>0.7</td></tr><tr><td>Andrew Wiggins</td><td>28</td><td>27.0</td><td>13.2</td><td>0.453</td><td>3.0</td><td>1.5</td><td>1.2</td></tr><tr><td>P.J. Washington</td><td>25</td><td>32.2</td><td>11.7</td><td>0.421</td><td>5.1</td><td>1.1</td><td>1.0</td></tr><tr><td>Corey Kispert</td><td>24</td><td>25.8</td><td>13.4</td><td>0.486</td><td>2.4</td><td>0.4</td><td>1.2</td></tr><tr><td>Brook Lopez</td><td>35</td><td>30.5</td><td>12.5</td><td>0.485</td><td>3.7</td><td>1.5</td><td>1.0</td></tr><tr><td>Jakob Poeltl</td><td>28</td><td>26.4</td><td>11.1</td><td>0.656</td><td>5.7</td><td>2.9</td><td>1.5</td></tr><tr><td>Max Strus</td><td>27</td><td>32.0</td><td>12.2</td><td>0.418</td><td>3.9</td><td>0.9</td><td>1.6</td></tr><tr><td>Keyonte George</td><td>20</td><td>27.0</td><td>13.0</td><td>0.391</td><td>2.6</td><td>0.2</td><td>2.5</td></tr><tr><td>Bruce Brown</td><td>27</td><td>29.7</td><td>12.1</td><td>0.475</td><td>3.9</td><td>0.8</td><td>1.2</td></tr><tr><td>Jeremy Sochan</td><td>20</td><td>29.6</td><td>11.6</td><td>0.438</td><td>4.6</td><td>1.9</td><td>1.9</td></tr><tr><td>Tre Mann</td><td>22</td><td>31.0</td><td>11.9</td><td>0.453</td><td>3.9</td><td>0.6</td><td>2.0</td></tr><tr><td>Dillon Brooks</td><td>28</td><td>30.9</td><td>12.7</td><td>0.428</td><td>2.7</td><td>0.7</td><td>1.2</td></tr><tr><td>Spencer Dinwiddie</td><td>30</td><td>30.7</td><td>12.6</td><td>0.391</td><td>2.8</td><td>0.5</td><td>1.3</td></tr><tr><td>Duncan Robinson</td><td>29</td><td>28.0</td><td>12.9</td><td>0.45</td><td>2.3</td><td>0.2</td><td>1.4</td></tr><tr><td>Daniel Gafford</td><td>25</td><td>24.5</td><td>11.0</td><td>0.725</td><td>5.0</td><td>2.6</td><td>1.0</td></tr><tr><td>Daniel Gafford</td><td>25</td><td>21.5</td><td>11.2</td><td>0.78</td><td>4.7</td><td>2.2</td><td>1.0</td></tr><tr><td>Daniel Gafford</td><td>25</td><td>26.5</td><td>10.9</td><td>0.69</td><td>5.1</td><td>2.9</td><td>1.0</td></tr><tr><td>Scotty Pippen Jr.</td><td>23</td><td>25.1</td><td>12.9</td><td>0.493</td><td>2.1</td><td>1.0</td><td>2.7</td></tr><tr><td>Wendell Carter Jr.</td><td>24</td><td>25.6</td><td>11.0</td><td>0.525</td><td>4.9</td><td>2.0</td><td>1.2</td></tr><tr><td>Isaiah Stewart</td><td>22</td><td>30.9</td><td>10.9</td><td>0.487</td><td>5.0</td><td>1.6</td><td>1.4</td></tr><tr><td>Cam Whitmore</td><td>19</td><td>18.7</td><td>12.3</td><td>0.454</td><td>2.9</td><td>0.9</td><td>1.0</td></tr><tr><td>Jalen Suggs</td><td>22</td><td>27.0</td><td>12.6</td><td>0.471</td><td>2.4</td><td>0.6</td><td>1.8</td></tr><tr><td>Aaron Nesmith</td><td>24</td><td>27.7</td><td>12.2</td><td>0.496</td><td>2.9</td><td>0.9</td><td>0.9</td></tr><tr><td>Marvin Bagley III</td><td>24</td><td>21.1</td><td>11.7</td><td>0.586</td><td>3.6</td><td>2.6</td><td>1.2</td></tr><tr><td>Alec Burks</td><td>32</td><td>21.0</td><td>12.6</td><td>0.394</td><td>2.2</td><td>0.4</td><td>0.7</td></tr><tr><td>Lamar Stevens</td><td>26</td><td>23.0</td><td>11.5</td><td>0.446</td><td>3.8</td><td>1.3</td><td>0.8</td></tr><tr><td>Josh Hart</td><td>28</td><td>33.4</td><td>9.4</td><td>0.434</td><td>6.8</td><td>1.6</td><td>1.5</td></tr><tr><td>Santi Aldama</td><td>23</td><td>26.5</td><td>10.7</td><td>0.435</td><td>4.6</td><td>1.2</td><td>1.1</td></tr><tr><td>Buddy Hield</td><td>31</td><td>25.7</td><td>12.1</td><td>0.436</td><td>2.5</td><td>0.7</td><td>1.2</td></tr><tr><td>Buddy Hield</td><td>31</td><td>25.7</td><td>12.0</td><td>0.443</td><td>2.6</td><td>0.7</td><td>1.2</td></tr><tr><td>Buddy Hield</td><td>31</td><td>25.8</td><td>12.2</td><td>0.426</td><td>2.3</td><td>0.8</td><td>1.3</td></tr><tr><td>Jaime Jaquez Jr.</td><td>22</td><td>28.2</td><td>11.9</td><td>0.489</td><td>2.7</td><td>1.1</td><td>1.5</td></tr><tr><td>Chimezie Metu</td><td>26</td><td>29.4</td><td>10.5</td><td>0.5</td><td>4.8</td><td>1.2</td><td>1.8</td></tr><tr><td>Harrison Barnes</td><td>31</td><td>29.0</td><td>12.2</td><td>0.474</td><td>2.2</td><td>0.8</td><td>0.7</td></tr><tr><td>Zach Collins</td><td>26</td><td>22.1</td><td>11.2</td><td>0.484</td><td>3.7</td><td>1.7</td><td>1.9</td></tr><tr><td>Cole Anthony</td><td>23</td><td>22.4</td><td>11.6</td><td>0.435</td><td>3.0</td><td>0.8</td><td>1.6</td></tr><tr><td>Ayo Dosunmu</td><td>24</td><td>29.1</td><td>12.2</td><td>0.501</td><td>2.1</td><td>0.7</td><td>1.4</td></tr><tr><td>Tyus Jones</td><td>27</td><td>29.3</td><td>12.0</td><td>0.489</td><td>2.4</td><td>0.3</td><td>1.0</td></tr><tr><td>Russell Westbrook</td><td>35</td><td>22.5</td><td>11.1</td><td>0.454</td><td>3.7</td><td>1.4</td><td>2.1</td></tr><tr><td>Jordan Goodwin</td><td>25</td><td>29.2</td><td>10.0</td><td>0.349</td><td>5.2</td><td>2.8</td><td>1.6</td></tr><tr><td>Malik Beasley</td><td>27</td><td>29.6</td><td>11.3</td><td>0.443</td><td>3.2</td><td>0.5</td><td>0.7</td></tr><tr><td>Brandon Clarke</td><td>27</td><td>22.3</td><td>11.3</td><td>0.559</td><td>3.2</td><td>2.2</td><td>0.5</td></tr><tr><td>Nick Richards</td><td>26</td><td>26.3</td><td>9.7</td><td>0.691</td><td>5.5</td><td>2.6</td><td>1.1</td></tr><tr><td>De'Anthony Melton</td><td>25</td><td>26.9</td><td>11.1</td><td>0.386</td><td>3.0</td><td>0.7</td><td>1.0</td></tr><tr><td>Bruce Brown</td><td>27</td><td>27.9</td><td>10.8</td><td>0.478</td><td>3.4</td><td>0.8</td><td>1.3</td></tr><tr><td>Tari Eason</td><td>22</td><td>21.8</td><td>9.8</td><td>0.466</td><td>4.9</td><td>2.1</td><td>0.9</td></tr><tr><td>Mike Conley</td><td>36</td><td>28.9</td><td>11.4</td><td>0.457</td><td>2.4</td><td>0.5</td><td>1.3</td></tr><tr><td>Onyeka Okongwu</td><td>23</td><td>25.5</td><td>10.2</td><td>0.611</td><td>4.2</td><td>2.6</td><td>0.8</td></tr><tr><td>Vince Williams Jr.</td><td>23</td><td>27.6</td><td>10.0</td><td>0.446</td><td>4.4</td><td>1.1</td><td>1.8</td></tr><tr><td>Moritz Wagner</td><td>26</td><td>17.7</td><td>10.9</td><td>0.601</td><td>2.9</td><td>1.5</td><td>1.2</td></tr><tr><td>Herbert Jones</td><td>25</td><td>30.5</td><td>11.0</td><td>0.498</td><td>2.6</td><td>1.0</td><td>1.2</td></tr><tr><td>Luke Kennard</td><td>27</td><td>25.6</td><td>11.0</td><td>0.448</td><td>2.6</td><td>0.3</td><td>1.4</td></tr><tr><td>Luguentz Dort</td><td>24</td><td>28.4</td><td>10.9</td><td>0.438</td><td>2.7</td><td>0.9</td><td>0.9</td></tr><tr><td>Draymond Green</td><td>33</td><td>27.1</td><td>8.6</td><td>0.497</td><td>5.9</td><td>1.4</td><td>2.5</td></tr><tr><td>Kelly Olynyk</td><td>32</td><td>22.6</td><td>9.8</td><td>0.555</td><td>3.9</td><td>1.4</td><td>1.9</td></tr><tr><td>Simone Fontecchio</td><td>28</td><td>24.9</td><td>10.5</td><td>0.46</td><td>2.8</td><td>1.0</td><td>1.0</td></tr><tr><td>Jalen Smith</td><td>23</td><td>17.2</td><td>9.9</td><td>0.592</td><td>3.7</td><td>1.8</td><td>0.7</td></tr><tr><td>Grant Williams</td><td>25</td><td>28.0</td><td>10.3</td><td>0.456</td><td>3.1</td><td>1.1</td><td>1.4</td></tr><tr><td>Amen Thompson</td><td>21</td><td>22.4</td><td>9.5</td><td>0.536</td><td>4.2</td><td>2.4</td><td>1.5</td></tr><tr><td>Jake LaRavia</td><td>22</td><td>23.0</td><td>10.8</td><td>0.389</td><td>2.2</td><td>1.5</td><td>1.3</td></tr><tr><td>Obi Toppin</td><td>25</td><td>21.1</td><td>10.3</td><td>0.573</td><td>2.9</td><td>1.0</td><td>0.8</td></tr><tr><td>Jabari Walker</td><td>21</td><td>23.6</td><td>8.9</td><td>0.46</td><td>5.0</td><td>2.1</td><td>0.9</td></tr><tr><td>Kevin Love</td><td>35</td><td>16.8</td><td>8.8</td><td>0.44</td><td>5.1</td><td>1.1</td><td>0.9</td></tr><tr><td>Andre Drummond</td><td>30</td><td>17.1</td><td>8.4</td><td>0.556</td><td>5.6</td><td>3.4</td><td>1.0</td></tr><tr><td>Kevin Huerter</td><td>25</td><td>24.4</td><td>10.2</td><td>0.443</td><td>2.9</td><td>0.6</td><td>0.8</td></tr><tr><td>Caleb Martin</td><td>28</td><td>27.4</td><td>10.0</td><td>0.431</td><td>3.2</td><td>1.2</td><td>1.2</td></tr><tr><td>Alex Caruso</td><td>29</td><td>28.7</td><td>10.1</td><td>0.468</td><td>3.0</td><td>0.9</td><td>1.4</td></tr><tr><td>Eric Gordon</td><td>35</td><td>27.8</td><td>11.0</td><td>0.443</td><td>1.6</td><td>0.2</td><td>1.1</td></tr><tr><td>Marvin Bagley III</td><td>24</td><td>18.4</td><td>10.2</td><td>0.591</td><td>2.8</td><td>1.8</td><td>1.1</td></tr><tr><td>Spencer Dinwiddie</td><td>30</td><td>28.3</td><td>10.5</td><td>0.392</td><td>2.3</td><td>0.4</td><td>1.2</td></tr><tr><td>Jaden McDaniels</td><td>23</td><td>29.2</td><td>10.5</td><td>0.489</td><td>2.3</td><td>0.8</td><td>1.2</td></tr><tr><td>Al Horford</td><td>37</td><td>26.8</td><td>8.6</td><td>0.511</td><td>5.1</td><td>1.3</td><td>0.7</td></tr><tr><td>Tre Jones</td><td>24</td><td>27.8</td><td>10.0</td><td>0.505</td><td>3.0</td><td>0.8</td><td>1.5</td></tr><tr><td>Brandin Podziemski</td><td>20</td><td>26.6</td><td>9.2</td><td>0.454</td><td>4.2</td><td>1.6</td><td>1.2</td></tr><tr><td>Dalano Banton</td><td>24</td><td>19.4</td><td>10.3</td><td>0.404</td><td>2.5</td><td>0.8</td><td>1.4</td></tr><tr><td>Vasilije MiciÄ</td><td>30</td><td>27.2</td><td>10.8</td><td>0.437</td><td>1.7</td><td>0.4</td><td>2.3</td></tr><tr><td>Patrick Williams</td><td>22</td><td>27.3</td><td>10.0</td><td>0.443</td><td>2.8</td><td>1.1</td><td>1.3</td></tr><tr><td>Dereck Lively II</td><td>19</td><td>23.5</td><td>8.8</td><td>0.747</td><td>4.4</td><td>2.5</td><td>0.9</td></tr><tr><td>Alec Burks</td><td>32</td><td>18.4</td><td>10.4</td><td>0.369</td><td>1.9</td><td>0.4</td><td>0.7</td></tr><tr><td>Gordon Hayward</td><td>33</td><td>24.4</td><td>9.8</td><td>0.464</td><td>2.8</td><td>0.7</td><td>1.3</td></tr><tr><td>T.J. McConnell</td><td>31</td><td>18.2</td><td>10.2</td><td>0.556</td><td>2.2</td><td>0.5</td><td>1.5</td></tr><tr><td>Ausar Thompson</td><td>21</td><td>25.1</td><td>8.8</td><td>0.483</td><td>4.3</td><td>2.0</td><td>1.3</td></tr><tr><td>Bruce Brown</td><td>27</td><td>26.0</td><td>9.6</td><td>0.481</td><td>3.0</td><td>0.8</td><td>1.3</td></tr><tr><td>Chris Paul</td><td>38</td><td>26.4</td><td>9.2</td><td>0.441</td><td>3.6</td><td>0.3</td><td>1.3</td></tr><tr><td>Bojan BogdanoviÄ</td><td>34</td><td>19.2</td><td>10.4</td><td>0.43</td><td>1.7</td><td>0.3</td><td>1.3</td></tr><tr><td>Josh Richardson</td><td>30</td><td>25.7</td><td>9.9</td><td>0.444</td><td>2.4</td><td>0.4</td><td>0.8</td></tr><tr><td>Georges Niang</td><td>30</td><td>22.3</td><td>9.4</td><td>0.449</td><td>3.1</td><td>0.3</td><td>0.9</td></tr><tr><td>Kentavious Caldwell-Pope</td><td>30</td><td>31.6</td><td>10.1</td><td>0.46</td><td>2.0</td><td>0.4</td><td>1.0</td></tr><tr><td>Talen Horton-Tucker</td><td>23</td><td>19.8</td><td>10.1</td><td>0.396</td><td>2.0</td><td>0.4</td><td>1.3</td></tr><tr><td>Tre Mann</td><td>22</td><td>24.1</td><td>9.3</td><td>0.459</td><td>3.1</td><td>0.5</td><td>1.6</td></tr><tr><td>Walker Kessler</td><td>22</td><td>23.3</td><td>8.1</td><td>0.654</td><td>4.9</td><td>2.6</td><td>1.0</td></tr><tr><td>Isaiah Hartenstein</td><td>25</td><td>25.3</td><td>7.8</td><td>0.644</td><td>5.1</td><td>3.3</td><td>1.2</td></tr><tr><td>Reggie Jackson</td><td>33</td><td>22.2</td><td>10.2</td><td>0.431</td><td>1.5</td><td>0.4</td><td>1.3</td></tr><tr><td>Payton Pritchard</td><td>26</td><td>22.3</td><td>9.6</td><td>0.468</td><td>2.4</td><td>0.9</td><td>0.7</td></tr><tr><td>Royce O'Neale</td><td>30</td><td>25.1</td><td>8.1</td><td>0.411</td><td>4.5</td><td>0.7</td><td>0.7</td></tr><tr><td>Lonnie Walker IV</td><td>25</td><td>17.4</td><td>9.7</td><td>0.423</td><td>2.0</td><td>0.2</td><td>0.9</td></tr><tr><td>Sam Hauser</td><td>26</td><td>22.0</td><td>9.0</td><td>0.446</td><td>2.9</td><td>0.6</td><td>0.4</td></tr><tr><td>Isaac Okoro</td><td>23</td><td>27.3</td><td>9.4</td><td>0.49</td><td>2.0</td><td>1.0</td><td>0.8</td></tr><tr><td>Taurean Prince</td><td>29</td><td>27.0</td><td>8.9</td><td>0.442</td><td>2.7</td><td>0.3</td><td>0.9</td></tr><tr><td>Kelly Olynyk</td><td>32</td><td>20.4</td><td>8.1</td><td>0.562</td><td>3.8</td><td>1.3</td><td>1.6</td></tr><tr><td>Duop Reath</td><td>27</td><td>17.9</td><td>9.1</td><td>0.461</td><td>2.3</td><td>1.4</td><td>0.8</td></tr><tr><td>Simone Fontecchio</td><td>28</td><td>23.2</td><td>8.9</td><td>0.45</td><td>2.5</td><td>1.0</td><td>1.0</td></tr><tr><td>Dorian Finney-Smith</td><td>30</td><td>28.4</td><td>8.5</td><td>0.421</td><td>3.1</td><td>1.6</td><td>0.9</td></tr><tr><td>Bilal Coulibaly</td><td>19</td><td>27.2</td><td>8.4</td><td>0.435</td><td>3.2</td><td>0.9</td><td>1.4</td></tr><tr><td>Tristan Vukcevic</td><td>20</td><td>15.3</td><td>8.5</td><td>0.433</td><td>3.0</td><td>0.6</td><td>1.0</td></tr><tr><td>David Roddy</td><td>22</td><td>23.2</td><td>8.4</td><td>0.402</td><td>3.1</td><td>1.1</td><td>1.1</td></tr><tr><td>Precious Achiuwa</td><td>24</td><td>24.2</td><td>7.6</td><td>0.525</td><td>4.3</td><td>2.9</td><td>1.1</td></tr><tr><td>Royce O'Neale</td><td>30</td><td>24.7</td><td>7.7</td><td>0.397</td><td>4.0</td><td>0.8</td><td>0.9</td></tr><tr><td>Terance Mann</td><td>27</td><td>25.0</td><td>8.8</td><td>0.515</td><td>2.2</td><td>1.2</td><td>0.6</td></tr><tr><td>Precious Achiuwa</td><td>24</td><td>21.9</td><td>7.6</td><td>0.501</td><td>4.0</td><td>2.6</td><td>1.1</td></tr><tr><td>Malaki Branham</td><td>20</td><td>21.3</td><td>9.2</td><td>0.432</td><td>1.6</td><td>0.4</td><td>1.2</td></tr><tr><td>Dario Å ariÄ</td><td>29</td><td>17.2</td><td>8.0</td><td>0.466</td><td>3.3</td><td>1.1</td><td>1.2</td></tr><tr><td>Andrew Nembhard</td><td>24</td><td>25.0</td><td>9.2</td><td>0.498</td><td>1.5</td><td>0.5</td><td>1.5</td></tr><tr><td>Cameron Payne</td><td>29</td><td>19.4</td><td>9.3</td><td>0.413</td><td>1.3</td><td>0.5</td><td>1.1</td></tr><tr><td>Darius Bazley</td><td>23</td><td>23.7</td><td>8.0</td><td>0.621</td><td>3.2</td><td>1.3</td><td>1.2</td></tr><tr><td>Nikola JoviÄ</td><td>20</td><td>19.5</td><td>7.7</td><td>0.452</td><td>3.6</td><td>0.5</td><td>0.9</td></tr><tr><td>Seth Curry</td><td>33</td><td>19.9</td><td>9.0</td><td>0.441</td><td>1.6</td><td>0.4</td><td>0.6</td></tr><tr><td>Derrick Jones Jr.</td><td>26</td><td>23.5</td><td>8.6</td><td>0.483</td><td>2.2</td><td>1.1</td><td>0.9</td></tr><tr><td>Kyle Lowry</td><td>37</td><td>28.0</td><td>8.2</td><td>0.426</td><td>2.8</td><td>0.7</td><td>1.4</td></tr><tr><td>Ziaire Williams</td><td>22</td><td>20.4</td><td>8.2</td><td>0.397</td><td>2.8</td><td>0.7</td><td>1.3</td></tr><tr><td>Danilo Gallinari</td><td>35</td><td>15.0</td><td>8.7</td><td>0.545</td><td>2.0</td><td>0.3</td><td>0.2</td></tr><tr><td>Ben Simmons</td><td>27</td><td>23.9</td><td>6.1</td><td>0.581</td><td>5.9</td><td>2.1</td><td>1.8</td></tr><tr><td>Precious Achiuwa</td><td>24</td><td>17.5</td><td>7.7</td><td>0.459</td><td>3.4</td><td>2.0</td><td>1.2</td></tr><tr><td>Trayce Jackson-Davis</td><td>23</td><td>16.6</td><td>7.9</td><td>0.702</td><td>3.0</td><td>2.0</td><td>0.7</td></tr><tr><td>Kyle Lowry</td><td>37</td><td>28.2</td><td>8.1</td><td>0.432</td><td>2.7</td><td>0.6</td><td>1.4</td></tr><tr><td>DÄvis BertÄns</td><td>31</td><td>20.8</td><td>8.8</td><td>0.394</td><td>1.6</td><td>0.3</td><td>0.6</td></tr><tr><td>Royce O'Neale</td><td>30</td><td>24.5</td><td>7.4</td><td>0.388</td><td>3.7</td><td>0.8</td><td>1.0</td></tr><tr><td>Josh Green</td><td>23</td><td>26.4</td><td>8.2</td><td>0.479</td><td>2.5</td><td>0.7</td><td>1.1</td></tr><tr><td>Grant Williams</td><td>25</td><td>26.4</td><td>8.1</td><td>0.413</td><td>2.6</td><td>1.0</td><td>1.1</td></tr><tr><td>Aleksej Pokusevski</td><td>22</td><td>19.2</td><td>7.4</td><td>0.429</td><td>3.6</td><td>0.8</td><td>0.9</td></tr><tr><td>Robert Williams</td><td>26</td><td>19.8</td><td>6.8</td><td>0.654</td><td>4.5</td><td>1.8</td><td>1.2</td></tr><tr><td>Jordan Nwora</td><td>25</td><td>15.6</td><td>7.9</td><td>0.465</td><td>2.8</td><td>0.6</td><td>1.2</td></tr><tr><td>Christian Wood</td><td>28</td><td>17.4</td><td>6.9</td><td>0.466</td><td>4.3</td><td>0.8</td><td>1.0</td></tr><tr><td>Gradey Dick</td><td>20</td><td>21.1</td><td>8.5</td><td>0.425</td><td>1.8</td><td>0.5</td><td>0.8</td></tr><tr><td>Richaun Holmes</td><td>30</td><td>18.7</td><td>7.1</td><td>0.557</td><td>3.9</td><td>2.2</td><td>0.7</td></tr><tr><td>Paul Reed</td><td>24</td><td>19.4</td><td>7.3</td><td>0.54</td><td>3.6</td><td>2.4</td><td>0.8</td></tr><tr><td>Taylor Hendricks</td><td>20</td><td>21.4</td><td>7.3</td><td>0.45</td><td>3.5</td><td>1.2</td><td>0.7</td></tr><tr><td>Cody Martin</td><td>28</td><td>26.9</td><td>7.5</td><td>0.381</td><td>3.2</td><td>0.7</td><td>1.6</td></tr><tr><td>Kyle Lowry</td><td>37</td><td>28.4</td><td>8.0</td><td>0.444</td><td>2.4</td><td>0.4</td><td>1.4</td></tr><tr><td>James Wiseman</td><td>22</td><td>17.3</td><td>7.1</td><td>0.613</td><td>3.6</td><td>1.7</td><td>1.0</td></tr><tr><td>Trey Lyles</td><td>28</td><td>20.0</td><td>7.2</td><td>0.445</td><td>3.4</td><td>1.1</td><td>0.7</td></tr><tr><td>Isaiah Joe</td><td>24</td><td>18.5</td><td>8.2</td><td>0.458</td><td>1.9</td><td>0.4</td><td>0.6</td></tr><tr><td>Toumani Camara</td><td>23</td><td>24.8</td><td>7.5</td><td>0.45</td><td>2.9</td><td>2.0</td><td>1.2</td></tr><tr><td>Moses Moody</td><td>21</td><td>17.5</td><td>8.1</td><td>0.462</td><td>2.0</td><td>1.0</td><td>0.7</td></tr><tr><td>Trey Jemison</td><td>24</td><td>24.9</td><td>7.4</td><td>0.551</td><td>3.0</td><td>2.8</td><td>1.4</td></tr><tr><td>MÃ£ozinha Pereira</td><td>23</td><td>17.4</td><td>6.9</td><td>0.514</td><td>3.7</td><td>1.6</td><td>0.7</td></tr><tr><td>Marcus Sasser</td><td>23</td><td>19.0</td><td>8.3</td><td>0.428</td><td>1.6</td><td>0.2</td><td>1.3</td></tr><tr><td>Dante Exum</td><td>28</td><td>19.8</td><td>7.8</td><td>0.533</td><td>2.3</td><td>0.5</td><td>0.9</td></tr><tr><td>Brice Sensabaugh</td><td>20</td><td>18.3</td><td>7.5</td><td>0.39</td><td>2.7</td><td>0.5</td><td>1.5</td></tr><tr><td>Day'Ron Sharpe</td><td>22</td><td>15.1</td><td>6.8</td><td>0.571</td><td>3.7</td><td>2.6</td><td>1.1</td></tr><tr><td>Christian Braun</td><td>22</td><td>20.2</td><td>7.3</td><td>0.46</td><td>2.8</td><td>1.0</td><td>0.7</td></tr><tr><td>Nickeil Alexander-Walker</td><td>25</td><td>23.4</td><td>8.0</td><td>0.439</td><td>1.6</td><td>0.4</td><td>0.9</td></tr><tr><td>Markelle Fultz</td><td>25</td><td>21.2</td><td>7.8</td><td>0.472</td><td>1.9</td><td>1.3</td><td>1.2</td></tr><tr><td>Sam Merrill</td><td>27</td><td>17.5</td><td>8.0</td><td>0.402</td><td>1.6</td><td>0.4</td><td>0.3</td></tr><tr><td>Derrick Rose</td><td>35</td><td>16.6</td><td>8.0</td><td>0.461</td><td>1.6</td><td>0.3</td><td>1.3</td></tr><tr><td>Malachi Flynn</td><td>25</td><td>14.3</td><td>8.0</td><td>0.43</td><td>1.5</td><td>0.3</td><td>1.1</td></tr><tr><td>Jordan Hawkins</td><td>21</td><td>17.3</td><td>7.8</td><td>0.382</td><td>1.8</td><td>0.4</td><td>0.6</td></tr><tr><td>Miles McBride</td><td>23</td><td>19.5</td><td>8.3</td><td>0.452</td><td>1.0</td><td>0.5</td><td>0.4</td></tr><tr><td>Naji Marshall</td><td>26</td><td>19.0</td><td>7.1</td><td>0.463</td><td>2.8</td><td>0.8</td><td>1.0</td></tr><tr><td>Jonathan Isaac</td><td>26</td><td>15.8</td><td>6.8</td><td>0.51</td><td>3.2</td><td>1.3</td><td>0.5</td></tr><tr><td>Tosan Evbuomwan</td><td>22</td><td>22.5</td><td>7.0</td><td>0.571</td><td>2.8</td><td>0.8</td><td>0.6</td></tr><tr><td>RaiQuan Gray</td><td>24</td><td>13.0</td><td>7.7</td><td>0.588</td><td>1.7</td><td>0.7</td><td>0.3</td></tr><tr><td>Lamar Stevens</td><td>26</td><td>14.7</td><td>7.2</td><td>0.45</td><td>2.4</td><td>0.9</td><td>0.6</td></tr><tr><td>Jaylen Nowell</td><td>24</td><td>14.5</td><td>7.5</td><td>0.522</td><td>1.8</td><td>0.8</td><td>0.5</td></tr><tr><td>Javon Freeman-Liberty</td><td>24</td><td>18.3</td><td>7.0</td><td>0.444</td><td>2.5</td><td>0.7</td><td>1.1</td></tr><tr><td>Danilo Gallinari</td><td>35</td><td>14.8</td><td>7.0</td><td>0.435</td><td>2.5</td><td>0.5</td><td>0.5</td></tr><tr><td>Trey Jemison</td><td>24</td><td>22.9</td><td>6.8</td><td>0.551</td><td>2.8</td><td>2.6</td><td>1.4</td></tr><tr><td>Shake Milton</td><td>27</td><td>15.8</td><td>6.8</td><td>0.423</td><td>2.8</td><td>1.8</td><td>0.8</td></tr><tr><td>Killian Hayes</td><td>22</td><td>24.0</td><td>6.9</td><td>0.413</td><td>2.6</td><td>0.3</td><td>1.2</td></tr><tr><td>Jordan Nwora</td><td>25</td><td>13.7</td><td>7.0</td><td>0.462</td><td>2.3</td><td>0.5</td><td>1.0</td></tr><tr><td>Chimezie Metu</td><td>26</td><td>16.8</td><td>6.5</td><td>0.504</td><td>3.0</td><td>0.8</td><td>1.0</td></tr><tr><td>Trendon Watford</td><td>23</td><td>13.6</td><td>6.9</td><td>0.527</td><td>2.3</td><td>0.8</td><td>1.0</td></tr><tr><td>Jordan Goodwin</td><td>25</td><td>18.5</td><td>6.5</td><td>0.369</td><td>2.9</td><td>1.5</td><td>1.0</td></tr><tr><td>Jahmi'us Ramsey</td><td>22</td><td>17.3</td><td>6.7</td><td>0.439</td><td>2.6</td><td>0.6</td><td>1.0</td></tr><tr><td>Kevin Knox</td><td>24</td><td>18.1</td><td>7.2</td><td>0.462</td><td>1.8</td><td>0.6</td><td>0.7</td></tr><tr><td>Marcus Morris</td><td>34</td><td>17.2</td><td>6.7</td><td>0.439</td><td>2.5</td><td>0.5</td><td>0.5</td></tr><tr><td>Peyton Watson</td><td>21</td><td>18.6</td><td>6.7</td><td>0.465</td><td>2.5</td><td>0.7</td><td>0.7</td></tr><tr><td>Quentin Grimes</td><td>23</td><td>20.2</td><td>7.3</td><td>0.395</td><td>1.6</td><td>0.3</td><td>0.5</td></tr><tr><td>Chris Boucher</td><td>31</td><td>14.1</td><td>6.4</td><td>0.507</td><td>2.9</td><td>1.2</td><td>0.6</td></tr><tr><td>Evan Fournier</td><td>31</td><td>18.7</td><td>7.2</td><td>0.373</td><td>1.7</td><td>0.2</td><td>0.7</td></tr><tr><td>Jose Alvarado</td><td>25</td><td>18.4</td><td>7.1</td><td>0.412</td><td>1.8</td><td>0.4</td><td>0.7</td></tr><tr><td>Bruno Fernando</td><td>25</td><td>15.2</td><td>6.3</td><td>0.583</td><td>3.0</td><td>1.3</td><td>1.0</td></tr><tr><td>Jaden Hardy</td><td>21</td><td>13.5</td><td>7.3</td><td>0.407</td><td>1.5</td><td>0.3</td><td>0.8</td></tr><tr><td>Julian Champagnie</td><td>22</td><td>19.8</td><td>6.8</td><td>0.408</td><td>2.2</td><td>0.6</td><td>0.8</td></tr><tr><td>Cedi Osman</td><td>28</td><td>17.6</td><td>6.8</td><td>0.479</td><td>2.2</td><td>0.3</td><td>0.7</td></tr><tr><td>Kyle Anderson</td><td>30</td><td>22.6</td><td>6.4</td><td>0.46</td><td>2.7</td><td>0.8</td><td>1.2</td></tr><tr><td>Bismack Biyombo</td><td>31</td><td>23.9</td><td>5.2</td><td>0.563</td><td>4.5</td><td>1.9</td><td>1.3</td></tr><tr><td>Johnny Juzang</td><td>22</td><td>18.6</td><td>7.2</td><td>0.464</td><td>1.5</td><td>0.4</td><td>0.7</td></tr><tr><td>Cameron Payne</td><td>29</td><td>16.7</td><td>7.4</td><td>0.432</td><td>1.2</td><td>0.3</td><td>0.8</td></tr><tr><td>Mitchell Robinson</td><td>25</td><td>24.8</td><td>5.6</td><td>0.575</td><td>3.9</td><td>4.6</td><td>0.8</td></tr><tr><td>Quentin Grimes</td><td>23</td><td>20.1</td><td>7.0</td><td>0.372</td><td>1.7</td><td>0.3</td><td>0.5</td></tr><tr><td>Isaiah Jackson</td><td>22</td><td>13.1</td><td>6.5</td><td>0.665</td><td>2.4</td><td>1.6</td><td>0.7</td></tr><tr><td>David Roddy</td><td>22</td><td>18.1</td><td>6.5</td><td>0.403</td><td>2.4</td><td>0.8</td><td>0.9</td></tr><tr><td>Daniel Theis</td><td>31</td><td>16.9</td><td>6.3</td><td>0.532</td><td>2.7</td><td>1.4</td><td>0.7</td></tr><tr><td>Daniel Theis</td><td>31</td><td>17.1</td><td>6.3</td><td>0.536</td><td>2.7</td><td>1.4</td><td>0.7</td></tr><tr><td>Evan Fournier</td><td>31</td><td>18.1</td><td>6.9</td><td>0.357</td><td>1.7</td><td>0.2</td><td>0.7</td></tr><tr><td>Larry Nance Jr.</td><td>31</td><td>19.9</td><td>5.7</td><td>0.573</td><td>3.5</td><td>1.5</td><td>0.8</td></tr><tr><td>Xavier Tillman Sr.</td><td>25</td><td>20.6</td><td>6.0</td><td>0.408</td><td>3.0</td><td>1.6</td><td>0.9</td></tr><tr><td>Ochai Agbaji</td><td>23</td><td>23.6</td><td>6.7</td><td>0.391</td><td>1.9</td><td>1.4</td><td>1.1</td></tr><tr><td>Aaron Wiggins</td><td>25</td><td>15.7</td><td>6.9</td><td>0.562</td><td>1.6</td><td>0.8</td><td>0.7</td></tr><tr><td>Marcus Morris</td><td>34</td><td>16.7</td><td>6.4</td><td>0.439</td><td>2.3</td><td>0.5</td><td>0.6</td></tr><tr><td>Patrick Beverley</td><td>35</td><td>20.0</td><td>6.2</td><td>0.417</td><td>2.6</td><td>0.7</td><td>0.9</td></tr><tr><td>Patrick Beverley</td><td>35</td><td>20.9</td><td>6.0</td><td>0.391</td><td>2.9</td><td>0.7</td><td>0.6</td></tr><tr><td>Jae Crowder</td><td>33</td><td>23.1</td><td>6.2</td><td>0.422</td><td>2.6</td><td>0.6</td><td>0.5</td></tr><tr><td>Dennis Smith Jr.</td><td>26</td><td>18.9</td><td>6.6</td><td>0.435</td><td>2.0</td><td>0.9</td><td>1.2</td></tr><tr><td>Patrick Beverley</td><td>35</td><td>19.6</td><td>6.3</td><td>0.432</td><td>2.4</td><td>0.6</td><td>1.0</td></tr><tr><td>Cason Wallace</td><td>20</td><td>20.6</td><td>6.8</td><td>0.491</td><td>1.6</td><td>0.6</td><td>0.5</td></tr><tr><td>Bones Hyland</td><td>23</td><td>14.6</td><td>6.9</td><td>0.386</td><td>1.4</td><td>0.1</td><td>1.2</td></tr><tr><td>David Duke Jr.</td><td>24</td><td>12.8</td><td>6.5</td><td>0.556</td><td>2.0</td><td>0.5</td><td>0.8</td></tr><tr><td>Mason Plumlee</td><td>33</td><td>14.7</td><td>5.3</td><td>0.569</td><td>3.8</td><td>1.3</td><td>0.8</td></tr><tr><td>Spencer Dinwiddie</td><td>30</td><td>24.2</td><td>6.8</td><td>0.397</td><td>1.5</td><td>0.1</td><td>1.0</td></tr><tr><td>Vasilije MiciÄ</td><td>30</td><td>19.6</td><td>7.0</td><td>0.43</td><td>1.2</td><td>0.2</td><td>1.7</td></tr><tr><td>Landry Shamet</td><td>26</td><td>15.8</td><td>7.1</td><td>0.431</td><td>1.0</td><td>0.3</td><td>0.7</td></tr><tr><td>Dyson Daniels</td><td>20</td><td>22.3</td><td>5.8</td><td>0.447</td><td>2.9</td><td>1.0</td><td>1.0</td></tr><tr><td>Amir Coffey</td><td>26</td><td>20.9</td><td>6.6</td><td>0.472</td><td>1.7</td><td>0.4</td><td>0.5</td></tr><tr><td>Gary Harris</td><td>29</td><td>24.0</td><td>6.9</td><td>0.441</td><td>1.2</td><td>0.4</td><td>0.6</td></tr><tr><td>Dean Wade</td><td>27</td><td>20.5</td><td>5.4</td><td>0.414</td><td>3.4</td><td>0.7</td><td>0.4</td></tr><tr><td>Jeff Green</td><td>37</td><td>16.8</td><td>6.5</td><td>0.456</td><td>1.7</td><td>0.6</td><td>0.6</td></tr><tr><td>Torrey Craig</td><td>33</td><td>19.8</td><td>5.7</td><td>0.43</td><td>2.8</td><td>1.3</td><td>0.6</td></tr><tr><td>Tosan Evbuomwan</td><td>22</td><td>21.6</td><td>5.9</td><td>0.507</td><td>2.5</td><td>1.1</td><td>0.5</td></tr><tr><td>Haywood Highsmith</td><td>27</td><td>20.7</td><td>6.1</td><td>0.465</td><td>2.2</td><td>1.0</td><td>0.5</td></tr><tr><td>Kris Murray</td><td>23</td><td>21.7</td><td>6.1</td><td>0.396</td><td>2.2</td><td>1.4</td><td>0.9</td></tr><tr><td>Zavier Simpson</td><td>26</td><td>23.0</td><td>6.0</td><td>0.315</td><td>2.3</td><td>0.6</td><td>1.4</td></tr><tr><td>Nicolas Batum</td><td>35</td><td>25.9</td><td>5.5</td><td>0.456</td><td>3.0</td><td>1.2</td><td>0.7</td></tr><tr><td>DÄvis BertÄns</td><td>31</td><td>15.7</td><td>6.7</td><td>0.393</td><td>1.2</td><td>0.2</td><td>0.4</td></tr><tr><td>Thomas Bryant</td><td>26</td><td>11.6</td><td>5.7</td><td>0.577</td><td>2.7</td><td>1.1</td><td>0.6</td></tr><tr><td>Aaron Holiday</td><td>27</td><td>16.3</td><td>6.6</td><td>0.446</td><td>1.3</td><td>0.3</td><td>0.7</td></tr><tr><td>DeJon Jarreau</td><td>26</td><td>16.7</td><td>4.8</td><td>0.34</td><td>4.0</td><td>0.9</td><td>1.0</td></tr><tr><td>Justin Champagnie</td><td>22</td><td>15.7</td><td>5.9</td><td>0.41</td><td>2.3</td><td>1.3</td><td>0.7</td></tr><tr><td>Alec Burks</td><td>32</td><td>13.5</td><td>6.5</td><td>0.307</td><td>1.4</td><td>0.3</td><td>0.7</td></tr><tr><td>Jarred Vanderbilt</td><td>24</td><td>20.0</td><td>5.2</td><td>0.518</td><td>3.3</td><td>1.4</td><td>1.0</td></tr><tr><td>Noah Clowney</td><td>19</td><td>16.1</td><td>5.8</td><td>0.538</td><td>2.4</td><td>1.1</td><td>0.7</td></tr><tr><td>Vit Krejci</td><td>23</td><td>24.6</td><td>6.1</td><td>0.49</td><td>1.9</td><td>0.5</td><td>0.9</td></tr><tr><td>Nicolas Batum</td><td>35</td><td>25.5</td><td>5.3</td><td>0.453</td><td>3.0</td><td>1.2</td><td>0.7</td></tr><tr><td>Pat Connaughton</td><td>31</td><td>22.1</td><td>5.6</td><td>0.435</td><td>2.5</td><td>0.7</td><td>0.6</td></tr><tr><td>Skylar Mays</td><td>26</td><td>17.0</td><td>6.3</td><td>0.384</td><td>1.3</td><td>0.4</td><td>0.9</td></tr><tr><td>Neemias Queta</td><td>24</td><td>11.9</td><td>5.5</td><td>0.644</td><td>2.5</td><td>1.9</td><td>0.5</td></tr><tr><td>Jaylen Nowell</td><td>24</td><td>16.5</td><td>6.2</td><td>0.436</td><td>1.4</td><td>0.5</td><td>0.5</td></tr><tr><td>Jared Butler</td><td>23</td><td>14.2</td><td>6.3</td><td>0.488</td><td>1.2</td><td>0.2</td><td>1.3</td></tr><tr><td>Drew Eubanks</td><td>26</td><td>15.6</td><td>5.1</td><td>0.601</td><td>2.9</td><td>1.4</td><td>0.8</td></tr><tr><td>Xavier Tillman Sr.</td><td>25</td><td>18.0</td><td>5.3</td><td>0.434</td><td>2.6</td><td>1.3</td><td>0.6</td></tr><tr><td>Ochai Agbaji</td><td>23</td><td>21.0</td><td>5.8</td><td>0.411</td><td>1.8</td><td>0.9</td><td>0.8</td></tr><tr><td>Cameron Payne</td><td>29</td><td>14.9</td><td>6.2</td><td>0.455</td><td>1.2</td><td>0.1</td><td>0.7</td></tr><tr><td>Kevon Looney</td><td>27</td><td>16.1</td><td>4.5</td><td>0.597</td><td>3.7</td><td>1.9</td><td>0.7</td></tr><tr><td>Goga Bitadze</td><td>24</td><td>15.4</td><td>5.0</td><td>0.603</td><td>2.9</td><td>1.8</td><td>0.7</td></tr><tr><td>Aleksej Pokusevski</td><td>22</td><td>14.5</td><td>5.2</td><td>0.405</td><td>2.6</td><td>0.6</td><td>0.7</td></tr><tr><td>Marcus Morris</td><td>34</td><td>15.0</td><td>5.8</td><td>0.441</td><td>1.7</td><td>0.4</td><td>0.9</td></tr><tr><td>Danilo Gallinari</td><td>35</td><td>12.9</td><td>5.7</td><td>0.437</td><td>1.8</td><td>0.4</td><td>0.5</td></tr><tr><td>Bismack Biyombo</td><td>31</td><td>19.8</td><td>4.4</td><td>0.565</td><td>3.7</td><td>1.6</td><td>1.1</td></tr><tr><td>Richaun Holmes</td><td>30</td><td>13.9</td><td>5.0</td><td>0.558</td><td>2.8</td><td>1.8</td><td>0.6</td></tr><tr><td>Dexter Dennis</td><td>24</td><td>7.5</td><td>5.5</td><td>0.526</td><td>2.0</td><td>0.3</td><td>0.8</td></tr><tr><td>Luke Kornet</td><td>28</td><td>15.6</td><td>5.3</td><td>0.7</td><td>2.3</td><td>1.9</td><td>0.3</td></tr><tr><td>Bol Bol</td><td>24</td><td>10.9</td><td>5.2</td><td>0.616</td><td>2.4</td><td>0.7</td><td>0.4</td></tr><tr><td>Kris Dunn</td><td>29</td><td>18.9</td><td>5.4</td><td>0.47</td><td>2.1</td><td>0.8</td><td>1.2</td></tr><tr><td>Darius Bazley</td><td>23</td><td>16.9</td><td>5.3</td><td>0.6</td><td>2.2</td><td>0.9</td><td>0.9</td></tr><tr><td>Keon Johnson</td><td>21</td><td>12.2</td><td>6.2</td><td>0.381</td><td>0.8</td><td>0.6</td><td>1.0</td></tr><tr><td>Craig Porter Jr.</td><td>23</td><td>12.7</td><td>5.6</td><td>0.509</td><td>1.7</td><td>0.4</td><td>0.9</td></tr><tr><td>Nick Smith Jr.</td><td>19</td><td>14.3</td><td>5.9</td><td>0.391</td><td>1.1</td><td>0.4</td><td>0.8</td></tr><tr><td>Gordon Hayward</td><td>33</td><td>17.2</td><td>5.3</td><td>0.453</td><td>2.0</td><td>0.5</td><td>0.6</td></tr><tr><td>Ochai Agbaji</td><td>23</td><td>19.7</td><td>5.4</td><td>0.426</td><td>1.8</td><td>0.7</td><td>0.7</td></tr><tr><td>Doug McDermott</td><td>32</td><td>15.2</td><td>6.0</td><td>0.442</td><td>0.9</td><td>0.2</td><td>0.5</td></tr><tr><td>John Konchar</td><td>27</td><td>21.3</td><td>4.3</td><td>0.423</td><td>3.4</td><td>1.3</td><td>0.8</td></tr><tr><td>Chimezie Metu</td><td>26</td><td>12.1</td><td>5.0</td><td>0.508</td><td>2.3</td><td>0.6</td><td>0.7</td></tr><tr><td>Quentin Grimes</td><td>23</td><td>19.2</td><td>5.3</td><td>0.214</td><td>1.8</td><td>0.2</td><td>1.2</td></tr><tr><td>Jaylen Nowell</td><td>24</td><td>17.3</td><td>5.7</td><td>0.4</td><td>1.2</td><td>0.3</td><td>0.6</td></tr><tr><td>Gary Payton II</td><td>31</td><td>15.5</td><td>5.5</td><td>0.563</td><td>1.5</td><td>1.0</td><td>0.6</td></tr><tr><td>Stanley Umude</td><td>24</td><td>12.8</td><td>5.3</td><td>0.44</td><td>1.8</td><td>0.3</td><td>0.6</td></tr><tr><td>Keon Ellis</td><td>24</td><td>17.2</td><td>5.4</td><td>0.461</td><td>1.6</td><td>0.6</td><td>0.6</td></tr><tr><td>Matisse Thybulle</td><td>26</td><td>22.9</td><td>5.4</td><td>0.397</td><td>1.6</td><td>0.5</td><td>0.6</td></tr><tr><td>Sasha Vezenkov</td><td>28</td><td>12.2</td><td>5.4</td><td>0.44</td><td>1.6</td><td>0.7</td><td>0.3</td></tr><tr><td>Omer Yurtseven</td><td>25</td><td>11.4</td><td>4.6</td><td>0.538</td><td>2.8</td><td>1.5</td><td>0.8</td></tr><tr><td>Cam Reddish</td><td>24</td><td>20.5</td><td>5.4</td><td>0.389</td><td>1.5</td><td>0.6</td><td>0.6</td></tr><tr><td>Delon Wright</td><td>31</td><td>20.4</td><td>5.4</td><td>0.394</td><td>1.5</td><td>0.4</td><td>0.2</td></tr><tr><td>Malachi Flynn</td><td>25</td><td>12.7</td><td>5.5</td><td>0.418</td><td>1.3</td><td>0.3</td><td>0.9</td></tr><tr><td>Patty Mills</td><td>35</td><td>16.4</td><td>5.8</td><td>0.338</td><td>0.8</td><td>0.3</td><td>0.6</td></tr><tr><td>Jalen Wilson</td><td>23</td><td>15.4</td><td>5.0</td><td>0.425</td><td>2.0</td><td>1.1</td><td>0.4</td></tr><tr><td>Thaddeus Young</td><td>35</td><td>15.2</td><td>5.0</td><td>0.621</td><td>2.0</td><td>1.3</td><td>0.5</td></tr><tr><td>Patrick Baldwin Jr.</td><td>21</td><td>13.0</td><td>4.4</td><td>0.381</td><td>2.8</td><td>0.4</td><td>0.5</td></tr><tr><td>Mo Bamba</td><td>25</td><td>13.0</td><td>4.4</td><td>0.49</td><td>2.8</td><td>1.4</td><td>0.7</td></tr><tr><td>Jordan Goodwin</td><td>25</td><td>14.0</td><td>5.0</td><td>0.389</td><td>1.9</td><td>1.0</td><td>0.7</td></tr><tr><td>Malachi Flynn</td><td>25</td><td>15.3</td><td>5.1</td><td>0.409</td><td>1.7</td><td>0.4</td><td>1.1</td></tr><tr><td>Matt Ryan</td><td>26</td><td>13.9</td><td>5.4</td><td>0.434</td><td>1.2</td><td>0.2</td><td>0.7</td></tr><tr><td>Maxi Kleber</td><td>32</td><td>20.3</td><td>4.4</td><td>0.432</td><td>2.6</td><td>0.7</td><td>0.7</td></tr><tr><td>Jordan Nwora</td><td>25</td><td>10.2</td><td>5.2</td><td>0.451</td><td>1.4</td><td>0.4</td><td>0.7</td></tr><tr><td>Jared Rhoden</td><td>24</td><td>14.4</td><td>4.9</td><td>0.5</td><td>1.8</td><td>0.2</td><td>0.4</td></tr><tr><td>Kenrich Williams</td><td>29</td><td>14.9</td><td>4.7</td><td>0.468</td><td>2.1</td><td>0.9</td><td>0.5</td></tr><tr><td>Monte Morris</td><td>28</td><td>15.1</td><td>5.1</td><td>0.417</td><td>1.5</td><td>0.2</td><td>0.2</td></tr><tr><td>Troy Brown Jr.</td><td>24</td><td>19.0</td><td>4.2</td><td>0.296</td><td>2.8</td><td>0.5</td><td>0.5</td></tr><tr><td>Ricky Council IV</td><td>22</td><td>9.0</td><td>5.4</td><td>0.482</td><td>1.0</td><td>0.4</td><td>0.2</td></tr><tr><td>Robert Covington</td><td>33</td><td>16.1</td><td>4.5</td><td>0.449</td><td>2.3</td><td>1.1</td><td>0.4</td></tr><tr><td>Doug McDermott</td><td>32</td><td>14.1</td><td>5.5</td><td>0.433</td><td>0.8</td><td>0.2</td><td>0.4</td></tr><tr><td>Bryce McGowens</td><td>21</td><td>14.9</td><td>5.1</td><td>0.439</td><td>1.4</td><td>0.3</td><td>0.5</td></tr><tr><td>Davion Mitchell</td><td>25</td><td>15.3</td><td>5.3</td><td>0.452</td><td>1.1</td><td>0.3</td><td>0.6</td></tr><tr><td>Monte Morris</td><td>28</td><td>14.4</td><td>5.0</td><td>0.405</td><td>1.5</td><td>0.2</td><td>0.2</td></tr><tr><td>Kobi Simmons</td><td>26</td><td>16.8</td><td>5.0</td><td>0.429</td><td>1.5</td><td>0.3</td><td>0.3</td></tr><tr><td>Robert Covington</td><td>33</td><td>16.8</td><td>4.4</td><td>0.439</td><td>2.3</td><td>1.1</td><td>0.4</td></tr><tr><td>Isaiah Livers</td><td>25</td><td>20.4</td><td>5.0</td><td>0.345</td><td>1.4</td><td>0.7</td><td>0.7</td></tr><tr><td>Jaylin Williams</td><td>21</td><td>13.0</td><td>4.0</td><td>0.417</td><td>2.9</td><td>0.5</td><td>0.5</td></tr><tr><td>Jock Landale</td><td>28</td><td>13.6</td><td>4.9</td><td>0.515</td><td>1.5</td><td>1.6</td><td>0.6</td></tr><tr><td>Brandon Boston Jr.</td><td>22</td><td>10.8</td><td>5.2</td><td>0.404</td><td>1.0</td><td>0.6</td><td>0.8</td></tr><tr><td>Devonte' Graham</td><td>28</td><td>13.6</td><td>5.0</td><td>0.352</td><td>1.3</td><td>0.2</td><td>0.7</td></tr><tr><td>Jontay Porter</td><td>24</td><td>13.8</td><td>4.4</td><td>0.385</td><td>2.2</td><td>1.0</td><td>0.8</td></tr><tr><td>Kobe Bufkin</td><td>20</td><td>11.5</td><td>4.8</td><td>0.37</td><td>1.6</td><td>0.4</td><td>0.6</td></tr><tr><td>Seth Curry</td><td>33</td><td>14.0</td><td>5.1</td><td>0.392</td><td>1.1</td><td>0.4</td><td>0.5</td></tr><tr><td>Alex Fudge</td><td>20</td><td>13.0</td><td>5.5</td><td>0.556</td><td>0.5</td><td>1.0</td><td>0.5</td></tr><tr><td>DeAndre Jordan</td><td>35</td><td>11.0</td><td>3.9</td><td>0.624</td><td>2.9</td><td>1.5</td><td>0.6</td></tr><tr><td>Dominick Barlow</td><td>20</td><td>12.7</td><td>4.4</td><td>0.496</td><td>2.1</td><td>1.4</td><td>0.3</td></tr><tr><td>Wenyen Gabriel</td><td>26</td><td>16.2</td><td>3.4</td><td>0.364</td><td>3.6</td><td>1.4</td><td>1.6</td></tr><tr><td>Keita Bates-Diop</td><td>28</td><td>15.3</td><td>4.5</td><td>0.427</td><td>1.8</td><td>0.8</td><td>0.3</td></tr><tr><td>Taj Gibson</td><td>38</td><td>9.8</td><td>4.5</td><td>0.571</td><td>1.8</td><td>0.5</td><td>0.0</td></tr><tr><td>Dylan Windler</td><td>27</td><td>12.2</td><td>4.7</td><td>0.526</td><td>1.5</td><td>0.5</td><td>0.3</td></tr><tr><td>Marques Bolden</td><td>25</td><td>13.1</td><td>4.1</td><td>0.68</td><td>2.4</td><td>1.1</td><td>0.3</td></tr><tr><td>KJ Martin</td><td>23</td><td>15.5</td><td>5.0</td><td>0.4</td><td>1.0</td><td>0.5</td><td>1.0</td></tr><tr><td>Garrison Mathews</td><td>27</td><td>15.0</td><td>4.9</td><td>0.456</td><td>1.1</td><td>0.3</td><td>0.3</td></tr><tr><td>Jaxson Hayes</td><td>23</td><td>12.5</td><td>4.3</td><td>0.72</td><td>2.0</td><td>1.0</td><td>0.6</td></tr><tr><td>Monte Morris</td><td>28</td><td>11.3</td><td>4.5</td><td>0.364</td><td>1.7</td><td>0.3</td><td>0.3</td></tr><tr><td>Joe Ingles</td><td>36</td><td>17.2</td><td>4.4</td><td>0.436</td><td>1.8</td><td>0.3</td><td>1.0</td></tr><tr><td>Anthony Black</td><td>20</td><td>16.9</td><td>4.6</td><td>0.466</td><td>1.5</td><td>0.5</td><td>0.8</td></tr><tr><td>Eugene Omoruyi</td><td>26</td><td>9.1</td><td>4.8</td><td>0.485</td><td>1.2</td><td>0.8</td><td>0.5</td></tr><tr><td>Sandro Mamukelashvili</td><td>24</td><td>9.8</td><td>4.1</td><td>0.471</td><td>2.2</td><td>1.0</td><td>0.4</td></tr><tr><td>Troy Brown Jr.</td><td>24</td><td>14.0</td><td>4.2</td><td>0.372</td><td>2.0</td><td>0.4</td><td>0.5</td></tr><tr><td>Jamaree Bouyea</td><td>24</td><td>12.7</td><td>3.7</td><td>0.714</td><td>2.7</td><td>0.3</td><td>0.3</td></tr><tr><td>Shake Milton</td><td>27</td><td>12.9</td><td>4.7</td><td>0.4</td><td>1.2</td><td>0.2</td><td>0.7</td></tr><tr><td>Jae'Sean Tate</td><td>28</td><td>15.9</td><td>4.1</td><td>0.472</td><td>2.1</td><td>0.9</td><td>0.6</td></tr><tr><td>MarJon Beauchamp</td><td>23</td><td>12.7</td><td>4.4</td><td>0.488</td><td>1.6</td><td>0.5</td><td>0.6</td></tr><tr><td>Max Christie</td><td>20</td><td>14.1</td><td>4.2</td><td>0.427</td><td>1.9</td><td>0.2</td><td>0.5</td></tr><tr><td>Jevon Carter</td><td>28</td><td>13.9</td><td>5.0</td><td>0.378</td><td>0.7</td><td>0.2</td><td>0.5</td></tr><tr><td>Mike Muscala</td><td>32</td><td>14.1</td><td>4.0</td><td>0.367</td><td>2.2</td><td>0.9</td><td>0.7</td></tr><tr><td>Josh Okogie</td><td>25</td><td>16.0</td><td>4.6</td><td>0.417</td><td>1.3</td><td>1.2</td><td>0.6</td></tr><tr><td>Delon Wright</td><td>31</td><td>15.8</td><td>4.5</td><td>0.394</td><td>1.4</td><td>0.4</td><td>0.3</td></tr><tr><td>Kenneth Lofton Jr.</td><td>21</td><td>9.5</td><td>4.6</td><td>0.462</td><td>1.2</td><td>0.6</td><td>0.7</td></tr><tr><td>Shake Milton</td><td>27</td><td>12.1</td><td>4.5</td><td>0.405</td><td>1.3</td><td>0.3</td><td>0.6</td></tr><tr><td>Luka Å amaniÄ</td><td>24</td><td>9.4</td><td>4.1</td><td>0.38</td><td>1.9</td><td>0.5</td><td>0.7</td></tr><tr><td>Mouhamed Gueye</td><td>21</td><td>12.2</td><td>4.0</td><td>0.348</td><td>2.0</td><td>1.7</td><td>0.2</td></tr><tr><td>Lester Quinones</td><td>23</td><td>10.6</td><td>4.4</td><td>0.397</td><td>1.4</td><td>0.6</td><td>0.5</td></tr><tr><td>Xavier Tillman Sr.</td><td>25</td><td>13.7</td><td>4.0</td><td>0.515</td><td>2.0</td><td>0.7</td><td>0.3</td></tr><tr><td>D.J. Wilson</td><td>27</td><td>7.5</td><td>5.0</td><td>0.667</td><td>0.5</td><td>0.5</td><td>0.0</td></tr><tr><td>Thaddeus Young</td><td>35</td><td>13.3</td><td>4.2</td><td>0.602</td><td>1.7</td><td>1.4</td><td>0.5</td></tr><tr><td>Jacob Gilyard</td><td>25</td><td>17.7</td><td>4.7</td><td>0.417</td><td>0.9</td><td>0.2</td><td>0.8</td></tr><tr><td>Troy Brown Jr.</td><td>24</td><td>11.1</td><td>4.2</td><td>0.441</td><td>1.6</td><td>0.4</td><td>0.5</td></tr><tr><td>Ashton Hagans</td><td>24</td><td>16.6</td><td>4.2</td><td>0.408</td><td>1.6</td><td>0.7</td><td>1.6</td></tr><tr><td>Adama Sanogo</td><td>21</td><td>7.3</td><td>4.0</td><td>0.519</td><td>1.9</td><td>2.1</td><td>0.6</td></tr><tr><td>Ben Sheppard</td><td>22</td><td>14.3</td><td>4.4</td><td>0.393</td><td>1.3</td><td>0.3</td><td>0.3</td></tr><tr><td>Jeff Dowtin</td><td>26</td><td>11.8</td><td>4.3</td><td>0.556</td><td>1.4</td><td>0.3</td><td>0.4</td></tr><tr><td>Julian Strawther</td><td>21</td><td>10.9</td><td>4.5</td><td>0.369</td><td>1.1</td><td>0.1</td><td>0.5</td></tr><tr><td>ThÃ©o Maledon</td><td>22</td><td>15.4</td><td>4.2</td><td>0.288</td><td>1.5</td><td>0.3</td><td>1.2</td></tr><tr><td>Blake Wesley</td><td>20</td><td>14.4</td><td>4.4</td><td>0.474</td><td>1.2</td><td>0.3</td><td>0.9</td></tr><tr><td>JaVale McGee</td><td>36</td><td>7.4</td><td>4.0</td><td>0.598</td><td>1.8</td><td>0.9</td><td>0.7</td></tr><tr><td>A.J. Green</td><td>24</td><td>11.0</td><td>4.5</td><td>0.423</td><td>1.0</td><td>0.2</td><td>0.2</td></tr><tr><td>Taze Moore</td><td>25</td><td>10.0</td><td>4.5</td><td>0.421</td><td>1.0</td><td>1.0</td><td>0.8</td></tr><tr><td>Charles Bassey</td><td>23</td><td>10.8</td><td>3.3</td><td>0.725</td><td>2.8</td><td>1.2</td><td>0.8</td></tr><tr><td>Rayan Rupert</td><td>19</td><td>16.2</td><td>4.0</td><td>0.335</td><td>1.7</td><td>0.6</td><td>0.8</td></tr><tr><td>Delon Wright</td><td>31</td><td>13.8</td><td>4.1</td><td>0.393</td><td>1.4</td><td>0.4</td><td>0.3</td></tr><tr><td>Danuel House Jr.</td><td>30</td><td>15.0</td><td>4.2</td><td>0.448</td><td>1.2</td><td>0.5</td><td>0.6</td></tr><tr><td>Seth Curry</td><td>33</td><td>12.7</td><td>4.3</td><td>0.372</td><td>1.0</td><td>0.4</td><td>0.4</td></tr><tr><td>Armoni Brooks</td><td>25</td><td>10.4</td><td>4.2</td><td>0.326</td><td>1.1</td><td>0.7</td><td>0.3</td></tr><tr><td>Oshae Brissett</td><td>25</td><td>11.5</td><td>3.7</td><td>0.444</td><td>1.8</td><td>1.1</td><td>0.4</td></tr><tr><td>Malik Williams</td><td>25</td><td>15.3</td><td>2.7</td><td>0.265</td><td>3.3</td><td>2.1</td><td>0.4</td></tr><tr><td>Caleb Houstan</td><td>21</td><td>13.8</td><td>4.3</td><td>0.388</td><td>0.9</td><td>0.5</td><td>0.3</td></tr><tr><td>Dru Smith</td><td>26</td><td>14.6</td><td>4.3</td><td>0.455</td><td>0.9</td><td>0.7</td><td>0.6</td></tr><tr><td>Marques Bolden</td><td>25</td><td>11.0</td><td>3.4</td><td>0.68</td><td>2.2</td><td>0.9</td><td>0.3</td></tr><tr><td>Moses Brown</td><td>24</td><td>9.1</td><td>3.4</td><td>0.508</td><td>2.2</td><td>1.7</td><td>0.5</td></tr><tr><td>Evan Fournier</td><td>31</td><td>13.0</td><td>4.0</td><td>0.2</td><td>1.3</td><td>0.0</td><td>0.3</td></tr><tr><td>P.J. Tucker</td><td>38</td><td>22.0</td><td>2.0</td><td>0.4</td><td>4.3</td><td>0.3</td><td>0.7</td></tr><tr><td>Chris Duarte</td><td>26</td><td>12.2</td><td>3.9</td><td>0.381</td><td>1.4</td><td>0.4</td><td>0.4</td></tr><tr><td>Jacob Gilyard</td><td>25</td><td>17.0</td><td>4.2</td><td>0.4</td><td>0.9</td><td>0.2</td><td>0.7</td></tr><tr><td>Ousmane Dieng</td><td>20</td><td>11.1</td><td>4.0</td><td>0.422</td><td>1.2</td><td>0.3</td><td>0.6</td></tr><tr><td>Tre Mann</td><td>22</td><td>9.2</td><td>3.8</td><td>0.5</td><td>1.5</td><td>0.3</td><td>0.7</td></tr><tr><td>Justin Holiday</td><td>34</td><td>14.9</td><td>4.0</td><td>0.454</td><td>1.1</td><td>0.2</td><td>0.2</td></tr><tr><td>Richaun Holmes</td><td>30</td><td>10.3</td><td>3.4</td><td>0.559</td><td>2.0</td><td>1.4</td><td>0.5</td></tr><tr><td>Keita Bates-Diop</td><td>28</td><td>12.5</td><td>3.7</td><td>0.434</td><td>1.5</td><td>0.6</td><td>0.3</td></tr><tr><td>KJ Martin</td><td>23</td><td>12.4</td><td>3.7</td><td>0.536</td><td>1.5</td><td>0.7</td><td>0.5</td></tr><tr><td>KJ Martin</td><td>23</td><td>12.3</td><td>3.7</td><td>0.544</td><td>1.5</td><td>0.7</td><td>0.5</td></tr><tr><td>T.J. Warren</td><td>30</td><td>11.4</td><td>3.7</td><td>0.439</td><td>1.5</td><td>0.5</td><td>0.4</td></tr><tr><td>Skylar Mays</td><td>26</td><td>11.4</td><td>4.1</td><td>0.396</td><td>0.9</td><td>0.3</td><td>0.5</td></tr><tr><td>Ryan Rollins</td><td>21</td><td>6.6</td><td>4.1</td><td>0.52</td><td>0.9</td><td>0.2</td><td>0.7</td></tr><tr><td>Micah Potter</td><td>25</td><td>11.6</td><td>3.3</td><td>0.475</td><td>2.1</td><td>0.6</td><td>0.3</td></tr><tr><td>Tristan Thompson</td><td>32</td><td>11.2</td><td>3.3</td><td>0.608</td><td>2.1</td><td>1.5</td><td>0.6</td></tr><tr><td>Izaiah Brockington</td><td>24</td><td>3.0</td><td>4.0</td><td>0.4</td><td>1.0</td><td>1.0</td><td>0.0</td></tr><tr><td>Svi Mykhailiuk</td><td>26</td><td>10.1</td><td>4.0</td><td>0.416</td><td>1.0</td><td>0.3</td><td>0.3</td></tr><tr><td>Jaden Springer</td><td>21</td><td>11.8</td><td>4.0</td><td>0.39</td><td>1.0</td><td>0.8</td><td>0.8</td></tr><tr><td>Matthew Hurt</td><td>23</td><td>14.1</td><td>4.0</td><td>0.353</td><td>0.9</td><td>1.1</td><td>0.3</td></tr><tr><td>Jarace Walker</td><td>20</td><td>10.3</td><td>3.6</td><td>0.409</td><td>1.5</td><td>0.4</td><td>0.5</td></tr><tr><td>Sidy Cissoko</td><td>19</td><td>11.8</td><td>3.8</td><td>0.485</td><td>1.2</td><td>0.7</td><td>0.3</td></tr><tr><td>Dwight Powell</td><td>32</td><td>13.3</td><td>3.3</td><td>0.679</td><td>1.9</td><td>1.5</td><td>0.5</td></tr><tr><td>Doug McDermott</td><td>32</td><td>11.3</td><td>4.2</td><td>0.406</td><td>0.5</td><td>0.1</td><td>0.2</td></tr><tr><td>Gui Santos</td><td>21</td><td>8.3</td><td>3.6</td><td>0.509</td><td>1.4</td><td>0.7</td><td>0.3</td></tr><tr><td>Patty Mills</td><td>35</td><td>13.0</td><td>4.0</td><td>0.351</td><td>0.8</td><td>0.3</td><td>0.5</td></tr><tr><td>Anthony Gill</td><td>31</td><td>9.3</td><td>3.8</td><td>0.469</td><td>1.1</td><td>0.7</td><td>0.5</td></tr><tr><td>Mike Muscala</td><td>32</td><td>13.2</td><td>3.5</td><td>0.341</td><td>1.5</td><td>0.8</td><td>0.2</td></tr><tr><td>Mamadi Diakite</td><td>27</td><td>5.3</td><td>4.0</td><td>0.8</td><td>0.7</td><td>0.3</td><td>0.0</td></tr><tr><td>Jules Bernard</td><td>24</td><td>7.8</td><td>3.9</td><td>0.453</td><td>0.8</td><td>0.5</td><td>0.4</td></tr><tr><td>Boban MarjanoviÄ</td><td>35</td><td>5.1</td><td>3.2</td><td>0.529</td><td>1.8</td><td>0.5</td><td>0.4</td></tr><tr><td>Yuta Watanabe</td><td>29</td><td>13.2</td><td>3.6</td><td>0.361</td><td>1.2</td><td>0.4</td><td>0.6</td></tr><tr><td>Timmy Allen</td><td>24</td><td>25.0</td><td>2.6</td><td>0.261</td><td>2.6</td><td>0.8</td><td>0.4</td></tr><tr><td>Robert Covington</td><td>33</td><td>23.0</td><td>3.0</td><td>0.333</td><td>2.0</td><td>0.7</td><td>0.0</td></tr><tr><td>Luka Garza</td><td>25</td><td>4.9</td><td>4.0</td><td>0.48</td><td>0.5</td><td>0.8</td><td>0.2</td></tr><tr><td>Nassir Little</td><td>23</td><td>10.2</td><td>3.4</td><td>0.46</td><td>1.4</td><td>0.3</td><td>0.3</td></tr><tr><td>ThÃ©o Maledon</td><td>22</td><td>12.5</td><td>3.5</td><td>0.286</td><td>1.2</td><td>0.2</td><td>1.1</td></tr><tr><td>JT Thor</td><td>21</td><td>12.4</td><td>3.2</td><td>0.437</td><td>1.6</td><td>0.7</td><td>0.2</td></tr><tr><td>Yuta Watanabe</td><td>29</td><td>13.6</td><td>3.4</td><td>0.353</td><td>1.3</td><td>0.3</td><td>0.6</td></tr><tr><td>Nicolas Batum</td><td>35</td><td>18.0</td><td>2.7</td><td>0.375</td><td>2.3</td><td>0.0</td><td>0.3</td></tr><tr><td>Jamal Cain</td><td>24</td><td>10.0</td><td>3.7</td><td>0.43</td><td>0.8</td><td>0.6</td><td>0.3</td></tr><tr><td>Onuralp Bitim</td><td>24</td><td>11.7</td><td>3.5</td><td>0.381</td><td>1.1</td><td>0.3</td><td>0.4</td></tr><tr><td>Ish Smith</td><td>35</td><td>17.2</td><td>3.2</td><td>0.418</td><td>1.5</td><td>0.3</td><td>1.1</td></tr><tr><td>Lindy Waters III</td><td>26</td><td>7.4</td><td>3.6</td><td>0.471</td><td>0.9</td><td>0.2</td><td>0.2</td></tr><tr><td>Jalen McDaniels</td><td>26</td><td>10.8</td><td>3.4</td><td>0.344</td><td>1.2</td><td>0.4</td><td>0.6</td></tr><tr><td>Kira Lewis Jr.</td><td>22</td><td>9.9</td><td>3.8</td><td>0.45</td><td>0.6</td><td>0.4</td><td>0.5</td></tr><tr><td>Jordan McLaughlin</td><td>27</td><td>11.2</td><td>3.5</td><td>0.483</td><td>1.0</td><td>0.3</td><td>0.3</td></tr><tr><td>Collin Gillespie</td><td>24</td><td>9.4</td><td>3.6</td><td>0.464</td><td>0.8</td><td>0.0</td><td>0.6</td></tr><tr><td>Mike Muscala</td><td>32</td><td>11.3</td><td>3.0</td><td>0.359</td><td>1.6</td><td>0.7</td><td>0.4</td></tr><tr><td>Dalen Terry</td><td>21</td><td>11.5</td><td>3.1</td><td>0.439</td><td>1.4</td><td>0.5</td><td>0.5</td></tr><tr><td>James Bouknight</td><td>23</td><td>5.8</td><td>3.6</td><td>0.439</td><td>0.6</td><td>0.1</td><td>0.1</td></tr><tr><td>Harry Giles</td><td>25</td><td>5.1</td><td>3.4</td><td>0.5</td><td>0.9</td><td>0.8</td><td>0.4</td></tr><tr><td>Garrett Temple</td><td>37</td><td>10.7</td><td>3.3</td><td>0.372</td><td>1.0</td><td>0.7</td><td>0.5</td></tr><tr><td>Oscar Tshiebwe</td><td>24</td><td>5.3</td><td>3.3</td><td>0.5</td><td>1.0</td><td>1.0</td><td>0.0</td></tr><tr><td>Zeke Nnaji</td><td>23</td><td>9.9</td><td>3.2</td><td>0.463</td><td>1.1</td><td>1.1</td><td>0.5</td></tr><tr><td>Olivier-Maxence Prosper</td><td>21</td><td>8.4</td><td>3.0</td><td>0.385</td><td>1.4</td><td>0.6</td><td>0.2</td></tr><tr><td>Ryan Rollins</td><td>21</td><td>6.0</td><td>3.4</td><td>0.519</td><td>0.8</td><td>0.2</td><td>0.6</td></tr><tr><td>Wesley Matthews</td><td>37</td><td>11.5</td><td>3.1</td><td>0.351</td><td>1.2</td><td>0.3</td><td>0.2</td></tr><tr><td>Drew Peterson</td><td>24</td><td>7.7</td><td>3.7</td><td>0.667</td><td>0.3</td><td>0.0</td><td>0.3</td></tr><tr><td>Jaden Springer</td><td>21</td><td>10.3</td><td>3.3</td><td>0.399</td><td>0.9</td><td>0.7</td><td>0.7</td></tr><tr><td>Buddy Boeheim</td><td>24</td><td>8.4</td><td>3.4</td><td>0.31</td><td>0.7</td><td>0.3</td><td>0.0</td></tr><tr><td>Orlando Robinson</td><td>23</td><td>8.4</td><td>2.8</td><td>0.5</td><td>1.6</td><td>0.8</td><td>0.5</td></tr><tr><td>Jeremiah Robinson-Earl</td><td>23</td><td>8.6</td><td>2.9</td><td>0.474</td><td>1.4</td><td>0.6</td><td>0.4</td></tr><tr><td>Vasilije MiciÄ</td><td>30</td><td>12.0</td><td>3.3</td><td>0.407</td><td>0.8</td><td>0.0</td><td>1.0</td></tr><tr><td>A.J. Lawson</td><td>23</td><td>7.4</td><td>3.2</td><td>0.446</td><td>0.9</td><td>0.3</td><td>0.3</td></tr><tr><td>Yuta Watanabe</td><td>29</td><td>16.4</td><td>2.6</td><td>0.316</td><td>1.8</td><td>0.0</td><td>0.6</td></tr><tr><td>Ish Wainright</td><td>29</td><td>6.6</td><td>2.9</td><td>0.333</td><td>1.3</td><td>0.0</td><td>0.1</td></tr><tr><td>Johnny Davis</td><td>21</td><td>12.3</td><td>3.0</td><td>0.403</td><td>1.1</td><td>0.4</td><td>0.3</td></tr><tr><td>Leaky Black</td><td>24</td><td>10.9</td><td>2.7</td><td>0.481</td><td>1.5</td><td>0.3</td><td>0.2</td></tr><tr><td>Trevelin Queen</td><td>26</td><td>11.8</td><td>2.9</td><td>0.368</td><td>1.2</td><td>0.2</td><td>0.5</td></tr><tr><td>Alex Len</td><td>30</td><td>9.3</td><td>2.5</td><td>0.617</td><td>1.7</td><td>1.0</td><td>0.6</td></tr><tr><td>Saben Lee</td><td>24</td><td>7.7</td><td>3.0</td><td>0.364</td><td>0.9</td><td>0.4</td><td>0.3</td></tr><tr><td>Kira Lewis Jr.</td><td>22</td><td>9.5</td><td>3.2</td><td>0.37</td><td>0.6</td><td>0.3</td><td>0.5</td></tr><tr><td>Otto Porter Jr.</td><td>30</td><td>11.6</td><td>2.6</td><td>0.424</td><td>1.5</td><td>0.4</td><td>0.1</td></tr><tr><td>Brandon Williams</td><td>24</td><td>6.6</td><td>3.2</td><td>0.37</td><td>0.5</td><td>0.2</td><td>0.4</td></tr><tr><td>Jamaree Bouyea</td><td>24</td><td>10.6</td><td>2.3</td><td>0.357</td><td>1.8</td><td>0.3</td><td>1.0</td></tr><tr><td>Tosan Evbuomwan</td><td>22</td><td>18.5</td><td>2.5</td><td>0.267</td><td>1.5</td><td>2.0</td><td>0.3</td></tr><tr><td>Terquavion Smith</td><td>21</td><td>5.3</td><td>3.3</td><td>0.391</td><td>0.3</td><td>0.0</td><td>0.4</td></tr><tr><td>Lamar Stevens</td><td>26</td><td>6.4</td><td>2.8</td><td>0.467</td><td>1.0</td><td>0.6</td><td>0.5</td></tr><tr><td>Damian Jones</td><td>28</td><td>6.9</td><td>2.7</td><td>0.597</td><td>1.1</td><td>0.5</td><td>0.3</td></tr><tr><td>Gabe Vincent</td><td>27</td><td>19.8</td><td>3.1</td><td>0.306</td><td>0.5</td><td>0.4</td><td>0.5</td></tr><tr><td>Olivier Sarr</td><td>24</td><td>6.5</td><td>2.3</td><td>0.579</td><td>1.7</td><td>0.7</td><td>0.2</td></tr><tr><td>Kira Lewis Jr.</td><td>22</td><td>9.6</td><td>2.9</td><td>0.308</td><td>0.7</td><td>0.3</td><td>0.5</td></tr><tr><td>Markieff Morris</td><td>34</td><td>8.3</td><td>2.5</td><td>0.338</td><td>1.3</td><td>0.2</td><td>0.5</td></tr><tr><td>Jericho Sims</td><td>25</td><td>13.0</td><td>2.0</td><td>0.691</td><td>2.0</td><td>1.2</td><td>0.4</td></tr><tr><td>Henri Drell</td><td>23</td><td>7.5</td><td>2.8</td><td>0.4</td><td>0.8</td><td>0.3</td><td>0.5</td></tr><tr><td>Emoni Bates</td><td>20</td><td>8.9</td><td>2.7</td><td>0.306</td><td>0.9</td><td>0.1</td><td>0.5</td></tr><tr><td>Danilo Gallinari</td><td>35</td><td>9.1</td><td>2.8</td><td>0.378</td><td>0.7</td><td>0.4</td><td>0.6</td></tr><tr><td>Patty Mills</td><td>35</td><td>10.6</td><td>2.7</td><td>0.373</td><td>0.8</td><td>0.3</td><td>0.4</td></tr><tr><td>DÄvis BertÄns</td><td>31</td><td>6.1</td><td>2.9</td><td>0.385</td><td>0.5</td><td>0.1</td><td>0.1</td></tr><tr><td>Jeenathan Williams</td><td>24</td><td>5.9</td><td>2.9</td><td>0.54</td><td>0.5</td><td>0.5</td><td>0.2</td></tr><tr><td>Reggie Bullock</td><td>32</td><td>9.5</td><td>2.2</td><td>0.415</td><td>1.5</td><td>0.1</td><td>0.2</td></tr><tr><td>Kenneth Lofton Jr.</td><td>21</td><td>6.6</td><td>2.6</td><td>0.378</td><td>0.9</td><td>0.1</td><td>0.4</td></tr><tr><td>Greg Brown III</td><td>22</td><td>6.7</td><td>2.5</td><td>0.455</td><td>1.0</td><td>0.5</td><td>0.7</td></tr><tr><td>Chuma Okeke</td><td>25</td><td>9.2</td><td>2.3</td><td>0.357</td><td>1.3</td><td>0.4</td><td>0.3</td></tr><tr><td>Moussa DiabatÃ©</td><td>22</td><td>5.8</td><td>2.6</td><td>0.526</td><td>0.8</td><td>1.4</td><td>0.2</td></tr><tr><td>D.J. Carton</td><td>23</td><td>9.0</td><td>2.8</td><td>0.375</td><td>0.5</td><td>0.5</td><td>0.3</td></tr><tr><td>Udoka Azubuike</td><td>24</td><td>7.1</td><td>2.2</td><td>0.696</td><td>1.3</td><td>0.7</td><td>0.3</td></tr><tr><td>Mouhamadou Gueye</td><td>25</td><td>10.9</td><td>2.4</td><td>0.289</td><td>1.0</td><td>1.1</td><td>1.1</td></tr><tr><td>Dylan Windler</td><td>27</td><td>6.4</td><td>2.5</td><td>0.5</td><td>0.8</td><td>0.2</td><td>0.1</td></tr><tr><td>Thaddeus Young</td><td>35</td><td>8.9</td><td>2.3</td><td>0.524</td><td>1.1</td><td>1.7</td><td>0.4</td></tr><tr><td>Andre Jackson Jr.</td><td>22</td><td>10.0</td><td>2.2</td><td>0.5</td><td>1.2</td><td>0.8</td><td>0.5</td></tr><tr><td>Cory Joseph</td><td>32</td><td>11.4</td><td>2.4</td><td>0.359</td><td>0.9</td><td>0.2</td><td>0.5</td></tr><tr><td>Furkan Korkmaz</td><td>26</td><td>8.6</td><td>2.5</td><td>0.395</td><td>0.7</td><td>0.1</td><td>0.3</td></tr><tr><td>Dalano Banton</td><td>24</td><td>7.1</td><td>2.3</td><td>0.373</td><td>1.0</td><td>0.5</td><td>0.4</td></tr><tr><td>Dereon Seabron</td><td>23</td><td>9.2</td><td>2.3</td><td>0.308</td><td>1.0</td><td>0.2</td><td>0.0</td></tr><tr><td>Trent Forrest</td><td>25</td><td>10.9</td><td>2.2</td><td>0.378</td><td>1.1</td><td>0.3</td><td>0.5</td></tr><tr><td>Harry Giles</td><td>25</td><td>4.3</td><td>2.4</td><td>0.46</td><td>0.8</td><td>0.5</td><td>0.3</td></tr><tr><td>AJ Griffin</td><td>20</td><td>8.6</td><td>2.4</td><td>0.29</td><td>0.8</td><td>0.1</td><td>0.4</td></tr><tr><td>P.J. Tucker</td><td>38</td><td>15.7</td><td>1.7</td><td>0.36</td><td>1.8</td><td>0.9</td><td>0.3</td></tr><tr><td>Nate Hinton</td><td>24</td><td>5.0</td><td>2.2</td><td>0.423</td><td>1.0</td><td>0.5</td><td>0.2</td></tr><tr><td>Xavier Moon</td><td>29</td><td>8.5</td><td>2.4</td><td>0.326</td><td>0.7</td><td>0.6</td><td>0.4</td></tr><tr><td>Dariq Whitehead</td><td>19</td><td>12.0</td><td>1.5</td><td>0.2</td><td>2.0</td><td>0.0</td><td>0.0</td></tr><tr><td>Jordan Walsh</td><td>19</td><td>9.2</td><td>1.7</td><td>0.4</td><td>1.7</td><td>0.6</td><td>0.3</td></tr><tr><td>Jack White</td><td>26</td><td>16.0</td><td>1.5</td><td>0.125</td><td>2.0</td><td>1.0</td><td>0.5</td></tr><tr><td>Cody Zeller</td><td>31</td><td>7.4</td><td>1.8</td><td>0.419</td><td>1.5</td><td>1.1</td><td>0.4</td></tr><tr><td>Joe Harris</td><td>32</td><td>10.6</td><td>2.4</td><td>0.359</td><td>0.6</td><td>0.2</td><td>0.3</td></tr><tr><td>Jason Preston</td><td>24</td><td>10.1</td><td>1.7</td><td>0.316</td><td>1.6</td><td>0.9</td><td>0.3</td></tr><tr><td>Ish Wainright</td><td>29</td><td>5.6</td><td>2.1</td><td>0.292</td><td>1.0</td><td>0.3</td><td>0.2</td></tr><tr><td>Isaiah Mobley</td><td>24</td><td>7.2</td><td>2.3</td><td>0.417</td><td>0.7</td><td>0.3</td><td>0.2</td></tr><tr><td>Bismack Biyombo</td><td>31</td><td>7.3</td><td>1.8</td><td>0.583</td><td>1.3</td><td>0.5</td><td>0.4</td></tr><tr><td>Kobe Brown</td><td>24</td><td>9.0</td><td>2.0</td><td>0.411</td><td>1.0</td><td>0.5</td><td>0.2</td></tr><tr><td>JD Davison</td><td>21</td><td>4.9</td><td>2.0</td><td>0.417</td><td>1.0</td><td>0.3</td><td>0.3</td></tr><tr><td>Kevon Harris</td><td>26</td><td>3.0</td><td>2.0</td><td>0.667</td><td>1.0</td><td>0.0</td><td>0.5</td></tr><tr><td>P.J. Tucker</td><td>38</td><td>15.0</td><td>1.6</td><td>0.356</td><td>1.6</td><td>1.0</td><td>0.2</td></tr><tr><td>Alex Fudge</td><td>20</td><td>6.7</td><td>2.5</td><td>0.4</td><td>0.2</td><td>0.7</td><td>0.3</td></tr><tr><td>Colby Jones</td><td>21</td><td>6.4</td><td>2.1</td><td>0.394</td><td>0.8</td><td>0.6</td><td>0.3</td></tr><tr><td>Julian Phillips</td><td>20</td><td>8.1</td><td>2.2</td><td>0.416</td><td>0.6</td><td>0.3</td><td>0.3</td></tr><tr><td>Jaden Springer</td><td>21</td><td>7.6</td><td>2.1</td><td>0.433</td><td>0.7</td><td>0.5</td><td>0.5</td></tr><tr><td>Jamaree Bouyea</td><td>24</td><td>9.5</td><td>1.7</td><td>0.238</td><td>1.3</td><td>0.3</td><td>1.3</td></tr><tr><td>Taj Gibson</td><td>38</td><td>10.2</td><td>1.7</td><td>0.405</td><td>1.3</td><td>0.6</td><td>0.3</td></tr><tr><td>Amari Bailey</td><td>19</td><td>6.5</td><td>2.3</td><td>0.333</td><td>0.3</td><td>0.6</td><td>0.4</td></tr><tr><td>Cole Swider</td><td>24</td><td>4.8</td><td>2.3</td><td>0.395</td><td>0.3</td><td>0.1</td><td>0.4</td></tr><tr><td>Malachi Flynn</td><td>25</td><td>4.3</td><td>2.2</td><td>0.391</td><td>0.4</td><td>0.0</td><td>0.2</td></tr><tr><td>Shake Milton</td><td>27</td><td>4.5</td><td>1.8</td><td>0.444</td><td>1.0</td><td>0.0</td><td>0.0</td></tr><tr><td>Ibou Badji</td><td>21</td><td>10.3</td><td>1.5</td><td>0.636</td><td>1.4</td><td>0.9</td><td>0.7</td></tr><tr><td>Mamadi Diakite</td><td>27</td><td>4.0</td><td>2.0</td><td>0.667</td><td>0.5</td><td>0.2</td><td>0.2</td></tr><tr><td>Justin Minaya</td><td>24</td><td>11.2</td><td>1.8</td><td>0.297</td><td>0.8</td><td>0.9</td><td>0.3</td></tr><tr><td>Leonard Miller</td><td>20</td><td>3.1</td><td>1.7</td><td>0.65</td><td>0.9</td><td>0.3</td><td>0.1</td></tr><tr><td>Nathan Mensah</td><td>25</td><td>12.3</td><td>1.3</td><td>0.429</td><td>1.4</td><td>1.2</td><td>0.6</td></tr><tr><td>Jordan Ford</td><td>25</td><td>3.7</td><td>2.0</td><td>0.571</td><td>0.3</td><td>0.0</td><td>0.2</td></tr><tr><td>Kessler Edwards</td><td>23</td><td>5.1</td><td>1.7</td><td>0.415</td><td>0.6</td><td>0.2</td><td>0.1</td></tr><tr><td>Seth Lundy</td><td>23</td><td>5.8</td><td>1.6</td><td>0.235</td><td>0.7</td><td>0.1</td><td>0.1</td></tr><tr><td>Keita Bates-Diop</td><td>28</td><td>4.9</td><td>1.6</td><td>0.5</td><td>0.6</td><td>0.1</td><td>0.1</td></tr><tr><td>D'Moi Hodge</td><td>25</td><td>5.9</td><td>2.0</td><td>0.333</td><td>0.0</td><td>0.0</td><td>0.1</td></tr><tr><td>Ty Jerome</td><td>26</td><td>7.5</td><td>2.0</td><td>0.5</td><td>0.0</td><td>0.5</td><td>0.5</td></tr><tr><td>Kenneth Lofton Jr.</td><td>21</td><td>4.5</td><td>1.0</td><td>0.167</td><td>1.5</td><td>0.0</td><td>1.0</td></tr><tr><td>Markquis Nowell</td><td>24</td><td>4.0</td><td>2.0</td><td>0.0</td><td>0.0</td><td>2.0</td><td>0.0</td></tr><tr><td>Daniel Theis</td><td>31</td><td>8.0</td><td>2.0</td><td>0.25</td><td>0.0</td><td>0.0</td><td>0.0</td></tr><tr><td>Lindell Wigginton</td><td>25</td><td>2.7</td><td>2.0</td><td>0.4</td><td>0.0</td><td>0.0</td><td>0.3</td></tr><tr><td>Isaiah Wong</td><td>23</td><td>4.0</td><td>2.0</td><td>0.333</td><td>0.0</td><td>0.0</td><td>0.0</td></tr><tr><td>Jalen Hood-Schifino</td><td>20</td><td>5.2</td><td>1.6</td><td>0.222</td><td>0.5</td><td>0.1</td><td>0.4</td></tr><tr><td>Jalen Pickett</td><td>24</td><td>4.5</td><td>1.6</td><td>0.429</td><td>0.5</td><td>0.0</td><td>0.3</td></tr><tr><td>Mason Jones</td><td>25</td><td>5.6</td><td>1.4</td><td>0.25</td><td>0.8</td><td>0.2</td><td>0.4</td></tr><tr><td>Terry Taylor</td><td>24</td><td>6.1</td><td>1.5</td><td>0.513</td><td>0.6</td><td>0.5</td><td>0.2</td></tr><tr><td>Josh Minott</td><td>21</td><td>2.8</td><td>1.6</td><td>0.472</td><td>0.4</td><td>0.1</td><td>0.1</td></tr><tr><td>Daishen Nix</td><td>21</td><td>3.3</td><td>1.8</td><td>0.375</td><td>0.1</td><td>0.1</td><td>0.3</td></tr><tr><td>Jermaine Samuels</td><td>25</td><td>4.3</td><td>1.4</td><td>0.643</td><td>0.7</td><td>0.2</td><td>0.0</td></tr><tr><td>Jett Howard</td><td>20</td><td>3.7</td><td>1.6</td><td>0.333</td><td>0.3</td><td>0.1</td><td>0.2</td></tr><tr><td>Jordan Miller</td><td>24</td><td>3.5</td><td>1.6</td><td>0.556</td><td>0.3</td><td>0.4</td><td>0.1</td></tr><tr><td>Chris Livingston</td><td>20</td><td>4.3</td><td>1.2</td><td>0.5</td><td>0.9</td><td>0.1</td><td>0.2</td></tr><tr><td>Colin Castleton</td><td>23</td><td>3.7</td><td>1.5</td><td>0.563</td><td>0.4</td><td>0.4</td><td>0.2</td></tr><tr><td>Dylan Windler</td><td>27</td><td>3.5</td><td>1.5</td><td>0.444</td><td>0.4</td><td>0.0</td><td>0.0</td></tr><tr><td>Taj Gibson</td><td>38</td><td>10.3</td><td>1.0</td><td>0.304</td><td>1.1</td><td>0.6</td><td>0.3</td></tr><tr><td>Aleksej Pokusevski</td><td>22</td><td>6.0</td><td>1.2</td><td>0.25</td><td>0.8</td><td>0.2</td><td>0.3</td></tr><tr><td>Mike Muscala</td><td>32</td><td>5.7</td><td>1.1</td><td>0.364</td><td>0.9</td><td>0.4</td><td>0.3</td></tr><tr><td>Keyontae Johnson</td><td>23</td><td>7.3</td><td>1.2</td><td>0.313</td><td>0.7</td><td>0.4</td><td>0.4</td></tr><tr><td>Frank Ntilikina</td><td>25</td><td>8.6</td><td>1.0</td><td>0.111</td><td>1.0</td><td>0.2</td><td>0.2</td></tr><tr><td>Jacob Toppin</td><td>23</td><td>4.2</td><td>1.4</td><td>0.556</td><td>0.4</td><td>0.3</td><td>0.1</td></tr><tr><td>R.J. Hampton</td><td>22</td><td>9.5</td><td>1.3</td><td>0.286</td><td>0.5</td><td>0.3</td><td>0.4</td></tr><tr><td>Braxton Key</td><td>26</td><td>3.0</td><td>1.1</td><td>0.412</td><td>0.8</td><td>0.2</td><td>0.1</td></tr><tr><td>David Roddy</td><td>22</td><td>3.7</td><td>1.3</td><td>0.435</td><td>0.5</td><td>0.1</td><td>0.2</td></tr><tr><td>TyTy Washington Jr.</td><td>22</td><td>5.1</td><td>1.3</td><td>0.3</td><td>0.4</td><td>0.1</td><td>0.2</td></tr><tr><td>Quenton Jackson</td><td>25</td><td>3.7</td><td>0.7</td><td>0.0</td><td>1.3</td><td>0.0</td><td>0.0</td></tr><tr><td>Jay Huff</td><td>25</td><td>2.5</td><td>1.2</td><td>0.6</td><td>0.5</td><td>0.1</td><td>0.1</td></tr><tr><td>Jerome Robinson</td><td>26</td><td>3.7</td><td>1.4</td><td>0.333</td><td>0.2</td><td>0.0</td><td>0.1</td></tr><tr><td>Adam Flagler</td><td>24</td><td>7.0</td><td>1.5</td><td>0.143</td><td>0.0</td><td>0.0</td><td>0.0</td></tr><tr><td>ThÃ©o Maledon</td><td>22</td><td>3.3</td><td>1.3</td><td>0.25</td><td>0.3</td><td>0.0</td><td>0.8</td></tr><tr><td>Skylar Mays</td><td>26</td><td>4.5</td><td>1.3</td><td>0.476</td><td>0.3</td><td>0.1</td><td>0.1</td></tr><tr><td>Filip PetruÅ¡ev</td><td>23</td><td>3.5</td><td>1.5</td><td>0.5</td><td>0.0</td><td>0.0</td><td>0.0</td></tr><tr><td>Admiral Schofield</td><td>26</td><td>3.7</td><td>1.1</td><td>0.385</td><td>0.6</td><td>0.1</td><td>0.2</td></tr><tr><td>Ryan Rollins</td><td>21</td><td>4.0</td><td>1.0</td><td>0.5</td><td>0.7</td><td>0.0</td><td>0.3</td></tr><tr><td>Kendall Brown</td><td>20</td><td>4.2</td><td>1.4</td><td>0.533</td><td>0.1</td><td>0.2</td><td>0.1</td></tr><tr><td>Hunter Tyson</td><td>23</td><td>2.7</td><td>1.1</td><td>0.4</td><td>0.4</td><td>0.1</td><td>0.1</td></tr><tr><td>Isaiah Thomas</td><td>34</td><td>3.2</td><td>1.3</td><td>0.3</td><td>0.0</td><td>0.0</td><td>0.0</td></tr><tr><td>Filip PetruÅ¡ev</td><td>23</td><td>3.3</td><td>1.0</td><td>0.5</td><td>0.3</td><td>0.0</td><td>0.0</td></tr><tr><td>Dylan Windler</td><td>27</td><td>2.3</td><td>1.0</td><td>0.5</td><td>0.3</td><td>0.0</td><td>0.0</td></tr><tr><td>Juan Toscano-Anderson</td><td>30</td><td>4.8</td><td>0.6</td><td>0.25</td><td>0.9</td><td>0.4</td><td>0.2</td></tr><tr><td>Robin Lopez</td><td>35</td><td>4.1</td><td>1.1</td><td>0.368</td><td>0.1</td><td>0.2</td><td>0.1</td></tr><tr><td>Shaquille Harrison</td><td>30</td><td>2.0</td><td>0.7</td><td>0.5</td><td>0.7</td><td>0.0</td><td>0.0</td></tr><tr><td>Ish Wainright</td><td>29</td><td>4.0</td><td>0.8</td><td>0.167</td><td>0.5</td><td>0.8</td><td>0.3</td></tr><tr><td>James Johnson</td><td>36</td><td>5.2</td><td>0.9</td><td>0.3</td><td>0.3</td><td>0.1</td><td>0.6</td></tr><tr><td>Thanasis Antetokounmpo</td><td>31</td><td>4.6</td><td>0.9</td><td>0.533</td><td>0.2</td><td>0.2</td><td>0.4</td></tr><tr><td>Wendell Moore Jr.</td><td>22</td><td>3.0</td><td>0.7</td><td>0.5</td><td>0.5</td><td>0.0</td><td>0.2</td></tr><tr><td>Jalen Slawson</td><td>24</td><td>3.1</td><td>0.7</td><td>0.667</td><td>0.5</td><td>0.1</td><td>0.2</td></tr><tr><td>DaQuan Jeffries</td><td>26</td><td>2.7</td><td>0.8</td><td>0.353</td><td>0.3</td><td>0.0</td><td>0.2</td></tr><tr><td>Hamidou Diallo</td><td>25</td><td>2.5</td><td>1.0</td><td>0.5</td><td>0.0</td><td>1.0</td><td>0.5</td></tr><tr><td>Alex Fudge</td><td>20</td><td>3.5</td><td>1.0</td><td>0.167</td><td>0.0</td><td>0.5</td><td>0.3</td></tr><tr><td>Joshua Primo</td><td>21</td><td>5.0</td><td>1.0</td><td>0.333</td><td>0.0</td><td>0.5</td><td>2.0</td></tr><tr><td>Usman Garuba</td><td>21</td><td>3.0</td><td>0.5</td><td>0.167</td><td>0.7</td><td>0.5</td><td>0.3</td></tr><tr><td>E.J. Liddell</td><td>23</td><td>2.9</td><td>0.5</td><td>0.167</td><td>0.6</td><td>0.0</td><td>0.3</td></tr><tr><td>Pat Spencer</td><td>27</td><td>4.3</td><td>0.7</td><td>0.5</td><td>0.3</td><td>0.3</td><td>0.2</td></tr><tr><td>Charlie Brown Jr.</td><td>26</td><td>4.6</td><td>0.8</td><td>0.2</td><td>0.1</td><td>0.1</td><td>0.3</td></tr><tr><td>Alondes Williams</td><td>24</td><td>2.3</td><td>0.7</td><td>0.25</td><td>0.1</td><td>0.0</td><td>0.3</td></tr><tr><td>Harry Giles</td><td>25</td><td>2.7</td><td>0.3</td><td>0.167</td><td>0.6</td><td>0.0</td><td>0.0</td></tr><tr><td>Marques Bolden</td><td>25</td><td>1.5</td><td>0.0</td><td>null</td><td>1.0</td><td>0.0</td><td>0.0</td></tr><tr><td>Kaiser Gates</td><td>27</td><td>7.0</td><td>0.0</td><td>0.0</td><td>1.0</td><td>0.0</td><td>0.0</td></tr><tr><td>Danny Green</td><td>36</td><td>9.0</td><td>0.0</td><td>0.0</td><td>1.0</td><td>0.0</td><td>0.0</td></tr><tr><td>Pete Nance</td><td>23</td><td>3.4</td><td>0.4</td><td>0.167</td><td>0.4</td><td>0.0</td><td>0.1</td></tr><tr><td>Filip PetruÅ¡ev</td><td>23</td><td>3.0</td><td>0.0</td><td>null</td><td>1.0</td><td>0.0</td><td>0.0</td></tr><tr><td>Maxwell Lewis</td><td>21</td><td>3.0</td><td>0.3</td><td>0.19</td><td>0.1</td><td>0.1</td><td>0.3</td></tr><tr><td>Jacob Gilyard</td><td>25</td><td>11.3</td><td>0.0</td><td>0.0</td><td>0.5</td><td>0.3</td><td>0.3</td></tr><tr><td>Trey Jemison</td><td>24</td><td>0.5</td><td>0.0</td><td>null</td><td>0.5</td><td>0.0</td><td>0.5</td></tr><tr><td>Ryan Arcidiacono</td><td>29</td><td>2.3</td><td>0.0</td><td>0.0</td><td>0.4</td><td>0.0</td><td>0.1</td></tr><tr><td>Darius Bazley</td><td>23</td><td>3.3</td><td>0.0</td><td>0.0</td><td>0.3</td><td>0.0</td><td>0.3</td></tr><tr><td>Mamadi Diakite</td><td>27</td><td>2.7</td><td>0.0</td><td>0.0</td><td>0.3</td><td>0.0</td><td>0.3</td></tr><tr><td>Malcolm Cazalon</td><td>22</td><td>3.0</td><td>0.0</td><td>null</td><td>0.0</td><td>0.0</td><td>0.0</td></tr><tr><td>Jalen Crutcher</td><td>24</td><td>3.0</td><td>0.0</td><td>0.0</td><td>0.0</td><td>0.0</td><td>0.0</td></tr><tr><td>Andrew Funk</td><td>24</td><td>2.6</td><td>0.0</td><td>0.0</td><td>0.0</td><td>0.0</td><td>0.0</td></tr><tr><td>Ron Harper Jr.</td><td>23</td><td>4.0</td><td>0.0</td><td>null</td><td>0.0</td><td>0.0</td><td>0.0</td></tr><tr><td>Justin Jackson</td><td>28</td><td>0.5</td><td>0.0</td><td>null</td><td>0.0</td><td>0.0</td><td>0.0</td></tr><tr><td>Kira Lewis Jr.</td><td>22</td><td>2.0</td><td>0.0</td><td>null</td><td>0.0</td><td>0.0</td><td>0.0</td></tr><tr><td>Dmytro Skapintsev</td><td>25</td><td>1.0</td><td>0.0</td><td>0.0</td><td>0.0</td><td>0.0</td><td>0.0</td></tr><tr><td>Javonte Smart</td><td>24</td><td>1.0</td><td>0.0</td><td>null</td><td>0.0</td><td>0.0</td><td>0.0</td></tr></tbody></table></div>"
      ]
     },
     "metadata": {
      "application/vnd.databricks.v1+output": {
       "addedWidgets": {},
       "aggData": [],
       "aggError": "",
       "aggOverflow": false,
       "aggSchema": [],
       "aggSeriesLimitReached": false,
       "aggType": "",
       "arguments": {},
       "columnCustomDisplayInfos": {},
       "data": [
        [
         "Joel Embiid",
         29,
         33.6,
         34.7,
         0.529,
         8.6,
         2.4,
         3.8
        ],
        [
         "Luka DonÄiÄ",
         24,
         37.5,
         33.9,
         0.487,
         8.4,
         0.8,
         4.0
        ],
        [
         "Giannis Antetokounmpo",
         29,
         35.2,
         30.4,
         0.611,
         8.8,
         2.7,
         3.4
        ],
        [
         "Shai Gilgeous-Alexander",
         25,
         34.0,
         30.1,
         0.535,
         4.7,
         0.9,
         2.2
        ],
        [
         "Nikola JokiÄ",
         28,
         34.6,
         26.4,
         0.583,
         9.5,
         2.8,
         3.0
        ],
        [
         "Jayson Tatum",
         25,
         35.7,
         26.9,
         0.471,
         7.2,
         0.9,
         2.5
        ],
        [
         "Kevin Durant",
         35,
         37.2,
         27.1,
         0.523,
         6.1,
         0.5,
         3.3
        ],
        [
         "Anthony Davis",
         30,
         35.5,
         24.7,
         0.556,
         9.5,
         3.1,
         2.1
        ],
        [
         "Jalen Brunson",
         27,
         35.4,
         28.7,
         0.479,
         3.1,
         0.6,
         2.4
        ],
        [
         "LeBron James",
         39,
         35.3,
         25.7,
         0.54,
         6.4,
         0.9,
         3.5
        ],
        [
         "Devin Booker",
         27,
         36.0,
         27.1,
         0.492,
         3.7,
         0.8,
         2.6
        ],
        [
         "Donovan Mitchell",
         27,
         35.3,
         26.6,
         0.462,
         4.3,
         0.8,
         2.8
        ],
        [
         "Anthony Edwards",
         22,
         35.1,
         25.9,
         0.461,
         4.8,
         0.7,
         3.1
        ],
        [
         "De'Aaron Fox",
         26,
         35.9,
         26.6,
         0.465,
         3.7,
         0.9,
         2.6
        ],
        [
         "Stephen Curry",
         35,
         32.7,
         26.4,
         0.45,
         4.0,
         0.5,
         2.8
        ],
        [
         "Julius Randle",
         29,
         35.4,
         24.0,
         0.472,
         7.0,
         2.2,
         3.5
        ],
        [
         "Kyrie Irving",
         31,
         35.0,
         25.6,
         0.497,
         4.2,
         0.8,
         1.8
        ],
        [
         "Ja Morant",
         24,
         35.3,
         25.1,
         0.471,
         4.9,
         0.7,
         3.0
        ],
        [
         "Tyrese Maxey",
         23,
         37.5,
         25.9,
         0.45,
         3.2,
         0.5,
         1.7
        ],
        [
         "Trae Young",
         25,
         36.0,
         25.7,
         0.43,
         2.3,
         0.4,
         4.4
        ],
        [
         "Lauri Markkanen",
         26,
         33.1,
         23.2,
         0.48,
         5.9,
         2.2,
         1.4
        ],
        [
         "Victor Wembanyama",
         20,
         29.7,
         21.4,
         0.465,
         8.4,
         2.3,
         3.7
        ],
        [
         "Kawhi Leonard",
         32,
         34.3,
         23.7,
         0.525,
         4.9,
         1.2,
         1.8
        ],
        [
         "Damian Lillard",
         33,
         35.3,
         24.3,
         0.424,
         3.9,
         0.5,
         2.6
        ],
        [
         "Paolo Banchero",
         21,
         35.0,
         22.6,
         0.455,
         5.9,
         1.0,
         3.1
        ],
        [
         "DeMar DeRozan",
         34,
         37.8,
         24.0,
         0.48,
         3.8,
         0.5,
         1.7
        ],
        [
         "LaMelo Ball",
         22,
         32.3,
         23.9,
         0.433,
         3.8,
         1.3,
         3.8
        ],
        [
         "Karl-Anthony Towns",
         28,
         32.7,
         21.8,
         0.504,
         6.8,
         1.5,
         2.9
        ],
        [
         "Domantas Sabonis",
         27,
         35.7,
         19.4,
         0.594,
         10.1,
         3.6,
         3.3
        ],
        [
         "Desmond Bane",
         25,
         34.4,
         23.7,
         0.464,
         3.5,
         0.9,
         2.7
        ],
        [
         "Kyle Kuzma",
         28,
         32.6,
         22.2,
         0.463,
         5.7,
         0.9,
         2.7
        ],
        [
         "Jaylen Brown",
         27,
         33.5,
         23.0,
         0.499,
         4.3,
         1.2,
         2.4
        ],
        [
         "Paul George",
         33,
         33.8,
         22.6,
         0.471,
         4.7,
         0.5,
         2.1
        ],
        [
         "Zion Williamson",
         23,
         31.5,
         22.9,
         0.57,
         4.1,
         1.7,
         2.8
        ],
        [
         "Dejounte Murray",
         27,
         35.7,
         22.5,
         0.459,
         4.5,
         0.8,
         2.6
        ],
        [
         "Pascal Siakam",
         29,
         34.7,
         22.2,
         0.522,
         4.9,
         1.4,
         2.1
        ],
        [
         "Terry Rozier",
         29,
         35.5,
         23.2,
         0.459,
         3.3,
         0.6,
         2.2
        ],
        [
         "Alperen Sengun",
         21,
         32.5,
         21.1,
         0.537,
         6.4,
         2.9,
         2.6
        ],
        [
         "RJ Barrett",
         23,
         33.5,
         21.8,
         0.553,
         5.3,
         1.1,
         2.5
        ],
        [
         "Jaren Jackson Jr.",
         24,
         32.2,
         22.5,
         0.444,
         4.2,
         1.3,
         2.4
        ],
        [
         "Cade Cunningham",
         22,
         33.5,
         22.7,
         0.449,
         3.8,
         0.5,
         3.4
        ],
        [
         "Pascal Siakam",
         29,
         33.2,
         21.7,
         0.536,
         5.3,
         1.7,
         1.8
        ],
        [
         "Miles Bridges",
         25,
         37.4,
         21.0,
         0.462,
         6.3,
         1.0,
         2.0
        ],
        [
         "Pascal Siakam",
         29,
         31.8,
         21.3,
         0.549,
         5.7,
         2.1,
         1.4
        ],
        [
         "Anfernee Simons",
         24,
         34.4,
         22.6,
         0.43,
         3.2,
         0.5,
         2.7
        ],
        [
         "Bam Adebayo",
         26,
         34.0,
         19.3,
         0.521,
         8.1,
         2.2,
         2.3
        ],
        [
         "Cam Thomas",
         22,
         31.4,
         22.5,
         0.442,
         2.8,
         0.4,
         1.9
        ],
        [
         "Tyler Herro",
         24,
         33.5,
         20.8,
         0.441,
         4.8,
         0.5,
         2.2
        ],
        [
         "Scottie Barnes",
         22,
         34.9,
         19.9,
         0.475,
         5.9,
         2.4,
         2.8
        ],
        [
         "Kristaps PorziÅÄ£is",
         28,
         29.6,
         20.1,
         0.516,
         5.5,
         1.7,
         1.6
        ],
        [
         "Brandon Ingram",
         26,
         32.9,
         20.8,
         0.492,
         4.4,
         0.7,
         2.5
        ],
        [
         "Jamal Murray",
         26,
         31.5,
         21.2,
         0.481,
         3.4,
         0.7,
         2.1
        ],
        [
         "Jimmy Butler",
         34,
         34.0,
         20.8,
         0.499,
         3.6,
         1.8,
         1.7
        ],
        [
         "RJ Barrett",
         23,
         31.7,
         20.2,
         0.495,
         4.5,
         0.9,
         2.2
        ],
        [
         "Nikola VuÄeviÄ",
         33,
         34.3,
         18.0,
         0.484,
         7.8,
         2.8,
         1.6
        ],
        [
         "Jerami Grant",
         29,
         33.9,
         21.0,
         0.451,
         2.9,
         0.7,
         2.1
        ],
        [
         "Jalen Green",
         21,
         31.7,
         19.6,
         0.423,
         4.7,
         0.5,
         2.3
        ],
        [
         "Zach LaVine",
         28,
         34.9,
         19.5,
         0.452,
         4.8,
         0.3,
         2.1
        ],
        [
         "Franz Wagner",
         22,
         32.5,
         19.7,
         0.482,
         4.3,
         1.0,
         1.9
        ],
        [
         "CJ McCollum",
         32,
         32.7,
         20.0,
         0.459,
         3.7,
         0.6,
         1.7
        ],
        [
         "Tyrese Haliburton",
         23,
         32.2,
         20.1,
         0.477,
         3.4,
         0.5,
         2.3
        ],
        [
         "Terry Rozier",
         29,
         33.4,
         19.8,
         0.443,
         3.5,
         0.6,
         1.7
        ],
        [
         "Bojan BogdanoviÄ",
         34,
         32.9,
         20.2,
         0.468,
         2.9,
         0.5,
         2.3
        ],
        [
         "Mikal Bridges",
         27,
         34.8,
         19.6,
         0.436,
         3.7,
         0.8,
         2.0
        ],
        [
         "Deandre Ayton",
         25,
         32.4,
         16.7,
         0.57,
         7.9,
         3.2,
         1.8
        ],
        [
         "Coby White",
         23,
         36.5,
         19.1,
         0.447,
         4.0,
         0.6,
         2.1
        ],
        [
         "Devin Vassell",
         23,
         33.1,
         19.5,
         0.472,
         3.4,
         0.4,
         1.6
        ],
        [
         "Immanuel Quickley",
         24,
         33.3,
         18.6,
         0.422,
         4.5,
         0.3,
         1.8
        ],
        [
         "Jalen Williams",
         22,
         31.3,
         19.1,
         0.54,
         3.5,
         0.5,
         1.7
        ],
        [
         "Jarrett Allen",
         25,
         31.7,
         16.5,
         0.634,
         7.4,
         3.2,
         1.6
        ],
        [
         "Jalen Johnson",
         22,
         33.7,
         16.0,
         0.511,
         7.4,
         1.3,
         1.8
        ],
        [
         "Myles Turner",
         27,
         27.0,
         17.1,
         0.524,
         5.5,
         1.5,
         1.4
        ],
        [
         "Tobias Harris",
         31,
         33.8,
         17.2,
         0.487,
         5.3,
         1.1,
         1.3
        ],
        [
         "Chet Holmgren",
         21,
         29.4,
         16.5,
         0.53,
         6.3,
         1.6,
         1.6
        ],
        [
         "RJ Barrett",
         23,
         29.5,
         18.2,
         0.423,
         3.5,
         0.7,
         1.8
        ],
        [
         "Michael Porter Jr.",
         25,
         31.7,
         16.7,
         0.484,
         5.7,
         1.3,
         1.1
        ],
        [
         "Bradley Beal",
         30,
         33.3,
         18.2,
         0.513,
         3.4,
         1.0,
         2.5
        ],
        [
         "Evan Mobley",
         22,
         30.6,
         15.7,
         0.58,
         7.1,
         2.2,
         1.8
        ],
        [
         "Rudy Gobert",
         31,
         34.1,
         14.0,
         0.661,
         9.2,
         3.8,
         1.6
        ],
        [
         "Collin Sexton",
         25,
         26.6,
         18.7,
         0.487,
         1.7,
         0.9,
         2.1
        ],
        [
         "D'Angelo Russell",
         27,
         32.7,
         18.0,
         0.456,
         2.7,
         0.4,
         2.1
        ],
        [
         "Klay Thompson",
         33,
         29.7,
         17.9,
         0.432,
         2.8,
         0.5,
         1.5
        ],
        [
         "James Harden",
         34,
         34.3,
         16.6,
         0.428,
         4.7,
         0.5,
         2.6
        ],
        [
         "Fred VanVleet",
         29,
         36.8,
         17.4,
         0.416,
         3.4,
         0.5,
         1.7
        ],
        [
         "Brandon Miller",
         21,
         32.2,
         17.3,
         0.44,
         3.4,
         0.8,
         1.8
        ],
        [
         "Jalen Duren",
         20,
         29.1,
         13.8,
         0.619,
         8.5,
         3.1,
         2.1
        ],
        [
         "Darius Garland",
         24,
         33.4,
         18.0,
         0.446,
         2.1,
         0.5,
         3.1
        ],
        [
         "Immanuel Quickley",
         24,
         29.2,
         17.0,
         0.434,
         3.6,
         0.3,
         1.5
        ],
        [
         "Dalano Banton",
         24,
         29.2,
         16.7,
         0.408,
         3.8,
         1.0,
         2.2
        ],
        [
         "John Collins",
         26,
         28.0,
         15.1,
         0.532,
         6.1,
         2.3,
         1.4
        ],
        [
         "Jordan Poole",
         24,
         30.1,
         17.4,
         0.413,
         2.3,
         0.4,
         2.4
        ],
        [
         "Terry Rozier",
         29,
         31.5,
         16.4,
         0.423,
         3.6,
         0.6,
         1.3
        ],
        [
         "Jordan Clarkson",
         31,
         30.6,
         17.1,
         0.413,
         2.5,
         0.9,
         2.7
        ],
        [
         "Deni Avdija",
         23,
         30.1,
         14.7,
         0.506,
         6.1,
         1.1,
         2.1
        ],
        [
         "Bogdan BogdanoviÄ",
         31,
         30.4,
         16.9,
         0.428,
         2.8,
         0.7,
         1.4
        ],
        [
         "Jonathan Kuminga",
         21,
         26.3,
         16.1,
         0.529,
         3.6,
         1.2,
         1.6
        ],
        [
         "Keldon Johnson",
         24,
         29.5,
         15.7,
         0.454,
         4.1,
         1.4,
         1.4
        ],
        [
         "Shaedon Sharpe",
         20,
         33.1,
         15.9,
         0.406,
         3.7,
         1.3,
         2.3
        ],
        [
         "Austin Reaves",
         25,
         32.1,
         15.9,
         0.486,
         3.6,
         0.7,
         2.1
        ],
        [
         "Keegan Murray",
         23,
         33.6,
         15.2,
         0.454,
         4.1,
         1.4,
         0.8
        ],
        [
         "Jabari Smith Jr.",
         20,
         31.9,
         13.7,
         0.454,
         6.3,
         1.8,
         1.2
        ],
        [
         "De'Andre Hunter",
         26,
         29.5,
         15.6,
         0.459,
         3.4,
         0.5,
         1.5
        ],
        [
         "Simone Fontecchio",
         28,
         30.3,
         15.4,
         0.479,
         3.6,
         0.8,
         1.1
        ],
        [
         "Kelly Oubre Jr.",
         28,
         30.2,
         15.4,
         0.441,
         3.6,
         1.4,
         1.3
        ],
        [
         "Malcolm Brogdon",
         31,
         28.7,
         15.7,
         0.44,
         3.1,
         0.7,
         1.5
        ],
        [
         "Khris Middleton",
         32,
         27.0,
         15.1,
         0.493,
         3.9,
         0.7,
         2.3
        ],
        [
         "Trey Murphy III",
         23,
         29.6,
         14.8,
         0.443,
         4.2,
         0.7,
         0.6
        ],
        [
         "Bobby Portis",
         28,
         24.5,
         13.8,
         0.508,
         5.7,
         1.7,
         1.1
        ],
        [
         "Derrick White",
         29,
         32.6,
         15.2,
         0.461,
         3.5,
         0.7,
         1.5
        ],
        [
         "Donte DiVincenzo",
         27,
         29.1,
         15.5,
         0.443,
         2.9,
         0.8,
         1.4
        ],
        [
         "Malik Monk",
         25,
         26.0,
         15.4,
         0.443,
         2.6,
         0.4,
         2.1
        ],
        [
         "OG Anunoby",
         26,
         33.3,
         15.1,
         0.489,
         3.0,
         0.9,
         1.6
        ],
        [
         "Gordon Hayward",
         33,
         31.9,
         14.5,
         0.468,
         3.7,
         1.0,
         2.0
        ],
        [
         "Jaden Ivey",
         21,
         28.8,
         15.4,
         0.429,
         2.3,
         1.1,
         2.5
        ],
        [
         "OG Anunoby",
         26,
         34.0,
         14.7,
         0.489,
         3.2,
         0.9,
         1.6
        ],
        [
         "Bojan BogdanoviÄ",
         34,
         25.9,
         15.2,
         0.454,
         2.3,
         0.4,
         1.8
        ],
        [
         "Aaron Gordon",
         28,
         31.5,
         13.9,
         0.556,
         4.1,
         2.4,
         1.4
        ],
        [
         "Nic Claxton",
         24,
         29.8,
         11.8,
         0.629,
         7.2,
         2.7,
         1.3
        ],
        [
         "GG Jackson II",
         19,
         25.7,
         14.6,
         0.428,
         3.0,
         1.1,
         1.4
        ],
        [
         "Immanuel Quickley",
         24,
         24.0,
         15.0,
         0.454,
         2.4,
         0.2,
         1.0
        ],
        [
         "Dennis SchrÃ¶der",
         30,
         32.0,
         14.6,
         0.424,
         2.9,
         0.6,
         2.4
        ],
        [
         "Jonas ValanÄiÅ«nas",
         31,
         23.5,
         12.2,
         0.559,
         6.5,
         2.3,
         1.4
        ],
        [
         "Mark Williams",
         22,
         26.7,
         12.7,
         0.649,
         5.7,
         4.0,
         0.9
        ],
        [
         "Grant Williams",
         25,
         30.6,
         13.9,
         0.503,
         3.8,
         1.4,
         1.9
        ],
        [
         "Bennedict Mathurin",
         21,
         26.1,
         14.5,
         0.446,
         2.9,
         1.0,
         1.6
        ],
        [
         "Marvin Bagley III",
         24,
         24.0,
         13.3,
         0.581,
         4.6,
         3.5,
         1.3
        ],
        [
         "Naz Reid",
         24,
         24.2,
         13.5,
         0.477,
         4.3,
         0.9,
         1.4
        ],
        [
         "OG Anunoby",
         26,
         34.9,
         14.1,
         0.488,
         3.4,
         1.0,
         1.7
        ],
        [
         "Tim Hardaway Jr.",
         31,
         26.8,
         14.4,
         0.402,
         2.9,
         0.3,
         0.9
        ],
        [
         "Caris LeVert",
         29,
         28.8,
         14.0,
         0.421,
         3.5,
         0.6,
         1.7
        ],
        [
         "P.J. Washington",
         25,
         29.2,
         13.6,
         0.446,
         4.1,
         1.2,
         1.5
        ],
        [
         "Jusuf NurkiÄ",
         29,
         27.3,
         10.9,
         0.51,
         8.1,
         2.9,
         2.3
        ],
        [
         "Saddiq Bey",
         24,
         32.7,
         13.7,
         0.416,
         3.9,
         2.7,
         0.9
        ],
        [
         "Marcus Smart",
         29,
         30.3,
         14.5,
         0.43,
         2.4,
         0.3,
         3.1
        ],
        [
         "Rui Hachimura",
         25,
         26.9,
         13.6,
         0.537,
         3.5,
         0.9,
         0.7
        ],
        [
         "P.J. Washington",
         25,
         30.4,
         12.9,
         0.436,
         4.5,
         1.2,
         1.3
        ],
        [
         "Ivica Zubac",
         26,
         26.4,
         11.7,
         0.649,
         6.3,
         2.9,
         1.2
        ],
        [
         "Grayson Allen",
         28,
         33.5,
         13.5,
         0.499,
         3.3,
         0.6,
         1.3
        ],
        [
         "Cameron Johnson",
         27,
         27.6,
         13.4,
         0.446,
         3.4,
         0.9,
         1.0
        ],
        [
         "Dennis SchrÃ¶der",
         30,
         31.1,
         14.0,
         0.435,
         2.5,
         0.5,
         1.9
        ],
        [
         "Javonte Green",
         30,
         25.6,
         12.2,
         0.6,
         5.2,
         2.2,
         0.8
        ],
        [
         "Josh Giddey",
         21,
         25.1,
         12.3,
         0.475,
         5.0,
         1.4,
         2.1
        ],
        [
         "Scoot Henderson",
         19,
         28.5,
         14.0,
         0.385,
         2.3,
         0.9,
         3.4
        ],
        [
         "Clint Capela",
         29,
         25.8,
         11.5,
         0.571,
         6.0,
         4.6,
         1.0
        ],
        [
         "Norman Powell",
         30,
         26.2,
         13.9,
         0.486,
         2.4,
         0.2,
         0.9
        ],
        [
         "Kenneth Lofton Jr.",
         21,
         22.8,
         13.8,
         0.6,
         2.5,
         2.5,
         1.5
        ],
        [
         "Kelly Olynyk",
         32,
         26.4,
         12.7,
         0.548,
         4.0,
         1.6,
         2.5
        ],
        [
         "Jrue Holiday",
         33,
         32.8,
         12.5,
         0.48,
         4.2,
         1.2,
         1.8
        ],
        [
         "Dennis SchrÃ¶der",
         30,
         30.6,
         13.7,
         0.442,
         2.3,
         0.4,
         1.6
        ],
        [
         "Gary Trent Jr.",
         25,
         28.1,
         13.7,
         0.426,
         2.3,
         0.4,
         0.7
        ],
        [
         "Andrew Wiggins",
         28,
         27.0,
         13.2,
         0.453,
         3.0,
         1.5,
         1.2
        ],
        [
         "P.J. Washington",
         25,
         32.2,
         11.7,
         0.421,
         5.1,
         1.1,
         1.0
        ],
        [
         "Corey Kispert",
         24,
         25.8,
         13.4,
         0.486,
         2.4,
         0.4,
         1.2
        ],
        [
         "Brook Lopez",
         35,
         30.5,
         12.5,
         0.485,
         3.7,
         1.5,
         1.0
        ],
        [
         "Jakob Poeltl",
         28,
         26.4,
         11.1,
         0.656,
         5.7,
         2.9,
         1.5
        ],
        [
         "Max Strus",
         27,
         32.0,
         12.2,
         0.418,
         3.9,
         0.9,
         1.6
        ],
        [
         "Keyonte George",
         20,
         27.0,
         13.0,
         0.391,
         2.6,
         0.2,
         2.5
        ],
        [
         "Bruce Brown",
         27,
         29.7,
         12.1,
         0.475,
         3.9,
         0.8,
         1.2
        ],
        [
         "Jeremy Sochan",
         20,
         29.6,
         11.6,
         0.438,
         4.6,
         1.9,
         1.9
        ],
        [
         "Tre Mann",
         22,
         31.0,
         11.9,
         0.453,
         3.9,
         0.6,
         2.0
        ],
        [
         "Dillon Brooks",
         28,
         30.9,
         12.7,
         0.428,
         2.7,
         0.7,
         1.2
        ],
        [
         "Spencer Dinwiddie",
         30,
         30.7,
         12.6,
         0.391,
         2.8,
         0.5,
         1.3
        ],
        [
         "Duncan Robinson",
         29,
         28.0,
         12.9,
         0.45,
         2.3,
         0.2,
         1.4
        ],
        [
         "Daniel Gafford",
         25,
         24.5,
         11.0,
         0.725,
         5.0,
         2.6,
         1.0
        ],
        [
         "Daniel Gafford",
         25,
         21.5,
         11.2,
         0.78,
         4.7,
         2.2,
         1.0
        ],
        [
         "Daniel Gafford",
         25,
         26.5,
         10.9,
         0.69,
         5.1,
         2.9,
         1.0
        ],
        [
         "Scotty Pippen Jr.",
         23,
         25.1,
         12.9,
         0.493,
         2.1,
         1.0,
         2.7
        ],
        [
         "Wendell Carter Jr.",
         24,
         25.6,
         11.0,
         0.525,
         4.9,
         2.0,
         1.2
        ],
        [
         "Isaiah Stewart",
         22,
         30.9,
         10.9,
         0.487,
         5.0,
         1.6,
         1.4
        ],
        [
         "Cam Whitmore",
         19,
         18.7,
         12.3,
         0.454,
         2.9,
         0.9,
         1.0
        ],
        [
         "Jalen Suggs",
         22,
         27.0,
         12.6,
         0.471,
         2.4,
         0.6,
         1.8
        ],
        [
         "Aaron Nesmith",
         24,
         27.7,
         12.2,
         0.496,
         2.9,
         0.9,
         0.9
        ],
        [
         "Marvin Bagley III",
         24,
         21.1,
         11.7,
         0.586,
         3.6,
         2.6,
         1.2
        ],
        [
         "Alec Burks",
         32,
         21.0,
         12.6,
         0.394,
         2.2,
         0.4,
         0.7
        ],
        [
         "Lamar Stevens",
         26,
         23.0,
         11.5,
         0.446,
         3.8,
         1.3,
         0.8
        ],
        [
         "Josh Hart",
         28,
         33.4,
         9.4,
         0.434,
         6.8,
         1.6,
         1.5
        ],
        [
         "Santi Aldama",
         23,
         26.5,
         10.7,
         0.435,
         4.6,
         1.2,
         1.1
        ],
        [
         "Buddy Hield",
         31,
         25.7,
         12.1,
         0.436,
         2.5,
         0.7,
         1.2
        ],
        [
         "Buddy Hield",
         31,
         25.7,
         12.0,
         0.443,
         2.6,
         0.7,
         1.2
        ],
        [
         "Buddy Hield",
         31,
         25.8,
         12.2,
         0.426,
         2.3,
         0.8,
         1.3
        ],
        [
         "Jaime Jaquez Jr.",
         22,
         28.2,
         11.9,
         0.489,
         2.7,
         1.1,
         1.5
        ],
        [
         "Chimezie Metu",
         26,
         29.4,
         10.5,
         0.5,
         4.8,
         1.2,
         1.8
        ],
        [
         "Harrison Barnes",
         31,
         29.0,
         12.2,
         0.474,
         2.2,
         0.8,
         0.7
        ],
        [
         "Zach Collins",
         26,
         22.1,
         11.2,
         0.484,
         3.7,
         1.7,
         1.9
        ],
        [
         "Cole Anthony",
         23,
         22.4,
         11.6,
         0.435,
         3.0,
         0.8,
         1.6
        ],
        [
         "Ayo Dosunmu",
         24,
         29.1,
         12.2,
         0.501,
         2.1,
         0.7,
         1.4
        ],
        [
         "Tyus Jones",
         27,
         29.3,
         12.0,
         0.489,
         2.4,
         0.3,
         1.0
        ],
        [
         "Russell Westbrook",
         35,
         22.5,
         11.1,
         0.454,
         3.7,
         1.4,
         2.1
        ],
        [
         "Jordan Goodwin",
         25,
         29.2,
         10.0,
         0.349,
         5.2,
         2.8,
         1.6
        ],
        [
         "Malik Beasley",
         27,
         29.6,
         11.3,
         0.443,
         3.2,
         0.5,
         0.7
        ],
        [
         "Brandon Clarke",
         27,
         22.3,
         11.3,
         0.559,
         3.2,
         2.2,
         0.5
        ],
        [
         "Nick Richards",
         26,
         26.3,
         9.7,
         0.691,
         5.5,
         2.6,
         1.1
        ],
        [
         "De'Anthony Melton",
         25,
         26.9,
         11.1,
         0.386,
         3.0,
         0.7,
         1.0
        ],
        [
         "Bruce Brown",
         27,
         27.9,
         10.8,
         0.478,
         3.4,
         0.8,
         1.3
        ],
        [
         "Tari Eason",
         22,
         21.8,
         9.8,
         0.466,
         4.9,
         2.1,
         0.9
        ],
        [
         "Mike Conley",
         36,
         28.9,
         11.4,
         0.457,
         2.4,
         0.5,
         1.3
        ],
        [
         "Onyeka Okongwu",
         23,
         25.5,
         10.2,
         0.611,
         4.2,
         2.6,
         0.8
        ],
        [
         "Vince Williams Jr.",
         23,
         27.6,
         10.0,
         0.446,
         4.4,
         1.1,
         1.8
        ],
        [
         "Moritz Wagner",
         26,
         17.7,
         10.9,
         0.601,
         2.9,
         1.5,
         1.2
        ],
        [
         "Herbert Jones",
         25,
         30.5,
         11.0,
         0.498,
         2.6,
         1.0,
         1.2
        ],
        [
         "Luke Kennard",
         27,
         25.6,
         11.0,
         0.448,
         2.6,
         0.3,
         1.4
        ],
        [
         "Luguentz Dort",
         24,
         28.4,
         10.9,
         0.438,
         2.7,
         0.9,
         0.9
        ],
        [
         "Draymond Green",
         33,
         27.1,
         8.6,
         0.497,
         5.9,
         1.4,
         2.5
        ],
        [
         "Kelly Olynyk",
         32,
         22.6,
         9.8,
         0.555,
         3.9,
         1.4,
         1.9
        ],
        [
         "Simone Fontecchio",
         28,
         24.9,
         10.5,
         0.46,
         2.8,
         1.0,
         1.0
        ],
        [
         "Jalen Smith",
         23,
         17.2,
         9.9,
         0.592,
         3.7,
         1.8,
         0.7
        ],
        [
         "Grant Williams",
         25,
         28.0,
         10.3,
         0.456,
         3.1,
         1.1,
         1.4
        ],
        [
         "Amen Thompson",
         21,
         22.4,
         9.5,
         0.536,
         4.2,
         2.4,
         1.5
        ],
        [
         "Jake LaRavia",
         22,
         23.0,
         10.8,
         0.389,
         2.2,
         1.5,
         1.3
        ],
        [
         "Obi Toppin",
         25,
         21.1,
         10.3,
         0.573,
         2.9,
         1.0,
         0.8
        ],
        [
         "Jabari Walker",
         21,
         23.6,
         8.9,
         0.46,
         5.0,
         2.1,
         0.9
        ],
        [
         "Kevin Love",
         35,
         16.8,
         8.8,
         0.44,
         5.1,
         1.1,
         0.9
        ],
        [
         "Andre Drummond",
         30,
         17.1,
         8.4,
         0.556,
         5.6,
         3.4,
         1.0
        ],
        [
         "Kevin Huerter",
         25,
         24.4,
         10.2,
         0.443,
         2.9,
         0.6,
         0.8
        ],
        [
         "Caleb Martin",
         28,
         27.4,
         10.0,
         0.431,
         3.2,
         1.2,
         1.2
        ],
        [
         "Alex Caruso",
         29,
         28.7,
         10.1,
         0.468,
         3.0,
         0.9,
         1.4
        ],
        [
         "Eric Gordon",
         35,
         27.8,
         11.0,
         0.443,
         1.6,
         0.2,
         1.1
        ],
        [
         "Marvin Bagley III",
         24,
         18.4,
         10.2,
         0.591,
         2.8,
         1.8,
         1.1
        ],
        [
         "Spencer Dinwiddie",
         30,
         28.3,
         10.5,
         0.392,
         2.3,
         0.4,
         1.2
        ],
        [
         "Jaden McDaniels",
         23,
         29.2,
         10.5,
         0.489,
         2.3,
         0.8,
         1.2
        ],
        [
         "Al Horford",
         37,
         26.8,
         8.6,
         0.511,
         5.1,
         1.3,
         0.7
        ],
        [
         "Tre Jones",
         24,
         27.8,
         10.0,
         0.505,
         3.0,
         0.8,
         1.5
        ],
        [
         "Brandin Podziemski",
         20,
         26.6,
         9.2,
         0.454,
         4.2,
         1.6,
         1.2
        ],
        [
         "Dalano Banton",
         24,
         19.4,
         10.3,
         0.404,
         2.5,
         0.8,
         1.4
        ],
        [
         "Vasilije MiciÄ",
         30,
         27.2,
         10.8,
         0.437,
         1.7,
         0.4,
         2.3
        ],
        [
         "Patrick Williams",
         22,
         27.3,
         10.0,
         0.443,
         2.8,
         1.1,
         1.3
        ],
        [
         "Dereck Lively II",
         19,
         23.5,
         8.8,
         0.747,
         4.4,
         2.5,
         0.9
        ],
        [
         "Alec Burks",
         32,
         18.4,
         10.4,
         0.369,
         1.9,
         0.4,
         0.7
        ],
        [
         "Gordon Hayward",
         33,
         24.4,
         9.8,
         0.464,
         2.8,
         0.7,
         1.3
        ],
        [
         "T.J. McConnell",
         31,
         18.2,
         10.2,
         0.556,
         2.2,
         0.5,
         1.5
        ],
        [
         "Ausar Thompson",
         21,
         25.1,
         8.8,
         0.483,
         4.3,
         2.0,
         1.3
        ],
        [
         "Bruce Brown",
         27,
         26.0,
         9.6,
         0.481,
         3.0,
         0.8,
         1.3
        ],
        [
         "Chris Paul",
         38,
         26.4,
         9.2,
         0.441,
         3.6,
         0.3,
         1.3
        ],
        [
         "Bojan BogdanoviÄ",
         34,
         19.2,
         10.4,
         0.43,
         1.7,
         0.3,
         1.3
        ],
        [
         "Josh Richardson",
         30,
         25.7,
         9.9,
         0.444,
         2.4,
         0.4,
         0.8
        ],
        [
         "Georges Niang",
         30,
         22.3,
         9.4,
         0.449,
         3.1,
         0.3,
         0.9
        ],
        [
         "Kentavious Caldwell-Pope",
         30,
         31.6,
         10.1,
         0.46,
         2.0,
         0.4,
         1.0
        ],
        [
         "Talen Horton-Tucker",
         23,
         19.8,
         10.1,
         0.396,
         2.0,
         0.4,
         1.3
        ],
        [
         "Tre Mann",
         22,
         24.1,
         9.3,
         0.459,
         3.1,
         0.5,
         1.6
        ],
        [
         "Walker Kessler",
         22,
         23.3,
         8.1,
         0.654,
         4.9,
         2.6,
         1.0
        ],
        [
         "Isaiah Hartenstein",
         25,
         25.3,
         7.8,
         0.644,
         5.1,
         3.3,
         1.2
        ],
        [
         "Reggie Jackson",
         33,
         22.2,
         10.2,
         0.431,
         1.5,
         0.4,
         1.3
        ],
        [
         "Payton Pritchard",
         26,
         22.3,
         9.6,
         0.468,
         2.4,
         0.9,
         0.7
        ],
        [
         "Royce O'Neale",
         30,
         25.1,
         8.1,
         0.411,
         4.5,
         0.7,
         0.7
        ],
        [
         "Lonnie Walker IV",
         25,
         17.4,
         9.7,
         0.423,
         2.0,
         0.2,
         0.9
        ],
        [
         "Sam Hauser",
         26,
         22.0,
         9.0,
         0.446,
         2.9,
         0.6,
         0.4
        ],
        [
         "Isaac Okoro",
         23,
         27.3,
         9.4,
         0.49,
         2.0,
         1.0,
         0.8
        ],
        [
         "Taurean Prince",
         29,
         27.0,
         8.9,
         0.442,
         2.7,
         0.3,
         0.9
        ],
        [
         "Kelly Olynyk",
         32,
         20.4,
         8.1,
         0.562,
         3.8,
         1.3,
         1.6
        ],
        [
         "Duop Reath",
         27,
         17.9,
         9.1,
         0.461,
         2.3,
         1.4,
         0.8
        ],
        [
         "Simone Fontecchio",
         28,
         23.2,
         8.9,
         0.45,
         2.5,
         1.0,
         1.0
        ],
        [
         "Dorian Finney-Smith",
         30,
         28.4,
         8.5,
         0.421,
         3.1,
         1.6,
         0.9
        ],
        [
         "Bilal Coulibaly",
         19,
         27.2,
         8.4,
         0.435,
         3.2,
         0.9,
         1.4
        ],
        [
         "Tristan Vukcevic",
         20,
         15.3,
         8.5,
         0.433,
         3.0,
         0.6,
         1.0
        ],
        [
         "David Roddy",
         22,
         23.2,
         8.4,
         0.402,
         3.1,
         1.1,
         1.1
        ],
        [
         "Precious Achiuwa",
         24,
         24.2,
         7.6,
         0.525,
         4.3,
         2.9,
         1.1
        ],
        [
         "Royce O'Neale",
         30,
         24.7,
         7.7,
         0.397,
         4.0,
         0.8,
         0.9
        ],
        [
         "Terance Mann",
         27,
         25.0,
         8.8,
         0.515,
         2.2,
         1.2,
         0.6
        ],
        [
         "Precious Achiuwa",
         24,
         21.9,
         7.6,
         0.501,
         4.0,
         2.6,
         1.1
        ],
        [
         "Malaki Branham",
         20,
         21.3,
         9.2,
         0.432,
         1.6,
         0.4,
         1.2
        ],
        [
         "Dario Å ariÄ",
         29,
         17.2,
         8.0,
         0.466,
         3.3,
         1.1,
         1.2
        ],
        [
         "Andrew Nembhard",
         24,
         25.0,
         9.2,
         0.498,
         1.5,
         0.5,
         1.5
        ],
        [
         "Cameron Payne",
         29,
         19.4,
         9.3,
         0.413,
         1.3,
         0.5,
         1.1
        ],
        [
         "Darius Bazley",
         23,
         23.7,
         8.0,
         0.621,
         3.2,
         1.3,
         1.2
        ],
        [
         "Nikola JoviÄ",
         20,
         19.5,
         7.7,
         0.452,
         3.6,
         0.5,
         0.9
        ],
        [
         "Seth Curry",
         33,
         19.9,
         9.0,
         0.441,
         1.6,
         0.4,
         0.6
        ],
        [
         "Derrick Jones Jr.",
         26,
         23.5,
         8.6,
         0.483,
         2.2,
         1.1,
         0.9
        ],
        [
         "Kyle Lowry",
         37,
         28.0,
         8.2,
         0.426,
         2.8,
         0.7,
         1.4
        ],
        [
         "Ziaire Williams",
         22,
         20.4,
         8.2,
         0.397,
         2.8,
         0.7,
         1.3
        ],
        [
         "Danilo Gallinari",
         35,
         15.0,
         8.7,
         0.545,
         2.0,
         0.3,
         0.2
        ],
        [
         "Ben Simmons",
         27,
         23.9,
         6.1,
         0.581,
         5.9,
         2.1,
         1.8
        ],
        [
         "Precious Achiuwa",
         24,
         17.5,
         7.7,
         0.459,
         3.4,
         2.0,
         1.2
        ],
        [
         "Trayce Jackson-Davis",
         23,
         16.6,
         7.9,
         0.702,
         3.0,
         2.0,
         0.7
        ],
        [
         "Kyle Lowry",
         37,
         28.2,
         8.1,
         0.432,
         2.7,
         0.6,
         1.4
        ],
        [
         "DÄvis BertÄns",
         31,
         20.8,
         8.8,
         0.394,
         1.6,
         0.3,
         0.6
        ],
        [
         "Royce O'Neale",
         30,
         24.5,
         7.4,
         0.388,
         3.7,
         0.8,
         1.0
        ],
        [
         "Josh Green",
         23,
         26.4,
         8.2,
         0.479,
         2.5,
         0.7,
         1.1
        ],
        [
         "Grant Williams",
         25,
         26.4,
         8.1,
         0.413,
         2.6,
         1.0,
         1.1
        ],
        [
         "Aleksej Pokusevski",
         22,
         19.2,
         7.4,
         0.429,
         3.6,
         0.8,
         0.9
        ],
        [
         "Robert Williams",
         26,
         19.8,
         6.8,
         0.654,
         4.5,
         1.8,
         1.2
        ],
        [
         "Jordan Nwora",
         25,
         15.6,
         7.9,
         0.465,
         2.8,
         0.6,
         1.2
        ],
        [
         "Christian Wood",
         28,
         17.4,
         6.9,
         0.466,
         4.3,
         0.8,
         1.0
        ],
        [
         "Gradey Dick",
         20,
         21.1,
         8.5,
         0.425,
         1.8,
         0.5,
         0.8
        ],
        [
         "Richaun Holmes",
         30,
         18.7,
         7.1,
         0.557,
         3.9,
         2.2,
         0.7
        ],
        [
         "Paul Reed",
         24,
         19.4,
         7.3,
         0.54,
         3.6,
         2.4,
         0.8
        ],
        [
         "Taylor Hendricks",
         20,
         21.4,
         7.3,
         0.45,
         3.5,
         1.2,
         0.7
        ],
        [
         "Cody Martin",
         28,
         26.9,
         7.5,
         0.381,
         3.2,
         0.7,
         1.6
        ],
        [
         "Kyle Lowry",
         37,
         28.4,
         8.0,
         0.444,
         2.4,
         0.4,
         1.4
        ],
        [
         "James Wiseman",
         22,
         17.3,
         7.1,
         0.613,
         3.6,
         1.7,
         1.0
        ],
        [
         "Trey Lyles",
         28,
         20.0,
         7.2,
         0.445,
         3.4,
         1.1,
         0.7
        ],
        [
         "Isaiah Joe",
         24,
         18.5,
         8.2,
         0.458,
         1.9,
         0.4,
         0.6
        ],
        [
         "Toumani Camara",
         23,
         24.8,
         7.5,
         0.45,
         2.9,
         2.0,
         1.2
        ],
        [
         "Moses Moody",
         21,
         17.5,
         8.1,
         0.462,
         2.0,
         1.0,
         0.7
        ],
        [
         "Trey Jemison",
         24,
         24.9,
         7.4,
         0.551,
         3.0,
         2.8,
         1.4
        ],
        [
         "MÃ£ozinha Pereira",
         23,
         17.4,
         6.9,
         0.514,
         3.7,
         1.6,
         0.7
        ],
        [
         "Marcus Sasser",
         23,
         19.0,
         8.3,
         0.428,
         1.6,
         0.2,
         1.3
        ],
        [
         "Dante Exum",
         28,
         19.8,
         7.8,
         0.533,
         2.3,
         0.5,
         0.9
        ],
        [
         "Brice Sensabaugh",
         20,
         18.3,
         7.5,
         0.39,
         2.7,
         0.5,
         1.5
        ],
        [
         "Day'Ron Sharpe",
         22,
         15.1,
         6.8,
         0.571,
         3.7,
         2.6,
         1.1
        ],
        [
         "Christian Braun",
         22,
         20.2,
         7.3,
         0.46,
         2.8,
         1.0,
         0.7
        ],
        [
         "Nickeil Alexander-Walker",
         25,
         23.4,
         8.0,
         0.439,
         1.6,
         0.4,
         0.9
        ],
        [
         "Markelle Fultz",
         25,
         21.2,
         7.8,
         0.472,
         1.9,
         1.3,
         1.2
        ],
        [
         "Sam Merrill",
         27,
         17.5,
         8.0,
         0.402,
         1.6,
         0.4,
         0.3
        ],
        [
         "Derrick Rose",
         35,
         16.6,
         8.0,
         0.461,
         1.6,
         0.3,
         1.3
        ],
        [
         "Malachi Flynn",
         25,
         14.3,
         8.0,
         0.43,
         1.5,
         0.3,
         1.1
        ],
        [
         "Jordan Hawkins",
         21,
         17.3,
         7.8,
         0.382,
         1.8,
         0.4,
         0.6
        ],
        [
         "Miles McBride",
         23,
         19.5,
         8.3,
         0.452,
         1.0,
         0.5,
         0.4
        ],
        [
         "Naji Marshall",
         26,
         19.0,
         7.1,
         0.463,
         2.8,
         0.8,
         1.0
        ],
        [
         "Jonathan Isaac",
         26,
         15.8,
         6.8,
         0.51,
         3.2,
         1.3,
         0.5
        ],
        [
         "Tosan Evbuomwan",
         22,
         22.5,
         7.0,
         0.571,
         2.8,
         0.8,
         0.6
        ],
        [
         "RaiQuan Gray",
         24,
         13.0,
         7.7,
         0.588,
         1.7,
         0.7,
         0.3
        ],
        [
         "Lamar Stevens",
         26,
         14.7,
         7.2,
         0.45,
         2.4,
         0.9,
         0.6
        ],
        [
         "Jaylen Nowell",
         24,
         14.5,
         7.5,
         0.522,
         1.8,
         0.8,
         0.5
        ],
        [
         "Javon Freeman-Liberty",
         24,
         18.3,
         7.0,
         0.444,
         2.5,
         0.7,
         1.1
        ],
        [
         "Danilo Gallinari",
         35,
         14.8,
         7.0,
         0.435,
         2.5,
         0.5,
         0.5
        ],
        [
         "Trey Jemison",
         24,
         22.9,
         6.8,
         0.551,
         2.8,
         2.6,
         1.4
        ],
        [
         "Shake Milton",
         27,
         15.8,
         6.8,
         0.423,
         2.8,
         1.8,
         0.8
        ],
        [
         "Killian Hayes",
         22,
         24.0,
         6.9,
         0.413,
         2.6,
         0.3,
         1.2
        ],
        [
         "Jordan Nwora",
         25,
         13.7,
         7.0,
         0.462,
         2.3,
         0.5,
         1.0
        ],
        [
         "Chimezie Metu",
         26,
         16.8,
         6.5,
         0.504,
         3.0,
         0.8,
         1.0
        ],
        [
         "Trendon Watford",
         23,
         13.6,
         6.9,
         0.527,
         2.3,
         0.8,
         1.0
        ],
        [
         "Jordan Goodwin",
         25,
         18.5,
         6.5,
         0.369,
         2.9,
         1.5,
         1.0
        ],
        [
         "Jahmi'us Ramsey",
         22,
         17.3,
         6.7,
         0.439,
         2.6,
         0.6,
         1.0
        ],
        [
         "Kevin Knox",
         24,
         18.1,
         7.2,
         0.462,
         1.8,
         0.6,
         0.7
        ],
        [
         "Marcus Morris",
         34,
         17.2,
         6.7,
         0.439,
         2.5,
         0.5,
         0.5
        ],
        [
         "Peyton Watson",
         21,
         18.6,
         6.7,
         0.465,
         2.5,
         0.7,
         0.7
        ],
        [
         "Quentin Grimes",
         23,
         20.2,
         7.3,
         0.395,
         1.6,
         0.3,
         0.5
        ],
        [
         "Chris Boucher",
         31,
         14.1,
         6.4,
         0.507,
         2.9,
         1.2,
         0.6
        ],
        [
         "Evan Fournier",
         31,
         18.7,
         7.2,
         0.373,
         1.7,
         0.2,
         0.7
        ],
        [
         "Jose Alvarado",
         25,
         18.4,
         7.1,
         0.412,
         1.8,
         0.4,
         0.7
        ],
        [
         "Bruno Fernando",
         25,
         15.2,
         6.3,
         0.583,
         3.0,
         1.3,
         1.0
        ],
        [
         "Jaden Hardy",
         21,
         13.5,
         7.3,
         0.407,
         1.5,
         0.3,
         0.8
        ],
        [
         "Julian Champagnie",
         22,
         19.8,
         6.8,
         0.408,
         2.2,
         0.6,
         0.8
        ],
        [
         "Cedi Osman",
         28,
         17.6,
         6.8,
         0.479,
         2.2,
         0.3,
         0.7
        ],
        [
         "Kyle Anderson",
         30,
         22.6,
         6.4,
         0.46,
         2.7,
         0.8,
         1.2
        ],
        [
         "Bismack Biyombo",
         31,
         23.9,
         5.2,
         0.563,
         4.5,
         1.9,
         1.3
        ],
        [
         "Johnny Juzang",
         22,
         18.6,
         7.2,
         0.464,
         1.5,
         0.4,
         0.7
        ],
        [
         "Cameron Payne",
         29,
         16.7,
         7.4,
         0.432,
         1.2,
         0.3,
         0.8
        ],
        [
         "Mitchell Robinson",
         25,
         24.8,
         5.6,
         0.575,
         3.9,
         4.6,
         0.8
        ],
        [
         "Quentin Grimes",
         23,
         20.1,
         7.0,
         0.372,
         1.7,
         0.3,
         0.5
        ],
        [
         "Isaiah Jackson",
         22,
         13.1,
         6.5,
         0.665,
         2.4,
         1.6,
         0.7
        ],
        [
         "David Roddy",
         22,
         18.1,
         6.5,
         0.403,
         2.4,
         0.8,
         0.9
        ],
        [
         "Daniel Theis",
         31,
         16.9,
         6.3,
         0.532,
         2.7,
         1.4,
         0.7
        ],
        [
         "Daniel Theis",
         31,
         17.1,
         6.3,
         0.536,
         2.7,
         1.4,
         0.7
        ],
        [
         "Evan Fournier",
         31,
         18.1,
         6.9,
         0.357,
         1.7,
         0.2,
         0.7
        ],
        [
         "Larry Nance Jr.",
         31,
         19.9,
         5.7,
         0.573,
         3.5,
         1.5,
         0.8
        ],
        [
         "Xavier Tillman Sr.",
         25,
         20.6,
         6.0,
         0.408,
         3.0,
         1.6,
         0.9
        ],
        [
         "Ochai Agbaji",
         23,
         23.6,
         6.7,
         0.391,
         1.9,
         1.4,
         1.1
        ],
        [
         "Aaron Wiggins",
         25,
         15.7,
         6.9,
         0.562,
         1.6,
         0.8,
         0.7
        ],
        [
         "Marcus Morris",
         34,
         16.7,
         6.4,
         0.439,
         2.3,
         0.5,
         0.6
        ],
        [
         "Patrick Beverley",
         35,
         20.0,
         6.2,
         0.417,
         2.6,
         0.7,
         0.9
        ],
        [
         "Patrick Beverley",
         35,
         20.9,
         6.0,
         0.391,
         2.9,
         0.7,
         0.6
        ],
        [
         "Jae Crowder",
         33,
         23.1,
         6.2,
         0.422,
         2.6,
         0.6,
         0.5
        ],
        [
         "Dennis Smith Jr.",
         26,
         18.9,
         6.6,
         0.435,
         2.0,
         0.9,
         1.2
        ],
        [
         "Patrick Beverley",
         35,
         19.6,
         6.3,
         0.432,
         2.4,
         0.6,
         1.0
        ],
        [
         "Cason Wallace",
         20,
         20.6,
         6.8,
         0.491,
         1.6,
         0.6,
         0.5
        ],
        [
         "Bones Hyland",
         23,
         14.6,
         6.9,
         0.386,
         1.4,
         0.1,
         1.2
        ],
        [
         "David Duke Jr.",
         24,
         12.8,
         6.5,
         0.556,
         2.0,
         0.5,
         0.8
        ],
        [
         "Mason Plumlee",
         33,
         14.7,
         5.3,
         0.569,
         3.8,
         1.3,
         0.8
        ],
        [
         "Spencer Dinwiddie",
         30,
         24.2,
         6.8,
         0.397,
         1.5,
         0.1,
         1.0
        ],
        [
         "Vasilije MiciÄ",
         30,
         19.6,
         7.0,
         0.43,
         1.2,
         0.2,
         1.7
        ],
        [
         "Landry Shamet",
         26,
         15.8,
         7.1,
         0.431,
         1.0,
         0.3,
         0.7
        ],
        [
         "Dyson Daniels",
         20,
         22.3,
         5.8,
         0.447,
         2.9,
         1.0,
         1.0
        ],
        [
         "Amir Coffey",
         26,
         20.9,
         6.6,
         0.472,
         1.7,
         0.4,
         0.5
        ],
        [
         "Gary Harris",
         29,
         24.0,
         6.9,
         0.441,
         1.2,
         0.4,
         0.6
        ],
        [
         "Dean Wade",
         27,
         20.5,
         5.4,
         0.414,
         3.4,
         0.7,
         0.4
        ],
        [
         "Jeff Green",
         37,
         16.8,
         6.5,
         0.456,
         1.7,
         0.6,
         0.6
        ],
        [
         "Torrey Craig",
         33,
         19.8,
         5.7,
         0.43,
         2.8,
         1.3,
         0.6
        ],
        [
         "Tosan Evbuomwan",
         22,
         21.6,
         5.9,
         0.507,
         2.5,
         1.1,
         0.5
        ],
        [
         "Haywood Highsmith",
         27,
         20.7,
         6.1,
         0.465,
         2.2,
         1.0,
         0.5
        ],
        [
         "Kris Murray",
         23,
         21.7,
         6.1,
         0.396,
         2.2,
         1.4,
         0.9
        ],
        [
         "Zavier Simpson",
         26,
         23.0,
         6.0,
         0.315,
         2.3,
         0.6,
         1.4
        ],
        [
         "Nicolas Batum",
         35,
         25.9,
         5.5,
         0.456,
         3.0,
         1.2,
         0.7
        ],
        [
         "DÄvis BertÄns",
         31,
         15.7,
         6.7,
         0.393,
         1.2,
         0.2,
         0.4
        ],
        [
         "Thomas Bryant",
         26,
         11.6,
         5.7,
         0.577,
         2.7,
         1.1,
         0.6
        ],
        [
         "Aaron Holiday",
         27,
         16.3,
         6.6,
         0.446,
         1.3,
         0.3,
         0.7
        ],
        [
         "DeJon Jarreau",
         26,
         16.7,
         4.8,
         0.34,
         4.0,
         0.9,
         1.0
        ],
        [
         "Justin Champagnie",
         22,
         15.7,
         5.9,
         0.41,
         2.3,
         1.3,
         0.7
        ],
        [
         "Alec Burks",
         32,
         13.5,
         6.5,
         0.307,
         1.4,
         0.3,
         0.7
        ],
        [
         "Jarred Vanderbilt",
         24,
         20.0,
         5.2,
         0.518,
         3.3,
         1.4,
         1.0
        ],
        [
         "Noah Clowney",
         19,
         16.1,
         5.8,
         0.538,
         2.4,
         1.1,
         0.7
        ],
        [
         "Vit Krejci",
         23,
         24.6,
         6.1,
         0.49,
         1.9,
         0.5,
         0.9
        ],
        [
         "Nicolas Batum",
         35,
         25.5,
         5.3,
         0.453,
         3.0,
         1.2,
         0.7
        ],
        [
         "Pat Connaughton",
         31,
         22.1,
         5.6,
         0.435,
         2.5,
         0.7,
         0.6
        ],
        [
         "Skylar Mays",
         26,
         17.0,
         6.3,
         0.384,
         1.3,
         0.4,
         0.9
        ],
        [
         "Neemias Queta",
         24,
         11.9,
         5.5,
         0.644,
         2.5,
         1.9,
         0.5
        ],
        [
         "Jaylen Nowell",
         24,
         16.5,
         6.2,
         0.436,
         1.4,
         0.5,
         0.5
        ],
        [
         "Jared Butler",
         23,
         14.2,
         6.3,
         0.488,
         1.2,
         0.2,
         1.3
        ],
        [
         "Drew Eubanks",
         26,
         15.6,
         5.1,
         0.601,
         2.9,
         1.4,
         0.8
        ],
        [
         "Xavier Tillman Sr.",
         25,
         18.0,
         5.3,
         0.434,
         2.6,
         1.3,
         0.6
        ],
        [
         "Ochai Agbaji",
         23,
         21.0,
         5.8,
         0.411,
         1.8,
         0.9,
         0.8
        ],
        [
         "Cameron Payne",
         29,
         14.9,
         6.2,
         0.455,
         1.2,
         0.1,
         0.7
        ],
        [
         "Kevon Looney",
         27,
         16.1,
         4.5,
         0.597,
         3.7,
         1.9,
         0.7
        ],
        [
         "Goga Bitadze",
         24,
         15.4,
         5.0,
         0.603,
         2.9,
         1.8,
         0.7
        ],
        [
         "Aleksej Pokusevski",
         22,
         14.5,
         5.2,
         0.405,
         2.6,
         0.6,
         0.7
        ],
        [
         "Marcus Morris",
         34,
         15.0,
         5.8,
         0.441,
         1.7,
         0.4,
         0.9
        ],
        [
         "Danilo Gallinari",
         35,
         12.9,
         5.7,
         0.437,
         1.8,
         0.4,
         0.5
        ],
        [
         "Bismack Biyombo",
         31,
         19.8,
         4.4,
         0.565,
         3.7,
         1.6,
         1.1
        ],
        [
         "Richaun Holmes",
         30,
         13.9,
         5.0,
         0.558,
         2.8,
         1.8,
         0.6
        ],
        [
         "Dexter Dennis",
         24,
         7.5,
         5.5,
         0.526,
         2.0,
         0.3,
         0.8
        ],
        [
         "Luke Kornet",
         28,
         15.6,
         5.3,
         0.7,
         2.3,
         1.9,
         0.3
        ],
        [
         "Bol Bol",
         24,
         10.9,
         5.2,
         0.616,
         2.4,
         0.7,
         0.4
        ],
        [
         "Kris Dunn",
         29,
         18.9,
         5.4,
         0.47,
         2.1,
         0.8,
         1.2
        ],
        [
         "Darius Bazley",
         23,
         16.9,
         5.3,
         0.6,
         2.2,
         0.9,
         0.9
        ],
        [
         "Keon Johnson",
         21,
         12.2,
         6.2,
         0.381,
         0.8,
         0.6,
         1.0
        ],
        [
         "Craig Porter Jr.",
         23,
         12.7,
         5.6,
         0.509,
         1.7,
         0.4,
         0.9
        ],
        [
         "Nick Smith Jr.",
         19,
         14.3,
         5.9,
         0.391,
         1.1,
         0.4,
         0.8
        ],
        [
         "Gordon Hayward",
         33,
         17.2,
         5.3,
         0.453,
         2.0,
         0.5,
         0.6
        ],
        [
         "Ochai Agbaji",
         23,
         19.7,
         5.4,
         0.426,
         1.8,
         0.7,
         0.7
        ],
        [
         "Doug McDermott",
         32,
         15.2,
         6.0,
         0.442,
         0.9,
         0.2,
         0.5
        ],
        [
         "John Konchar",
         27,
         21.3,
         4.3,
         0.423,
         3.4,
         1.3,
         0.8
        ],
        [
         "Chimezie Metu",
         26,
         12.1,
         5.0,
         0.508,
         2.3,
         0.6,
         0.7
        ],
        [
         "Quentin Grimes",
         23,
         19.2,
         5.3,
         0.214,
         1.8,
         0.2,
         1.2
        ],
        [
         "Jaylen Nowell",
         24,
         17.3,
         5.7,
         0.4,
         1.2,
         0.3,
         0.6
        ],
        [
         "Gary Payton II",
         31,
         15.5,
         5.5,
         0.563,
         1.5,
         1.0,
         0.6
        ],
        [
         "Stanley Umude",
         24,
         12.8,
         5.3,
         0.44,
         1.8,
         0.3,
         0.6
        ],
        [
         "Keon Ellis",
         24,
         17.2,
         5.4,
         0.461,
         1.6,
         0.6,
         0.6
        ],
        [
         "Matisse Thybulle",
         26,
         22.9,
         5.4,
         0.397,
         1.6,
         0.5,
         0.6
        ],
        [
         "Sasha Vezenkov",
         28,
         12.2,
         5.4,
         0.44,
         1.6,
         0.7,
         0.3
        ],
        [
         "Omer Yurtseven",
         25,
         11.4,
         4.6,
         0.538,
         2.8,
         1.5,
         0.8
        ],
        [
         "Cam Reddish",
         24,
         20.5,
         5.4,
         0.389,
         1.5,
         0.6,
         0.6
        ],
        [
         "Delon Wright",
         31,
         20.4,
         5.4,
         0.394,
         1.5,
         0.4,
         0.2
        ],
        [
         "Malachi Flynn",
         25,
         12.7,
         5.5,
         0.418,
         1.3,
         0.3,
         0.9
        ],
        [
         "Patty Mills",
         35,
         16.4,
         5.8,
         0.338,
         0.8,
         0.3,
         0.6
        ],
        [
         "Jalen Wilson",
         23,
         15.4,
         5.0,
         0.425,
         2.0,
         1.1,
         0.4
        ],
        [
         "Thaddeus Young",
         35,
         15.2,
         5.0,
         0.621,
         2.0,
         1.3,
         0.5
        ],
        [
         "Patrick Baldwin Jr.",
         21,
         13.0,
         4.4,
         0.381,
         2.8,
         0.4,
         0.5
        ],
        [
         "Mo Bamba",
         25,
         13.0,
         4.4,
         0.49,
         2.8,
         1.4,
         0.7
        ],
        [
         "Jordan Goodwin",
         25,
         14.0,
         5.0,
         0.389,
         1.9,
         1.0,
         0.7
        ],
        [
         "Malachi Flynn",
         25,
         15.3,
         5.1,
         0.409,
         1.7,
         0.4,
         1.1
        ],
        [
         "Matt Ryan",
         26,
         13.9,
         5.4,
         0.434,
         1.2,
         0.2,
         0.7
        ],
        [
         "Maxi Kleber",
         32,
         20.3,
         4.4,
         0.432,
         2.6,
         0.7,
         0.7
        ],
        [
         "Jordan Nwora",
         25,
         10.2,
         5.2,
         0.451,
         1.4,
         0.4,
         0.7
        ],
        [
         "Jared Rhoden",
         24,
         14.4,
         4.9,
         0.5,
         1.8,
         0.2,
         0.4
        ],
        [
         "Kenrich Williams",
         29,
         14.9,
         4.7,
         0.468,
         2.1,
         0.9,
         0.5
        ],
        [
         "Monte Morris",
         28,
         15.1,
         5.1,
         0.417,
         1.5,
         0.2,
         0.2
        ],
        [
         "Troy Brown Jr.",
         24,
         19.0,
         4.2,
         0.296,
         2.8,
         0.5,
         0.5
        ],
        [
         "Ricky Council IV",
         22,
         9.0,
         5.4,
         0.482,
         1.0,
         0.4,
         0.2
        ],
        [
         "Robert Covington",
         33,
         16.1,
         4.5,
         0.449,
         2.3,
         1.1,
         0.4
        ],
        [
         "Doug McDermott",
         32,
         14.1,
         5.5,
         0.433,
         0.8,
         0.2,
         0.4
        ],
        [
         "Bryce McGowens",
         21,
         14.9,
         5.1,
         0.439,
         1.4,
         0.3,
         0.5
        ],
        [
         "Davion Mitchell",
         25,
         15.3,
         5.3,
         0.452,
         1.1,
         0.3,
         0.6
        ],
        [
         "Monte Morris",
         28,
         14.4,
         5.0,
         0.405,
         1.5,
         0.2,
         0.2
        ],
        [
         "Kobi Simmons",
         26,
         16.8,
         5.0,
         0.429,
         1.5,
         0.3,
         0.3
        ],
        [
         "Robert Covington",
         33,
         16.8,
         4.4,
         0.439,
         2.3,
         1.1,
         0.4
        ],
        [
         "Isaiah Livers",
         25,
         20.4,
         5.0,
         0.345,
         1.4,
         0.7,
         0.7
        ],
        [
         "Jaylin Williams",
         21,
         13.0,
         4.0,
         0.417,
         2.9,
         0.5,
         0.5
        ],
        [
         "Jock Landale",
         28,
         13.6,
         4.9,
         0.515,
         1.5,
         1.6,
         0.6
        ],
        [
         "Brandon Boston Jr.",
         22,
         10.8,
         5.2,
         0.404,
         1.0,
         0.6,
         0.8
        ],
        [
         "Devonte' Graham",
         28,
         13.6,
         5.0,
         0.352,
         1.3,
         0.2,
         0.7
        ],
        [
         "Jontay Porter",
         24,
         13.8,
         4.4,
         0.385,
         2.2,
         1.0,
         0.8
        ],
        [
         "Kobe Bufkin",
         20,
         11.5,
         4.8,
         0.37,
         1.6,
         0.4,
         0.6
        ],
        [
         "Seth Curry",
         33,
         14.0,
         5.1,
         0.392,
         1.1,
         0.4,
         0.5
        ],
        [
         "Alex Fudge",
         20,
         13.0,
         5.5,
         0.556,
         0.5,
         1.0,
         0.5
        ],
        [
         "DeAndre Jordan",
         35,
         11.0,
         3.9,
         0.624,
         2.9,
         1.5,
         0.6
        ],
        [
         "Dominick Barlow",
         20,
         12.7,
         4.4,
         0.496,
         2.1,
         1.4,
         0.3
        ],
        [
         "Wenyen Gabriel",
         26,
         16.2,
         3.4,
         0.364,
         3.6,
         1.4,
         1.6
        ],
        [
         "Keita Bates-Diop",
         28,
         15.3,
         4.5,
         0.427,
         1.8,
         0.8,
         0.3
        ],
        [
         "Taj Gibson",
         38,
         9.8,
         4.5,
         0.571,
         1.8,
         0.5,
         0.0
        ],
        [
         "Dylan Windler",
         27,
         12.2,
         4.7,
         0.526,
         1.5,
         0.5,
         0.3
        ],
        [
         "Marques Bolden",
         25,
         13.1,
         4.1,
         0.68,
         2.4,
         1.1,
         0.3
        ],
        [
         "KJ Martin",
         23,
         15.5,
         5.0,
         0.4,
         1.0,
         0.5,
         1.0
        ],
        [
         "Garrison Mathews",
         27,
         15.0,
         4.9,
         0.456,
         1.1,
         0.3,
         0.3
        ],
        [
         "Jaxson Hayes",
         23,
         12.5,
         4.3,
         0.72,
         2.0,
         1.0,
         0.6
        ],
        [
         "Monte Morris",
         28,
         11.3,
         4.5,
         0.364,
         1.7,
         0.3,
         0.3
        ],
        [
         "Joe Ingles",
         36,
         17.2,
         4.4,
         0.436,
         1.8,
         0.3,
         1.0
        ],
        [
         "Anthony Black",
         20,
         16.9,
         4.6,
         0.466,
         1.5,
         0.5,
         0.8
        ],
        [
         "Eugene Omoruyi",
         26,
         9.1,
         4.8,
         0.485,
         1.2,
         0.8,
         0.5
        ],
        [
         "Sandro Mamukelashvili",
         24,
         9.8,
         4.1,
         0.471,
         2.2,
         1.0,
         0.4
        ],
        [
         "Troy Brown Jr.",
         24,
         14.0,
         4.2,
         0.372,
         2.0,
         0.4,
         0.5
        ],
        [
         "Jamaree Bouyea",
         24,
         12.7,
         3.7,
         0.714,
         2.7,
         0.3,
         0.3
        ],
        [
         "Shake Milton",
         27,
         12.9,
         4.7,
         0.4,
         1.2,
         0.2,
         0.7
        ],
        [
         "Jae'Sean Tate",
         28,
         15.9,
         4.1,
         0.472,
         2.1,
         0.9,
         0.6
        ],
        [
         "MarJon Beauchamp",
         23,
         12.7,
         4.4,
         0.488,
         1.6,
         0.5,
         0.6
        ],
        [
         "Max Christie",
         20,
         14.1,
         4.2,
         0.427,
         1.9,
         0.2,
         0.5
        ],
        [
         "Jevon Carter",
         28,
         13.9,
         5.0,
         0.378,
         0.7,
         0.2,
         0.5
        ],
        [
         "Mike Muscala",
         32,
         14.1,
         4.0,
         0.367,
         2.2,
         0.9,
         0.7
        ],
        [
         "Josh Okogie",
         25,
         16.0,
         4.6,
         0.417,
         1.3,
         1.2,
         0.6
        ],
        [
         "Delon Wright",
         31,
         15.8,
         4.5,
         0.394,
         1.4,
         0.4,
         0.3
        ],
        [
         "Kenneth Lofton Jr.",
         21,
         9.5,
         4.6,
         0.462,
         1.2,
         0.6,
         0.7
        ],
        [
         "Shake Milton",
         27,
         12.1,
         4.5,
         0.405,
         1.3,
         0.3,
         0.6
        ],
        [
         "Luka Å amaniÄ",
         24,
         9.4,
         4.1,
         0.38,
         1.9,
         0.5,
         0.7
        ],
        [
         "Mouhamed Gueye",
         21,
         12.2,
         4.0,
         0.348,
         2.0,
         1.7,
         0.2
        ],
        [
         "Lester Quinones",
         23,
         10.6,
         4.4,
         0.397,
         1.4,
         0.6,
         0.5
        ],
        [
         "Xavier Tillman Sr.",
         25,
         13.7,
         4.0,
         0.515,
         2.0,
         0.7,
         0.3
        ],
        [
         "D.J. Wilson",
         27,
         7.5,
         5.0,
         0.667,
         0.5,
         0.5,
         0.0
        ],
        [
         "Thaddeus Young",
         35,
         13.3,
         4.2,
         0.602,
         1.7,
         1.4,
         0.5
        ],
        [
         "Jacob Gilyard",
         25,
         17.7,
         4.7,
         0.417,
         0.9,
         0.2,
         0.8
        ],
        [
         "Troy Brown Jr.",
         24,
         11.1,
         4.2,
         0.441,
         1.6,
         0.4,
         0.5
        ],
        [
         "Ashton Hagans",
         24,
         16.6,
         4.2,
         0.408,
         1.6,
         0.7,
         1.6
        ],
        [
         "Adama Sanogo",
         21,
         7.3,
         4.0,
         0.519,
         1.9,
         2.1,
         0.6
        ],
        [
         "Ben Sheppard",
         22,
         14.3,
         4.4,
         0.393,
         1.3,
         0.3,
         0.3
        ],
        [
         "Jeff Dowtin",
         26,
         11.8,
         4.3,
         0.556,
         1.4,
         0.3,
         0.4
        ],
        [
         "Julian Strawther",
         21,
         10.9,
         4.5,
         0.369,
         1.1,
         0.1,
         0.5
        ],
        [
         "ThÃ©o Maledon",
         22,
         15.4,
         4.2,
         0.288,
         1.5,
         0.3,
         1.2
        ],
        [
         "Blake Wesley",
         20,
         14.4,
         4.4,
         0.474,
         1.2,
         0.3,
         0.9
        ],
        [
         "JaVale McGee",
         36,
         7.4,
         4.0,
         0.598,
         1.8,
         0.9,
         0.7
        ],
        [
         "A.J. Green",
         24,
         11.0,
         4.5,
         0.423,
         1.0,
         0.2,
         0.2
        ],
        [
         "Taze Moore",
         25,
         10.0,
         4.5,
         0.421,
         1.0,
         1.0,
         0.8
        ],
        [
         "Charles Bassey",
         23,
         10.8,
         3.3,
         0.725,
         2.8,
         1.2,
         0.8
        ],
        [
         "Rayan Rupert",
         19,
         16.2,
         4.0,
         0.335,
         1.7,
         0.6,
         0.8
        ],
        [
         "Delon Wright",
         31,
         13.8,
         4.1,
         0.393,
         1.4,
         0.4,
         0.3
        ],
        [
         "Danuel House Jr.",
         30,
         15.0,
         4.2,
         0.448,
         1.2,
         0.5,
         0.6
        ],
        [
         "Seth Curry",
         33,
         12.7,
         4.3,
         0.372,
         1.0,
         0.4,
         0.4
        ],
        [
         "Armoni Brooks",
         25,
         10.4,
         4.2,
         0.326,
         1.1,
         0.7,
         0.3
        ],
        [
         "Oshae Brissett",
         25,
         11.5,
         3.7,
         0.444,
         1.8,
         1.1,
         0.4
        ],
        [
         "Malik Williams",
         25,
         15.3,
         2.7,
         0.265,
         3.3,
         2.1,
         0.4
        ],
        [
         "Caleb Houstan",
         21,
         13.8,
         4.3,
         0.388,
         0.9,
         0.5,
         0.3
        ],
        [
         "Dru Smith",
         26,
         14.6,
         4.3,
         0.455,
         0.9,
         0.7,
         0.6
        ],
        [
         "Marques Bolden",
         25,
         11.0,
         3.4,
         0.68,
         2.2,
         0.9,
         0.3
        ],
        [
         "Moses Brown",
         24,
         9.1,
         3.4,
         0.508,
         2.2,
         1.7,
         0.5
        ],
        [
         "Evan Fournier",
         31,
         13.0,
         4.0,
         0.2,
         1.3,
         0.0,
         0.3
        ],
        [
         "P.J. Tucker",
         38,
         22.0,
         2.0,
         0.4,
         4.3,
         0.3,
         0.7
        ],
        [
         "Chris Duarte",
         26,
         12.2,
         3.9,
         0.381,
         1.4,
         0.4,
         0.4
        ],
        [
         "Jacob Gilyard",
         25,
         17.0,
         4.2,
         0.4,
         0.9,
         0.2,
         0.7
        ],
        [
         "Ousmane Dieng",
         20,
         11.1,
         4.0,
         0.422,
         1.2,
         0.3,
         0.6
        ],
        [
         "Tre Mann",
         22,
         9.2,
         3.8,
         0.5,
         1.5,
         0.3,
         0.7
        ],
        [
         "Justin Holiday",
         34,
         14.9,
         4.0,
         0.454,
         1.1,
         0.2,
         0.2
        ],
        [
         "Richaun Holmes",
         30,
         10.3,
         3.4,
         0.559,
         2.0,
         1.4,
         0.5
        ],
        [
         "Keita Bates-Diop",
         28,
         12.5,
         3.7,
         0.434,
         1.5,
         0.6,
         0.3
        ],
        [
         "KJ Martin",
         23,
         12.4,
         3.7,
         0.536,
         1.5,
         0.7,
         0.5
        ],
        [
         "KJ Martin",
         23,
         12.3,
         3.7,
         0.544,
         1.5,
         0.7,
         0.5
        ],
        [
         "T.J. Warren",
         30,
         11.4,
         3.7,
         0.439,
         1.5,
         0.5,
         0.4
        ],
        [
         "Skylar Mays",
         26,
         11.4,
         4.1,
         0.396,
         0.9,
         0.3,
         0.5
        ],
        [
         "Ryan Rollins",
         21,
         6.6,
         4.1,
         0.52,
         0.9,
         0.2,
         0.7
        ],
        [
         "Micah Potter",
         25,
         11.6,
         3.3,
         0.475,
         2.1,
         0.6,
         0.3
        ],
        [
         "Tristan Thompson",
         32,
         11.2,
         3.3,
         0.608,
         2.1,
         1.5,
         0.6
        ],
        [
         "Izaiah Brockington",
         24,
         3.0,
         4.0,
         0.4,
         1.0,
         1.0,
         0.0
        ],
        [
         "Svi Mykhailiuk",
         26,
         10.1,
         4.0,
         0.416,
         1.0,
         0.3,
         0.3
        ],
        [
         "Jaden Springer",
         21,
         11.8,
         4.0,
         0.39,
         1.0,
         0.8,
         0.8
        ],
        [
         "Matthew Hurt",
         23,
         14.1,
         4.0,
         0.353,
         0.9,
         1.1,
         0.3
        ],
        [
         "Jarace Walker",
         20,
         10.3,
         3.6,
         0.409,
         1.5,
         0.4,
         0.5
        ],
        [
         "Sidy Cissoko",
         19,
         11.8,
         3.8,
         0.485,
         1.2,
         0.7,
         0.3
        ],
        [
         "Dwight Powell",
         32,
         13.3,
         3.3,
         0.679,
         1.9,
         1.5,
         0.5
        ],
        [
         "Doug McDermott",
         32,
         11.3,
         4.2,
         0.406,
         0.5,
         0.1,
         0.2
        ],
        [
         "Gui Santos",
         21,
         8.3,
         3.6,
         0.509,
         1.4,
         0.7,
         0.3
        ],
        [
         "Patty Mills",
         35,
         13.0,
         4.0,
         0.351,
         0.8,
         0.3,
         0.5
        ],
        [
         "Anthony Gill",
         31,
         9.3,
         3.8,
         0.469,
         1.1,
         0.7,
         0.5
        ],
        [
         "Mike Muscala",
         32,
         13.2,
         3.5,
         0.341,
         1.5,
         0.8,
         0.2
        ],
        [
         "Mamadi Diakite",
         27,
         5.3,
         4.0,
         0.8,
         0.7,
         0.3,
         0.0
        ],
        [
         "Jules Bernard",
         24,
         7.8,
         3.9,
         0.453,
         0.8,
         0.5,
         0.4
        ],
        [
         "Boban MarjanoviÄ",
         35,
         5.1,
         3.2,
         0.529,
         1.8,
         0.5,
         0.4
        ],
        [
         "Yuta Watanabe",
         29,
         13.2,
         3.6,
         0.361,
         1.2,
         0.4,
         0.6
        ],
        [
         "Timmy Allen",
         24,
         25.0,
         2.6,
         0.261,
         2.6,
         0.8,
         0.4
        ],
        [
         "Robert Covington",
         33,
         23.0,
         3.0,
         0.333,
         2.0,
         0.7,
         0.0
        ],
        [
         "Luka Garza",
         25,
         4.9,
         4.0,
         0.48,
         0.5,
         0.8,
         0.2
        ],
        [
         "Nassir Little",
         23,
         10.2,
         3.4,
         0.46,
         1.4,
         0.3,
         0.3
        ],
        [
         "ThÃ©o Maledon",
         22,
         12.5,
         3.5,
         0.286,
         1.2,
         0.2,
         1.1
        ],
        [
         "JT Thor",
         21,
         12.4,
         3.2,
         0.437,
         1.6,
         0.7,
         0.2
        ],
        [
         "Yuta Watanabe",
         29,
         13.6,
         3.4,
         0.353,
         1.3,
         0.3,
         0.6
        ],
        [
         "Nicolas Batum",
         35,
         18.0,
         2.7,
         0.375,
         2.3,
         0.0,
         0.3
        ],
        [
         "Jamal Cain",
         24,
         10.0,
         3.7,
         0.43,
         0.8,
         0.6,
         0.3
        ],
        [
         "Onuralp Bitim",
         24,
         11.7,
         3.5,
         0.381,
         1.1,
         0.3,
         0.4
        ],
        [
         "Ish Smith",
         35,
         17.2,
         3.2,
         0.418,
         1.5,
         0.3,
         1.1
        ],
        [
         "Lindy Waters III",
         26,
         7.4,
         3.6,
         0.471,
         0.9,
         0.2,
         0.2
        ],
        [
         "Jalen McDaniels",
         26,
         10.8,
         3.4,
         0.344,
         1.2,
         0.4,
         0.6
        ],
        [
         "Kira Lewis Jr.",
         22,
         9.9,
         3.8,
         0.45,
         0.6,
         0.4,
         0.5
        ],
        [
         "Jordan McLaughlin",
         27,
         11.2,
         3.5,
         0.483,
         1.0,
         0.3,
         0.3
        ],
        [
         "Collin Gillespie",
         24,
         9.4,
         3.6,
         0.464,
         0.8,
         0.0,
         0.6
        ],
        [
         "Mike Muscala",
         32,
         11.3,
         3.0,
         0.359,
         1.6,
         0.7,
         0.4
        ],
        [
         "Dalen Terry",
         21,
         11.5,
         3.1,
         0.439,
         1.4,
         0.5,
         0.5
        ],
        [
         "James Bouknight",
         23,
         5.8,
         3.6,
         0.439,
         0.6,
         0.1,
         0.1
        ],
        [
         "Harry Giles",
         25,
         5.1,
         3.4,
         0.5,
         0.9,
         0.8,
         0.4
        ],
        [
         "Garrett Temple",
         37,
         10.7,
         3.3,
         0.372,
         1.0,
         0.7,
         0.5
        ],
        [
         "Oscar Tshiebwe",
         24,
         5.3,
         3.3,
         0.5,
         1.0,
         1.0,
         0.0
        ],
        [
         "Zeke Nnaji",
         23,
         9.9,
         3.2,
         0.463,
         1.1,
         1.1,
         0.5
        ],
        [
         "Olivier-Maxence Prosper",
         21,
         8.4,
         3.0,
         0.385,
         1.4,
         0.6,
         0.2
        ],
        [
         "Ryan Rollins",
         21,
         6.0,
         3.4,
         0.519,
         0.8,
         0.2,
         0.6
        ],
        [
         "Wesley Matthews",
         37,
         11.5,
         3.1,
         0.351,
         1.2,
         0.3,
         0.2
        ],
        [
         "Drew Peterson",
         24,
         7.7,
         3.7,
         0.667,
         0.3,
         0.0,
         0.3
        ],
        [
         "Jaden Springer",
         21,
         10.3,
         3.3,
         0.399,
         0.9,
         0.7,
         0.7
        ],
        [
         "Buddy Boeheim",
         24,
         8.4,
         3.4,
         0.31,
         0.7,
         0.3,
         0.0
        ],
        [
         "Orlando Robinson",
         23,
         8.4,
         2.8,
         0.5,
         1.6,
         0.8,
         0.5
        ],
        [
         "Jeremiah Robinson-Earl",
         23,
         8.6,
         2.9,
         0.474,
         1.4,
         0.6,
         0.4
        ],
        [
         "Vasilije MiciÄ",
         30,
         12.0,
         3.3,
         0.407,
         0.8,
         0.0,
         1.0
        ],
        [
         "A.J. Lawson",
         23,
         7.4,
         3.2,
         0.446,
         0.9,
         0.3,
         0.3
        ],
        [
         "Yuta Watanabe",
         29,
         16.4,
         2.6,
         0.316,
         1.8,
         0.0,
         0.6
        ],
        [
         "Ish Wainright",
         29,
         6.6,
         2.9,
         0.333,
         1.3,
         0.0,
         0.1
        ],
        [
         "Johnny Davis",
         21,
         12.3,
         3.0,
         0.403,
         1.1,
         0.4,
         0.3
        ],
        [
         "Leaky Black",
         24,
         10.9,
         2.7,
         0.481,
         1.5,
         0.3,
         0.2
        ],
        [
         "Trevelin Queen",
         26,
         11.8,
         2.9,
         0.368,
         1.2,
         0.2,
         0.5
        ],
        [
         "Alex Len",
         30,
         9.3,
         2.5,
         0.617,
         1.7,
         1.0,
         0.6
        ],
        [
         "Saben Lee",
         24,
         7.7,
         3.0,
         0.364,
         0.9,
         0.4,
         0.3
        ],
        [
         "Kira Lewis Jr.",
         22,
         9.5,
         3.2,
         0.37,
         0.6,
         0.3,
         0.5
        ],
        [
         "Otto Porter Jr.",
         30,
         11.6,
         2.6,
         0.424,
         1.5,
         0.4,
         0.1
        ],
        [
         "Brandon Williams",
         24,
         6.6,
         3.2,
         0.37,
         0.5,
         0.2,
         0.4
        ],
        [
         "Jamaree Bouyea",
         24,
         10.6,
         2.3,
         0.357,
         1.8,
         0.3,
         1.0
        ],
        [
         "Tosan Evbuomwan",
         22,
         18.5,
         2.5,
         0.267,
         1.5,
         2.0,
         0.3
        ],
        [
         "Terquavion Smith",
         21,
         5.3,
         3.3,
         0.391,
         0.3,
         0.0,
         0.4
        ],
        [
         "Lamar Stevens",
         26,
         6.4,
         2.8,
         0.467,
         1.0,
         0.6,
         0.5
        ],
        [
         "Damian Jones",
         28,
         6.9,
         2.7,
         0.597,
         1.1,
         0.5,
         0.3
        ],
        [
         "Gabe Vincent",
         27,
         19.8,
         3.1,
         0.306,
         0.5,
         0.4,
         0.5
        ],
        [
         "Olivier Sarr",
         24,
         6.5,
         2.3,
         0.579,
         1.7,
         0.7,
         0.2
        ],
        [
         "Kira Lewis Jr.",
         22,
         9.6,
         2.9,
         0.308,
         0.7,
         0.3,
         0.5
        ],
        [
         "Markieff Morris",
         34,
         8.3,
         2.5,
         0.338,
         1.3,
         0.2,
         0.5
        ],
        [
         "Jericho Sims",
         25,
         13.0,
         2.0,
         0.691,
         2.0,
         1.2,
         0.4
        ],
        [
         "Henri Drell",
         23,
         7.5,
         2.8,
         0.4,
         0.8,
         0.3,
         0.5
        ],
        [
         "Emoni Bates",
         20,
         8.9,
         2.7,
         0.306,
         0.9,
         0.1,
         0.5
        ],
        [
         "Danilo Gallinari",
         35,
         9.1,
         2.8,
         0.378,
         0.7,
         0.4,
         0.6
        ],
        [
         "Patty Mills",
         35,
         10.6,
         2.7,
         0.373,
         0.8,
         0.3,
         0.4
        ],
        [
         "DÄvis BertÄns",
         31,
         6.1,
         2.9,
         0.385,
         0.5,
         0.1,
         0.1
        ],
        [
         "Jeenathan Williams",
         24,
         5.9,
         2.9,
         0.54,
         0.5,
         0.5,
         0.2
        ],
        [
         "Reggie Bullock",
         32,
         9.5,
         2.2,
         0.415,
         1.5,
         0.1,
         0.2
        ],
        [
         "Kenneth Lofton Jr.",
         21,
         6.6,
         2.6,
         0.378,
         0.9,
         0.1,
         0.4
        ],
        [
         "Greg Brown III",
         22,
         6.7,
         2.5,
         0.455,
         1.0,
         0.5,
         0.7
        ],
        [
         "Chuma Okeke",
         25,
         9.2,
         2.3,
         0.357,
         1.3,
         0.4,
         0.3
        ],
        [
         "Moussa DiabatÃ©",
         22,
         5.8,
         2.6,
         0.526,
         0.8,
         1.4,
         0.2
        ],
        [
         "D.J. Carton",
         23,
         9.0,
         2.8,
         0.375,
         0.5,
         0.5,
         0.3
        ],
        [
         "Udoka Azubuike",
         24,
         7.1,
         2.2,
         0.696,
         1.3,
         0.7,
         0.3
        ],
        [
         "Mouhamadou Gueye",
         25,
         10.9,
         2.4,
         0.289,
         1.0,
         1.1,
         1.1
        ],
        [
         "Dylan Windler",
         27,
         6.4,
         2.5,
         0.5,
         0.8,
         0.2,
         0.1
        ],
        [
         "Thaddeus Young",
         35,
         8.9,
         2.3,
         0.524,
         1.1,
         1.7,
         0.4
        ],
        [
         "Andre Jackson Jr.",
         22,
         10.0,
         2.2,
         0.5,
         1.2,
         0.8,
         0.5
        ],
        [
         "Cory Joseph",
         32,
         11.4,
         2.4,
         0.359,
         0.9,
         0.2,
         0.5
        ],
        [
         "Furkan Korkmaz",
         26,
         8.6,
         2.5,
         0.395,
         0.7,
         0.1,
         0.3
        ],
        [
         "Dalano Banton",
         24,
         7.1,
         2.3,
         0.373,
         1.0,
         0.5,
         0.4
        ],
        [
         "Dereon Seabron",
         23,
         9.2,
         2.3,
         0.308,
         1.0,
         0.2,
         0.0
        ],
        [
         "Trent Forrest",
         25,
         10.9,
         2.2,
         0.378,
         1.1,
         0.3,
         0.5
        ],
        [
         "Harry Giles",
         25,
         4.3,
         2.4,
         0.46,
         0.8,
         0.5,
         0.3
        ],
        [
         "AJ Griffin",
         20,
         8.6,
         2.4,
         0.29,
         0.8,
         0.1,
         0.4
        ],
        [
         "P.J. Tucker",
         38,
         15.7,
         1.7,
         0.36,
         1.8,
         0.9,
         0.3
        ],
        [
         "Nate Hinton",
         24,
         5.0,
         2.2,
         0.423,
         1.0,
         0.5,
         0.2
        ],
        [
         "Xavier Moon",
         29,
         8.5,
         2.4,
         0.326,
         0.7,
         0.6,
         0.4
        ],
        [
         "Dariq Whitehead",
         19,
         12.0,
         1.5,
         0.2,
         2.0,
         0.0,
         0.0
        ],
        [
         "Jordan Walsh",
         19,
         9.2,
         1.7,
         0.4,
         1.7,
         0.6,
         0.3
        ],
        [
         "Jack White",
         26,
         16.0,
         1.5,
         0.125,
         2.0,
         1.0,
         0.5
        ],
        [
         "Cody Zeller",
         31,
         7.4,
         1.8,
         0.419,
         1.5,
         1.1,
         0.4
        ],
        [
         "Joe Harris",
         32,
         10.6,
         2.4,
         0.359,
         0.6,
         0.2,
         0.3
        ],
        [
         "Jason Preston",
         24,
         10.1,
         1.7,
         0.316,
         1.6,
         0.9,
         0.3
        ],
        [
         "Ish Wainright",
         29,
         5.6,
         2.1,
         0.292,
         1.0,
         0.3,
         0.2
        ],
        [
         "Isaiah Mobley",
         24,
         7.2,
         2.3,
         0.417,
         0.7,
         0.3,
         0.2
        ],
        [
         "Bismack Biyombo",
         31,
         7.3,
         1.8,
         0.583,
         1.3,
         0.5,
         0.4
        ],
        [
         "Kobe Brown",
         24,
         9.0,
         2.0,
         0.411,
         1.0,
         0.5,
         0.2
        ],
        [
         "JD Davison",
         21,
         4.9,
         2.0,
         0.417,
         1.0,
         0.3,
         0.3
        ],
        [
         "Kevon Harris",
         26,
         3.0,
         2.0,
         0.667,
         1.0,
         0.0,
         0.5
        ],
        [
         "P.J. Tucker",
         38,
         15.0,
         1.6,
         0.356,
         1.6,
         1.0,
         0.2
        ],
        [
         "Alex Fudge",
         20,
         6.7,
         2.5,
         0.4,
         0.2,
         0.7,
         0.3
        ],
        [
         "Colby Jones",
         21,
         6.4,
         2.1,
         0.394,
         0.8,
         0.6,
         0.3
        ],
        [
         "Julian Phillips",
         20,
         8.1,
         2.2,
         0.416,
         0.6,
         0.3,
         0.3
        ],
        [
         "Jaden Springer",
         21,
         7.6,
         2.1,
         0.433,
         0.7,
         0.5,
         0.5
        ],
        [
         "Jamaree Bouyea",
         24,
         9.5,
         1.7,
         0.238,
         1.3,
         0.3,
         1.3
        ],
        [
         "Taj Gibson",
         38,
         10.2,
         1.7,
         0.405,
         1.3,
         0.6,
         0.3
        ],
        [
         "Amari Bailey",
         19,
         6.5,
         2.3,
         0.333,
         0.3,
         0.6,
         0.4
        ],
        [
         "Cole Swider",
         24,
         4.8,
         2.3,
         0.395,
         0.3,
         0.1,
         0.4
        ],
        [
         "Malachi Flynn",
         25,
         4.3,
         2.2,
         0.391,
         0.4,
         0.0,
         0.2
        ],
        [
         "Shake Milton",
         27,
         4.5,
         1.8,
         0.444,
         1.0,
         0.0,
         0.0
        ],
        [
         "Ibou Badji",
         21,
         10.3,
         1.5,
         0.636,
         1.4,
         0.9,
         0.7
        ],
        [
         "Mamadi Diakite",
         27,
         4.0,
         2.0,
         0.667,
         0.5,
         0.2,
         0.2
        ],
        [
         "Justin Minaya",
         24,
         11.2,
         1.8,
         0.297,
         0.8,
         0.9,
         0.3
        ],
        [
         "Leonard Miller",
         20,
         3.1,
         1.7,
         0.65,
         0.9,
         0.3,
         0.1
        ],
        [
         "Nathan Mensah",
         25,
         12.3,
         1.3,
         0.429,
         1.4,
         1.2,
         0.6
        ],
        [
         "Jordan Ford",
         25,
         3.7,
         2.0,
         0.571,
         0.3,
         0.0,
         0.2
        ],
        [
         "Kessler Edwards",
         23,
         5.1,
         1.7,
         0.415,
         0.6,
         0.2,
         0.1
        ],
        [
         "Seth Lundy",
         23,
         5.8,
         1.6,
         0.235,
         0.7,
         0.1,
         0.1
        ],
        [
         "Keita Bates-Diop",
         28,
         4.9,
         1.6,
         0.5,
         0.6,
         0.1,
         0.1
        ],
        [
         "D'Moi Hodge",
         25,
         5.9,
         2.0,
         0.333,
         0.0,
         0.0,
         0.1
        ],
        [
         "Ty Jerome",
         26,
         7.5,
         2.0,
         0.5,
         0.0,
         0.5,
         0.5
        ],
        [
         "Kenneth Lofton Jr.",
         21,
         4.5,
         1.0,
         0.167,
         1.5,
         0.0,
         1.0
        ],
        [
         "Markquis Nowell",
         24,
         4.0,
         2.0,
         0.0,
         0.0,
         2.0,
         0.0
        ],
        [
         "Daniel Theis",
         31,
         8.0,
         2.0,
         0.25,
         0.0,
         0.0,
         0.0
        ],
        [
         "Lindell Wigginton",
         25,
         2.7,
         2.0,
         0.4,
         0.0,
         0.0,
         0.3
        ],
        [
         "Isaiah Wong",
         23,
         4.0,
         2.0,
         0.333,
         0.0,
         0.0,
         0.0
        ],
        [
         "Jalen Hood-Schifino",
         20,
         5.2,
         1.6,
         0.222,
         0.5,
         0.1,
         0.4
        ],
        [
         "Jalen Pickett",
         24,
         4.5,
         1.6,
         0.429,
         0.5,
         0.0,
         0.3
        ],
        [
         "Mason Jones",
         25,
         5.6,
         1.4,
         0.25,
         0.8,
         0.2,
         0.4
        ],
        [
         "Terry Taylor",
         24,
         6.1,
         1.5,
         0.513,
         0.6,
         0.5,
         0.2
        ],
        [
         "Josh Minott",
         21,
         2.8,
         1.6,
         0.472,
         0.4,
         0.1,
         0.1
        ],
        [
         "Daishen Nix",
         21,
         3.3,
         1.8,
         0.375,
         0.1,
         0.1,
         0.3
        ],
        [
         "Jermaine Samuels",
         25,
         4.3,
         1.4,
         0.643,
         0.7,
         0.2,
         0.0
        ],
        [
         "Jett Howard",
         20,
         3.7,
         1.6,
         0.333,
         0.3,
         0.1,
         0.2
        ],
        [
         "Jordan Miller",
         24,
         3.5,
         1.6,
         0.556,
         0.3,
         0.4,
         0.1
        ],
        [
         "Chris Livingston",
         20,
         4.3,
         1.2,
         0.5,
         0.9,
         0.1,
         0.2
        ],
        [
         "Colin Castleton",
         23,
         3.7,
         1.5,
         0.563,
         0.4,
         0.4,
         0.2
        ],
        [
         "Dylan Windler",
         27,
         3.5,
         1.5,
         0.444,
         0.4,
         0.0,
         0.0
        ],
        [
         "Taj Gibson",
         38,
         10.3,
         1.0,
         0.304,
         1.1,
         0.6,
         0.3
        ],
        [
         "Aleksej Pokusevski",
         22,
         6.0,
         1.2,
         0.25,
         0.8,
         0.2,
         0.3
        ],
        [
         "Mike Muscala",
         32,
         5.7,
         1.1,
         0.364,
         0.9,
         0.4,
         0.3
        ],
        [
         "Keyontae Johnson",
         23,
         7.3,
         1.2,
         0.313,
         0.7,
         0.4,
         0.4
        ],
        [
         "Frank Ntilikina",
         25,
         8.6,
         1.0,
         0.111,
         1.0,
         0.2,
         0.2
        ],
        [
         "Jacob Toppin",
         23,
         4.2,
         1.4,
         0.556,
         0.4,
         0.3,
         0.1
        ],
        [
         "R.J. Hampton",
         22,
         9.5,
         1.3,
         0.286,
         0.5,
         0.3,
         0.4
        ],
        [
         "Braxton Key",
         26,
         3.0,
         1.1,
         0.412,
         0.8,
         0.2,
         0.1
        ],
        [
         "David Roddy",
         22,
         3.7,
         1.3,
         0.435,
         0.5,
         0.1,
         0.2
        ],
        [
         "TyTy Washington Jr.",
         22,
         5.1,
         1.3,
         0.3,
         0.4,
         0.1,
         0.2
        ],
        [
         "Quenton Jackson",
         25,
         3.7,
         0.7,
         0.0,
         1.3,
         0.0,
         0.0
        ],
        [
         "Jay Huff",
         25,
         2.5,
         1.2,
         0.6,
         0.5,
         0.1,
         0.1
        ],
        [
         "Jerome Robinson",
         26,
         3.7,
         1.4,
         0.333,
         0.2,
         0.0,
         0.1
        ],
        [
         "Adam Flagler",
         24,
         7.0,
         1.5,
         0.143,
         0.0,
         0.0,
         0.0
        ],
        [
         "ThÃ©o Maledon",
         22,
         3.3,
         1.3,
         0.25,
         0.3,
         0.0,
         0.8
        ],
        [
         "Skylar Mays",
         26,
         4.5,
         1.3,
         0.476,
         0.3,
         0.1,
         0.1
        ],
        [
         "Filip PetruÅ¡ev",
         23,
         3.5,
         1.5,
         0.5,
         0.0,
         0.0,
         0.0
        ],
        [
         "Admiral Schofield",
         26,
         3.7,
         1.1,
         0.385,
         0.6,
         0.1,
         0.2
        ],
        [
         "Ryan Rollins",
         21,
         4.0,
         1.0,
         0.5,
         0.7,
         0.0,
         0.3
        ],
        [
         "Kendall Brown",
         20,
         4.2,
         1.4,
         0.533,
         0.1,
         0.2,
         0.1
        ],
        [
         "Hunter Tyson",
         23,
         2.7,
         1.1,
         0.4,
         0.4,
         0.1,
         0.1
        ],
        [
         "Isaiah Thomas",
         34,
         3.2,
         1.3,
         0.3,
         0.0,
         0.0,
         0.0
        ],
        [
         "Filip PetruÅ¡ev",
         23,
         3.3,
         1.0,
         0.5,
         0.3,
         0.0,
         0.0
        ],
        [
         "Dylan Windler",
         27,
         2.3,
         1.0,
         0.5,
         0.3,
         0.0,
         0.0
        ],
        [
         "Juan Toscano-Anderson",
         30,
         4.8,
         0.6,
         0.25,
         0.9,
         0.4,
         0.2
        ],
        [
         "Robin Lopez",
         35,
         4.1,
         1.1,
         0.368,
         0.1,
         0.2,
         0.1
        ],
        [
         "Shaquille Harrison",
         30,
         2.0,
         0.7,
         0.5,
         0.7,
         0.0,
         0.0
        ],
        [
         "Ish Wainright",
         29,
         4.0,
         0.8,
         0.167,
         0.5,
         0.8,
         0.3
        ],
        [
         "James Johnson",
         36,
         5.2,
         0.9,
         0.3,
         0.3,
         0.1,
         0.6
        ],
        [
         "Thanasis Antetokounmpo",
         31,
         4.6,
         0.9,
         0.533,
         0.2,
         0.2,
         0.4
        ],
        [
         "Wendell Moore Jr.",
         22,
         3.0,
         0.7,
         0.5,
         0.5,
         0.0,
         0.2
        ],
        [
         "Jalen Slawson",
         24,
         3.1,
         0.7,
         0.667,
         0.5,
         0.1,
         0.2
        ],
        [
         "DaQuan Jeffries",
         26,
         2.7,
         0.8,
         0.353,
         0.3,
         0.0,
         0.2
        ],
        [
         "Hamidou Diallo",
         25,
         2.5,
         1.0,
         0.5,
         0.0,
         1.0,
         0.5
        ],
        [
         "Alex Fudge",
         20,
         3.5,
         1.0,
         0.167,
         0.0,
         0.5,
         0.3
        ],
        [
         "Joshua Primo",
         21,
         5.0,
         1.0,
         0.333,
         0.0,
         0.5,
         2.0
        ],
        [
         "Usman Garuba",
         21,
         3.0,
         0.5,
         0.167,
         0.7,
         0.5,
         0.3
        ],
        [
         "E.J. Liddell",
         23,
         2.9,
         0.5,
         0.167,
         0.6,
         0.0,
         0.3
        ],
        [
         "Pat Spencer",
         27,
         4.3,
         0.7,
         0.5,
         0.3,
         0.3,
         0.2
        ],
        [
         "Charlie Brown Jr.",
         26,
         4.6,
         0.8,
         0.2,
         0.1,
         0.1,
         0.3
        ],
        [
         "Alondes Williams",
         24,
         2.3,
         0.7,
         0.25,
         0.1,
         0.0,
         0.3
        ],
        [
         "Harry Giles",
         25,
         2.7,
         0.3,
         0.167,
         0.6,
         0.0,
         0.0
        ],
        [
         "Marques Bolden",
         25,
         1.5,
         0.0,
         null,
         1.0,
         0.0,
         0.0
        ],
        [
         "Kaiser Gates",
         27,
         7.0,
         0.0,
         0.0,
         1.0,
         0.0,
         0.0
        ],
        [
         "Danny Green",
         36,
         9.0,
         0.0,
         0.0,
         1.0,
         0.0,
         0.0
        ],
        [
         "Pete Nance",
         23,
         3.4,
         0.4,
         0.167,
         0.4,
         0.0,
         0.1
        ],
        [
         "Filip PetruÅ¡ev",
         23,
         3.0,
         0.0,
         null,
         1.0,
         0.0,
         0.0
        ],
        [
         "Maxwell Lewis",
         21,
         3.0,
         0.3,
         0.19,
         0.1,
         0.1,
         0.3
        ],
        [
         "Jacob Gilyard",
         25,
         11.3,
         0.0,
         0.0,
         0.5,
         0.3,
         0.3
        ],
        [
         "Trey Jemison",
         24,
         0.5,
         0.0,
         null,
         0.5,
         0.0,
         0.5
        ],
        [
         "Ryan Arcidiacono",
         29,
         2.3,
         0.0,
         0.0,
         0.4,
         0.0,
         0.1
        ],
        [
         "Darius Bazley",
         23,
         3.3,
         0.0,
         0.0,
         0.3,
         0.0,
         0.3
        ],
        [
         "Mamadi Diakite",
         27,
         2.7,
         0.0,
         0.0,
         0.3,
         0.0,
         0.3
        ],
        [
         "Malcolm Cazalon",
         22,
         3.0,
         0.0,
         null,
         0.0,
         0.0,
         0.0
        ],
        [
         "Jalen Crutcher",
         24,
         3.0,
         0.0,
         0.0,
         0.0,
         0.0,
         0.0
        ],
        [
         "Andrew Funk",
         24,
         2.6,
         0.0,
         0.0,
         0.0,
         0.0,
         0.0
        ],
        [
         "Ron Harper Jr.",
         23,
         4.0,
         0.0,
         null,
         0.0,
         0.0,
         0.0
        ],
        [
         "Justin Jackson",
         28,
         0.5,
         0.0,
         null,
         0.0,
         0.0,
         0.0
        ],
        [
         "Kira Lewis Jr.",
         22,
         2.0,
         0.0,
         null,
         0.0,
         0.0,
         0.0
        ],
        [
         "Dmytro Skapintsev",
         25,
         1.0,
         0.0,
         0.0,
         0.0,
         0.0,
         0.0
        ],
        [
         "Javonte Smart",
         24,
         1.0,
         0.0,
         null,
         0.0,
         0.0,
         0.0
        ]
       ],
       "datasetInfos": [],
       "dbfsResultPath": null,
       "isJsonSchema": true,
       "metadata": {},
       "overflow": false,
       "plotOptions": {
        "customPlotOptions": {},
        "displayType": "table",
        "pivotAggregation": null,
        "pivotColumns": null,
        "xColumns": null,
        "yColumns": null
       },
       "removedWidgets": [],
       "schema": [
        {
         "metadata": "{}",
         "name": "Player",
         "type": "\"string\""
        },
        {
         "metadata": "{}",
         "name": "Age",
         "type": "\"integer\""
        },
        {
         "metadata": "{}",
         "name": "MP",
         "type": "\"double\""
        },
        {
         "metadata": "{}",
         "name": "PTS",
         "type": "\"double\""
        },
        {
         "metadata": "{}",
         "name": "FGPerc",
         "type": "\"double\""
        },
        {
         "metadata": "{}",
         "name": "DRB",
         "type": "\"double\""
        },
        {
         "metadata": "{}",
         "name": "ORB",
         "type": "\"double\""
        },
        {
         "metadata": "{}",
         "name": "TOV",
         "type": "\"double\""
        }
       ],
       "type": "table"
      }
     },
     "output_type": "display_data"
    }
   ],
   "source": [
    "%sql\n",
    "SELECT\n",
    "  Player,\n",
    "    Age,\n",
    "    MP,\n",
    "    PTS,\n",
    "    FGPerc,\n",
    "    DRB,\n",
    "    ORB,\n",
    "    TOV\n",
    "FROM Dados_Jogadores_NBA_24\n",
    "ORDER BY ( DRB + 1.5 * PTS) DESC;"
   ]
  },
  {
   "cell_type": "markdown",
   "metadata": {
    "application/vnd.databricks.v1+cell": {
     "cellMetadata": {},
     "inputWidgets": {},
     "nuid": "72969b91-f4fe-45f1-b34c-fe597666872a",
     "showTitle": false,
     "title": ""
    }
   },
   "source": [
    "S"
   ]
  },
  {
   "cell_type": "code",
   "execution_count": 0,
   "metadata": {
    "application/vnd.databricks.v1+cell": {
     "cellMetadata": {
      "byteLimit": 2048000,
      "implicitDf": true,
      "rowLimit": 10000
     },
     "inputWidgets": {},
     "nuid": "c9e1d7cd-a862-4ab6-a2e3-84ef99eccd27",
     "showTitle": false,
     "title": ""
    }
   },
   "outputs": [
    {
     "output_type": "display_data",
     "data": {
      "text/html": [
       "<style scoped>\n",
       "  .table-result-container {\n",
       "    max-height: 300px;\n",
       "    overflow: auto;\n",
       "  }\n",
       "  table, th, td {\n",
       "    border: 1px solid black;\n",
       "    border-collapse: collapse;\n",
       "  }\n",
       "  th, td {\n",
       "    padding: 5px;\n",
       "  }\n",
       "  th {\n",
       "    text-align: left;\n",
       "  }\n",
       "</style><div class='table-result-container'><table class='table-result'><thead style='background-color: white'><tr><th>Classificacao_Equipe</th><th>Nome_Equipe</th><th>Media_Pontos</th><th>Maximo_Pontos</th><th>Media_Percentage_Acerto</th><th>Media_Rebotes_Defensivos</th><th>Media_Rebotes_Ofensivos</th><th>Media_TurnOver</th><th>Media_Classificacao_Jogador</th><th>Minima_Classificacao_Jogador</th><th>Metricas_Personalizadas</th></tr></thead><tbody><tr><td>1</td><td>WAS</td><td>7.8</td><td>22.2</td><td>0.47</td><td>2.4</td><td>0.87</td><td>0.95</td><td>231.96</td><td>106.0</td><td>0.47</td></tr><tr><td>2</td><td>CHO</td><td>9.3</td><td>23.9</td><td>0.44</td><td>2.67</td><td>0.87</td><td>1.18</td><td>294.62</td><td>113.0</td><td>0.46</td></tr><tr><td>3</td><td>TOR</td><td>8.27</td><td>22.2</td><td>0.43</td><td>2.49</td><td>0.98</td><td>1.04</td><td>281.23</td><td>1.0</td><td>0.42</td></tr><tr><td>4</td><td>HOU</td><td>8.83</td><td>21.1</td><td>0.48</td><td>2.8</td><td>1.0</td><td>0.94</td><td>333.59</td><td>139.0</td><td>0.41</td></tr><tr><td>5</td><td>MEM</td><td>8.61</td><td>25.1</td><td>0.41</td><td>2.84</td><td>1.07</td><td>1.23</td><td>301.03</td><td>145.0</td><td>0.4</td></tr><tr><td>6</td><td>NOP</td><td>7.75</td><td>22.9</td><td>0.39</td><td>2.34</td><td>0.72</td><td>0.83</td><td>306.2</td><td>111.0</td><td>0.4</td></tr><tr><td>7</td><td>IND</td><td>8.32</td><td>21.3</td><td>0.45</td><td>2.14</td><td>0.7</td><td>0.8</td><td>359.64</td><td>196.0</td><td>0.4</td></tr><tr><td>8</td><td>ORL</td><td>7.67</td><td>22.6</td><td>0.47</td><td>2.29</td><td>0.77</td><td>0.98</td><td>250.11</td><td>13.0</td><td>0.39</td></tr><tr><td>9</td><td>ATL</td><td>9.21</td><td>25.7</td><td>0.44</td><td>2.64</td><td>1.02</td><td>1.02</td><td>257.53</td><td>147.0</td><td>0.39</td></tr><tr><td>10</td><td>DET</td><td>8.33</td><td>22.7</td><td>0.45</td><td>2.53</td><td>0.77</td><td>0.97</td><td>248.39</td><td>112.0</td><td>0.38</td></tr><tr><td>11</td><td>GSW</td><td>8.2</td><td>26.4</td><td>0.46</td><td>2.53</td><td>0.91</td><td>0.99</td><td>354.61</td><td>114.0</td><td>0.37</td></tr><tr><td>12</td><td>UTA</td><td>9.26</td><td>23.2</td><td>0.47</td><td>2.78</td><td>1.1</td><td>1.2</td><td>273.19</td><td>102.0</td><td>0.37</td></tr><tr><td>13</td><td>BOS</td><td>8.53</td><td>26.9</td><td>0.49</td><td>2.65</td><td>0.89</td><td>0.83</td><td>328.95</td><td>118.0</td><td>0.37</td></tr><tr><td>14</td><td>CLE</td><td>8.89</td><td>26.6</td><td>0.46</td><td>2.61</td><td>0.79</td><td>1.06</td><td>322.39</td><td>163.0</td><td>0.36</td></tr><tr><td>15</td><td>MIA</td><td>8.8</td><td>20.8</td><td>0.43</td><td>2.55</td><td>0.74</td><td>0.95</td><td>309.0</td><td>197.0</td><td>0.35</td></tr><tr><td>16</td><td>NYK</td><td>7.44</td><td>28.7</td><td>0.39</td><td>2.14</td><td>0.83</td><td>0.83</td><td>225.69</td><td>1.0</td><td>0.33</td></tr><tr><td>17</td><td>LAC</td><td>7.65</td><td>23.7</td><td>0.45</td><td>2.34</td><td>0.82</td><td>0.94</td><td>288.43</td><td>101.0</td><td>0.3</td></tr><tr><td>18</td><td>TOT</td><td>6.96</td><td>21.7</td><td>0.45</td><td>2.17</td><td>0.76</td><td>0.84</td><td>265.13</td><td>1.0</td><td>0.29</td></tr><tr><td>19</td><td>BRK</td><td>8.3</td><td>22.5</td><td>0.43</td><td>2.66</td><td>0.93</td><td>1.0</td><td>294.67</td><td>100.0</td><td>0.27</td></tr><tr><td>20</td><td>CHI</td><td>8.96</td><td>24.0</td><td>0.44</td><td>2.72</td><td>1.0</td><td>0.94</td><td>273.39</td><td>109.0</td><td>0.27</td></tr><tr><td>21</td><td>DAL</td><td>8.47</td><td>33.9</td><td>0.49</td><td>2.54</td><td>0.84</td><td>0.9</td><td>267.95</td><td>113.0</td><td>0.26</td></tr><tr><td>22</td><td>PHI</td><td>7.28</td><td>34.7</td><td>0.42</td><td>2.21</td><td>0.66</td><td>0.79</td><td>278.32</td><td>107.0</td><td>0.26</td></tr><tr><td>23</td><td>LAL</td><td>7.25</td><td>25.7</td><td>0.42</td><td>2.18</td><td>0.57</td><td>0.86</td><td>302.24</td><td>116.0</td><td>0.26</td></tr><tr><td>24</td><td>MIN</td><td>7.5</td><td>25.9</td><td>0.48</td><td>2.28</td><td>0.65</td><td>0.87</td><td>272.47</td><td>10.0</td><td>0.26</td></tr><tr><td>25</td><td>PHO</td><td>7.48</td><td>27.1</td><td>0.45</td><td>2.3</td><td>0.76</td><td>0.93</td><td>262.59</td><td>137.0</td><td>0.25</td></tr><tr><td>26</td><td>MIL</td><td>7.28</td><td>30.4</td><td>0.45</td><td>2.2</td><td>0.58</td><td>0.8</td><td>231.57</td><td>105.0</td><td>0.25</td></tr><tr><td>27</td><td>SAS</td><td>8.26</td><td>21.4</td><td>0.51</td><td>2.6</td><td>0.83</td><td>1.0</td><td>235.9</td><td>103.0</td><td>0.25</td></tr><tr><td>28</td><td>POR</td><td>8.94</td><td>22.6</td><td>0.43</td><td>2.64</td><td>1.09</td><td>1.3</td><td>283.0</td><td>17.0</td><td>0.25</td></tr><tr><td>29</td><td>DEN</td><td>8.04</td><td>26.4</td><td>0.48</td><td>2.39</td><td>0.76</td><td>0.84</td><td>299.06</td><td>174.0</td><td>0.24</td></tr><tr><td>30</td><td>SAC</td><td>7.14</td><td>26.6</td><td>0.47</td><td>2.11</td><td>0.71</td><td>0.78</td><td>292.4</td><td>134.0</td><td>0.22</td></tr><tr><td>31</td><td>OKC</td><td>6.89</td><td>30.1</td><td>0.44</td><td>2.03</td><td>0.55</td><td>0.73</td><td>314.55</td><td>125.0</td><td>0.19</td></tr></tbody></table></div>"
      ]
     },
     "metadata": {
      "application/vnd.databricks.v1+output": {
       "addedWidgets": {},
       "aggData": [],
       "aggError": "",
       "aggOverflow": false,
       "aggSchema": [],
       "aggSeriesLimitReached": false,
       "aggType": "",
       "arguments": {},
       "columnCustomDisplayInfos": {},
       "data": [
        [
         1,
         "WAS",
         7.8,
         22.2,
         0.47,
         2.4,
         0.87,
         0.95,
         231.96,
         106.0,
         0.47
        ],
        [
         2,
         "CHO",
         9.3,
         23.9,
         0.44,
         2.67,
         0.87,
         1.18,
         294.62,
         113.0,
         0.46
        ],
        [
         3,
         "TOR",
         8.27,
         22.2,
         0.43,
         2.49,
         0.98,
         1.04,
         281.23,
         1.0,
         0.42
        ],
        [
         4,
         "HOU",
         8.83,
         21.1,
         0.48,
         2.8,
         1.0,
         0.94,
         333.59,
         139.0,
         0.41
        ],
        [
         5,
         "MEM",
         8.61,
         25.1,
         0.41,
         2.84,
         1.07,
         1.23,
         301.03,
         145.0,
         0.4
        ],
        [
         6,
         "NOP",
         7.75,
         22.9,
         0.39,
         2.34,
         0.72,
         0.83,
         306.2,
         111.0,
         0.4
        ],
        [
         7,
         "IND",
         8.32,
         21.3,
         0.45,
         2.14,
         0.7,
         0.8,
         359.64,
         196.0,
         0.4
        ],
        [
         8,
         "ORL",
         7.67,
         22.6,
         0.47,
         2.29,
         0.77,
         0.98,
         250.11,
         13.0,
         0.39
        ],
        [
         9,
         "ATL",
         9.21,
         25.7,
         0.44,
         2.64,
         1.02,
         1.02,
         257.53,
         147.0,
         0.39
        ],
        [
         10,
         "DET",
         8.33,
         22.7,
         0.45,
         2.53,
         0.77,
         0.97,
         248.39,
         112.0,
         0.38
        ],
        [
         11,
         "GSW",
         8.2,
         26.4,
         0.46,
         2.53,
         0.91,
         0.99,
         354.61,
         114.0,
         0.37
        ],
        [
         12,
         "UTA",
         9.26,
         23.2,
         0.47,
         2.78,
         1.1,
         1.2,
         273.19,
         102.0,
         0.37
        ],
        [
         13,
         "BOS",
         8.53,
         26.9,
         0.49,
         2.65,
         0.89,
         0.83,
         328.95,
         118.0,
         0.37
        ],
        [
         14,
         "CLE",
         8.89,
         26.6,
         0.46,
         2.61,
         0.79,
         1.06,
         322.39,
         163.0,
         0.36
        ],
        [
         15,
         "MIA",
         8.8,
         20.8,
         0.43,
         2.55,
         0.74,
         0.95,
         309.0,
         197.0,
         0.35
        ],
        [
         16,
         "NYK",
         7.44,
         28.7,
         0.39,
         2.14,
         0.83,
         0.83,
         225.69,
         1.0,
         0.33
        ],
        [
         17,
         "LAC",
         7.65,
         23.7,
         0.45,
         2.34,
         0.82,
         0.94,
         288.43,
         101.0,
         0.3
        ],
        [
         18,
         "TOT",
         6.96,
         21.7,
         0.45,
         2.17,
         0.76,
         0.84,
         265.13,
         1.0,
         0.29
        ],
        [
         19,
         "BRK",
         8.3,
         22.5,
         0.43,
         2.66,
         0.93,
         1.0,
         294.67,
         100.0,
         0.27
        ],
        [
         20,
         "CHI",
         8.96,
         24.0,
         0.44,
         2.72,
         1.0,
         0.94,
         273.39,
         109.0,
         0.27
        ],
        [
         21,
         "DAL",
         8.47,
         33.9,
         0.49,
         2.54,
         0.84,
         0.9,
         267.95,
         113.0,
         0.26
        ],
        [
         22,
         "PHI",
         7.28,
         34.7,
         0.42,
         2.21,
         0.66,
         0.79,
         278.32,
         107.0,
         0.26
        ],
        [
         23,
         "LAL",
         7.25,
         25.7,
         0.42,
         2.18,
         0.57,
         0.86,
         302.24,
         116.0,
         0.26
        ],
        [
         24,
         "MIN",
         7.5,
         25.9,
         0.48,
         2.28,
         0.65,
         0.87,
         272.47,
         10.0,
         0.26
        ],
        [
         25,
         "PHO",
         7.48,
         27.1,
         0.45,
         2.3,
         0.76,
         0.93,
         262.59,
         137.0,
         0.25
        ],
        [
         26,
         "MIL",
         7.28,
         30.4,
         0.45,
         2.2,
         0.58,
         0.8,
         231.57,
         105.0,
         0.25
        ],
        [
         27,
         "SAS",
         8.26,
         21.4,
         0.51,
         2.6,
         0.83,
         1.0,
         235.9,
         103.0,
         0.25
        ],
        [
         28,
         "POR",
         8.94,
         22.6,
         0.43,
         2.64,
         1.09,
         1.3,
         283.0,
         17.0,
         0.25
        ],
        [
         29,
         "DEN",
         8.04,
         26.4,
         0.48,
         2.39,
         0.76,
         0.84,
         299.06,
         174.0,
         0.24
        ],
        [
         30,
         "SAC",
         7.14,
         26.6,
         0.47,
         2.11,
         0.71,
         0.78,
         292.4,
         134.0,
         0.22
        ],
        [
         31,
         "OKC",
         6.89,
         30.1,
         0.44,
         2.03,
         0.55,
         0.73,
         314.55,
         125.0,
         0.19
        ]
       ],
       "datasetInfos": [],
       "dbfsResultPath": null,
       "isJsonSchema": true,
       "metadata": {},
       "overflow": false,
       "plotOptions": {
        "customPlotOptions": {},
        "displayType": "table",
        "pivotAggregation": null,
        "pivotColumns": null,
        "xColumns": null,
        "yColumns": null
       },
       "removedWidgets": [],
       "schema": [
        {
         "metadata": "{}",
         "name": "Classificacao_Equipe",
         "type": "\"integer\""
        },
        {
         "metadata": "{}",
         "name": "Nome_Equipe",
         "type": "\"string\""
        },
        {
         "metadata": "{}",
         "name": "Media_Pontos",
         "type": "\"double\""
        },
        {
         "metadata": "{}",
         "name": "Maximo_Pontos",
         "type": "\"double\""
        },
        {
         "metadata": "{}",
         "name": "Media_Percentage_Acerto",
         "type": "\"double\""
        },
        {
         "metadata": "{}",
         "name": "Media_Rebotes_Defensivos",
         "type": "\"double\""
        },
        {
         "metadata": "{}",
         "name": "Media_Rebotes_Ofensivos",
         "type": "\"double\""
        },
        {
         "metadata": "{}",
         "name": "Media_TurnOver",
         "type": "\"double\""
        },
        {
         "metadata": "{}",
         "name": "Media_Classificacao_Jogador",
         "type": "\"double\""
        },
        {
         "metadata": "{}",
         "name": "Minima_Classificacao_Jogador",
         "type": "\"double\""
        },
        {
         "metadata": "{}",
         "name": "Metricas_Personalizadas",
         "type": "\"double\""
        }
       ],
       "type": "table"
      }
     },
     "output_type": "display_data"
    }
   ],
   "source": [
    "%sql\n",
    "select * from dados_nba_preparados"
   ]
  }
 ],
 "metadata": {
  "application/vnd.databricks.v1+notebook": {
   "dashboards": [],
   "environmentMetadata": null,
   "language": "python",
   "notebookMetadata": {
    "mostRecentlyExecutedCommandWithImplicitDF": {
     "commandId": 631451586653921,
     "dataframes": [
      "_sqldf"
     ]
    },
    "pythonIndentUnit": 4
   },
   "notebookName": "MVPPUCRIO",
   "widgets": {}
  }
 },
 "nbformat": 4,
 "nbformat_minor": 0
}
