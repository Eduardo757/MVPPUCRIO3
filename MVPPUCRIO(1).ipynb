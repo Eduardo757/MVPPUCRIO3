{
 "cells": [
  {
   "cell_type": "code",
   "execution_count": 0,
   "metadata": {
    "application/vnd.databricks.v1+cell": {
     "cellMetadata": {
      "byteLimit": 2048000,
      "rowLimit": 10000
     },
     "inputWidgets": {},
     "nuid": "712d6438-dc10-4226-8fb0-77c61f2c48b8",
     "showTitle": true,
     "title": "EXTRACAO"
    }
   },
   "outputs": [],
   "source": [
    "# Importação das bibliotecas necessárias\n",
    "import re\n",
    "import requests\n",
    "from bs4 import BeautifulSoup\n",
    "import pandas as pd\n",
    "from pyspark.sql.types import DoubleType, IntegerType\n",
    "from pyspark.sql import SparkSession\n",
    "import logging\n",
    "from requests.exceptions import RequestException\n",
    "\n",
    "# Função para extrair dados do conteúdo HTML\n",
    "def extrair_dados_de_conteudo_html(html: str) -> pd.DataFrame:\n",
    "    sopa = BeautifulSoup(html, \"html.parser\")\n",
    "    tabelas = sopa.find_all(\"table\")\n",
    "    resultados = []\n",
    "    \n",
    "    # Itera sobre todas as tabelas encontradas no HTML\n",
    "    for tabela in tabelas:\n",
    "        linhas = tabela.find_all(\"tr\")\n",
    "        \n",
    "        # Itera sobre todas as linhas de cada tabela\n",
    "        for linha in linhas:\n",
    "            celulas = linha.find_all([\"td\", \"th\"])\n",
    "            registro = []\n",
    "            \n",
    "            # Itera sobre todas as células de cada linha\n",
    "            for celula in celulas:\n",
    "                celula_html = str(celula)\n",
    "                celula_texto = re.search(r'<a href=\".*?\">(.*?)</a>', celula_html)\n",
    "                # Adiciona o texto da célula ao registro\n",
    "                registro.append(celula_texto.group(1) if celula_texto else celula.text.strip())\n",
    "                \n",
    "            # Adiciona o registro à lista de resultados\n",
    "            resultados.append(registro)\n",
    "    \n",
    "    # Converte os resultados em um DataFrame pandas\n",
    "    df = pd.DataFrame(resultados)\n",
    "    \n",
    "    # Extrai a primeira linha como nomes das colunas\n",
    "    nomes_colunas = df.iloc[0]\n",
    "    df.columns = nomes_colunas\n",
    "    # Remove a primeira linha do DataFrame\n",
    "    df = df[1:] \n",
    "    return df\n",
    "\n",
    "# Função para extrair dados do URL fornecido\n",
    "def extrair(url: str) -> pd.DataFrame:\n",
    "    resposta = requests.get(url, timeout=20)\n",
    "    conteudo_html = resposta.text\n",
    "    return extrair_dados_de_conteudo_html(conteudo_html)\n",
    "\n",
    "# Configurando logging\n",
    "logging.basicConfig(filename='/extrair_erro.log', level=logging.ERROR)\n",
    "\n",
    "# Criando uma sessão Spark\n",
    "spark = SparkSession.builder.appName(\"Extrair_dados\").getOrCreate()\n",
    "\n",
    "# URL da página de estatísticas da NBA\n",
    "link_nba = 'https://www.basketball-reference.com/leagues/NBA_2024_per_game.html#per_game_stats'\n",
    "\n",
    "# Chamando a função de extração para obter os dados\n",
    "dados = extrair(link_nba)\n",
    "\n",
    "# Processando os nomes das colunas\n",
    "nomes_colunas = [nome.replace('%', 'Perc') if nome else 'ID' for nome in dados.columns]\n",
    "\n",
    "# Substituir o início da string se for um número\n",
    "nomes_colunas_processadas = [f\"{nome[1:]}{nome[0]}\" if nome[0].isdigit() else nome for nome in nomes_colunas]\n",
    "\n",
    "# Atualiza os nomes das colunas no DataFrame\n",
    "dados.columns = nomes_colunas_processadas\n",
    "\n",
    "# Filtra as linhas que não são títulos\n",
    "dados = dados[dados['Rk'] != 'Rk']\n",
    "\n",
    "# Definindo variáveis usadas no código abaixo\n",
    "caminho_delta = \"hive_metastore/default/caminho/delta\"\n",
    "caminho_checkpoint = \"/caminho/checkpoint\"\n",
    "\n",
    "# Convertendo o DataFrame pandas para DataFrame PySpark\n",
    "df_ = spark.createDataFrame(dados)\n",
    "    \n",
    "# Transformando colunas de string para tipos apropriados\n",
    "colunas_inteiras = ['Age', 'G', 'GS']\n",
    "colunas_floats = ['MP', 'FG', 'FGA', 'FGPerc', 'P3', 'PA3', 'PPerc3', 'P2', 'PA2',\n",
    "                 'PPerc2', 'eFGPerc', 'FT', 'FTA', 'FTPerc', 'ORB', 'DRB', 'TRB',\n",
    "                 'AST', 'STL', 'BLK', 'TOV', 'PF', 'PTS']\n",
    "\n",
    "# Convertendo colunas inteiras\n",
    "for nome_coluna in colunas_inteiras:\n",
    "    df_ = df_.withColumn(nome_coluna, df_[nome_coluna].cast(IntegerType()))\n",
    "\n",
    "# Convertendo colunas flutuantes\n",
    "for nome_coluna in colunas_floats:\n",
    "    df_ = df_.withColumn(nome_coluna, df_[nome_coluna].cast(DoubleType()))\n",
    "\n",
    "# Salvando o DataFrame como uma tabela Delta no Hive Metastore\n",
    "df_.write.mode(\"overwrite\").format(\"delta\").saveAsTable(\"Dados_Jogadores_NBA_24\")\n",
    "\n",
    "\n"
   ]
  },
  {
   "cell_type": "code",
   "execution_count": 0,
   "metadata": {
    "application/vnd.databricks.v1+cell": {
     "cellMetadata": {
      "byteLimit": 2048000,
      "implicitDf": true,
      "rowLimit": 10000
     },
     "inputWidgets": {},
     "nuid": "8e721769-4f09-425c-b8a2-4721b1e08d42",
     "showTitle": false,
     "title": ""
    }
   },
   "outputs": [
    {
     "output_type": "display_data",
     "data": {
      "text/html": [
       "<style scoped>\n",
       "  .table-result-container {\n",
       "    max-height: 300px;\n",
       "    overflow: auto;\n",
       "  }\n",
       "  table, th, td {\n",
       "    border: 1px solid black;\n",
       "    border-collapse: collapse;\n",
       "  }\n",
       "  th, td {\n",
       "    padding: 5px;\n",
       "  }\n",
       "  th {\n",
       "    text-align: left;\n",
       "  }\n",
       "</style><div class='table-result-container'><table class='table-result'><thead style='background-color: white'><tr><th>num_affected_rows</th><th>num_inserted_rows</th></tr></thead><tbody><tr><td>31</td><td>31</td></tr></tbody></table></div>"
      ]
     },
     "metadata": {
      "application/vnd.databricks.v1+output": {
       "addedWidgets": {},
       "aggData": [],
       "aggError": "",
       "aggOverflow": false,
       "aggSchema": [],
       "aggSeriesLimitReached": false,
       "aggType": "",
       "arguments": {},
       "columnCustomDisplayInfos": {},
       "data": [
        [
         31,
         31
        ]
       ],
       "datasetInfos": [],
       "dbfsResultPath": null,
       "isJsonSchema": true,
       "metadata": {},
       "overflow": false,
       "plotOptions": {
        "customPlotOptions": {},
        "displayType": "table",
        "pivotAggregation": null,
        "pivotColumns": null,
        "xColumns": null,
        "yColumns": null
       },
       "removedWidgets": [],
       "schema": [
        {
         "metadata": "{}",
         "name": "num_affected_rows",
         "type": "\"long\""
        },
        {
         "metadata": "{}",
         "name": "num_inserted_rows",
         "type": "\"long\""
        }
       ],
       "type": "table"
      }
     },
     "output_type": "display_data"
    }
   ],
   "source": [
    "%sql\n",
    "-- Criação 'dados_nba_preparados'\n",
    "CREATE OR REPLACE TABLE\n",
    "   dados_nba_preparados (\n",
    "     Classificacao_Equipe int,\n",
    "     Nome_Equipe string,\n",
    "     Media_Pontos double,\n",
    "     Maximo_Pontos double,\n",
    "     Media_Percentage_Acerto double,\n",
    "     Media_Rebotes_Defensivos double,\n",
    "     Media_Rebotes_Ofensivos double,\n",
    "     Media_TurnOver double,\n",
    "     Media_Classificacao_Jogador double,\n",
    "     Minima_Classificacao_Jogador double,\n",
    "     Metricas_Personalizadas double\n",
    "   );\n",
    "\n",
    "-- Inserção de dados na tabela 'dados_nba_preparados'\n",
    "INSERT INTO\n",
    "   dados_nba_preparados\n",
    "\n",
    "-- Definição de uma CTE (Common Table Expression) para calcular estatísticas médias para cada equipe\n",
    "WITH estatisticas_equipes AS (\n",
    "     SELECT\n",
    "         Tm AS Equipe,\n",
    "         AVG(PTS) AS media_pontos,\n",
    "         AVG(FGPerc) AS media_percentage_acerto,\n",
    "         AVG(DRB) AS media_rebotes_defensivos,\n",
    "         AVG(ORB) AS media_rebotes_ofensivos,\n",
    "         AVG(TOV) AS media_turnover,\n",
    "         AVG(Rk) AS media_classificacao_jogador\n",
    "     FROM Dados_Jogadores_NBA_24\n",
    "     GROUP BY Tm\n",
    " ),\n",
    "\n",
    "-- Definição de uma CTE para calcular os valores mínimos e máximos de cada estatística por equipe\n",
    "min_max_valores AS (\n",
    "     SELECT\n",
    "         Tm AS Equipe,\n",
    "         MIN(PTS) AS min_pontos,\n",
    "         MAX(PTS) AS max_pontos,\n",
    "         MIN(FGPerc) AS min_percentage_acerto,\n",
    "         MAX(FGPerc) AS max_percentage_acerto,\n",
    "         MIN(DRB) AS min_rebotes_defensivos,\n",
    "         MAX(DRB) AS max_rebotes_defensivos,\n",
    "         MIN(ORB) AS min_rebotes_ofensivos,\n",
    "         MAX(ORB) AS max_rebotes_ofensivos,\n",
    "         MIN(TOV) AS min_turnover,\n",
    "         MAX(TOV) AS max_turnover,\n",
    "         MIN(RK) AS min_classificacao_jogador,\n",
    "         MAX(RK) AS max_classificacao_jogador\n",
    "     FROM Dados_Jogadores_NBA_24\n",
    "     GROUP BY Tm\n",
    " ),\n",
    "\n",
    "-- Definição de uma CTE para calcular os valores normalizados de cada estatística por equipe\n",
    "equipes_rankeadas AS (\n",
    "     SELECT\n",
    "         e.Equipe,\n",
    "         e.media_pontos,\n",
    "         e.media_percentage_acerto,\n",
    "         e.media_rebotes_defensivos,\n",
    "         e.media_rebotes_ofensivos,\n",
    "         e.media_turnover,\n",
    "         e.media_classificacao_jogador,\n",
    "         (\n",
    "         e.media_pontos - mmv.min_pontos\n",
    "         ) / (\n",
    "         mmv.max_pontos - mmv.min_pontos\n",
    "         ) AS pontos_normalizados,\n",
    "         (\n",
    "         e.media_percentage_acerto - mmv.min_percentage_acerto\n",
    "         ) / (\n",
    "         mmv.max_percentage_acerto - mmv.min_percentage_acerto\n",
    "         ) AS percentage_acerto_normalizado,\n",
    "         (\n",
    "         e.media_rebotes_defensivos - mmv.min_rebotes_defensivos\n",
    "         ) / (\n",
    "         mmv.max_rebotes_defensivos - mmv.min_rebotes_defensivos\n",
    "         ) AS rebotes_defensivos_normalizados,\n",
    "         (\n",
    "         e.media_rebotes_ofensivos - mmv.min_rebotes_ofensivos\n",
    "         ) / (\n",
    "         mmv.max_rebotes_ofensivos - mmv.min_rebotes_ofensivos\n",
    "         ) AS rebotes_ofensivos_normalizados,\n",
    "         (\n",
    "         e.media_turnover - mmv.min_turnover\n",
    "         ) / (\n",
    "         mmv.max_turnover - mmv.min_turnover\n",
    "         ) AS turnover_normalizado,\n",
    "         (\n",
    "         e.media_classificacao_jogador - mmv.min_classificacao_jogador\n",
    "         ) / (\n",
    "         mmv.max_classificacao_jogador - mmv.min_classificacao_jogador\n",
    "         ) AS classificacao_jogador_normalizado,\n",
    "         RANK() OVER (ORDER BY e.media_pontos DESC) AS classificacao_equipes\n",
    "     FROM estatisticas_equipes e\n",
    "     JOIN min_max_valores mmv ON e.Equipe = mmv.Equipe\n",
    " ),\n",
    "\n",
    "-- Definição de uma CTE para rankear as equipes com base em uma métrica personalizada\n",
    "equipes_rankeadas_2 AS (\n",
    "     SELECT\n",
    "         Equipe,\n",
    "         media_pontos,\n",
    "         media_percentage_acerto,\n",
    "         media_rebotes_defensivos,\n",
    "         media_rebotes_ofensivos,\n",
    "         media_turnover,\n",
    "         pontos_normalizados,\n",
    "         media_classificacao_jogador,\n",
    "         percentage_acerto_normalizado,\n",
    "         rebotes_defensivos_normalizados,\n",
    "         rebotes_ofensivos_normalizados,\n",
    "         turnover_normalizado,\n",
    "         classificacao_jogador_normalizado,\n",
    "         RANK() OVER (ORDER BY pontos_normalizados - turnover_normalizado + rebotes_defensivos_normalizados DESC) AS classificacao_equipes\n",
    "     FROM equipes_rankeadas\n",
    " )\n",
    "\n",
    "-- Output dos resultados unindo os dados das CTEs 'equipes_rankeadas_2' e 'min_max_valores' e filtrando as top 100 equipes\n",
    "SELECT\n",
    "     eqr2.classificacao_equipes,\n",
    "     eqr2.Equipe,\n",
    "     ROUND(eqr2.media_pontos, 2),\n",
    "     ROUND(mmv.max_pontos, 2) AS max_pontos,\n",
    "     ROUND(eqr2.media_percentage_acerto, 2),\n",
    "     ROUND(eqr2.media_rebotes_defensivos, 2) AS media_reb_defensivos,\n",
    "     ROUND(eqr2.media_rebotes_ofensivos, 2) AS media_reb_ofensivos,\n",
    "     ROUND(eqr2.media_turnover, 2),\n",
    "     ROUND(eqr2.media_classificacao_jogador, 2) AS media_classificacao,\n",
    "     ROUND(mmv.min_classificacao_jogador, 2) AS min_classificacao,\n",
    "     ROUND(pontos_normalizados - turnover_normalizado + rebotes_defensivos_normalizados, 2) AS metricas_personalizadas\n",
    "FROM\n",
    "    equipes_rankeadas_2 eqr2\n",
    "    LEFT JOIN min_max_valores mmv ON mmv.Equipe = eqr2.Equipe\n",
    "WHERE\n",
    "     eqr2.classificacao_equipes <= 100;\n"
   ]
  },
  {
   "cell_type": "code",
   "execution_count": 0,
   "metadata": {
    "application/vnd.databricks.v1+cell": {
     "cellMetadata": {
      "byteLimit": 2048000,
      "rowLimit": 10000
     },
     "inputWidgets": {},
     "nuid": "d82dd9ab-2758-4d16-8873-4e0596eb719c",
     "showTitle": false,
     "title": ""
    }
   },
   "outputs": [],
   "source": [
    "from pyspark.sql import SparkSession\n",
    "\n",
    "# Criar uma SparkSession\n",
    "spark = SparkSession.builder.getOrCreate()\n",
    "\n",
    "# Validação da qualidade dos dados\n",
    "# Ler a tabela de dados preparados (dados_nba_preparados) em um DataFrame Spark\n",
    "dados_nba_preparados = spark.table(\"dados_nba_preparados\")\n",
    "\n",
    "# Contar o número de linhas duplicadas\n",
    "duplicatas = (\n",
    "  dados_nba_preparados\n",
    "  .groupBy(\"Classificacao_Equipe\", \"Nome_Equipe\", \"Media_Pontos\", \"Maximo_Pontos\", \"Media_Percentage_Acerto\",\n",
    "           \"Media_Rebotes_Defensivos\", \"Media_Rebotes_Ofensivos\", \"Media_TurnOver\",\n",
    "           \"Media_Classificacao_Jogador\", \"Minima_Classificacao_Jogador\", \"Metricas_Personalizadas\")\n",
    "  .count()\n",
    "  .filter(\"count > 1\")\n",
    ")\n",
    "\n",
    "# Assegurar que o número de linhas duplicadas é zero\n",
    "assert duplicatas.count() == 0, \"Linhas duplicadas encontradas em dados_nba_preparados\"\n"
   ]
  },
  {
   "cell_type": "code",
   "execution_count": 0,
   "metadata": {
    "application/vnd.databricks.v1+cell": {
     "cellMetadata": {
      "byteLimit": 2048000,
      "rowLimit": 10000
     },
     "inputWidgets": {},
     "nuid": "e3edf5fe-9f51-4fc4-8cd6-cf423c46c909",
     "showTitle": false,
     "title": ""
    }
   },
   "outputs": [
    {
     "output_type": "display_data",
     "data": {
      "image/png": "[encoded data removed]"
     },
     "metadata": {
      "application/vnd.databricks.v1+output": {
       "addedWidgets": {},
       "arguments": {},
       "data": "data:image/png;base64,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\n",
       "datasetInfos": [],
       "metadata": {},
       "removedWidgets": [],
       "type": "image"
      }
     },
     "output_type": "display_data"
    },
    {
     "output_type": "display_data",
     "data": {
      "image/png": "[encoded data removed]"
     },
     "metadata": {
      "application/vnd.databricks.v1+output": {
       "addedWidgets": {},
       "arguments": {},
       "data": "data:image/png;base64,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\n",
       "datasetInfos": [],
       "metadata": {},
       "removedWidgets": [],
       "type": "image"
      }
     },
     "output_type": "display_data"
    }
   ],
   "source": [
    "import matplotlib.pyplot as plt\n",
    "import seaborn as sns\n",
    "from pyspark.sql import SparkSession\n",
    "\n",
    "# Criar uma SparkSession\n",
    "spark = SparkSession.builder.getOrCreate()\n",
    "\n",
    "query = \"SELECT * FROM dados_nba_preparados\"\n",
    "query_result = spark.sql(query)\n",
    "dados_nba_preparados = query_result.toPandas()\n",
    "\n",
    "dados_nba_preparados.head()\n",
    "\n",
    "# Criar gráfico de barras com as classificações das equipes\n",
    "sns.barplot(y=dados_nba_preparados.Nome_Equipe, x=dados_nba_preparados.Classificacao_Equipe)\n",
    "plt.title('Classificações Personalizadas das Equipes')\n",
    "plt.xlabel('Classificação')\n",
    "plt.ylabel('Equipe')\n",
    "plt.show()\n",
    "\n",
    "# Criar um mapa de calor para as métricas das equipes\n",
    "import numpy as np\n",
    "\n",
    "# Criar uma cópia dos dados e remover a coluna de nome da equipe\n",
    "dados = dados_nba_preparados.copy()\n",
    "dados = dados.drop('Nome_Equipe', axis=1)\n",
    "dados = dados.drop('Classificacao_Equipe', axis=1)\n",
    "\n",
    "# Normalizar os dados por categoria\n",
    "dados = (dados - dados.mean()) / dados.std()\n",
    "\n",
    "# Configurar o gráfico\n",
    "categorias = list(dados.columns)\n",
    "equipes = list(dados_nba_preparados['Nome_Equipe'].values)\n",
    "x = np.arange(len(categorias))\n",
    "y = np.arange(len(equipes))\n",
    "X, Y = np.meshgrid(x, y)\n",
    "\n",
    "# Criar o gráfico\n",
    "plt.figure(figsize=(10, 8))\n",
    "plt.imshow(dados, cmap='viridis', interpolation='nearest')\n",
    "plt.colorbar(label='Diferença Relativa')\n",
    "plt.xticks(x, categorias, rotation=90)\n",
    "plt.yticks(y, equipes)\n",
    "plt.xlabel('Categorias')\n",
    "plt.ylabel('Equipes')\n",
    "plt.title('Classificações das Equipes da NBA por Categoria (Normalizado)')\n",
    "plt.show()"
   ]
  },
  {
   "cell_type": "code",
   "execution_count": 0,
   "metadata": {
    "application/vnd.databricks.v1+cell": {
     "cellMetadata": {
      "byteLimit": 2048000,
      "implicitDf": true,
      "rowLimit": 10000
     },
     "inputWidgets": {},
     "nuid": "96540b2e-c408-4eb0-8e06-d63e2f2f4891",
     "showTitle": false,
     "title": ""
    }
   },
   "outputs": [
    {
     "output_type": "display_data",
     "data": {
      "text/html": [
       "<style scoped>\n",
       "  .table-result-container {\n",
       "    max-height: 300px;\n",
       "    overflow: auto;\n",
       "  }\n",
       "  table, th, td {\n",
       "    border: 1px solid black;\n",
       "    border-collapse: collapse;\n",
       "  }\n",
       "  th, td {\n",
       "    padding: 5px;\n",
       "  }\n",
       "  th {\n",
       "    text-align: left;\n",
       "  }\n",
       "</style><div class='table-result-container'><table class='table-result'><thead style='background-color: white'><tr><th>Nome_Equipe</th><th>Media_Percentage_Acerto</th></tr></thead><tbody><tr><td>NOP</td><td>0.39</td></tr><tr><td>NYK</td><td>0.39</td></tr><tr><td>SAS</td><td>0.51</td></tr></tbody></table></div>"
      ]
     },
     "metadata": {
      "application/vnd.databricks.v1+output": {
       "addedWidgets": {},
       "aggData": [],
       "aggError": "",
       "aggOverflow": false,
       "aggSchema": [],
       "aggSeriesLimitReached": false,
       "aggType": "",
       "arguments": {},
       "columnCustomDisplayInfos": {},
       "data": [
        [
         "NOP",
         0.39
        ],
        [
         "NYK",
         0.39
        ],
        [
         "SAS",
         0.51
        ]
       ],
       "datasetInfos": [],
       "dbfsResultPath": null,
       "isJsonSchema": true,
       "metadata": {},
       "overflow": false,
       "plotOptions": {
        "customPlotOptions": {},
        "displayType": "table",
        "pivotAggregation": null,
        "pivotColumns": null,
        "xColumns": null,
        "yColumns": null
       },
       "removedWidgets": [],
       "schema": [
        {
         "metadata": "{}",
         "name": "Nome_Equipe",
         "type": "\"string\""
        },
        {
         "metadata": "{}",
         "name": "Media_Percentage_Acerto",
         "type": "\"double\""
        }
       ],
       "type": "table"
      }
     },
     "output_type": "display_data"
    }
   ],
   "source": [
    "%sql \n",
    "\n",
    "SELECT\n",
    "    Nome_Equipe,\n",
    "    Media_Percentage_Acerto\n",
    "FROM dados_nba_preparados\n",
    "WHERE Media_Percentage_Acerto = (SELECT MAX(Media_Percentage_Acerto) FROM dados_nba_preparados)\n",
    "   OR Media_Percentage_Acerto = (SELECT MIN(Media_Percentage_Acerto) FROM dados_nba_preparados);"
   ]
  },
  {
   "cell_type": "code",
   "execution_count": 0,
   "metadata": {
    "application/vnd.databricks.v1+cell": {
     "cellMetadata": {
      "byteLimit": 2048000,
      "implicitDf": true,
      "rowLimit": 10000
     },
     "inputWidgets": {},
     "nuid": "dcc444d6-f63f-40d8-9c30-a5d3c635f6a6",
     "showTitle": false,
     "title": ""
    }
   },
   "outputs": [
    {
     "output_type": "display_data",
     "data": {
      "text/html": [
       "<style scoped>\n",
       "  .table-result-container {\n",
       "    max-height: 300px;\n",
       "    overflow: auto;\n",
       "  }\n",
       "  table, th, td {\n",
       "    border: 1px solid black;\n",
       "    border-collapse: collapse;\n",
       "  }\n",
       "  th, td {\n",
       "    padding: 5px;\n",
       "  }\n",
       "  th {\n",
       "    text-align: left;\n",
       "  }\n",
       "</style><div class='table-result-container'><table class='table-result'><thead style='background-color: white'><tr><th>Nome_Equipe</th><th>Media_Pontos</th></tr></thead><tbody><tr><td>CHO</td><td>9.3</td></tr><tr><td>UTA</td><td>9.26</td></tr><tr><td>ATL</td><td>9.21</td></tr><tr><td>CHI</td><td>8.96</td></tr><tr><td>POR</td><td>8.94</td></tr><tr><td>CLE</td><td>8.89</td></tr><tr><td>HOU</td><td>8.83</td></tr><tr><td>MIA</td><td>8.8</td></tr><tr><td>MEM</td><td>8.61</td></tr><tr><td>BOS</td><td>8.53</td></tr></tbody></table></div>"
      ]
     },
     "metadata": {
      "application/vnd.databricks.v1+output": {
       "addedWidgets": {},
       "aggData": [],
       "aggError": "",
       "aggOverflow": false,
       "aggSchema": [],
       "aggSeriesLimitReached": false,
       "aggType": "",
       "arguments": {},
       "columnCustomDisplayInfos": {},
       "data": [
        [
         "CHO",
         9.3
        ],
        [
         "UTA",
         9.26
        ],
        [
         "ATL",
         9.21
        ],
        [
         "CHI",
         8.96
        ],
        [
         "POR",
         8.94
        ],
        [
         "CLE",
         8.89
        ],
        [
         "HOU",
         8.83
        ],
        [
         "MIA",
         8.8
        ],
        [
         "MEM",
         8.61
        ],
        [
         "BOS",
         8.53
        ]
       ],
       "datasetInfos": [],
       "dbfsResultPath": null,
       "isJsonSchema": true,
       "metadata": {},
       "overflow": false,
       "plotOptions": {
        "customPlotOptions": {},
        "displayType": "table",
        "pivotAggregation": null,
        "pivotColumns": null,
        "xColumns": null,
        "yColumns": null
       },
       "removedWidgets": [],
       "schema": [
        {
         "metadata": "{}",
         "name": "Nome_Equipe",
         "type": "\"string\""
        },
        {
         "metadata": "{}",
         "name": "Media_Pontos",
         "type": "\"double\""
        }
       ],
       "type": "table"
      }
     },
     "output_type": "display_data"
    }
   ],
   "source": [
    "%sql\n",
    "\n",
    "SELECT \n",
    "    Nome_Equipe,\n",
    "    Media_Pontos\n",
    "FROM dados_nba_preparados\n",
    "ORDER BY Media_Pontos DESC\n",
    "limit 10;"
   ]
  },
  {
   "cell_type": "code",
   "execution_count": 0,
   "metadata": {
    "application/vnd.databricks.v1+cell": {
     "cellMetadata": {
      "byteLimit": 2048000,
      "implicitDf": true,
      "rowLimit": 10000
     },
     "inputWidgets": {},
     "nuid": "c0be4007-efe1-43ce-b4f7-95a694e6da9f",
     "showTitle": false,
     "title": ""
    }
   },
   "outputs": [
    {
     "output_type": "display_data",
     "data": {
      "text/html": [
       "<style scoped>\n",
       "  .table-result-container {\n",
       "    max-height: 300px;\n",
       "    overflow: auto;\n",
       "  }\n",
       "  table, th, td {\n",
       "    border: 1px solid black;\n",
       "    border-collapse: collapse;\n",
       "  }\n",
       "  th, td {\n",
       "    padding: 5px;\n",
       "  }\n",
       "  th {\n",
       "    text-align: left;\n",
       "  }\n",
       "</style><div class='table-result-container'><table class='table-result'><thead style='background-color: white'><tr><th>Player</th><th>Age</th><th>MP</th><th>PTS</th><th>FGPerc</th><th>DRB</th><th>ORB</th><th>TOV</th></tr></thead><tbody><tr><td>Joel Embiid</td><td>29</td><td>33.6</td><td>34.7</td><td>0.529</td><td>8.6</td><td>2.4</td><td>3.8</td></tr><tr><td>Luka DonÄiÄ</td><td>24</td><td>37.5</td><td>33.9</td><td>0.487</td><td>8.4</td><td>0.8</td><td>4.0</td></tr><tr><td>Giannis Antetokounmpo</td><td>29</td><td>35.2</td><td>30.4</td><td>0.611</td><td>8.8</td><td>2.7</td><td>3.4</td></tr><tr><td>Nikola JokiÄ</td><td>28</td><td>34.6</td><td>26.4</td><td>0.583</td><td>9.5</td><td>2.8</td><td>3.0</td></tr><tr><td>Anthony Davis</td><td>30</td><td>35.5</td><td>24.7</td><td>0.556</td><td>9.5</td><td>3.1</td><td>2.1</td></tr><tr><td>Jayson Tatum</td><td>25</td><td>35.7</td><td>26.9</td><td>0.471</td><td>7.2</td><td>0.9</td><td>2.5</td></tr><tr><td>Shai Gilgeous-Alexander</td><td>25</td><td>34.0</td><td>30.1</td><td>0.535</td><td>4.7</td><td>0.9</td><td>2.2</td></tr><tr><td>Kevin Durant</td><td>35</td><td>37.2</td><td>27.1</td><td>0.523</td><td>6.1</td><td>0.5</td><td>3.3</td></tr><tr><td>LeBron James</td><td>39</td><td>35.3</td><td>25.7</td><td>0.54</td><td>6.4</td><td>0.9</td><td>3.5</td></tr><tr><td>Domantas Sabonis</td><td>27</td><td>35.7</td><td>19.4</td><td>0.594</td><td>10.1</td><td>3.6</td><td>3.3</td></tr></tbody></table></div>"
      ]
     },
     "metadata": {
      "application/vnd.databricks.v1+output": {
       "addedWidgets": {},
       "aggData": [],
       "aggError": "",
       "aggOverflow": false,
       "aggSchema": [],
       "aggSeriesLimitReached": false,
       "aggType": "",
       "arguments": {},
       "columnCustomDisplayInfos": {},
       "data": [
        [
         "Joel Embiid",
         29,
         33.6,
         34.7,
         0.529,
         8.6,
         2.4,
         3.8
        ],
        [
         "Luka DonÄiÄ",
         24,
         37.5,
         33.9,
         0.487,
         8.4,
         0.8,
         4.0
        ],
        [
         "Giannis Antetokounmpo",
         29,
         35.2,
         30.4,
         0.611,
         8.8,
         2.7,
         3.4
        ],
        [
         "Nikola JokiÄ",
         28,
         34.6,
         26.4,
         0.583,
         9.5,
         2.8,
         3.0
        ],
        [
         "Anthony Davis",
         30,
         35.5,
         24.7,
         0.556,
         9.5,
         3.1,
         2.1
        ],
        [
         "Jayson Tatum",
         25,
         35.7,
         26.9,
         0.471,
         7.2,
         0.9,
         2.5
        ],
        [
         "Shai Gilgeous-Alexander",
         25,
         34.0,
         30.1,
         0.535,
         4.7,
         0.9,
         2.2
        ],
        [
         "Kevin Durant",
         35,
         37.2,
         27.1,
         0.523,
         6.1,
         0.5,
         3.3
        ],
        [
         "LeBron James",
         39,
         35.3,
         25.7,
         0.54,
         6.4,
         0.9,
         3.5
        ],
        [
         "Domantas Sabonis",
         27,
         35.7,
         19.4,
         0.594,
         10.1,
         3.6,
         3.3
        ]
       ],
       "datasetInfos": [],
       "dbfsResultPath": null,
       "isJsonSchema": true,
       "metadata": {},
       "overflow": false,
       "plotOptions": {
        "customPlotOptions": {},
        "displayType": "table",
        "pivotAggregation": null,
        "pivotColumns": null,
        "xColumns": null,
        "yColumns": null
       },
       "removedWidgets": [],
       "schema": [
        {
         "metadata": "{}",
         "name": "Player",
         "type": "\"string\""
        },
        {
         "metadata": "{}",
         "name": "Age",
         "type": "\"integer\""
        },
        {
         "metadata": "{}",
         "name": "MP",
         "type": "\"double\""
        },
        {
         "metadata": "{}",
         "name": "PTS",
         "type": "\"double\""
        },
        {
         "metadata": "{}",
         "name": "FGPerc",
         "type": "\"double\""
        },
        {
         "metadata": "{}",
         "name": "DRB",
         "type": "\"double\""
        },
        {
         "metadata": "{}",
         "name": "ORB",
         "type": "\"double\""
        },
        {
         "metadata": "{}",
         "name": "TOV",
         "type": "\"double\""
        }
       ],
       "type": "table"
      }
     },
     "output_type": "display_data"
    }
   ],
   "source": [
    "%sql \n",
    "   select Player,\n",
    "    Age,\n",
    "    MP,\n",
    "    PTS,\n",
    "    FGPerc,\n",
    "    DRB,\n",
    "    ORB,\n",
    "    TOV\n",
    "FROM Dados_Jogadores_NBA_24\n",
    "ORDER BY (PTS + 1.5 * DRB) DESC\n",
    "limit 10;"
   ]
  },
  {
   "cell_type": "code",
   "execution_count": 0,
   "metadata": {
    "application/vnd.databricks.v1+cell": {
     "cellMetadata": {
      "byteLimit": 2048000,
      "implicitDf": true,
      "rowLimit": 10000
     },
     "inputWidgets": {},
     "nuid": "b4990376-a31c-4e19-9709-e1b3dce6a1ca",
     "showTitle": false,
     "title": ""
    }
   },
   "outputs": [
    {
     "output_type": "display_data",
     "data": {
      "text/html": [
       "<style scoped>\n",
       "  .table-result-container {\n",
       "    max-height: 300px;\n",
       "    overflow: auto;\n",
       "  }\n",
       "  table, th, td {\n",
       "    border: 1px solid black;\n",
       "    border-collapse: collapse;\n",
       "  }\n",
       "  th, td {\n",
       "    padding: 5px;\n",
       "  }\n",
       "  th {\n",
       "    text-align: left;\n",
       "  }\n",
       "</style><div class='table-result-container'><table class='table-result'><thead style='background-color: white'><tr><th>Player</th><th>Age</th><th>MP</th><th>PTS</th><th>FGPerc</th><th>DRB</th><th>ORB</th><th>TOV</th></tr></thead><tbody><tr><td>Joel Embiid</td><td>29</td><td>33.6</td><td>34.7</td><td>0.529</td><td>8.6</td><td>2.4</td><td>3.8</td></tr><tr><td>Luka DonÄiÄ</td><td>24</td><td>37.5</td><td>33.9</td><td>0.487</td><td>8.4</td><td>0.8</td><td>4.0</td></tr><tr><td>Giannis Antetokounmpo</td><td>29</td><td>35.2</td><td>30.4</td><td>0.611</td><td>8.8</td><td>2.7</td><td>3.4</td></tr><tr><td>Nikola JokiÄ</td><td>28</td><td>34.6</td><td>26.4</td><td>0.583</td><td>9.5</td><td>2.8</td><td>3.0</td></tr><tr><td>Anthony Davis</td><td>30</td><td>35.5</td><td>24.7</td><td>0.556</td><td>9.5</td><td>3.1</td><td>2.1</td></tr><tr><td>Jayson Tatum</td><td>25</td><td>35.7</td><td>26.9</td><td>0.471</td><td>7.2</td><td>0.9</td><td>2.5</td></tr><tr><td>Shai Gilgeous-Alexander</td><td>25</td><td>34.0</td><td>30.1</td><td>0.535</td><td>4.7</td><td>0.9</td><td>2.2</td></tr><tr><td>Kevin Durant</td><td>35</td><td>37.2</td><td>27.1</td><td>0.523</td><td>6.1</td><td>0.5</td><td>3.3</td></tr><tr><td>LeBron James</td><td>39</td><td>35.3</td><td>25.7</td><td>0.54</td><td>6.4</td><td>0.9</td><td>3.5</td></tr><tr><td>Domantas Sabonis</td><td>27</td><td>35.7</td><td>19.4</td><td>0.594</td><td>10.1</td><td>3.6</td><td>3.3</td></tr></tbody></table></div>"
      ]
     },
     "metadata": {
      "application/vnd.databricks.v1+output": {
       "addedWidgets": {},
       "aggData": [],
       "aggError": "",
       "aggOverflow": false,
       "aggSchema": [],
       "aggSeriesLimitReached": false,
       "aggType": "",
       "arguments": {},
       "columnCustomDisplayInfos": {},
       "data": [
        [
         "Joel Embiid",
         29,
         33.6,
         34.7,
         0.529,
         8.6,
         2.4,
         3.8
        ],
        [
         "Luka DonÄiÄ",
         24,
         37.5,
         33.9,
         0.487,
         8.4,
         0.8,
         4.0
        ],
        [
         "Giannis Antetokounmpo",
         29,
         35.2,
         30.4,
         0.611,
         8.8,
         2.7,
         3.4
        ],
        [
         "Nikola JokiÄ",
         28,
         34.6,
         26.4,
         0.583,
         9.5,
         2.8,
         3.0
        ],
        [
         "Anthony Davis",
         30,
         35.5,
         24.7,
         0.556,
         9.5,
         3.1,
         2.1
        ],
        [
         "Jayson Tatum",
         25,
         35.7,
         26.9,
         0.471,
         7.2,
         0.9,
         2.5
        ],
        [
         "Shai Gilgeous-Alexander",
         25,
         34.0,
         30.1,
         0.535,
         4.7,
         0.9,
         2.2
        ],
        [
         "Kevin Durant",
         35,
         37.2,
         27.1,
         0.523,
         6.1,
         0.5,
         3.3
        ],
        [
         "LeBron James",
         39,
         35.3,
         25.7,
         0.54,
         6.4,
         0.9,
         3.5
        ],
        [
         "Domantas Sabonis",
         27,
         35.7,
         19.4,
         0.594,
         10.1,
         3.6,
         3.3
        ]
       ],
       "datasetInfos": [],
       "dbfsResultPath": null,
       "isJsonSchema": true,
       "metadata": {},
       "overflow": false,
       "plotOptions": {
        "customPlotOptions": {},
        "displayType": "table",
        "pivotAggregation": null,
        "pivotColumns": null,
        "xColumns": null,
        "yColumns": null
       },
       "removedWidgets": [],
       "schema": [
        {
         "metadata": "{}",
         "name": "Player",
         "type": "\"string\""
        },
        {
         "metadata": "{}",
         "name": "Age",
         "type": "\"integer\""
        },
        {
         "metadata": "{}",
         "name": "MP",
         "type": "\"double\""
        },
        {
         "metadata": "{}",
         "name": "PTS",
         "type": "\"double\""
        },
        {
         "metadata": "{}",
         "name": "FGPerc",
         "type": "\"double\""
        },
        {
         "metadata": "{}",
         "name": "DRB",
         "type": "\"double\""
        },
        {
         "metadata": "{}",
         "name": "ORB",
         "type": "\"double\""
        },
        {
         "metadata": "{}",
         "name": "TOV",
         "type": "\"double\""
        }
       ],
       "type": "table"
      }
     },
     "output_type": "display_data"
    }
   ],
   "source": [
    "%sql\n",
    "SELECT \n",
    "  Player,\n",
    "    Age,\n",
    "    MP,\n",
    "    PTS,\n",
    "    FGPerc,\n",
    "    DRB,\n",
    "    ORB,\n",
    "    TOV\n",
    "FROM Dados_Jogadores_NBA_24\n",
    "\n",
    "ORDER BY (PTS + 1.5 * DRB) DESC\n",
    "limit 10;\n",
    "\n"
   ]
  },
  {
   "cell_type": "code",
   "execution_count": 0,
   "metadata": {
    "application/vnd.databricks.v1+cell": {
     "cellMetadata": {
      "byteLimit": 2048000,
      "implicitDf": true,
      "rowLimit": 10000
     },
     "inputWidgets": {},
     "nuid": "38214d88-6007-4961-87c5-3fd035a9aa5b",
     "showTitle": false,
     "title": ""
    }
   },
   "outputs": [
    {
     "output_type": "display_data",
     "data": {
      "text/html": [
       "<style scoped>\n",
       "  .table-result-container {\n",
       "    max-height: 300px;\n",
       "    overflow: auto;\n",
       "  }\n",
       "  table, th, td {\n",
       "    border: 1px solid black;\n",
       "    border-collapse: collapse;\n",
       "  }\n",
       "  th, td {\n",
       "    padding: 5px;\n",
       "  }\n",
       "  th {\n",
       "    text-align: left;\n",
       "  }\n",
       "</style><div class='table-result-container'><table class='table-result'><thead style='background-color: white'><tr><th>Player</th><th>Age</th><th>MP</th><th>PTS</th><th>FGPerc</th><th>DRB</th><th>ORB</th><th>TOV</th></tr></thead><tbody><tr><td>Joel Embiid</td><td>29</td><td>33.6</td><td>34.7</td><td>0.529</td><td>8.6</td><td>2.4</td><td>3.8</td></tr><tr><td>Luka DonÄiÄ</td><td>24</td><td>37.5</td><td>33.9</td><td>0.487</td><td>8.4</td><td>0.8</td><td>4.0</td></tr><tr><td>Giannis Antetokounmpo</td><td>29</td><td>35.2</td><td>30.4</td><td>0.611</td><td>8.8</td><td>2.7</td><td>3.4</td></tr><tr><td>Shai Gilgeous-Alexander</td><td>25</td><td>34.0</td><td>30.1</td><td>0.535</td><td>4.7</td><td>0.9</td><td>2.2</td></tr><tr><td>Nikola JokiÄ</td><td>28</td><td>34.6</td><td>26.4</td><td>0.583</td><td>9.5</td><td>2.8</td><td>3.0</td></tr><tr><td>Jayson Tatum</td><td>25</td><td>35.7</td><td>26.9</td><td>0.471</td><td>7.2</td><td>0.9</td><td>2.5</td></tr><tr><td>Kevin Durant</td><td>35</td><td>37.2</td><td>27.1</td><td>0.523</td><td>6.1</td><td>0.5</td><td>3.3</td></tr><tr><td>Anthony Davis</td><td>30</td><td>35.5</td><td>24.7</td><td>0.556</td><td>9.5</td><td>3.1</td><td>2.1</td></tr><tr><td>Jalen Brunson</td><td>27</td><td>35.4</td><td>28.7</td><td>0.479</td><td>3.1</td><td>0.6</td><td>2.4</td></tr><tr><td>LeBron James</td><td>39</td><td>35.3</td><td>25.7</td><td>0.54</td><td>6.4</td><td>0.9</td><td>3.5</td></tr></tbody></table></div>"
      ]
     },
     "metadata": {
      "application/vnd.databricks.v1+output": {
       "addedWidgets": {},
       "aggData": [],
       "aggError": "",
       "aggOverflow": false,
       "aggSchema": [],
       "aggSeriesLimitReached": false,
       "aggType": "",
       "arguments": {},
       "columnCustomDisplayInfos": {},
       "data": [
        [
         "Joel Embiid",
         29,
         33.6,
         34.7,
         0.529,
         8.6,
         2.4,
         3.8
        ],
        [
         "Luka DonÄiÄ",
         24,
         37.5,
         33.9,
         0.487,
         8.4,
         0.8,
         4.0
        ],
        [
         "Giannis Antetokounmpo",
         29,
         35.2,
         30.4,
         0.611,
         8.8,
         2.7,
         3.4
        ],
        [
         "Shai Gilgeous-Alexander",
         25,
         34.0,
         30.1,
         0.535,
         4.7,
         0.9,
         2.2
        ],
        [
         "Nikola JokiÄ",
         28,
         34.6,
         26.4,
         0.583,
         9.5,
         2.8,
         3.0
        ],
        [
         "Jayson Tatum",
         25,
         35.7,
         26.9,
         0.471,
         7.2,
         0.9,
         2.5
        ],
        [
         "Kevin Durant",
         35,
         37.2,
         27.1,
         0.523,
         6.1,
         0.5,
         3.3
        ],
        [
         "Anthony Davis",
         30,
         35.5,
         24.7,
         0.556,
         9.5,
         3.1,
         2.1
        ],
        [
         "Jalen Brunson",
         27,
         35.4,
         28.7,
         0.479,
         3.1,
         0.6,
         2.4
        ],
        [
         "LeBron James",
         39,
         35.3,
         25.7,
         0.54,
         6.4,
         0.9,
         3.5
        ]
       ],
       "datasetInfos": [],
       "dbfsResultPath": null,
       "isJsonSchema": true,
       "metadata": {},
       "overflow": false,
       "plotOptions": {
        "customPlotOptions": {},
        "displayType": "table",
        "pivotAggregation": null,
        "pivotColumns": null,
        "xColumns": null,
        "yColumns": null
       },
       "removedWidgets": [],
       "schema": [
        {
         "metadata": "{}",
         "name": "Player",
         "type": "\"string\""
        },
        {
         "metadata": "{}",
         "name": "Age",
         "type": "\"integer\""
        },
        {
         "metadata": "{}",
         "name": "MP",
         "type": "\"double\""
        },
        {
         "metadata": "{}",
         "name": "PTS",
         "type": "\"double\""
        },
        {
         "metadata": "{}",
         "name": "FGPerc",
         "type": "\"double\""
        },
        {
         "metadata": "{}",
         "name": "DRB",
         "type": "\"double\""
        },
        {
         "metadata": "{}",
         "name": "ORB",
         "type": "\"double\""
        },
        {
         "metadata": "{}",
         "name": "TOV",
         "type": "\"double\""
        }
       ],
       "type": "table"
      }
     },
     "output_type": "display_data"
    }
   ],
   "source": [
    "%sql\n",
    "SELECT \n",
    "  Player,\n",
    "    Age,\n",
    "    MP,\n",
    "    PTS,\n",
    "    FGPerc,\n",
    "    DRB,\n",
    "    ORB,\n",
    "    TOV\n",
    "FROM Dados_Jogadores_NBA_24\n",
    "ORDER BY ( DRB + 1.5 * PTS) DESC\n",
    "limit 10;"
   ]
  },
  {
   "cell_type": "markdown",
   "metadata": {
    "application/vnd.databricks.v1+cell": {
     "cellMetadata": {},
     "inputWidgets": {},
     "nuid": "72969b91-f4fe-45f1-b34c-fe597666872a",
     "showTitle": false,
     "title": ""
    }
   },
   "source": [
    "S"
   ]
  },
  {
   "cell_type": "code",
   "execution_count": 0,
   "metadata": {
    "application/vnd.databricks.v1+cell": {
     "cellMetadata": {
      "byteLimit": 2048000,
      "implicitDf": true,
      "rowLimit": 10000
     },
     "inputWidgets": {},
     "nuid": "c9e1d7cd-a862-4ab6-a2e3-84ef99eccd27",
     "showTitle": false,
     "title": ""
    }
   },
   "outputs": [
    {
     "output_type": "display_data",
     "data": {
      "text/html": [
       "<style scoped>\n",
       "  .table-result-container {\n",
       "    max-height: 300px;\n",
       "    overflow: auto;\n",
       "  }\n",
       "  table, th, td {\n",
       "    border: 1px solid black;\n",
       "    border-collapse: collapse;\n",
       "  }\n",
       "  th, td {\n",
       "    padding: 5px;\n",
       "  }\n",
       "  th {\n",
       "    text-align: left;\n",
       "  }\n",
       "</style><div class='table-result-container'><table class='table-result'><thead style='background-color: white'><tr><th>Classificacao_Equipe</th><th>Nome_Equipe</th><th>Media_Pontos</th><th>Maximo_Pontos</th><th>Media_Percentage_Acerto</th><th>Media_Rebotes_Defensivos</th><th>Media_Rebotes_Ofensivos</th><th>Media_TurnOver</th><th>Media_Classificacao_Jogador</th><th>Minima_Classificacao_Jogador</th><th>Metricas_Personalizadas</th></tr></thead><tbody><tr><td>1</td><td>WAS</td><td>7.8</td><td>22.2</td><td>0.47</td><td>2.4</td><td>0.87</td><td>0.95</td><td>231.96</td><td>106.0</td><td>0.47</td></tr><tr><td>2</td><td>CHO</td><td>9.3</td><td>23.9</td><td>0.44</td><td>2.67</td><td>0.87</td><td>1.18</td><td>294.62</td><td>113.0</td><td>0.46</td></tr><tr><td>3</td><td>TOR</td><td>8.27</td><td>22.2</td><td>0.43</td><td>2.49</td><td>0.98</td><td>1.04</td><td>281.23</td><td>1.0</td><td>0.42</td></tr><tr><td>4</td><td>HOU</td><td>8.83</td><td>21.1</td><td>0.48</td><td>2.8</td><td>1.0</td><td>0.94</td><td>333.59</td><td>139.0</td><td>0.41</td></tr><tr><td>5</td><td>MEM</td><td>8.61</td><td>25.1</td><td>0.41</td><td>2.84</td><td>1.07</td><td>1.23</td><td>301.03</td><td>145.0</td><td>0.4</td></tr><tr><td>6</td><td>NOP</td><td>7.75</td><td>22.9</td><td>0.39</td><td>2.34</td><td>0.72</td><td>0.83</td><td>306.2</td><td>111.0</td><td>0.4</td></tr><tr><td>7</td><td>IND</td><td>8.32</td><td>21.3</td><td>0.45</td><td>2.14</td><td>0.7</td><td>0.8</td><td>359.64</td><td>196.0</td><td>0.4</td></tr><tr><td>8</td><td>ORL</td><td>7.67</td><td>22.6</td><td>0.47</td><td>2.29</td><td>0.77</td><td>0.98</td><td>250.11</td><td>13.0</td><td>0.39</td></tr><tr><td>9</td><td>ATL</td><td>9.21</td><td>25.7</td><td>0.44</td><td>2.64</td><td>1.02</td><td>1.02</td><td>257.53</td><td>147.0</td><td>0.39</td></tr><tr><td>10</td><td>DET</td><td>8.33</td><td>22.7</td><td>0.45</td><td>2.53</td><td>0.77</td><td>0.97</td><td>248.39</td><td>112.0</td><td>0.38</td></tr></tbody></table></div>"
      ]
     },
     "metadata": {
      "application/vnd.databricks.v1+output": {
       "addedWidgets": {},
       "aggData": [],
       "aggError": "",
       "aggOverflow": false,
       "aggSchema": [],
       "aggSeriesLimitReached": false,
       "aggType": "",
       "arguments": {},
       "columnCustomDisplayInfos": {},
       "data": [
        [
         1,
         "WAS",
         7.8,
         22.2,
         0.47,
         2.4,
         0.87,
         0.95,
         231.96,
         106.0,
         0.47
        ],
        [
         2,
         "CHO",
         9.3,
         23.9,
         0.44,
         2.67,
         0.87,
         1.18,
         294.62,
         113.0,
         0.46
        ],
        [
         3,
         "TOR",
         8.27,
         22.2,
         0.43,
         2.49,
         0.98,
         1.04,
         281.23,
         1.0,
         0.42
        ],
        [
         4,
         "HOU",
         8.83,
         21.1,
         0.48,
         2.8,
         1.0,
         0.94,
         333.59,
         139.0,
         0.41
        ],
        [
         5,
         "MEM",
         8.61,
         25.1,
         0.41,
         2.84,
         1.07,
         1.23,
         301.03,
         145.0,
         0.4
        ],
        [
         6,
         "NOP",
         7.75,
         22.9,
         0.39,
         2.34,
         0.72,
         0.83,
         306.2,
         111.0,
         0.4
        ],
        [
         7,
         "IND",
         8.32,
         21.3,
         0.45,
         2.14,
         0.7,
         0.8,
         359.64,
         196.0,
         0.4
        ],
        [
         8,
         "ORL",
         7.67,
         22.6,
         0.47,
         2.29,
         0.77,
         0.98,
         250.11,
         13.0,
         0.39
        ],
        [
         9,
         "ATL",
         9.21,
         25.7,
         0.44,
         2.64,
         1.02,
         1.02,
         257.53,
         147.0,
         0.39
        ],
        [
         10,
         "DET",
         8.33,
         22.7,
         0.45,
         2.53,
         0.77,
         0.97,
         248.39,
         112.0,
         0.38
        ]
       ],
       "datasetInfos": [],
       "dbfsResultPath": null,
       "isJsonSchema": true,
       "metadata": {},
       "overflow": false,
       "plotOptions": {
        "customPlotOptions": {},
        "displayType": "table",
        "pivotAggregation": null,
        "pivotColumns": null,
        "xColumns": null,
        "yColumns": null
       },
       "removedWidgets": [],
       "schema": [
        {
         "metadata": "{}",
         "name": "Classificacao_Equipe",
         "type": "\"integer\""
        },
        {
         "metadata": "{}",
         "name": "Nome_Equipe",
         "type": "\"string\""
        },
        {
         "metadata": "{}",
         "name": "Media_Pontos",
         "type": "\"double\""
        },
        {
         "metadata": "{}",
         "name": "Maximo_Pontos",
         "type": "\"double\""
        },
        {
         "metadata": "{}",
         "name": "Media_Percentage_Acerto",
         "type": "\"double\""
        },
        {
         "metadata": "{}",
         "name": "Media_Rebotes_Defensivos",
         "type": "\"double\""
        },
        {
         "metadata": "{}",
         "name": "Media_Rebotes_Ofensivos",
         "type": "\"double\""
        },
        {
         "metadata": "{}",
         "name": "Media_TurnOver",
         "type": "\"double\""
        },
        {
         "metadata": "{}",
         "name": "Media_Classificacao_Jogador",
         "type": "\"double\""
        },
        {
         "metadata": "{}",
         "name": "Minima_Classificacao_Jogador",
         "type": "\"double\""
        },
        {
         "metadata": "{}",
         "name": "Metricas_Personalizadas",
         "type": "\"double\""
        }
       ],
       "type": "table"
      }
     },
     "output_type": "display_data"
    }
   ],
   "source": [
    "%sql\n",
    "select * from dados_nba_preparados limit 10"
   ]
  }
 ],
 "metadata": {
  "application/vnd.databricks.v1+notebook": {
   "dashboards": [],
   "environmentMetadata": null,
   "language": "python",
   "notebookMetadata": {
    "mostRecentlyExecutedCommandWithImplicitDF": {
     "commandId": 631451586653916,
     "dataframes": [
      "_sqldf"
     ]
    },
    "pythonIndentUnit": 4
   },
   "notebookName": "MVPPUCRIO",
   "widgets": {}
  }
 },
 "nbformat": 4,
 "nbformat_minor": 0
}
